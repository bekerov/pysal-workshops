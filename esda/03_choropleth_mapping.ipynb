{
 "metadata": {
  "name": "",
  "signature": "sha256:ddb7922c073aebbad85618dfbe050bf335bb3aea3986e09b656929230c1230a7"
 },
 "nbformat": 3,
 "nbformat_minor": 0,
 "worksheets": [
  {
   "cells": [
    {
     "cell_type": "markdown",
     "metadata": {},
     "source": [
      "# Choropleth Mapping With Folium and PySAL"
     ]
    },
    {
     "cell_type": "markdown",
     "metadata": {},
     "source": [
      "____\n",
      "## Author\n",
      "\n",
      "Serge Rey [sjsrey@gmail.com](sjsrey@gmail)\n",
      "\n",
      "## Requirements\n",
      "\n",
      "Since we will be pulling in tiles for basemaps, we need internet connectivity for what follows to work.\n",
      "____\n"
     ]
    },
    {
     "cell_type": "code",
     "collapsed": false,
     "input": [
      "from IPython.display import HTML\n",
      "import folium\n",
      "import pandas as pd\n",
      "import numpy as np\n",
      "%pylab inline\n"
     ],
     "language": "python",
     "metadata": {},
     "outputs": [
      {
       "output_type": "stream",
       "stream": "stdout",
       "text": [
        "Populating the interactive namespace from numpy and matplotlib\n"
       ]
      }
     ],
     "prompt_number": 1
    },
    {
     "cell_type": "markdown",
     "metadata": {},
     "source": [
      "## Help functions\n",
      "In order to have folium maps appear in-line we will need two utility functions.\n"
     ]
    },
    {
     "cell_type": "code",
     "collapsed": false,
     "input": [
      "def inline_map(map):\n",
      "    \"\"\"\n",
      "    Embeds the HTML source of the map directly into the IPython notebook.\n",
      "    \n",
      "    This method will not work if the map depends on any files (json data). Also this uses\n",
      "    the HTML5 srcdoc attribute, which may not be supported in all browsers.\n",
      "    \"\"\"\n",
      "    map._build_map()\n",
      "    return HTML('<iframe srcdoc=\"{srcdoc}\" style=\"width: 100%; height: 510px; border: none\"></iframe>'.format(srcdoc=map.HTML.replace('\"', '&quot;')))\n",
      "\n",
      "def embed_map(map, path=\"map.html\"):\n",
      "    \"\"\"\n",
      "    Embeds a linked iframe to the map into the IPython notebook.\n",
      "    \n",
      "    Note: this method will not capture the source of the map into the notebook.\n",
      "    This method should work for all maps (as long as they use relative urls).\n",
      "    \"\"\"\n",
      "    map.create_map(path=path)\n",
      "    return HTML('<iframe src=\"files/{path}\" style=\"width: 100%; height: 510px; border: none\"></iframe>'.format(path=path))"
     ],
     "language": "python",
     "metadata": {},
     "outputs": [],
     "prompt_number": 2
    },
    {
     "cell_type": "markdown",
     "metadata": {},
     "source": [
      "The source for these functions is an iPython notebook by [Blake Burkhart](http://nbviewer.ipython.org/gist/bburky/7763555/folium-ipython.ipynb)."
     ]
    },
    {
     "cell_type": "markdown",
     "metadata": {},
     "source": [
      "## OpenStreet Map Tile with Folium"
     ]
    },
    {
     "cell_type": "code",
     "collapsed": false,
     "input": [
      "map = folium.Map(location=[48.2, 16.36], zoom_start=11)\n",
      "map.simple_marker([48.20, 16.36], popup='Welcome to PySAL @<b>GIScience 2014</b>!')\n",
      "inline_map(map)"
     ],
     "language": "python",
     "metadata": {},
     "outputs": [
      {
       "html": [
        "<iframe srcdoc=\"<!DOCTYPE html>\n",
        "<head>\n",
        "   <meta http-equiv=&quot;content-type&quot; content=&quot;text/html; charset=UTF-8&quot; />\n",
        "   <link rel=&quot;stylesheet&quot; href=&quot;http://cdn.leafletjs.com/leaflet-0.7.2/leaflet.css&quot; />\n",
        "   <script src=&quot;http://cdn.leafletjs.com/leaflet-0.7.2/leaflet.js&quot;></script>\n",
        "\n",
        "   \n",
        "   \n",
        "   \n",
        "   \n",
        "\n",
        "\n",
        "   <style>\n",
        "\n",
        "      #map {\n",
        "        position:absolute;\n",
        "        top:0;\n",
        "        bottom:0;\n",
        "        right:0;\n",
        "        left:0;\n",
        "      }\n",
        "\n",
        "   </style>\n",
        "</head>\n",
        "\n",
        "<body>\n",
        "\n",
        "   <div class=&quot;folium-map&quot; id=&quot;folium_8f5fc00a66b145cfbc8a2393148b4bfe&quot; style=&quot;width: 960px; height: 500px&quot;></div>\n",
        "\n",
        "   <script>\n",
        "\n",
        "      \n",
        "\n",
        "      var map = L.map('folium_8f5fc00a66b145cfbc8a2393148b4bfe').setView([48.2, 16.36], 11);\n",
        "\n",
        "      L.tileLayer('http://{s}.tile.openstreetmap.org/{z}/{x}/{y}.png', {\n",
        "          maxZoom: 18,\n",
        "          attribution: 'Map data (c) <a href=&quot;http://openstreetmap.org&quot;>OpenStreetMap</a> contributors'\n",
        "      }).addTo(map);\n",
        "\n",
        "      \n",
        "      var marker_1 = L.marker([48.2, 16.36]);\n",
        "      marker_1.bindPopup(&quot;Welcome to PySAL @<b>GIScience 2014</b>!&quot;);\n",
        "      map.addLayer(marker_1)\n",
        "      \n",
        "\n",
        "      \n",
        "\n",
        "      \n",
        "\n",
        "      \n",
        "\n",
        "   </script>\n",
        "\n",
        "</body>\" style=\"width: 100%; height: 510px; border: none\"></iframe>"
       ],
       "metadata": {},
       "output_type": "pyout",
       "prompt_number": 3,
       "text": [
        "<IPython.core.display.HTML at 0x107708050>"
       ]
      }
     ],
     "prompt_number": 3
    },
    {
     "cell_type": "heading",
     "level": 2,
     "metadata": {},
     "source": [
      "Base layer for south"
     ]
    },
    {
     "cell_type": "code",
     "collapsed": false,
     "input": [
      "map_osm = folium.Map(location=[33.7550, -87.3900], zoom_start=4)\n",
      "map_osm.geo_json(geo_path = 'data/south.json')\n",
      "embed_map(map_osm)"
     ],
     "language": "python",
     "metadata": {},
     "outputs": [
      {
       "html": [
        "<iframe src=\"files/map.html\" style=\"width: 100%; height: 510px; border: none\"></iframe>"
       ],
       "metadata": {},
       "output_type": "pyout",
       "prompt_number": 4,
       "text": [
        "<IPython.core.display.HTML at 0x1075c9850>"
       ]
      }
     ],
     "prompt_number": 4
    },
    {
     "cell_type": "markdown",
     "metadata": {},
     "source": [
      "###Change the zoom level"
     ]
    },
    {
     "cell_type": "code",
     "collapsed": false,
     "input": [
      "map_osm = folium.Map(location=[33.7550, -87.3900], zoom_start=5)\n",
      "map_osm.geo_json(geo_path = 'data/south.json')\n",
      "embed_map(map_osm)"
     ],
     "language": "python",
     "metadata": {},
     "outputs": [
      {
       "html": [
        "<iframe src=\"files/map.html\" style=\"width: 100%; height: 510px; border: none\"></iframe>"
       ],
       "metadata": {},
       "output_type": "pyout",
       "prompt_number": 5,
       "text": [
        "<IPython.core.display.HTML at 0x107708090>"
       ]
      }
     ],
     "prompt_number": 5
    },
    {
     "cell_type": "markdown",
     "metadata": {},
     "source": [
      "## Binding Attribute Data to the Map"
     ]
    },
    {
     "cell_type": "code",
     "collapsed": false,
     "input": [
      "import json\n",
      "\n",
      "f = open(r'data/south.json')\n",
      "q = json.load(f)\n",
      "f.close()"
     ],
     "language": "python",
     "metadata": {},
     "outputs": [],
     "prompt_number": 6
    },
    {
     "cell_type": "code",
     "collapsed": false,
     "input": [
      "q.keys()"
     ],
     "language": "python",
     "metadata": {},
     "outputs": [
      {
       "metadata": {},
       "output_type": "pyout",
       "prompt_number": 7,
       "text": [
        "[u'type', u'features']"
       ]
      }
     ],
     "prompt_number": 7
    },
    {
     "cell_type": "code",
     "collapsed": false,
     "input": [
      "features = q['features']\n",
      "len(features)"
     ],
     "language": "python",
     "metadata": {},
     "outputs": [
      {
       "metadata": {},
       "output_type": "pyout",
       "prompt_number": 8,
       "text": [
        "1412"
       ]
      }
     ],
     "prompt_number": 8
    },
    {
     "cell_type": "code",
     "collapsed": false,
     "input": [
      "feature_0 = features[0]"
     ],
     "language": "python",
     "metadata": {},
     "outputs": [],
     "prompt_number": 9
    },
    {
     "cell_type": "code",
     "collapsed": false,
     "input": [
      "feature_0"
     ],
     "language": "python",
     "metadata": {},
     "outputs": [
      {
       "metadata": {},
       "output_type": "pyout",
       "prompt_number": 10,
       "text": [
        "{u'geometry': {u'coordinates': [[[-80.6280517578125, 40.39815902709961],\n",
        "    [-80.60203552246094, 40.480472564697266],\n",
        "    [-80.62545776367188, 40.504398345947266],\n",
        "    [-80.6336441040039, 40.53913879394531],\n",
        "    [-80.6688232421875, 40.568214416503906],\n",
        "    [-80.66793060302734, 40.58207321166992],\n",
        "    [-80.63754272460938, 40.61391830444336],\n",
        "    [-80.61175537109375, 40.619998931884766],\n",
        "    [-80.57462310791016, 40.615909576416016],\n",
        "    [-80.52220916748047, 40.63713836669922],\n",
        "    [-80.52456665039062, 40.47871780395508],\n",
        "    [-80.52377319335938, 40.4029655456543],\n",
        "    [-80.6280517578125, 40.39815902709961]]],\n",
        "  u'type': u'Polygon'},\n",
        " u'properties': {u'BLK60': 3.839454752,\n",
        "  u'BLK70': 3.2554278095,\n",
        "  u'BLK80': 2.5607402642,\n",
        "  u'BLK90': 2.5572616581,\n",
        "  u'CNTY_FIPS': u'029',\n",
        "  u'COFIPS': 29.0,\n",
        "  u'DNL60': 6.1681225056,\n",
        "  u'DNL70': 6.1714993547,\n",
        "  u'DNL80': 6.1714631077,\n",
        "  u'DNL90': 6.0508978146,\n",
        "  u'DV60': 2.2779893943,\n",
        "  u'DV70': 2.5591397849,\n",
        "  u'DV80': 5.0619350519,\n",
        "  u'DV90': 7.2636377003,\n",
        "  u'FH60': 9.9812973718,\n",
        "  u'FH70': 7.8,\n",
        "  u'FH80': 9.7857968181,\n",
        "  u'FH90': 12.604551644,\n",
        "  u'FIPS': u'54029',\n",
        "  u'FIPSNO': 54029.0,\n",
        "  u'FP59': 9.6,\n",
        "  u'FP69': 5.9,\n",
        "  u'FP79': 6.5327526442,\n",
        "  u'FP89': 10.17311807,\n",
        "  u'GI59': 0.2236450331,\n",
        "  u'GI69': 0.2953773833,\n",
        "  u'GI79': 0.3322512119,\n",
        "  u'GI89': 0.3639335641,\n",
        "  u'HC60': 0.6666666667,\n",
        "  u'HC70': 1.6666666667,\n",
        "  u'HC80': 2.6666666667,\n",
        "  u'HC90': 0.3333333333,\n",
        "  u'HR60': 1.6828642349,\n",
        "  u'HR70': 4.1929776011,\n",
        "  u'HR80': 6.5977204876,\n",
        "  u'HR90': 0.9460827444,\n",
        "  u'MA60': 28.9,\n",
        "  u'MA70': 30.0,\n",
        "  u'MA80': 31.4,\n",
        "  u'MA90': 37.7,\n",
        "  u'MFIL59': 8.8410143105,\n",
        "  u'MFIL69': 9.2471543451,\n",
        "  u'MFIL79': 10.073356901,\n",
        "  u'MFIL89': 10.327970666,\n",
        "  u'NAME': u'Hancock',\n",
        "  u'PO60': 39615,\n",
        "  u'PO70': 39749,\n",
        "  u'PO80': 40418,\n",
        "  u'PO90': 35233,\n",
        "  u'POL60': 10.586963113,\n",
        "  u'POL70': 10.590339963,\n",
        "  u'POL80': 10.607030509,\n",
        "  u'POL90': 10.469738422,\n",
        "  u'PS60': 1.218684208,\n",
        "  u'PS70': 1.1368342185,\n",
        "  u'PS80': 1.0385705291,\n",
        "  u'PS90': 0.8964534429,\n",
        "  u'RD60': -1.394676863,\n",
        "  u'RD70': -1.307438562,\n",
        "  u'RD80': -1.159302086,\n",
        "  u'RD90': -0.399028376,\n",
        "  u'SOUTH': 1,\n",
        "  u'STATE_FIPS': u'54',\n",
        "  u'STATE_NAME': u'West Virginia',\n",
        "  u'STFIPS': 54.0,\n",
        "  u'UE60': 3.1,\n",
        "  u'UE70': 2.7,\n",
        "  u'UE80': 7.0763827919,\n",
        "  u'UE90': 6.8578070515},\n",
        " u'type': u'Feature'}"
       ]
      }
     ],
     "prompt_number": 10
    },
    {
     "cell_type": "code",
     "collapsed": false,
     "input": [
      "import pandas as pd\n",
      "indices = []\n",
      "values = []\n",
      "for feature in features:\n",
      "    indices.append(str(feature['properties']['FIPS']))\n",
      "    values.append(feature['properties']['HR80'])"
     ],
     "language": "python",
     "metadata": {},
     "outputs": [],
     "prompt_number": 11
    },
    {
     "cell_type": "code",
     "collapsed": false,
     "input": [
      "df = pd.DataFrame({'HR80': values,\n",
      "                   'FIPS': indices} )"
     ],
     "language": "python",
     "metadata": {},
     "outputs": [],
     "prompt_number": 12
    },
    {
     "cell_type": "code",
     "collapsed": false,
     "input": [
      "map_osm = folium.Map(location=[33.7550, -87.3900], zoom_start=5,)\n",
      "map_osm.geo_json(geo_path='data/south.json',\n",
      "                 key_on='feature.properties.FIPS',\n",
      "                 data_out='data.json', data=df,\n",
      "                 columns=['FIPS','HR80'],\n",
      "                 fill_color='YlGn', fill_opacity=0.7,\n",
      "                 line_opacity=0.2,\n",
      "                 legend_name='Homicide Rate HR80')\n",
      "embed_map(map_osm)"
     ],
     "language": "python",
     "metadata": {},
     "outputs": [
      {
       "html": [
        "<iframe src=\"files/map.html\" style=\"width: 100%; height: 510px; border: none\"></iframe>"
       ],
       "metadata": {},
       "output_type": "pyout",
       "prompt_number": 13,
       "text": [
        "<IPython.core.display.HTML at 0x1076fe550>"
       ]
      }
     ],
     "prompt_number": 13
    },
    {
     "cell_type": "markdown",
     "metadata": {},
     "source": [
      "## Using PySAL Map Classification Schemes"
     ]
    },
    {
     "cell_type": "code",
     "collapsed": false,
     "input": [
      "y = np.array(df.HR80.tolist())"
     ],
     "language": "python",
     "metadata": {},
     "outputs": [],
     "prompt_number": 14
    },
    {
     "cell_type": "code",
     "collapsed": false,
     "input": [
      "import pysal as ps"
     ],
     "language": "python",
     "metadata": {},
     "outputs": [],
     "prompt_number": 15
    },
    {
     "cell_type": "code",
     "collapsed": false,
     "input": [
      "ps.version"
     ],
     "language": "python",
     "metadata": {},
     "outputs": [
      {
       "metadata": {},
       "output_type": "pyout",
       "prompt_number": 16,
       "text": [
        "'1.8.0'"
       ]
      }
     ],
     "prompt_number": 16
    },
    {
     "cell_type": "markdown",
     "metadata": {},
     "source": [
      "### Maximum Breaks"
     ]
    },
    {
     "cell_type": "code",
     "collapsed": false,
     "input": [
      "max_breaks = ps.Maximum_Breaks(y, 5)"
     ],
     "language": "python",
     "metadata": {},
     "outputs": [],
     "prompt_number": 17
    },
    {
     "cell_type": "code",
     "collapsed": false,
     "input": [
      "bins = max_breaks.bins.tolist()"
     ],
     "language": "python",
     "metadata": {},
     "outputs": [],
     "prompt_number": 18
    },
    {
     "cell_type": "code",
     "collapsed": false,
     "input": [
      "\n",
      "map_osm = folium.Map(location=[33.7550, -87.3900], zoom_start=5,)\n",
      "map_osm.geo_json(geo_path='data/south.json',\n",
      "                 key_on='feature.properties.FIPS',\n",
      "                 data_out='data.json', data=df,\n",
      "                 columns=['FIPS','HR80'],\n",
      "                 fill_color='YlGn', fill_opacity=0.7,\n",
      "                 line_opacity=0.2,\n",
      "                 threshold_scale=bins[:-1],\n",
      "                 legend_name='Homicide Rate HR80 (Maximum Breaks)')\n",
      "embed_map(map_osm)"
     ],
     "language": "python",
     "metadata": {},
     "outputs": [
      {
       "html": [
        "<iframe src=\"files/map.html\" style=\"width: 100%; height: 510px; border: none\"></iframe>"
       ],
       "metadata": {},
       "output_type": "pyout",
       "prompt_number": 19,
       "text": [
        "<IPython.core.display.HTML at 0x1076fe710>"
       ]
      }
     ],
     "prompt_number": 19
    },
    {
     "cell_type": "markdown",
     "metadata": {},
     "source": [
      "### Quantiles"
     ]
    },
    {
     "cell_type": "code",
     "collapsed": false,
     "input": [
      "q5 = ps.Quantiles(y, 5).bins.tolist()"
     ],
     "language": "python",
     "metadata": {},
     "outputs": [],
     "prompt_number": 20
    },
    {
     "cell_type": "code",
     "collapsed": false,
     "input": [
      "\n",
      "map_osm = folium.Map(location=[33.7550, -87.3900], zoom_start=5,)\n",
      "map_osm.geo_json(geo_path='data/south.json',\n",
      "                 key_on='feature.properties.FIPS',\n",
      "                 data_out='data.json', data=df,\n",
      "                 columns=['FIPS','HR80'],\n",
      "                 fill_color='YlGn', fill_opacity=0.7,\n",
      "                 line_opacity=0.2,\n",
      "                 threshold_scale=q5[:-1],\n",
      "                 legend_name='Homicide Rate HR80 (Quintiles)')\n",
      "embed_map(map_osm)"
     ],
     "language": "python",
     "metadata": {},
     "outputs": [
      {
       "html": [
        "<iframe src=\"files/map.html\" style=\"width: 100%; height: 510px; border: none\"></iframe>"
       ],
       "metadata": {},
       "output_type": "pyout",
       "prompt_number": 21,
       "text": [
        "<IPython.core.display.HTML at 0x1076fe3d0>"
       ]
      }
     ],
     "prompt_number": 21
    },
    {
     "cell_type": "code",
     "collapsed": false,
     "input": [
      "q6 = ps.Quantiles(y, 6).bins.tolist()\n",
      "\n",
      "map_osm = folium.Map(location=[33.7550, -87.3900], zoom_start=5,)\n",
      "map_osm.geo_json(geo_path='data/south.json',\n",
      "                 key_on='feature.properties.FIPS',\n",
      "                 data_out='data.json', data=df,\n",
      "                 columns=['FIPS','HR80'],\n",
      "                 fill_color='YlGn', fill_opacity=0.7,\n",
      "                 line_opacity=0.2,\n",
      "                 threshold_scale=q6[:-1],\n",
      "                 legend_name='Homicide Rate HR80 (Quantiles k=6)')\n",
      "embed_map(map_osm)"
     ],
     "language": "python",
     "metadata": {},
     "outputs": [
      {
       "html": [
        "<iframe src=\"files/map.html\" style=\"width: 100%; height: 510px; border: none\"></iframe>"
       ],
       "metadata": {},
       "output_type": "pyout",
       "prompt_number": 22,
       "text": [
        "<IPython.core.display.HTML at 0x10a1afc50>"
       ]
      }
     ],
     "prompt_number": 22
    },
    {
     "cell_type": "markdown",
     "metadata": {},
     "source": [
      "### Fisher-Jenks"
     ]
    },
    {
     "cell_type": "code",
     "collapsed": false,
     "input": [
      "fj= ps.Fisher_Jenks(y, 5).bins # pysal 1.8"
     ],
     "language": "python",
     "metadata": {},
     "outputs": [],
     "prompt_number": 23
    },
    {
     "cell_type": "code",
     "collapsed": false,
     "input": [
      "\n",
      "map_osm = folium.Map(location=[33.7550, -87.3900], zoom_start=5,)\n",
      "map_osm.geo_json(geo_path='data/south.json',\n",
      "                 key_on='feature.properties.FIPS',\n",
      "                 data_out='data.json', data=df,\n",
      "                 columns=['FIPS','HR80'],\n",
      "                 fill_color='YlGn', fill_opacity=0.7,\n",
      "                 line_opacity=0.2,\n",
      "                 threshold_scale=fj[:-1],\n",
      "                 legend_name='Homicide Rate HR80 (Fisher Jenks)')\n",
      "embed_map(map_osm)"
     ],
     "language": "python",
     "metadata": {},
     "outputs": [
      {
       "html": [
        "<iframe src=\"files/map.html\" style=\"width: 100%; height: 510px; border: none\"></iframe>"
       ],
       "metadata": {},
       "output_type": "pyout",
       "prompt_number": 24,
       "text": [
        "<IPython.core.display.HTML at 0x10a1af590>"
       ]
      }
     ],
     "prompt_number": 24
    },
    {
     "cell_type": "code",
     "collapsed": false,
     "input": [
      "ps.esda.mapclassify.Fisher_Jenks_Sampled?"
     ],
     "language": "python",
     "metadata": {},
     "outputs": [],
     "prompt_number": 26
    }
   ],
   "metadata": {}
  }
 ]
}