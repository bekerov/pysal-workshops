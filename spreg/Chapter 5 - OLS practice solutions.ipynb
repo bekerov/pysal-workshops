{
 "metadata": {
  "name": "",
  "signature": "sha256:6e7eded43e9d91413f3fed18723b250ea225fc3c37bcb44641f17e5b38a1e4ad"
 },
 "nbformat": 3,
 "nbformat_minor": 0,
 "worksheets": [
  {
   "cells": [
    {
     "cell_type": "markdown",
     "metadata": {},
     "source": [
      "##Solutions to Practice Example Chapter 5##"
     ]
    },
    {
     "cell_type": "code",
     "collapsed": false,
     "input": [
      "import numpy as np\n",
      "import pysal"
     ],
     "language": "python",
     "metadata": {},
     "outputs": [],
     "prompt_number": 2
    },
    {
     "cell_type": "code",
     "collapsed": false,
     "input": [
      "db = pysal.open('data/boston.dbf','r')"
     ],
     "language": "python",
     "metadata": {},
     "outputs": [],
     "prompt_number": 3
    },
    {
     "cell_type": "code",
     "collapsed": false,
     "input": [
      "len(db)"
     ],
     "language": "python",
     "metadata": {},
     "outputs": [
      {
       "metadata": {},
       "output_type": "pyout",
       "prompt_number": 4,
       "text": [
        "506"
       ]
      }
     ],
     "prompt_number": 4
    },
    {
     "cell_type": "code",
     "collapsed": false,
     "input": [
      "db.header"
     ],
     "language": "python",
     "metadata": {},
     "outputs": [
      {
       "metadata": {},
       "output_type": "pyout",
       "prompt_number": 5,
       "text": [
        "['POLY_ID',\n",
        " 'ID',\n",
        " 'TOWN',\n",
        " 'TOWNNO',\n",
        " 'TRACT',\n",
        " 'LON',\n",
        " 'LAT',\n",
        " 'x',\n",
        " 'y',\n",
        " 'MEDV',\n",
        " 'CMEDV',\n",
        " 'CRIM',\n",
        " 'ZN',\n",
        " 'INDUS',\n",
        " 'CHAS',\n",
        " 'NOX',\n",
        " 'RM',\n",
        " 'AGE',\n",
        " 'DIS',\n",
        " 'RAD',\n",
        " 'TAX',\n",
        " 'PTRATIO',\n",
        " 'B',\n",
        " 'LSTAT']"
       ]
      }
     ],
     "prompt_number": 5
    },
    {
     "cell_type": "code",
     "collapsed": false,
     "input": [
      "y_name = 'MEDV'\n",
      "y = np.array([db.by_col(y_name)]).T"
     ],
     "language": "python",
     "metadata": {},
     "outputs": [],
     "prompt_number": 10
    },
    {
     "cell_type": "code",
     "collapsed": false,
     "input": [
      "x_names = ['CRIM','CHAS','NOX','RM','AGE','DIS','LSTAT']\n",
      "x = np.array([db.by_col(var) for var in x_names]).T"
     ],
     "language": "python",
     "metadata": {},
     "outputs": [],
     "prompt_number": 9
    },
    {
     "cell_type": "code",
     "collapsed": false,
     "input": [
      "w = pysal.knnW_from_shapefile('data/boston.shp',\n",
      "                                k=4,idVariable='POLY_ID')"
     ],
     "language": "python",
     "metadata": {},
     "outputs": [],
     "prompt_number": 12
    },
    {
     "cell_type": "code",
     "collapsed": false,
     "input": [
      "w.n"
     ],
     "language": "python",
     "metadata": {},
     "outputs": [
      {
       "metadata": {},
       "output_type": "pyout",
       "prompt_number": 13,
       "text": [
        "506"
       ]
      }
     ],
     "prompt_number": 13
    },
    {
     "cell_type": "code",
     "collapsed": false,
     "input": [
      "w[1]"
     ],
     "language": "python",
     "metadata": {},
     "outputs": [
      {
       "metadata": {},
       "output_type": "pyout",
       "prompt_number": 14,
       "text": [
        "{30: 1.0, 32: 1.0, 33: 1.0, 35: 1.0}"
       ]
      }
     ],
     "prompt_number": 14
    },
    {
     "cell_type": "code",
     "collapsed": false,
     "input": [
      "w.transform = 'r'"
     ],
     "language": "python",
     "metadata": {},
     "outputs": [],
     "prompt_number": 15
    },
    {
     "cell_type": "code",
     "collapsed": false,
     "input": [
      "kw = pysal.adaptive_kernelW_from_shapefile('data/boston.shp',\n",
      "                                             k=12,idVariable='POLY_ID')"
     ],
     "language": "python",
     "metadata": {},
     "outputs": [],
     "prompt_number": 16
    },
    {
     "cell_type": "code",
     "collapsed": false,
     "input": [
      "kw.n"
     ],
     "language": "python",
     "metadata": {},
     "outputs": [
      {
       "metadata": {},
       "output_type": "pyout",
       "prompt_number": 17,
       "text": [
        "506"
       ]
      }
     ],
     "prompt_number": 17
    },
    {
     "cell_type": "code",
     "collapsed": false,
     "input": [
      "kw[1]"
     ],
     "language": "python",
     "metadata": {},
     "outputs": [
      {
       "metadata": {},
       "output_type": "pyout",
       "prompt_number": 18,
       "text": [
        "{1: 1.0,\n",
        " 23: 0.017975809698839718,\n",
        " 24: 0.07789763977511166,\n",
        " 25: 0.03599595976755843,\n",
        " 26: 9.99999900663795e-08,\n",
        " 28: 0.06731962890224807,\n",
        " 29: 0.1567134489385178,\n",
        " 30: 0.22098960210545193,\n",
        " 31: 0.14004706565547476,\n",
        " 32: 0.24298214626370784,\n",
        " 33: 0.15996168962289714,\n",
        " 34: 0.06768918779207955,\n",
        " 35: 0.1978979513164435}"
       ]
      }
     ],
     "prompt_number": 18
    },
    {
     "cell_type": "code",
     "collapsed": false,
     "input": [
      "reg1 = pysal.spreg.OLS(y,x,w=w,spat_diag=True,moran=True,\n",
      "                       name_y=y_name,name_x=x_names,name_w='boston_k4',\n",
      "                       name_ds='boston.shp')"
     ],
     "language": "python",
     "metadata": {},
     "outputs": [],
     "prompt_number": 21
    },
    {
     "cell_type": "code",
     "collapsed": false,
     "input": [
      "print reg1.summary"
     ],
     "language": "python",
     "metadata": {},
     "outputs": [
      {
       "output_type": "stream",
       "stream": "stdout",
       "text": [
        "REGRESSION\n",
        "----------\n",
        "SUMMARY OF OUTPUT: ORDINARY LEAST SQUARES\n",
        "-----------------------------------------\n",
        "Data set            :  boston.shp\n",
        "Weights matrix      :   boston_k4\n",
        "Dependent Variable  :        MEDV                Number of Observations:         506\n",
        "Mean dependent var  :     22.5328                Number of Variables   :           8\n",
        "S.D. dependent var  :      9.1971                Degrees of Freedom    :         498\n",
        "R-squared           :      0.6788\n",
        "Adjusted R-squared  :      0.6743\n",
        "Sum squared residual:   13719.651                F-statistic           :    150.3613\n",
        "Sigma-square        :      27.550                Prob(F-statistic)     :  1.732e-118\n",
        "S.E. of regression  :       5.249                Log likelihood        :   -1552.895\n",
        "Sigma-square ML     :      27.114                Akaike info criterion :    3121.790\n",
        "S.E of regression ML:      5.2071                Schwarz criterion     :    3155.602\n",
        "\n",
        "------------------------------------------------------------------------------------\n",
        "            Variable     Coefficient       Std.Error     t-Statistic     Probability\n",
        "------------------------------------------------------------------------------------\n",
        "            CONSTANT      11.4725706       3.9048811       2.9380077       0.0034564\n",
        "                 AGE      -0.0168636       0.0143248      -1.1772306       0.2396658\n",
        "                CHAS       3.8639095       0.9385306       4.1169776       0.0000449\n",
        "                CRIM      -0.1074230       0.0315102      -3.4091522       0.0007045\n",
        "                 DIS      -1.0649851       0.1931115      -5.5148716       0.0000001\n",
        "               LSTAT      -0.5746656       0.0547460     -10.4969367       0.0000000\n",
        "                 NOX     -13.2572627       3.5597665      -3.7241945       0.0002183\n",
        "                  RM       4.9333429       0.4323621      11.4102121       0.0000000\n",
        "------------------------------------------------------------------------------------\n",
        "\n",
        "REGRESSION DIAGNOSTICS\n",
        "MULTICOLLINEARITY CONDITION NUMBER           47.587\n",
        "\n",
        "TEST ON NORMALITY OF ERRORS\n",
        "TEST                             DF        VALUE           PROB\n",
        "Jarque-Bera                       2         482.230           0.0000\n",
        "\n",
        "DIAGNOSTICS FOR HETEROSKEDASTICITY\n",
        "RANDOM COEFFICIENTS\n",
        "TEST                             DF        VALUE           PROB\n",
        "Breusch-Pagan test                7          97.286           0.0000\n",
        "Koenker-Bassett test              7          32.560           0.0000\n",
        "\n",
        "DIAGNOSTICS FOR SPATIAL DEPENDENCE\n",
        "TEST                           MI/DF       VALUE           PROB\n",
        "Moran's I (error)              0.4736        16.803           0.0000\n",
        "Lagrange Multiplier (lag)         1         167.220           0.0000\n",
        "Robust LM (lag)                   1           4.999           0.0254\n",
        "Lagrange Multiplier (error)       1         261.062           0.0000\n",
        "Robust LM (error)                 1          98.841           0.0000\n",
        "Lagrange Multiplier (SARMA)       2         266.061           0.0000\n",
        "\n",
        "================================ END OF REPORT =====================================\n"
       ]
      }
     ],
     "prompt_number": 22
    },
    {
     "cell_type": "code",
     "collapsed": false,
     "input": [
      "reg2 = pysal.spreg.OLS(y,x,w=w,robust='hac',gwk=kw,spat_diag=True,moran=True,\n",
      "                       name_y=y_name,name_x=x_names,name_w='boston_k4',name_gwk='boston_tri_k12',\n",
      "                       name_ds='boston.shp')"
     ],
     "language": "python",
     "metadata": {},
     "outputs": [],
     "prompt_number": 24
    },
    {
     "cell_type": "code",
     "collapsed": false,
     "input": [
      "print reg2.summary"
     ],
     "language": "python",
     "metadata": {},
     "outputs": [
      {
       "output_type": "stream",
       "stream": "stdout",
       "text": [
        "REGRESSION\n",
        "----------\n",
        "SUMMARY OF OUTPUT: ORDINARY LEAST SQUARES\n",
        "-----------------------------------------\n",
        "Data set            :  boston.shp\n",
        "Weights matrix      :   boston_k4\n",
        "Dependent Variable  :        MEDV                Number of Observations:         506\n",
        "Mean dependent var  :     22.5328                Number of Variables   :           8\n",
        "S.D. dependent var  :      9.1971                Degrees of Freedom    :         498\n",
        "R-squared           :      0.6788\n",
        "Adjusted R-squared  :      0.6743\n",
        "Sum squared residual:   13719.651                F-statistic           :    150.3613\n",
        "Sigma-square        :      27.550                Prob(F-statistic)     :  1.732e-118\n",
        "S.E. of regression  :       5.249                Log likelihood        :   -1552.895\n",
        "Sigma-square ML     :      27.114                Akaike info criterion :    3121.790\n",
        "S.E of regression ML:      5.2071                Schwarz criterion     :    3155.602\n",
        "\n",
        "HAC Standard Errors; Kernel Weights: boston_tri_k12\n",
        "------------------------------------------------------------------------------------\n",
        "            Variable     Coefficient       Std.Error     t-Statistic     Probability\n",
        "------------------------------------------------------------------------------------\n",
        "            CONSTANT      11.4725706       9.1535525       1.2533462       0.2106678\n",
        "                 AGE      -0.0168636       0.0214346      -0.7867480       0.4318037\n",
        "                CHAS       3.8639095       1.4681591       2.6318056       0.0087567\n",
        "                CRIM      -0.1074230       0.0390349      -2.7519731       0.0061398\n",
        "                 DIS      -1.0649851       0.2383633      -4.4679079       0.0000098\n",
        "               LSTAT      -0.5746656       0.1316164      -4.3662150       0.0000154\n",
        "                 NOX     -13.2572627       4.9271588      -2.6906506       0.0073709\n",
        "                  RM       4.9333429       1.1433919       4.3146561       0.0000193\n",
        "------------------------------------------------------------------------------------\n",
        "\n",
        "REGRESSION DIAGNOSTICS\n",
        "MULTICOLLINEARITY CONDITION NUMBER           47.587\n",
        "\n",
        "TEST ON NORMALITY OF ERRORS\n",
        "TEST                             DF        VALUE           PROB\n",
        "Jarque-Bera                       2         482.230           0.0000\n",
        "\n",
        "DIAGNOSTICS FOR HETEROSKEDASTICITY\n",
        "RANDOM COEFFICIENTS\n",
        "TEST                             DF        VALUE           PROB\n",
        "Breusch-Pagan test                7          97.286           0.0000\n",
        "Koenker-Bassett test              7          32.560           0.0000\n",
        "\n",
        "DIAGNOSTICS FOR SPATIAL DEPENDENCE\n",
        "TEST                           MI/DF       VALUE           PROB\n",
        "Moran's I (error)              0.4736        16.803           0.0000\n",
        "Lagrange Multiplier (lag)         1         167.220           0.0000\n",
        "Robust LM (lag)                   1           4.999           0.0254\n",
        "Lagrange Multiplier (error)       1         261.062           0.0000\n",
        "Robust LM (error)                 1          98.841           0.0000\n",
        "Lagrange Multiplier (SARMA)       2         266.061           0.0000\n",
        "\n",
        "================================ END OF REPORT =====================================\n"
       ]
      }
     ],
     "prompt_number": 25
    },
    {
     "cell_type": "code",
     "collapsed": false,
     "input": [],
     "language": "python",
     "metadata": {},
     "outputs": []
    }
   ],
   "metadata": {}
  }
 ]
}