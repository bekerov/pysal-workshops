{
 "metadata": {
  "name": "",
  "signature": "sha256:07a174b284c7db585872a50943cc6fedc120e8eaed73246bfa3145790d620332"
 },
 "nbformat": 3,
 "nbformat_minor": 0,
 "worksheets": [
  {
   "cells": [
    {
     "cell_type": "markdown",
     "metadata": {},
     "source": [
      "##Solutions to Practice Example Chapter 7##"
     ]
    },
    {
     "cell_type": "code",
     "collapsed": false,
     "input": [
      "import numpy as np\n",
      "import pysal"
     ],
     "language": "python",
     "metadata": {},
     "outputs": [],
     "prompt_number": 86
    },
    {
     "cell_type": "code",
     "collapsed": false,
     "input": [
      "db = pysal.open('data/south.dbf','r')"
     ],
     "language": "python",
     "metadata": {},
     "outputs": [],
     "prompt_number": 87
    },
    {
     "cell_type": "code",
     "collapsed": false,
     "input": [
      "len(db)"
     ],
     "language": "python",
     "metadata": {},
     "outputs": [
      {
       "metadata": {},
       "output_type": "pyout",
       "prompt_number": 88,
       "text": [
        "1412"
       ]
      }
     ],
     "prompt_number": 88
    },
    {
     "cell_type": "code",
     "collapsed": false,
     "input": [
      "db.header"
     ],
     "language": "python",
     "metadata": {},
     "outputs": [
      {
       "metadata": {},
       "output_type": "pyout",
       "prompt_number": 89,
       "text": [
        "['FIPSNO',\n",
        " 'NAME',\n",
        " 'STATE_NAME',\n",
        " 'STATE_FIPS',\n",
        " 'CNTY_FIPS',\n",
        " 'FIPS',\n",
        " 'STFIPS',\n",
        " 'COFIPS',\n",
        " 'SOUTH',\n",
        " 'HR60',\n",
        " 'HR70',\n",
        " 'HR80',\n",
        " 'HR90',\n",
        " 'HC60',\n",
        " 'HC70',\n",
        " 'HC80',\n",
        " 'HC90',\n",
        " 'PO60',\n",
        " 'PO70',\n",
        " 'PO80',\n",
        " 'PO90',\n",
        " 'RD60',\n",
        " 'RD70',\n",
        " 'RD80',\n",
        " 'RD90',\n",
        " 'PS60',\n",
        " 'PS70',\n",
        " 'PS80',\n",
        " 'PS90',\n",
        " 'UE60',\n",
        " 'UE70',\n",
        " 'UE80',\n",
        " 'UE90',\n",
        " 'DV60',\n",
        " 'DV70',\n",
        " 'DV80',\n",
        " 'DV90',\n",
        " 'MA60',\n",
        " 'MA70',\n",
        " 'MA80',\n",
        " 'MA90',\n",
        " 'POL60',\n",
        " 'POL70',\n",
        " 'POL80',\n",
        " 'POL90',\n",
        " 'DNL60',\n",
        " 'DNL70',\n",
        " 'DNL80',\n",
        " 'DNL90',\n",
        " 'MFIL59',\n",
        " 'MFIL69',\n",
        " 'MFIL79',\n",
        " 'MFIL89',\n",
        " 'FP59',\n",
        " 'FP69',\n",
        " 'FP79',\n",
        " 'FP89',\n",
        " 'BLK60',\n",
        " 'BLK70',\n",
        " 'BLK80',\n",
        " 'BLK90',\n",
        " 'GI59',\n",
        " 'GI69',\n",
        " 'GI79',\n",
        " 'GI89',\n",
        " 'FH60',\n",
        " 'FH70',\n",
        " 'FH80',\n",
        " 'FH90']"
       ]
      }
     ],
     "prompt_number": 89
    },
    {
     "cell_type": "code",
     "collapsed": false,
     "input": [
      "y_name = 'HR90'\n",
      "y = np.array([db.by_col(y_name)]).T"
     ],
     "language": "python",
     "metadata": {},
     "outputs": [],
     "prompt_number": 90
    },
    {
     "cell_type": "code",
     "collapsed": false,
     "input": [
      "x_names = ['RD90','MA90','PS90','UE90']\n",
      "x = np.array([db.by_col(var) for var in x_names]).T"
     ],
     "language": "python",
     "metadata": {},
     "outputs": [],
     "prompt_number": 91
    },
    {
     "cell_type": "code",
     "collapsed": false,
     "input": [
      "xe_names = ['RD90','MA90','PS90']\n",
      "xe = np.array([db.by_col(var) for var in xe_names]).T"
     ],
     "language": "python",
     "metadata": {},
     "outputs": [],
     "prompt_number": 105
    },
    {
     "cell_type": "code",
     "collapsed": false,
     "input": [
      "yend_names = ['UE90']\n",
      "yend = np.array([db.by_col(var) for var in yend_names]).T"
     ],
     "language": "python",
     "metadata": {},
     "outputs": [],
     "prompt_number": 93
    },
    {
     "cell_type": "code",
     "collapsed": false,
     "input": [
      "q_names = ['FH90','FP89','GI89']\n",
      "q = np.array([db.by_col(var) for var in q_names]).T"
     ],
     "language": "python",
     "metadata": {},
     "outputs": [],
     "prompt_number": 94
    },
    {
     "cell_type": "code",
     "collapsed": false,
     "input": [
      "w = pysal.knnW_from_shapefile('data/south.shp',\n",
      "                                k=6,radius=pysal.cg.RADIUS_EARTH_MILES,idVariable='FIPSNO')\n",
      "w.transform = 'r'"
     ],
     "language": "python",
     "metadata": {},
     "outputs": [],
     "prompt_number": 97
    },
    {
     "cell_type": "code",
     "collapsed": false,
     "input": [
      "ww = pysal.queen_from_shapefile('data/south.shp',idVariable=\"FIPSNO\")\n",
      "ww.transform = 'r'"
     ],
     "language": "python",
     "metadata": {},
     "outputs": [],
     "prompt_number": 96
    },
    {
     "cell_type": "code",
     "collapsed": false,
     "input": [
      "w.n, ww.n"
     ],
     "language": "python",
     "metadata": {},
     "outputs": [
      {
       "metadata": {},
       "output_type": "pyout",
       "prompt_number": 115,
       "text": [
        "(1412, 1412)"
       ]
      }
     ],
     "prompt_number": 115
    },
    {
     "cell_type": "code",
     "collapsed": false,
     "input": [
      "kw = pysal.adaptive_kernelW_from_shapefile('data/south.shp',\n",
      "                                             k=12,function='quadratic',radius=pysal.cg.RADIUS_EARTH_MILES,\n",
      "                                             diagonal=True,idVariable='FIPSNO')"
     ],
     "language": "python",
     "metadata": {},
     "outputs": [],
     "prompt_number": 99
    },
    {
     "cell_type": "code",
     "collapsed": false,
     "input": [
      "kw.n"
     ],
     "language": "python",
     "metadata": {},
     "outputs": [
      {
       "metadata": {},
       "output_type": "pyout",
       "prompt_number": 100,
       "text": [
        "1412"
       ]
      }
     ],
     "prompt_number": 100
    },
    {
     "cell_type": "markdown",
     "metadata": {},
     "source": [
      "spatial two stage least squares: exogenous variables only, using k=6 nearest neighbors"
     ]
    },
    {
     "cell_type": "code",
     "collapsed": false,
     "input": [
      "reg1 = pysal.spreg.GM_Lag(y,x,w=w,spat_diag=True,\n",
      "                          name_y=y_name,name_x=x_names,\n",
      "                          name_w='south_k6',name_ds='south')"
     ],
     "language": "python",
     "metadata": {},
     "outputs": [],
     "prompt_number": 101
    },
    {
     "cell_type": "code",
     "collapsed": false,
     "input": [
      "print reg1.summary"
     ],
     "language": "python",
     "metadata": {},
     "outputs": [
      {
       "output_type": "stream",
       "stream": "stdout",
       "text": [
        "REGRESSION\n",
        "----------\n",
        "SUMMARY OF OUTPUT: SPATIAL TWO STAGE LEAST SQUARES\n",
        "--------------------------------------------------\n",
        "Data set            :       south\n",
        "Weights matrix      :    south_k6\n",
        "Dependent Variable  :        HR90                Number of Observations:        1412\n",
        "Mean dependent var  :      9.5493                Number of Variables   :           6\n",
        "S.D. dependent var  :      7.0389                Degrees of Freedom    :        1406\n",
        "Pseudo R-squared    :      0.3170\n",
        "Spatial Pseudo R-squared:  0.3017\n",
        "\n",
        "------------------------------------------------------------------------------------\n",
        "            Variable     Coefficient       Std.Error     z-Statistic     Probability\n",
        "------------------------------------------------------------------------------------\n",
        "            CONSTANT       8.7095236       2.0183412       4.3151890       0.0000159\n",
        "                MA90       0.0144354       0.0480777       0.3002507       0.7639859\n",
        "                PS90       2.0300519       0.2069009       9.8117134       0.0000000\n",
        "                RD90       4.2657445       0.2694077      15.8337904       0.0000000\n",
        "                UE90      -0.4609325       0.0741770      -6.2139568       0.0000000\n",
        "              W_HR90       0.1181498       0.0661620       1.7857661       0.0741371\n",
        "------------------------------------------------------------------------------------\n",
        "Instrumented: W_HR90\n",
        "Instruments: W_MA90, W_PS90, W_RD90, W_UE90\n",
        "\n",
        "DIAGNOSTICS FOR SPATIAL DEPENDENCE\n",
        "TEST                           MI/DF       VALUE           PROB\n",
        "Anselin-Kelejian Test             1           2.949          0.0859\n",
        "================================ END OF REPORT =====================================\n"
       ]
      }
     ],
     "prompt_number": 102
    },
    {
     "cell_type": "markdown",
     "metadata": {},
     "source": [
      "spatial two stage least squares using k=6 nearest neighbors, with HAC standard errors"
     ]
    },
    {
     "cell_type": "code",
     "collapsed": false,
     "input": [
      "reg1a = pysal.spreg.GM_Lag(y,x,w=w,robust='hac',gwk=kw,spat_diag=True,\n",
      "                          name_y=y_name,name_x=x_names,\n",
      "                          name_w='south_k6',name_gwk=\"south_quad_12\",name_ds='south')"
     ],
     "language": "python",
     "metadata": {},
     "outputs": [],
     "prompt_number": 109
    },
    {
     "cell_type": "code",
     "collapsed": false,
     "input": [
      "print reg1a.summary"
     ],
     "language": "python",
     "metadata": {},
     "outputs": [
      {
       "output_type": "stream",
       "stream": "stdout",
       "text": [
        "REGRESSION\n",
        "----------\n",
        "SUMMARY OF OUTPUT: SPATIAL TWO STAGE LEAST SQUARES\n",
        "--------------------------------------------------\n",
        "Data set            :       south\n",
        "Weights matrix      :    south_k6\n",
        "Dependent Variable  :        HR90                Number of Observations:        1412\n",
        "Mean dependent var  :      9.5493                Number of Variables   :           6\n",
        "S.D. dependent var  :      7.0389                Degrees of Freedom    :        1406\n",
        "Pseudo R-squared    :      0.3170\n",
        "Spatial Pseudo R-squared:  0.3017\n",
        "\n",
        "HAC Standard Errors; Kernel Weights: south_quad_12\n",
        "------------------------------------------------------------------------------------\n",
        "            Variable     Coefficient       Std.Error     z-Statistic     Probability\n",
        "------------------------------------------------------------------------------------\n",
        "            CONSTANT       8.7095236       2.2063492       3.9474820       0.0000790\n",
        "                MA90       0.0144354       0.0493446       0.2925419       0.7698723\n",
        "                PS90       2.0300519       0.3980117       5.1004829       0.0000003\n",
        "                RD90       4.2657445       0.4770866       8.9412379       0.0000000\n",
        "                UE90      -0.4609325       0.1019096      -4.5229549       0.0000061\n",
        "              W_HR90       0.1181498       0.0949992       1.2436927       0.2136127\n",
        "------------------------------------------------------------------------------------\n",
        "Instrumented: W_HR90\n",
        "Instruments: W_MA90, W_PS90, W_RD90, W_UE90\n",
        "\n",
        "DIAGNOSTICS FOR SPATIAL DEPENDENCE\n",
        "TEST                           MI/DF       VALUE           PROB\n",
        "Anselin-Kelejian Test             1           2.949          0.0859\n",
        "================================ END OF REPORT =====================================\n"
       ]
      }
     ],
     "prompt_number": 110
    },
    {
     "cell_type": "markdown",
     "metadata": {},
     "source": [
      "spatial two stage least squares using queen contiguity"
     ]
    },
    {
     "cell_type": "code",
     "collapsed": false,
     "input": [
      "reg1b = pysal.spreg.GM_Lag(y,x,w=ww,spat_diag=True,\n",
      "                          name_y=y_name,name_x=x_names,\n",
      "                          name_w='south_queen',name_ds='south')"
     ],
     "language": "python",
     "metadata": {},
     "outputs": [],
     "prompt_number": 111
    },
    {
     "cell_type": "code",
     "collapsed": false,
     "input": [
      "print reg1b.summary"
     ],
     "language": "python",
     "metadata": {},
     "outputs": [
      {
       "output_type": "stream",
       "stream": "stdout",
       "text": [
        "REGRESSION\n",
        "----------\n",
        "SUMMARY OF OUTPUT: SPATIAL TWO STAGE LEAST SQUARES\n",
        "--------------------------------------------------\n",
        "Data set            :       south\n",
        "Weights matrix      : south_queen\n",
        "Dependent Variable  :        HR90                Number of Observations:        1412\n",
        "Mean dependent var  :      9.5493                Number of Variables   :           6\n",
        "S.D. dependent var  :      7.0389                Degrees of Freedom    :        1406\n",
        "Pseudo R-squared    :      0.3222\n",
        "Spatial Pseudo R-squared:  0.3020\n",
        "\n",
        "------------------------------------------------------------------------------------\n",
        "            Variable     Coefficient       Std.Error     z-Statistic     Probability\n",
        "------------------------------------------------------------------------------------\n",
        "            CONSTANT       8.1830219       2.0412020       4.0089231       0.0000610\n",
        "                MA90       0.0227990       0.0483737       0.4713098       0.6374195\n",
        "                PS90       2.0297011       0.2037269       9.9628509       0.0000000\n",
        "                RD90       4.2106113       0.2661952      15.8177558       0.0000000\n",
        "                UE90      -0.4537805       0.0734397      -6.1789507       0.0000000\n",
        "              W_HR90       0.1418881       0.0652331       2.1750937       0.0296231\n",
        "------------------------------------------------------------------------------------\n",
        "Instrumented: W_HR90\n",
        "Instruments: W_MA90, W_PS90, W_RD90, W_UE90\n",
        "\n",
        "DIAGNOSTICS FOR SPATIAL DEPENDENCE\n",
        "TEST                           MI/DF       VALUE           PROB\n",
        "Anselin-Kelejian Test             1           2.306          0.1289\n",
        "================================ END OF REPORT =====================================\n"
       ]
      }
     ],
     "prompt_number": 112
    },
    {
     "cell_type": "markdown",
     "metadata": {},
     "source": [
      "spatial two stage least squares with exogenous and endogenous variables, k=6 nearest neighbors"
     ]
    },
    {
     "cell_type": "code",
     "collapsed": false,
     "input": [
      "reg2 = pysal.spreg.GM_Lag(y,xe,yend,q,w=w,spat_diag=True,\n",
      "                          name_y=y_name,name_x=xe_names,name_yend=yend_names,\n",
      "                          name_q=q_names,name_w='south_k6',name_ds='south')"
     ],
     "language": "python",
     "metadata": {},
     "outputs": [],
     "prompt_number": 113
    },
    {
     "cell_type": "code",
     "collapsed": false,
     "input": [
      "print reg2.summary"
     ],
     "language": "python",
     "metadata": {},
     "outputs": [
      {
       "output_type": "stream",
       "stream": "stdout",
       "text": [
        "REGRESSION\n",
        "----------\n",
        "SUMMARY OF OUTPUT: SPATIAL TWO STAGE LEAST SQUARES\n",
        "--------------------------------------------------\n",
        "Data set            :       south\n",
        "Weights matrix      :    south_k6\n",
        "Dependent Variable  :        HR90                Number of Observations:        1412\n",
        "Mean dependent var  :      9.5493                Number of Variables   :           6\n",
        "S.D. dependent var  :      7.0389                Degrees of Freedom    :        1406\n",
        "Pseudo R-squared    :      0.2800\n",
        "Spatial Pseudo R-squared:  0.2774\n",
        "\n",
        "------------------------------------------------------------------------------------\n",
        "            Variable     Coefficient       Std.Error     z-Statistic     Probability\n",
        "------------------------------------------------------------------------------------\n",
        "            CONSTANT      14.4390815       2.2781115       6.3381803       0.0000000\n",
        "                MA90      -0.0170951       0.0499350      -0.3423476       0.7320893\n",
        "                PS90       2.2209207       0.2158787      10.2878183       0.0000000\n",
        "                RD90       5.6815334       0.3619922      15.6951837       0.0000000\n",
        "                UE90      -1.0886919       0.1299393      -8.3784666       0.0000000\n",
        "              W_HR90       0.0226703       0.0693006       0.3271294       0.7435700\n",
        "------------------------------------------------------------------------------------\n",
        "Instrumented: UE90, W_HR90\n",
        "Instruments: FH90, FP89, GI89, W_FH90, W_FP89, W_GI89, W_MA90, W_PS90,\n",
        "             W_RD90\n",
        "\n",
        "DIAGNOSTICS FOR SPATIAL DEPENDENCE\n",
        "TEST                           MI/DF       VALUE           PROB\n",
        "Anselin-Kelejian Test             1           7.492          0.0062\n",
        "================================ END OF REPORT =====================================\n"
       ]
      }
     ],
     "prompt_number": 114
    },
    {
     "cell_type": "code",
     "collapsed": false,
     "input": [],
     "language": "python",
     "metadata": {},
     "outputs": []
    }
   ],
   "metadata": {}
  }
 ]
}