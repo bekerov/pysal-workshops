{
 "metadata": {
  "name": "",
  "signature": "sha256:9cf805f55bce93e1502d601b74bcd469b96a1438c17c4820394da0dccf15dcc8"
 },
 "nbformat": 3,
 "nbformat_minor": 0,
 "worksheets": [
  {
   "cells": [
    {
     "cell_type": "markdown",
     "metadata": {},
     "source": [
      "##Solutions to Practice Example Chapter 7##"
     ]
    },
    {
     "cell_type": "code",
     "collapsed": false,
     "input": [
      "import numpy as np\n",
      "import pysal"
     ],
     "language": "python",
     "metadata": {},
     "outputs": [],
     "prompt_number": 26
    },
    {
     "cell_type": "code",
     "collapsed": false,
     "input": [
      "db = pysal.open('data/natregimes.dbf','r')"
     ],
     "language": "python",
     "metadata": {},
     "outputs": [],
     "prompt_number": 27
    },
    {
     "cell_type": "code",
     "collapsed": false,
     "input": [
      "len(db)"
     ],
     "language": "python",
     "metadata": {},
     "outputs": [
      {
       "metadata": {},
       "output_type": "pyout",
       "prompt_number": 28,
       "text": [
        "3085"
       ]
      }
     ],
     "prompt_number": 28
    },
    {
     "cell_type": "code",
     "collapsed": false,
     "input": [
      "db.header"
     ],
     "language": "python",
     "metadata": {},
     "outputs": [
      {
       "metadata": {},
       "output_type": "pyout",
       "prompt_number": 29,
       "text": [
        "['REGIONS',\n",
        " 'NOSOUTH',\n",
        " 'POLY_ID',\n",
        " 'NAME',\n",
        " 'STATE_NAME',\n",
        " 'STATE_FIPS',\n",
        " 'CNTY_FIPS',\n",
        " 'FIPS',\n",
        " 'STFIPS',\n",
        " 'COFIPS',\n",
        " 'FIPSNO',\n",
        " 'SOUTH',\n",
        " 'HR60',\n",
        " 'HR70',\n",
        " 'HR80',\n",
        " 'HR90',\n",
        " 'HC60',\n",
        " 'HC70',\n",
        " 'HC80',\n",
        " 'HC90',\n",
        " 'PO60',\n",
        " 'PO70',\n",
        " 'PO80',\n",
        " 'PO90',\n",
        " 'RD60',\n",
        " 'RD70',\n",
        " 'RD80',\n",
        " 'RD90',\n",
        " 'PS60',\n",
        " 'PS70',\n",
        " 'PS80',\n",
        " 'PS90',\n",
        " 'UE60',\n",
        " 'UE70',\n",
        " 'UE80',\n",
        " 'UE90',\n",
        " 'DV60',\n",
        " 'DV70',\n",
        " 'DV80',\n",
        " 'DV90',\n",
        " 'MA60',\n",
        " 'MA70',\n",
        " 'MA80',\n",
        " 'MA90',\n",
        " 'POL60',\n",
        " 'POL70',\n",
        " 'POL80',\n",
        " 'POL90',\n",
        " 'DNL60',\n",
        " 'DNL70',\n",
        " 'DNL80',\n",
        " 'DNL90',\n",
        " 'MFIL59',\n",
        " 'MFIL69',\n",
        " 'MFIL79',\n",
        " 'MFIL89',\n",
        " 'FP59',\n",
        " 'FP69',\n",
        " 'FP79',\n",
        " 'FP89',\n",
        " 'BLK60',\n",
        " 'BLK70',\n",
        " 'BLK80',\n",
        " 'BLK90',\n",
        " 'GI59',\n",
        " 'GI69',\n",
        " 'GI79',\n",
        " 'GI89',\n",
        " 'FH60',\n",
        " 'FH70',\n",
        " 'FH80',\n",
        " 'FH90',\n",
        " 'West']"
       ]
      }
     ],
     "prompt_number": 29
    },
    {
     "cell_type": "code",
     "collapsed": false,
     "input": [
      "y_name = 'HR60'\n",
      "y = np.array([db.by_col(y_name)]).T"
     ],
     "language": "python",
     "metadata": {},
     "outputs": [],
     "prompt_number": 58
    },
    {
     "cell_type": "code",
     "collapsed": false,
     "input": [
      "x_names = ['RD60','MA60','PS60','UE60']\n",
      "x = np.array([db.by_col(var) for var in x_names]).T"
     ],
     "language": "python",
     "metadata": {},
     "outputs": [],
     "prompt_number": 59
    },
    {
     "cell_type": "code",
     "collapsed": false,
     "input": [
      "xe_names = ['RD60','MA60','PS60']\n",
      "xe = np.array([db.by_col(var) for var in x_names]).T"
     ],
     "language": "python",
     "metadata": {},
     "outputs": [],
     "prompt_number": 60
    },
    {
     "cell_type": "code",
     "collapsed": false,
     "input": [
      "yend_names = ['UE60']\n",
      "yend = np.array([db.by_col(var) for var in yend_names]).T"
     ],
     "language": "python",
     "metadata": {},
     "outputs": [],
     "prompt_number": 61
    },
    {
     "cell_type": "code",
     "collapsed": false,
     "input": [
      "q_names = ['FH60','FP59','GI59']\n",
      "q = np.array([db.by_col(var) for var in q_names]).T"
     ],
     "language": "python",
     "metadata": {},
     "outputs": [],
     "prompt_number": 62
    },
    {
     "cell_type": "code",
     "collapsed": false,
     "input": [
      "q2_names = ['FH60','GI59']\n",
      "q2 = np.array([db.by_col(var) for var in q_names]).T"
     ],
     "language": "python",
     "metadata": {},
     "outputs": [],
     "prompt_number": 73
    },
    {
     "cell_type": "code",
     "collapsed": false,
     "input": [
      "w = pysal.knnW_from_shapefile('data/natregimes.shp',\n",
      "                                k=6,radius=pysal.cg.RADIUS_EARTH_MILES,idVariable='FIPSNO')"
     ],
     "language": "python",
     "metadata": {},
     "outputs": [],
     "prompt_number": 63
    },
    {
     "cell_type": "code",
     "collapsed": false,
     "input": [
      "w.n"
     ],
     "language": "python",
     "metadata": {},
     "outputs": [
      {
       "metadata": {},
       "output_type": "pyout",
       "prompt_number": 64,
       "text": [
        "3085"
       ]
      }
     ],
     "prompt_number": 64
    },
    {
     "cell_type": "code",
     "collapsed": false,
     "input": [
      "w.transform = 'r'"
     ],
     "language": "python",
     "metadata": {},
     "outputs": [],
     "prompt_number": 65
    },
    {
     "cell_type": "code",
     "collapsed": false,
     "input": [
      "kw = pysal.adaptive_kernelW_from_shapefile('data/natregimes.shp',\n",
      "                                             k=12,function='quadratic',radius=pysal.cg.RADIUS_EARTH_MILES,\n",
      "                                             diagonal=True,idVariable='FIPSNO')"
     ],
     "language": "python",
     "metadata": {},
     "outputs": [],
     "prompt_number": 66
    },
    {
     "cell_type": "code",
     "collapsed": false,
     "input": [
      "kw.n"
     ],
     "language": "python",
     "metadata": {},
     "outputs": [
      {
       "metadata": {},
       "output_type": "pyout",
       "prompt_number": 67,
       "text": [
        "3085"
       ]
      }
     ],
     "prompt_number": 67
    },
    {
     "cell_type": "markdown",
     "metadata": {},
     "source": [
      "spatial two stage least squares: exogenous variables only"
     ]
    },
    {
     "cell_type": "code",
     "collapsed": false,
     "input": [
      "reg1 = pysal.spreg.GM_Lag(y,x,w=w,spat_diag=True,\n",
      "                          name_y=y_name,name_x=x_names,\n",
      "                          name_w='natqueen',name_ds='nat')"
     ],
     "language": "python",
     "metadata": {},
     "outputs": [],
     "prompt_number": 68
    },
    {
     "cell_type": "code",
     "collapsed": false,
     "input": [
      "print reg1.summary"
     ],
     "language": "python",
     "metadata": {},
     "outputs": [
      {
       "output_type": "stream",
       "stream": "stdout",
       "text": [
        "REGRESSION\n",
        "----------\n",
        "SUMMARY OF OUTPUT: SPATIAL TWO STAGE LEAST SQUARES\n",
        "--------------------------------------------------\n",
        "Data set            :         nat\n",
        "Weights matrix      :    natqueen\n",
        "Dependent Variable  :        HR60                Number of Observations:        3085\n",
        "Mean dependent var  :      4.5041                Number of Variables   :           6\n",
        "S.D. dependent var  :      5.6497                Degrees of Freedom    :        3079\n",
        "Pseudo R-squared    :      0.3102\n",
        "Spatial Pseudo R-squared:  0.2308\n",
        "\n",
        "------------------------------------------------------------------------------------\n",
        "            Variable     Coefficient       Std.Error     z-Statistic     Probability\n",
        "------------------------------------------------------------------------------------\n",
        "            CONSTANT       6.2835180       1.0512878       5.9769721       0.0000000\n",
        "                MA60      -0.1354284       0.0248998      -5.4389430       0.0000001\n",
        "                PS60       0.2272742       0.0906999       2.5057827       0.0122181\n",
        "                RD60       1.3640714       0.1843061       7.4011210       0.0000000\n",
        "                UE60       0.0351005       0.0343279       1.0225060       0.3065415\n",
        "              W_HR60       0.4423948       0.0784631       5.6382519       0.0000000\n",
        "------------------------------------------------------------------------------------\n",
        "Instrumented: W_HR60\n",
        "Instruments: W_MA60, W_PS60, W_RD60, W_UE60\n",
        "\n",
        "DIAGNOSTICS FOR SPATIAL DEPENDENCE\n",
        "TEST                           MI/DF       VALUE           PROB\n",
        "Anselin-Kelejian Test             1           2.049          0.1523\n",
        "================================ END OF REPORT =====================================\n"
       ]
      }
     ],
     "prompt_number": 69
    },
    {
     "cell_type": "markdown",
     "metadata": {},
     "source": [
      "spatial two stage least squares with exogenous and endogenous variables"
     ]
    },
    {
     "cell_type": "code",
     "collapsed": false,
     "input": [
      "reg2 = pysal.spreg.GM_Lag(y,xe,yend,q,w=w,lag_q=False,spat_diag=True,\n",
      "                          name_y=y_name,name_x=xe_names,name_yend=yend_names,\n",
      "                          name_q=q_names,name_w='natqueen',name_ds='nat')"
     ],
     "language": "python",
     "metadata": {},
     "outputs": [
      {
       "ename": "LinAlgError",
       "evalue": "Singular matrix",
       "output_type": "pyerr",
       "traceback": [
        "\u001b[0;31m---------------------------------------------------------------------------\u001b[0m\n\u001b[0;31mLinAlgError\u001b[0m                               Traceback (most recent call last)",
        "\u001b[0;32m<ipython-input-78-2d91b4ec7b51>\u001b[0m in \u001b[0;36m<module>\u001b[0;34m()\u001b[0m\n\u001b[1;32m      1\u001b[0m reg2 = pysal.spreg.GM_Lag(y,xe,yend,q,w=w,lag_q=False,spat_diag=True,\n\u001b[1;32m      2\u001b[0m                           \u001b[0mname_y\u001b[0m\u001b[0;34m=\u001b[0m\u001b[0my_name\u001b[0m\u001b[0;34m,\u001b[0m\u001b[0mname_x\u001b[0m\u001b[0;34m=\u001b[0m\u001b[0mxe_names\u001b[0m\u001b[0;34m,\u001b[0m\u001b[0mname_yend\u001b[0m\u001b[0;34m=\u001b[0m\u001b[0myend_names\u001b[0m\u001b[0;34m,\u001b[0m\u001b[0;34m\u001b[0m\u001b[0m\n\u001b[0;32m----> 3\u001b[0;31m                           name_q=q_names,name_w='natqueen',name_ds='nat')\n\u001b[0m",
        "\u001b[0;32m/Users/luc/Dropbox/z_PySAL/pysal/pysal/spreg/twosls_sp.pyc\u001b[0m in \u001b[0;36m__init__\u001b[0;34m(self, y, x, yend, q, w, w_lags, lag_q, robust, gwk, sig2n_k, spat_diag, vm, name_y, name_x, name_yend, name_q, name_w, name_gwk, name_ds)\u001b[0m\n\u001b[1;32m    489\u001b[0m             \u001b[0mself\u001b[0m\u001b[0;34m,\u001b[0m \u001b[0my\u001b[0m\u001b[0;34m=\u001b[0m\u001b[0my\u001b[0m\u001b[0;34m,\u001b[0m \u001b[0mx\u001b[0m\u001b[0;34m=\u001b[0m\u001b[0mx_constant\u001b[0m\u001b[0;34m,\u001b[0m \u001b[0mw\u001b[0m\u001b[0;34m=\u001b[0m\u001b[0mw\u001b[0m\u001b[0;34m.\u001b[0m\u001b[0msparse\u001b[0m\u001b[0;34m,\u001b[0m \u001b[0myend\u001b[0m\u001b[0;34m=\u001b[0m\u001b[0myend2\u001b[0m\u001b[0;34m,\u001b[0m \u001b[0mq\u001b[0m\u001b[0;34m=\u001b[0m\u001b[0mq2\u001b[0m\u001b[0;34m,\u001b[0m\u001b[0;34m\u001b[0m\u001b[0m\n\u001b[1;32m    490\u001b[0m             \u001b[0mw_lags\u001b[0m\u001b[0;34m=\u001b[0m\u001b[0mw_lags\u001b[0m\u001b[0;34m,\u001b[0m \u001b[0mrobust\u001b[0m\u001b[0;34m=\u001b[0m\u001b[0mrobust\u001b[0m\u001b[0;34m,\u001b[0m \u001b[0mgwk\u001b[0m\u001b[0;34m=\u001b[0m\u001b[0mgwk\u001b[0m\u001b[0;34m,\u001b[0m\u001b[0;34m\u001b[0m\u001b[0m\n\u001b[0;32m--> 491\u001b[0;31m             lag_q=lag_q, sig2n_k=sig2n_k)\n\u001b[0m\u001b[1;32m    492\u001b[0m         \u001b[0mself\u001b[0m\u001b[0;34m.\u001b[0m\u001b[0mrho\u001b[0m \u001b[0;34m=\u001b[0m \u001b[0mself\u001b[0m\u001b[0;34m.\u001b[0m\u001b[0mbetas\u001b[0m\u001b[0;34m[\u001b[0m\u001b[0;34m-\u001b[0m\u001b[0;36m1\u001b[0m\u001b[0;34m]\u001b[0m\u001b[0;34m\u001b[0m\u001b[0m\n\u001b[1;32m    493\u001b[0m         self.predy_e, self.e_pred, warn = sp_att(w, self.y, self.predy,\n",
        "\u001b[0;32m/Users/luc/Dropbox/z_PySAL/pysal/pysal/spreg/twosls_sp.pyc\u001b[0m in \u001b[0;36m__init__\u001b[0;34m(self, y, x, yend, q, w, w_lags, lag_q, robust, gwk, sig2n_k)\u001b[0m\n\u001b[1;32m    181\u001b[0m \u001b[0;34m\u001b[0m\u001b[0m\n\u001b[1;32m    182\u001b[0m         TSLS.BaseTSLS.__init__(self, y=y, x=x, yend=yend, q=q,\n\u001b[0;32m--> 183\u001b[0;31m                                robust=robust, gwk=gwk, sig2n_k=sig2n_k)\n\u001b[0m\u001b[1;32m    184\u001b[0m \u001b[0;34m\u001b[0m\u001b[0m\n\u001b[1;32m    185\u001b[0m \u001b[0;34m\u001b[0m\u001b[0m\n",
        "\u001b[0;32m/Users/luc/Dropbox/z_PySAL/pysal/pysal/spreg/twosls.pyc\u001b[0m in \u001b[0;36m__init__\u001b[0;34m(self, y, x, yend, q, h, robust, gwk, sig2n_k)\u001b[0m\n\u001b[1;32m    164\u001b[0m         \u001b[0mfactor_2\u001b[0m \u001b[0;34m=\u001b[0m \u001b[0mnp\u001b[0m\u001b[0;34m.\u001b[0m\u001b[0mdot\u001b[0m\u001b[0;34m(\u001b[0m\u001b[0mfactor_1\u001b[0m\u001b[0;34m,\u001b[0m \u001b[0mzth\u001b[0m\u001b[0;34m.\u001b[0m\u001b[0mT\u001b[0m\u001b[0;34m)\u001b[0m\u001b[0;34m\u001b[0m\u001b[0m\n\u001b[1;32m    165\u001b[0m         \u001b[0;31m# this one needs to be in cache to be used in AK\u001b[0m\u001b[0;34m\u001b[0m\u001b[0;34m\u001b[0m\u001b[0m\n\u001b[0;32m--> 166\u001b[0;31m         \u001b[0mvarb\u001b[0m \u001b[0;34m=\u001b[0m \u001b[0mla\u001b[0m\u001b[0;34m.\u001b[0m\u001b[0minv\u001b[0m\u001b[0;34m(\u001b[0m\u001b[0mfactor_2\u001b[0m\u001b[0;34m)\u001b[0m\u001b[0;34m\u001b[0m\u001b[0m\n\u001b[0m\u001b[1;32m    167\u001b[0m         \u001b[0mfactor_3\u001b[0m \u001b[0;34m=\u001b[0m \u001b[0mnp\u001b[0m\u001b[0;34m.\u001b[0m\u001b[0mdot\u001b[0m\u001b[0;34m(\u001b[0m\u001b[0mvarb\u001b[0m\u001b[0;34m,\u001b[0m \u001b[0mfactor_1\u001b[0m\u001b[0;34m)\u001b[0m\u001b[0;34m\u001b[0m\u001b[0m\n\u001b[1;32m    168\u001b[0m         \u001b[0mbetas\u001b[0m \u001b[0;34m=\u001b[0m \u001b[0mnp\u001b[0m\u001b[0;34m.\u001b[0m\u001b[0mdot\u001b[0m\u001b[0;34m(\u001b[0m\u001b[0mfactor_3\u001b[0m\u001b[0;34m,\u001b[0m \u001b[0mhty\u001b[0m\u001b[0;34m)\u001b[0m\u001b[0;34m\u001b[0m\u001b[0m\n",
        "\u001b[0;32m/Users/luc/Library/Enthought/Canopy_32bit/User/lib/python2.7/site-packages/numpy/linalg/linalg.pyc\u001b[0m in \u001b[0;36minv\u001b[0;34m(a)\u001b[0m\n\u001b[1;32m    518\u001b[0m     \u001b[0msignature\u001b[0m \u001b[0;34m=\u001b[0m \u001b[0;34m'D->D'\u001b[0m \u001b[0;32mif\u001b[0m \u001b[0misComplexType\u001b[0m\u001b[0;34m(\u001b[0m\u001b[0mt\u001b[0m\u001b[0;34m)\u001b[0m \u001b[0;32melse\u001b[0m \u001b[0;34m'd->d'\u001b[0m\u001b[0;34m\u001b[0m\u001b[0m\n\u001b[1;32m    519\u001b[0m     \u001b[0mextobj\u001b[0m \u001b[0;34m=\u001b[0m \u001b[0mget_linalg_error_extobj\u001b[0m\u001b[0;34m(\u001b[0m\u001b[0m_raise_linalgerror_singular\u001b[0m\u001b[0;34m)\u001b[0m\u001b[0;34m\u001b[0m\u001b[0m\n\u001b[0;32m--> 520\u001b[0;31m     \u001b[0mainv\u001b[0m \u001b[0;34m=\u001b[0m \u001b[0m_umath_linalg\u001b[0m\u001b[0;34m.\u001b[0m\u001b[0minv\u001b[0m\u001b[0;34m(\u001b[0m\u001b[0ma\u001b[0m\u001b[0;34m,\u001b[0m \u001b[0msignature\u001b[0m\u001b[0;34m=\u001b[0m\u001b[0msignature\u001b[0m\u001b[0;34m,\u001b[0m \u001b[0mextobj\u001b[0m\u001b[0;34m=\u001b[0m\u001b[0mextobj\u001b[0m\u001b[0;34m)\u001b[0m\u001b[0;34m\u001b[0m\u001b[0m\n\u001b[0m\u001b[1;32m    521\u001b[0m     \u001b[0;32mreturn\u001b[0m \u001b[0mwrap\u001b[0m\u001b[0;34m(\u001b[0m\u001b[0mainv\u001b[0m\u001b[0;34m.\u001b[0m\u001b[0mastype\u001b[0m\u001b[0;34m(\u001b[0m\u001b[0mresult_t\u001b[0m\u001b[0;34m)\u001b[0m\u001b[0;34m)\u001b[0m\u001b[0;34m\u001b[0m\u001b[0m\n\u001b[1;32m    522\u001b[0m \u001b[0;34m\u001b[0m\u001b[0m\n",
        "\u001b[0;32m/Users/luc/Library/Enthought/Canopy_32bit/User/lib/python2.7/site-packages/numpy/linalg/linalg.pyc\u001b[0m in \u001b[0;36m_raise_linalgerror_singular\u001b[0;34m(err, flag)\u001b[0m\n\u001b[1;32m     88\u001b[0m \u001b[0;34m\u001b[0m\u001b[0m\n\u001b[1;32m     89\u001b[0m \u001b[0;32mdef\u001b[0m \u001b[0m_raise_linalgerror_singular\u001b[0m\u001b[0;34m(\u001b[0m\u001b[0merr\u001b[0m\u001b[0;34m,\u001b[0m \u001b[0mflag\u001b[0m\u001b[0;34m)\u001b[0m\u001b[0;34m:\u001b[0m\u001b[0;34m\u001b[0m\u001b[0m\n\u001b[0;32m---> 90\u001b[0;31m     \u001b[0;32mraise\u001b[0m \u001b[0mLinAlgError\u001b[0m\u001b[0;34m(\u001b[0m\u001b[0;34m\"Singular matrix\"\u001b[0m\u001b[0;34m)\u001b[0m\u001b[0;34m\u001b[0m\u001b[0m\n\u001b[0m\u001b[1;32m     91\u001b[0m \u001b[0;34m\u001b[0m\u001b[0m\n\u001b[1;32m     92\u001b[0m \u001b[0;32mdef\u001b[0m \u001b[0m_raise_linalgerror_nonposdef\u001b[0m\u001b[0;34m(\u001b[0m\u001b[0merr\u001b[0m\u001b[0;34m,\u001b[0m \u001b[0mflag\u001b[0m\u001b[0;34m)\u001b[0m\u001b[0;34m:\u001b[0m\u001b[0;34m\u001b[0m\u001b[0m\n",
        "\u001b[0;31mLinAlgError\u001b[0m: Singular matrix"
       ]
      }
     ],
     "prompt_number": 78
    },
    {
     "cell_type": "code",
     "collapsed": false,
     "input": [
      "print reg2.summary"
     ],
     "language": "python",
     "metadata": {},
     "outputs": [
      {
       "output_type": "stream",
       "stream": "stdout",
       "text": [
        "REGRESSION\n",
        "----------\n",
        "SUMMARY OF OUTPUT: SPATIAL TWO STAGE LEAST SQUARES\n",
        "--------------------------------------------------\n",
        "Data set            :         nat\n",
        "Weights matrix      :    natqueen\n",
        "Dependent Variable  :        HR60                Number of Observations:        3085\n",
        "Mean dependent var  :      4.5041                Number of Variables   :           7\n",
        "S.D. dependent var  :      5.6497                Degrees of Freedom    :        3078\n",
        "Pseudo R-squared    :      0.0020\n",
        "Spatial Pseudo R-squared:  0.0073\n",
        "\n",
        "------------------------------------------------------------------------------------\n",
        "            Variable     Coefficient       Std.Error     z-Statistic     Probability\n",
        "------------------------------------------------------------------------------------\n",
        "            CONSTANT     199.1226570       5.2170792      38.1674595       0.0000000\n",
        "                MA60      -5.8347138       0.1180252     -49.4361543       0.0000000\n",
        "                PS60      -1.0726590       0.6440000      -1.6656196       0.0957892\n",
        "                RD60     -21.6066325       0.1119426    -193.0153504       0.0000000\n",
        "                UE60    450413032489464.1250000             nan             nan             nan\n",
        "              W_HR60    -450413032489467.8750000             nan             nan             nan\n",
        "------------------------------------------------------------------------------------\n",
        "Instrumented: UE60, W_HR60\n",
        "Instruments: FH60, GI59, W2_MA60, W2_PS60, W2_RD60, W_MA60, W_PS60, W_RD60\n",
        "\n",
        "DIAGNOSTICS FOR SPATIAL DEPENDENCE\n",
        "TEST                           MI/DF       VALUE           PROB\n",
        "Anselin-Kelejian Test             1         197.243          0.0000\n",
        "================================ END OF REPORT =====================================\n"
       ]
      }
     ],
     "prompt_number": 77
    },
    {
     "cell_type": "markdown",
     "metadata": {},
     "source": [
      "two stage least squares with White standard errors and diagnostics for spatial dependence"
     ]
    },
    {
     "cell_type": "code",
     "collapsed": false,
     "input": [
      "reg1 = pysal.spreg.TSLS(y,x,yend,q,w=w,robust='white',spat_diag=True,\n",
      "                       name_y=y_name,name_x=x_names,name_yend=yend_names,\n",
      "                       name_q=q_names,name_w='nat_k6',\n",
      "                       name_ds='natregimes.shp')"
     ],
     "language": "python",
     "metadata": {},
     "outputs": [],
     "prompt_number": 49
    },
    {
     "cell_type": "code",
     "collapsed": false,
     "input": [
      "print reg1.summary"
     ],
     "language": "python",
     "metadata": {},
     "outputs": [
      {
       "output_type": "stream",
       "stream": "stdout",
       "text": [
        "REGRESSION\n",
        "----------\n",
        "SUMMARY OF OUTPUT: TWO STAGE LEAST SQUARES\n",
        "------------------------------------------\n",
        "Data set            :natregimes.shp\n",
        "Weights matrix      :      nat_k6\n",
        "Dependent Variable  :        HR60                Number of Observations:        3085\n",
        "Mean dependent var  :      4.5041                Number of Variables   :           5\n",
        "S.D. dependent var  :      5.6497                Degrees of Freedom    :        3080\n",
        "Pseudo R-squared    :      0.2044\n",
        "\n",
        "White Standard Errors\n",
        "------------------------------------------------------------------------------------\n",
        "            Variable     Coefficient       Std.Error     z-Statistic     Probability\n",
        "------------------------------------------------------------------------------------\n",
        "            CONSTANT      13.4510208       0.9883561      13.6094882       0.0000000\n",
        "                MA60      -0.2485547       0.0212910     -11.6741458       0.0000000\n",
        "                PS60       0.4393596       0.1330675       3.3017812       0.0009607\n",
        "                RD60       2.3711959       0.1093345      21.6875296       0.0000000\n",
        "                UE60      -0.3302298       0.1171311      -2.8193185       0.0048126\n",
        "------------------------------------------------------------------------------------\n",
        "Instrumented: UE60\n",
        "Instruments: FH60, FP59, GI59\n",
        "\n",
        "DIAGNOSTICS FOR SPATIAL DEPENDENCE\n",
        "TEST                           MI/DF       VALUE           PROB\n",
        "Anselin-Kelejian Test             1         277.956          0.0000\n",
        "================================ END OF REPORT =====================================\n"
       ]
      }
     ],
     "prompt_number": 50
    },
    {
     "cell_type": "markdown",
     "metadata": {},
     "source": [
      "two stage least squares with HAC standard errors and diagnostics for spatial dependence"
     ]
    },
    {
     "cell_type": "code",
     "collapsed": false,
     "input": [
      "reg2 = pysal.spreg.TSLS(y,x,yend,q,w=w,robust='hac',gwk=kw,spat_diag=True,\n",
      "                       name_y=y_name,name_x=x_names,name_yend=yend_names,\n",
      "                       name_q=q_names,name_w='nat_k6',name_gwk='nat_quadratic_12',\n",
      "                       name_ds='natregimes.shp')"
     ],
     "language": "python",
     "metadata": {},
     "outputs": [],
     "prompt_number": 47
    },
    {
     "cell_type": "code",
     "collapsed": false,
     "input": [
      "print reg2.summary"
     ],
     "language": "python",
     "metadata": {},
     "outputs": [
      {
       "output_type": "stream",
       "stream": "stdout",
       "text": [
        "REGRESSION\n",
        "----------\n",
        "SUMMARY OF OUTPUT: TWO STAGE LEAST SQUARES\n",
        "------------------------------------------\n",
        "Data set            :natregimes.shp\n",
        "Weights matrix      :      nat_k6\n",
        "Dependent Variable  :        HR60                Number of Observations:        3085\n",
        "Mean dependent var  :      4.5041                Number of Variables   :           5\n",
        "S.D. dependent var  :      5.6497                Degrees of Freedom    :        3080\n",
        "Pseudo R-squared    :      0.2044\n",
        "\n",
        "HAC Standard Errors; Kernel Weights: nat_quadratic_12\n",
        "------------------------------------------------------------------------------------\n",
        "            Variable     Coefficient       Std.Error     z-Statistic     Probability\n",
        "------------------------------------------------------------------------------------\n",
        "            CONSTANT      13.4510208       1.1336621      11.8651063       0.0000000\n",
        "                MA60      -0.2485547       0.0244053     -10.1844645       0.0000000\n",
        "                PS60       0.4393596       0.1461997       3.0052022       0.0026540\n",
        "                RD60       2.3711959       0.1308052      18.1276895       0.0000000\n",
        "                UE60      -0.3302298       0.1395031      -2.3671862       0.0179239\n",
        "------------------------------------------------------------------------------------\n",
        "Instrumented: UE60\n",
        "Instruments: FH60, FP59, GI59\n",
        "\n",
        "DIAGNOSTICS FOR SPATIAL DEPENDENCE\n",
        "TEST                           MI/DF       VALUE           PROB\n",
        "Anselin-Kelejian Test             1         277.956          0.0000\n",
        "================================ END OF REPORT =====================================\n"
       ]
      }
     ],
     "prompt_number": 48
    },
    {
     "cell_type": "code",
     "collapsed": false,
     "input": [],
     "language": "python",
     "metadata": {},
     "outputs": []
    }
   ],
   "metadata": {}
  }
 ]
}