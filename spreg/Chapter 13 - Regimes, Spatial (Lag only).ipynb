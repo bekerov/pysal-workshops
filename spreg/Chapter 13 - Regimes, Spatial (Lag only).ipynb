{
 "metadata": {
  "name": "",
  "signature": "sha256:0272c18a8cb37f29a254de2834db0c0deb9353446a70611e9c70e5bd6fbee258"
 },
 "nbformat": 3,
 "nbformat_minor": 0,
 "worksheets": [
  {
   "cells": [
    {
     "cell_type": "markdown",
     "metadata": {},
     "source": [
      "This notebook contains the PySAL/spreg code for Chapter 13 - Regimes, Spatial (Lag only)\n",
      "\n",
      "in Modern Spatial Econometrics in Practice: A Guide to GeoDa, GeoDaSpace and PySAL.\n",
      "\n",
      "by Luc Anselin and Sergio J. Rey\n",
      "\n",
      "(c) 2014 Luc Anselin and Sergio J. Rey, All Rights Reserved"
     ]
    },
    {
     "cell_type": "code",
     "collapsed": false,
     "input": [
      "__author__ = \"Luc Anselin luc.anselin@asu.edu\""
     ],
     "language": "python",
     "metadata": {},
     "outputs": [],
     "prompt_number": 1
    },
    {
     "cell_type": "markdown",
     "metadata": {},
     "source": [
      "##Regimes, Spatial - Spatial Lag##"
     ]
    },
    {
     "cell_type": "markdown",
     "metadata": {},
     "source": [
      "###Baltimore Example###"
     ]
    },
    {
     "cell_type": "markdown",
     "metadata": {},
     "source": [
      "Basic Setup: \n",
      "\n",
      "- import necessary modules (numpy and pysal)\n",
      "\n",
      "- create a data object\n",
      "\n",
      "- create variables as numpy arrays\n",
      "\n",
      "- create regime variable (as list)\n",
      "\n",
      "- create weights object(s) for diagnostics"
     ]
    },
    {
     "cell_type": "code",
     "collapsed": false,
     "input": [
      "import numpy as np\n",
      "import pysal"
     ],
     "language": "python",
     "metadata": {},
     "outputs": [],
     "prompt_number": 2
    },
    {
     "cell_type": "markdown",
     "metadata": {},
     "source": [
      "create data object"
     ]
    },
    {
     "cell_type": "code",
     "collapsed": false,
     "input": [
      "db = pysal.open('data/baltim.dbf','r')"
     ],
     "language": "python",
     "metadata": {},
     "outputs": [],
     "prompt_number": 3
    },
    {
     "cell_type": "markdown",
     "metadata": {},
     "source": [
      "read in dependent variable and turn into numpy array y"
     ]
    },
    {
     "cell_type": "code",
     "collapsed": false,
     "input": [
      "y_name = \"PRICE\"\n",
      "y = np.array([db.by_col(y_name)]).T"
     ],
     "language": "python",
     "metadata": {},
     "outputs": [],
     "prompt_number": 4
    },
    {
     "cell_type": "markdown",
     "metadata": {},
     "source": [
      "read in explanatory variables and turn into numpy array x"
     ]
    },
    {
     "cell_type": "code",
     "collapsed": false,
     "input": [
      "x_names = ['NROOM','NBATH','PATIO','FIREPL','AC','GAR','AGE','LOTSZ','SQFT']\n",
      "x = np.array([db.by_col(var) for var in x_names]).T"
     ],
     "language": "python",
     "metadata": {},
     "outputs": [],
     "prompt_number": 5
    },
    {
     "cell_type": "markdown",
     "metadata": {},
     "source": [
      "create k = 4 nearest neighbor weights and row-standardize"
     ]
    },
    {
     "cell_type": "code",
     "collapsed": false,
     "input": [
      "w = pysal.knnW_from_shapefile(\"data/baltim.shp\",k=4,idVariable='STATION')\n",
      "w.transform = 'r'"
     ],
     "language": "python",
     "metadata": {},
     "outputs": [],
     "prompt_number": 6
    },
    {
     "cell_type": "markdown",
     "metadata": {},
     "source": [
      "creating a regimes variable"
     ]
    },
    {
     "cell_type": "code",
     "collapsed": false,
     "input": [
      "rvar = \"CITCOU\"\n",
      "regimes = db.by_col(rvar)    # note: regimes is a list"
     ],
     "language": "python",
     "metadata": {},
     "outputs": [],
     "prompt_number": 7
    },
    {
     "cell_type": "markdown",
     "metadata": {},
     "source": [
      "##Spatial Lag Regimes (IV)##"
     ]
    },
    {
     "cell_type": "markdown",
     "metadata": {},
     "source": [
      "###Default setup (with spatial diagnostics)###"
     ]
    },
    {
     "cell_type": "markdown",
     "metadata": {},
     "source": [
      "**regime_lag_sep = False and regime_err_sep = True**\n",
      "\n",
      "one spatial lag coefficient and heteroskedasticity (White standard errors)"
     ]
    },
    {
     "cell_type": "code",
     "collapsed": false,
     "input": [
      "reg1 = pysal.spreg.GM_Lag_Regimes(y,x,regimes,w=w,spat_diag=True,name_y=y_name,\n",
      "name_x=x_names,name_regimes=rvar,name_w=\"baltim_k4\",name_ds=\"baltim.dbf\")"
     ],
     "language": "python",
     "metadata": {},
     "outputs": [],
     "prompt_number": 8
    },
    {
     "cell_type": "code",
     "collapsed": false,
     "input": [
      "print reg1.summary"
     ],
     "language": "python",
     "metadata": {},
     "outputs": [
      {
       "output_type": "stream",
       "stream": "stdout",
       "text": [
        "REGRESSION\n",
        "----------\n",
        "SUMMARY OF OUTPUT: SPATIAL TWO STAGE LEAST SQUARES - REGIMES\n",
        "------------------------------------------------------------\n",
        "Data set            :  baltim.dbf\n",
        "Weights matrix      :   baltim_k4\n",
        "Dependent Variable  :       PRICE                Number of Observations:         211\n",
        "Mean dependent var  :     44.3072                Number of Variables   :          21\n",
        "S.D. dependent var  :     23.6061                Degrees of Freedom    :         190\n",
        "Pseudo R-squared    :      0.7609\n",
        "Spatial Pseudo R-squared:  0.7511\n",
        "\n",
        "White Standard Errors\n",
        "------------------------------------------------------------------------------------\n",
        "            Variable     Coefficient       Std.Error     z-Statistic     Probability\n",
        "------------------------------------------------------------------------------------\n",
        "          0_CONSTANT      -7.9106111      11.1708343      -0.7081486       0.4788530\n",
        "                0_AC      11.4234750       2.8020744       4.0767921       0.0000457\n",
        "               0_AGE       0.0816839       0.0894822       0.9128510       0.3613209\n",
        "            0_FIREPL       4.2998763       4.3728174       0.9833194       0.3254502\n",
        "               0_GAR       0.0476798       2.8106893       0.0169637       0.9864655\n",
        "             0_LOTSZ       0.1097621       0.0494611       2.2191611       0.0264758\n",
        "             0_NBATH       4.3881697       2.3185401       1.8926434       0.0584053\n",
        "             0_NROOM       2.3011044       2.2304548       1.0316750       0.3022244\n",
        "             0_PATIO      11.7423138       5.2046237       2.2561312       0.0240624\n",
        "              0_SQFT      -0.1562391       0.3466908      -0.4506583       0.6522359\n",
        "          1_CONSTANT       4.5831279       8.3669344       0.5477667       0.5838521\n",
        "                1_AC       2.0822932       3.2396167       0.6427591       0.5203804\n",
        "               1_AGE      -0.1704200       0.1395672      -1.2210611       0.2220629\n",
        "            1_FIREPL       8.8750302       2.8130485       3.1549510       0.0016053\n",
        "               1_GAR       6.9821813       3.0976615       2.2540169       0.0241951\n",
        "             1_LOTSZ       0.0416225       0.0260264       1.5992443       0.1097663\n",
        "             1_NBATH      11.6968197       3.1909777       3.6655912       0.0002468\n",
        "             1_NROOM       0.9591934       1.5702331       0.6108605       0.5412919\n",
        "             1_PATIO       4.4690966       3.4572318       1.2926806       0.1961215\n",
        "              1_SQFT       0.1057631       0.2267528       0.4664246       0.6409116\n",
        "     _Global_W_PRICE       0.3462294       0.0972955       3.5585333       0.0003729\n",
        "------------------------------------------------------------------------------------\n",
        "Instrumented: _Global_W_PRICE\n",
        "Instruments: 0_W_AC, 0_W_AGE, 0_W_FIREPL, 0_W_GAR, 0_W_LOTSZ, 0_W_NBATH,\n",
        "             0_W_NROOM, 0_W_PATIO, 0_W_SQFT, 1_W_AC, 1_W_AGE, 1_W_FIREPL,\n",
        "             1_W_GAR, 1_W_LOTSZ, 1_W_NBATH, 1_W_NROOM, 1_W_PATIO, 1_W_SQFT\n",
        "Regimes variable: CITCOU\n",
        "\n",
        "DIAGNOSTICS FOR SPATIAL DEPENDENCE\n",
        "TEST                           MI/DF       VALUE           PROB\n",
        "Anselin-Kelejian Test             1           0.990          0.3197\n",
        "\n",
        "REGIMES DIAGNOSTICS - CHOW TEST\n",
        "                 VARIABLE        DF        VALUE           PROB\n",
        "                 CONSTANT         1           0.911           0.3398\n",
        "                       AC         1           4.977           0.0257\n",
        "                      AGE         1           2.324           0.1274\n",
        "                   FIREPL         1           0.743           0.3886\n",
        "                      GAR         1           2.741           0.0978\n",
        "                    LOTSZ         1           1.684           0.1944\n",
        "                    NBATH         1           3.560           0.0592\n",
        "                    NROOM         1           0.249           0.6176\n",
        "                    PATIO         1           1.375           0.2410\n",
        "                     SQFT         1           0.397           0.5289\n",
        "              Global test        10          38.732           0.0000\n",
        "================================ END OF REPORT =====================================\n"
       ]
      }
     ],
     "prompt_number": 9
    },
    {
     "cell_type": "markdown",
     "metadata": {},
     "source": [
      "###Constant Lag Coefficient, Homoskedasticity###"
     ]
    },
    {
     "cell_type": "markdown",
     "metadata": {},
     "source": [
      "**regime_lag_sep = False and regime_err_sep = False**"
     ]
    },
    {
     "cell_type": "code",
     "collapsed": false,
     "input": [
      "reg2 = pysal.spreg.GM_Lag_Regimes(y,x,regimes,w=w,spat_diag=True,\n",
      "regime_err_sep=False,name_y=y_name,\n",
      "name_x=x_names,name_regimes=rvar,name_w=\"baltim_k4\",name_ds=\"baltim.dbf\")"
     ],
     "language": "python",
     "metadata": {},
     "outputs": [],
     "prompt_number": 10
    },
    {
     "cell_type": "code",
     "collapsed": false,
     "input": [
      "print reg2.summary"
     ],
     "language": "python",
     "metadata": {},
     "outputs": [
      {
       "output_type": "stream",
       "stream": "stdout",
       "text": [
        "REGRESSION\n",
        "----------\n",
        "SUMMARY OF OUTPUT: SPATIAL TWO STAGE LEAST SQUARES - REGIMES\n",
        "------------------------------------------------------------\n",
        "Data set            :  baltim.dbf\n",
        "Weights matrix      :   baltim_k4\n",
        "Dependent Variable  :       PRICE                Number of Observations:         211\n",
        "Mean dependent var  :     44.3072                Number of Variables   :          21\n",
        "S.D. dependent var  :     23.6061                Degrees of Freedom    :         190\n",
        "Pseudo R-squared    :      0.7609\n",
        "Spatial Pseudo R-squared:  0.7511\n",
        "\n",
        "------------------------------------------------------------------------------------\n",
        "            Variable     Coefficient       Std.Error     z-Statistic     Probability\n",
        "------------------------------------------------------------------------------------\n",
        "          0_CONSTANT      -7.9106111       7.1357915      -1.1085822       0.2676105\n",
        "                0_AC      11.4234750       4.5180780       2.5283926       0.0114586\n",
        "               0_AGE       0.0816839       0.0653582       1.2497887       0.2113768\n",
        "            0_FIREPL       4.2998763       3.9468124       1.0894555       0.2759531\n",
        "               0_GAR       0.0476798       2.8256726       0.0168738       0.9865373\n",
        "             0_LOTSZ       0.1097621       0.0437727       2.5075473       0.0121572\n",
        "             0_NBATH       4.3881697       2.4002213       1.8282354       0.0675142\n",
        "             0_NROOM       2.3011044       1.4860482       1.5484722       0.1215086\n",
        "             0_PATIO      11.7423138       5.2152186       2.2515478       0.0243509\n",
        "              0_SQFT      -0.1562391       0.2430390      -0.6428561       0.5203175\n",
        "          1_CONSTANT       4.5831279       7.2825586       0.6293293       0.5291335\n",
        "                1_AC       2.0822932       2.7993648       0.7438449       0.4569703\n",
        "               1_AGE      -0.1704200       0.1140699      -1.4939970       0.1351764\n",
        "            1_FIREPL       8.8750302       2.8565945       3.1068569       0.0018909\n",
        "               1_GAR       6.9821813       2.0969242       3.3297252       0.0008693\n",
        "             1_LOTSZ       0.0416225       0.0158369       2.6281958       0.0085839\n",
        "             1_NBATH      11.6968197       2.4448284       4.7843111       0.0000017\n",
        "             1_NROOM       0.9591934       1.5392131       0.6231713       0.5331720\n",
        "             1_PATIO       4.4690966       2.9981975       1.4905945       0.1360680\n",
        "              1_SQFT       0.1057631       0.2070209       0.5108812       0.6094343\n",
        "     _Global_W_PRICE       0.3462294       0.0727891       4.7566105       0.0000020\n",
        "------------------------------------------------------------------------------------\n",
        "Instrumented: _Global_W_PRICE\n",
        "Instruments: 0_W_AC, 0_W_AGE, 0_W_FIREPL, 0_W_GAR, 0_W_LOTSZ, 0_W_NBATH,\n",
        "             0_W_NROOM, 0_W_PATIO, 0_W_SQFT, 1_W_AC, 1_W_AGE, 1_W_FIREPL,\n",
        "             1_W_GAR, 1_W_LOTSZ, 1_W_NBATH, 1_W_NROOM, 1_W_PATIO, 1_W_SQFT\n",
        "Regimes variable: CITCOU\n",
        "\n",
        "DIAGNOSTICS FOR SPATIAL DEPENDENCE\n",
        "TEST                           MI/DF       VALUE           PROB\n",
        "Anselin-Kelejian Test             1           0.990          0.3197\n",
        "\n",
        "REGIMES DIAGNOSTICS - CHOW TEST\n",
        "                 VARIABLE        DF        VALUE           PROB\n",
        "                 CONSTANT         1           1.687           0.1939\n",
        "                       AC         1           3.087           0.0789\n",
        "                      AGE         1           3.713           0.0540\n",
        "                   FIREPL         1           0.909           0.3403\n",
        "                      GAR         1           3.887           0.0487\n",
        "                    LOTSZ         1           2.170           0.1408\n",
        "                    NBATH         1           4.550           0.0329\n",
        "                    NROOM         1           0.386           0.5343\n",
        "                    PATIO         1           1.456           0.2275\n",
        "                     SQFT         1           0.673           0.4119\n",
        "              Global test        10          42.108           0.0000\n",
        "================================ END OF REPORT =====================================\n"
       ]
      }
     ],
     "prompt_number": 11
    },
    {
     "cell_type": "markdown",
     "metadata": {},
     "source": [
      "###Different Lag Coefficient - Heteroskedasticity###"
     ]
    },
    {
     "cell_type": "markdown",
     "metadata": {},
     "source": [
      "**regime_lag_sep = True and regime_err_sep = True**"
     ]
    },
    {
     "cell_type": "code",
     "collapsed": false,
     "input": [
      "reg3 = pysal.spreg.GM_Lag_Regimes(y,x,regimes,w=w,spat_diag=True,cores=False,\n",
      "regime_lag_sep=True,regime_err_sep=True,name_y=y_name,\n",
      "name_x=x_names,name_regimes=rvar,name_w=\"baltim_k4\",name_ds=\"baltim.dbf\")"
     ],
     "language": "python",
     "metadata": {},
     "outputs": [],
     "prompt_number": 12
    },
    {
     "cell_type": "code",
     "collapsed": false,
     "input": [
      "print reg3.summary"
     ],
     "language": "python",
     "metadata": {},
     "outputs": [
      {
       "output_type": "stream",
       "stream": "stdout",
       "text": [
        "REGRESSION\n",
        "----------\n",
        "\n",
        "SUMMARY OF OUTPUT: SPATIAL TWO STAGE LEAST SQUARES ESTIMATION - REGIME 0\n",
        "------------------------------------------------------------------------\n",
        "Data set            :  baltim.dbf\n",
        "Weights matrix      :   baltim_k4\n",
        "Dependent Variable  :     0_PRICE                Number of Observations:          83\n",
        "Mean dependent var  :     31.5127                Number of Variables   :          11\n",
        "S.D. dependent var  :     17.1598                Degrees of Freedom    :          72\n",
        "Pseudo R-squared    :      0.6074\n",
        "Spatial Pseudo R-squared:  0.6097\n",
        "\n",
        "------------------------------------------------------------------------------------\n",
        "            Variable     Coefficient       Std.Error     z-Statistic     Probability\n",
        "------------------------------------------------------------------------------------\n",
        "          0_CONSTANT       3.5115654       8.0774135       0.4347388       0.6637520\n",
        "                0_AC      12.1021336       4.2247793       2.8645599       0.0041759\n",
        "               0_AGE       0.0536825       0.0606711       0.8848118       0.3762581\n",
        "            0_FIREPL       6.7001786       3.7261107       1.7981695       0.0721502\n",
        "               0_GAR      -0.0778926       2.6314990      -0.0296001       0.9763860\n",
        "             0_LOTSZ       0.1466405       0.0436008       3.3632565       0.0007703\n",
        "             0_NBATH       4.5436972       2.2361256       2.0319508       0.0421586\n",
        "             0_NROOM       1.5804082       1.4165268       1.1156924       0.2645538\n",
        "             0_PATIO      11.2170868       4.8404878       2.3173464       0.0204849\n",
        "              0_SQFT      -0.1815703       0.2268049      -0.8005573       0.4233880\n",
        "           0_W_PRICE       0.1158306       0.1394951       0.8303560       0.4063376\n",
        "------------------------------------------------------------------------------------\n",
        "Instrumented: 0_W_PRICE\n",
        "Instruments: 0_W_AC, 0_W_AGE, 0_W_FIREPL, 0_W_GAR, 0_W_LOTSZ, 0_W_NBATH,\n",
        "             0_W_NROOM, 0_W_PATIO, 0_W_SQFT\n",
        "Regimes variable: CITCOU\n",
        "\n",
        "DIAGNOSTICS FOR SPATIAL DEPENDENCE\n",
        "TEST                           MI/DF       VALUE           PROB\n",
        "Anselin-Kelejian Test             1           0.473          0.4916\n",
        "----------\n",
        "\n",
        "SUMMARY OF OUTPUT: SPATIAL TWO STAGE LEAST SQUARES ESTIMATION - REGIME 1\n",
        "------------------------------------------------------------------------\n",
        "Data set            :  baltim.dbf\n",
        "Weights matrix      :   baltim_k4\n",
        "Dependent Variable  :     1_PRICE                Number of Observations:         128\n",
        "Mean dependent var  :     52.6036                Number of Variables   :          11\n",
        "S.D. dependent var  :     23.5574                Degrees of Freedom    :         117\n",
        "Pseudo R-squared    :      0.7521\n",
        "Spatial Pseudo R-squared:  0.7272\n",
        "\n",
        "------------------------------------------------------------------------------------\n",
        "            Variable     Coefficient       Std.Error     z-Statistic     Probability\n",
        "------------------------------------------------------------------------------------\n",
        "          1_CONSTANT       4.7259639       7.4124347       0.6375724       0.5237521\n",
        "                1_AC       1.1979943       2.8447583       0.4211234       0.6736650\n",
        "               1_AGE      -0.2141868       0.1151314      -1.8603687       0.0628334\n",
        "            1_FIREPL       8.3104564       2.9354673       2.8310506       0.0046395\n",
        "               1_GAR       7.3539573       2.1171974       3.4734396       0.0005138\n",
        "             1_LOTSZ       0.0444901       0.0160317       2.7751414       0.0055178\n",
        "             1_NBATH      11.0543992       2.5172425       4.3914716       0.0000113\n",
        "             1_NROOM       1.2158803       1.5564972       0.7811645       0.4347057\n",
        "             1_PATIO       3.8386833       3.0773523       1.2473981       0.2122516\n",
        "              1_SQFT       0.1181056       0.2099339       0.5625846       0.5737178\n",
        "           1_W_PRICE       0.3460901       0.0797089       4.3419243       0.0000141\n",
        "------------------------------------------------------------------------------------\n",
        "Instrumented: 1_W_PRICE\n",
        "Instruments: 1_W_AC, 1_W_AGE, 1_W_FIREPL, 1_W_GAR, 1_W_LOTSZ, 1_W_NBATH,\n",
        "             1_W_NROOM, 1_W_PATIO, 1_W_SQFT\n",
        "Regimes variable: CITCOU\n",
        "Warning: The regimes operation resulted in islands for regime 1.\n",
        "\n",
        "DIAGNOSTICS FOR SPATIAL DEPENDENCE\n",
        "TEST                           MI/DF       VALUE           PROB\n",
        "Anselin-Kelejian Test             1           0.042          0.8375\n",
        "\n",
        "REGIMES DIAGNOSTICS - CHOW TEST\n",
        "                 VARIABLE        DF        VALUE           PROB\n",
        "                 CONSTANT         1           0.012           0.9118\n",
        "                       AC         1           4.583           0.0323\n",
        "                      AGE         1           4.237           0.0396\n",
        "                   FIREPL         1           0.115           0.7343\n",
        "                      GAR         1           4.842           0.0278\n",
        "                    LOTSZ         1           4.835           0.0279\n",
        "                    NBATH         1           3.739           0.0532\n",
        "                    NROOM         1           0.030           0.8625\n",
        "                    PATIO         1           1.655           0.1983\n",
        "                     SQFT         1           0.940           0.3322\n",
        "                  W_PRICE         1           2.054           0.1518\n",
        "              Global test        11          41.450           0.0000\n",
        "================================ END OF REPORT =====================================\n"
       ]
      }
     ],
     "prompt_number": 13
    },
    {
     "cell_type": "markdown",
     "metadata": {},
     "source": [
      "##Hybrid models##"
     ]
    },
    {
     "cell_type": "markdown",
     "metadata": {},
     "source": [
      "###One Global Constant###"
     ]
    },
    {
     "cell_type": "markdown",
     "metadata": {},
     "source": [
      "**constant_regi='one'**"
     ]
    },
    {
     "cell_type": "code",
     "collapsed": false,
     "input": [
      "reg5 = pysal.spreg.GM_Lag_Regimes(y,x,regimes,w=w,spat_diag=True,\n",
      "constant_regi='one',cores=False,name_y=y_name,\n",
      "name_x=x_names,name_regimes=rvar,name_w=\"baltim_k4\",name_ds=\"baltim.dbf\")"
     ],
     "language": "python",
     "metadata": {},
     "outputs": [],
     "prompt_number": 14
    },
    {
     "cell_type": "code",
     "collapsed": false,
     "input": [
      "print reg5.summary"
     ],
     "language": "python",
     "metadata": {},
     "outputs": [
      {
       "output_type": "stream",
       "stream": "stdout",
       "text": [
        "REGRESSION\n",
        "----------\n",
        "SUMMARY OF OUTPUT: SPATIAL TWO STAGE LEAST SQUARES - REGIMES\n",
        "------------------------------------------------------------\n",
        "Data set            :  baltim.dbf\n",
        "Weights matrix      :   baltim_k4\n",
        "Dependent Variable  :       PRICE                Number of Observations:         211\n",
        "Mean dependent var  :     44.3072                Number of Variables   :          20\n",
        "S.D. dependent var  :     23.6061                Degrees of Freedom    :         191\n",
        "Pseudo R-squared    :      0.7595\n",
        "Spatial Pseudo R-squared:  0.7517\n",
        "\n",
        "White Standard Errors\n",
        "------------------------------------------------------------------------------------\n",
        "            Variable     Coefficient       Std.Error     z-Statistic     Probability\n",
        "------------------------------------------------------------------------------------\n",
        "                0_AC      10.8305600       2.6406091       4.1015386       0.0000410\n",
        "               0_AGE       0.0590564       0.0879669       0.6713475       0.5019992\n",
        "            0_FIREPL       5.2053119       4.1505682       1.2541203       0.2097983\n",
        "               0_GAR       0.8472330       2.4770299       0.3420358       0.7323239\n",
        "             0_LOTSZ       0.1155147       0.0474209       2.4359445       0.0148530\n",
        "             0_NBATH       4.0065534       2.1938432       1.8262715       0.0678094\n",
        "             0_NROOM       1.3214078       1.6595792       0.7962306       0.4258980\n",
        "             0_PATIO      12.0066771       5.1942737       2.3115218       0.0208040\n",
        "              0_SQFT      -0.1036572       0.3555538      -0.2915372       0.7706405\n",
        "                1_AC       2.1424985       3.2823072       0.6527416       0.5139229\n",
        "               1_AGE      -0.1317404       0.1375002      -0.9581109       0.3380068\n",
        "            1_FIREPL       8.8840193       2.8091612       3.1625168       0.0015641\n",
        "               1_GAR       6.7344280       3.0925902       2.1776012       0.0294357\n",
        "             1_LOTSZ       0.0416920       0.0259131       1.6089145       0.1076350\n",
        "             1_NBATH      12.3620424       3.1066516       3.9792176       0.0000691\n",
        "             1_NROOM       2.1219371       1.5752501       1.3470478       0.1779649\n",
        "             1_PATIO       4.2694651       3.4803283       1.2267420       0.2199196\n",
        "              1_SQFT       0.0669139       0.2241789       0.2984843       0.7653335\n",
        "    _Global_CONSTANT      -1.6461745       7.3712409      -0.2233239       0.8232834\n",
        "     _Global_W_PRICE       0.3252752       0.1002870       3.2434437       0.0011809\n",
        "------------------------------------------------------------------------------------\n",
        "Instrumented: _Global_W_PRICE\n",
        "Instruments: 0_W_AC, 0_W_AGE, 0_W_FIREPL, 0_W_GAR, 0_W_LOTSZ, 0_W_NBATH,\n",
        "             0_W_NROOM, 0_W_PATIO, 0_W_SQFT, 1_W_AC, 1_W_AGE, 1_W_FIREPL,\n",
        "             1_W_GAR, 1_W_LOTSZ, 1_W_NBATH, 1_W_NROOM, 1_W_PATIO, 1_W_SQFT\n",
        "Regimes variable: CITCOU\n",
        "\n",
        "DIAGNOSTICS FOR SPATIAL DEPENDENCE\n",
        "TEST                           MI/DF       VALUE           PROB\n",
        "Anselin-Kelejian Test             1           1.031          0.3098\n",
        "\n",
        "REGIMES DIAGNOSTICS - CHOW TEST\n",
        "                 VARIABLE        DF        VALUE           PROB\n",
        "                       AC         1           4.476           0.0344\n",
        "                      AGE         1           1.560           0.2117\n",
        "                   FIREPL         1           0.516           0.4726\n",
        "                      GAR         1           2.265           0.1323\n",
        "                    LOTSZ         1           2.155           0.1421\n",
        "                    NBATH         1           5.676           0.0172\n",
        "                    NROOM         1           0.248           0.6183\n",
        "                    PATIO         1           1.553           0.2127\n",
        "                     SQFT         1           0.167           0.6828\n",
        "              Global test         9          33.636           0.0001\n",
        "================================ END OF REPORT =====================================\n"
       ]
      }
     ],
     "prompt_number": 15
    },
    {
     "cell_type": "markdown",
     "metadata": {},
     "source": [
      "###Fixed and Varying Coefficients###"
     ]
    },
    {
     "cell_type": "markdown",
     "metadata": {},
     "source": [
      "**Hybrid models with cols2regi**"
     ]
    },
    {
     "cell_type": "markdown",
     "metadata": {},
     "source": [
      "set up the list with True for regimes, False for constant across regimes\n",
      "\n",
      "follow the order in which the x array has been created\n",
      "\n",
      "NROOM, NBATH, PATIO, FIREPL, AC, GAR, AGE, LOTSZ, SQFT\n",
      "\n",
      "only NBATH and PATIO vary"
     ]
    },
    {
     "cell_type": "code",
     "collapsed": false,
     "input": [
      "colsvari = [False,True,True,False,False,False,False,False,False]"
     ],
     "language": "python",
     "metadata": {},
     "outputs": [],
     "prompt_number": 16
    },
    {
     "cell_type": "code",
     "collapsed": false,
     "input": [
      "reg6 = pysal.spreg.GM_Lag_Regimes(y,x,regimes,w=w,spat_diag=True,\n",
      "constant_regi='one',cols2regi=colsvari,name_y=y_name,\n",
      "name_x=x_names,name_regimes=rvar,name_w=\"baltim_k4\",name_ds=\"baltim.dbf\")"
     ],
     "language": "python",
     "metadata": {},
     "outputs": [],
     "prompt_number": 17
    },
    {
     "cell_type": "code",
     "collapsed": false,
     "input": [
      "print reg6.summary"
     ],
     "language": "python",
     "metadata": {},
     "outputs": [
      {
       "output_type": "stream",
       "stream": "stdout",
       "text": [
        "REGRESSION\n",
        "----------\n",
        "SUMMARY OF OUTPUT: SPATIAL TWO STAGE LEAST SQUARES - REGIMES\n",
        "------------------------------------------------------------\n",
        "Data set            :  baltim.dbf\n",
        "Weights matrix      :   baltim_k4\n",
        "Dependent Variable  :       PRICE                Number of Observations:         211\n",
        "Mean dependent var  :     44.3072                Number of Variables   :          13\n",
        "S.D. dependent var  :     23.6061                Degrees of Freedom    :         198\n",
        "Pseudo R-squared    :      0.7459\n",
        "Spatial Pseudo R-squared:  0.7356\n",
        "\n",
        "White Standard Errors\n",
        "------------------------------------------------------------------------------------\n",
        "            Variable     Coefficient       Std.Error     z-Statistic     Probability\n",
        "------------------------------------------------------------------------------------\n",
        "             0_NBATH       4.1276399       1.7139905       2.4082047       0.0160312\n",
        "             0_PATIO      12.9459029       4.6526505       2.7824791       0.0053945\n",
        "             1_NBATH      11.4479575       2.5909710       4.4184044       0.0000099\n",
        "             1_PATIO       4.4631096       3.6356118       1.2276090       0.2195938\n",
        "    _Global_CONSTANT      -2.6226230       6.6995390      -0.3914632       0.6954549\n",
        "          _Global_AC       5.1196107       2.4862269       2.0591888       0.0394762\n",
        "         _Global_AGE       0.0054693       0.0895005       0.0611088       0.9512725\n",
        "      _Global_FIREPL       7.8224574       2.3564903       3.3195373       0.0009017\n",
        "         _Global_GAR       4.1538938       2.2214006       1.8699436       0.0614917\n",
        "       _Global_LOTSZ       0.0463523       0.0248417       1.8659085       0.0620542\n",
        "       _Global_NROOM       1.2195542       1.3069629       0.9331208       0.3507576\n",
        "        _Global_SQFT       0.0586837       0.2183021       0.2688189       0.7880690\n",
        "     _Global_W_PRICE       0.4021719       0.1120659       3.5887093       0.0003323\n",
        "------------------------------------------------------------------------------------\n",
        "Instrumented: _Global_W_PRICE\n",
        "Instruments: 0_W_AC, 0_W_AGE, 0_W_FIREPL, 0_W_GAR, 0_W_LOTSZ, 0_W_NBATH,\n",
        "             0_W_NROOM, 0_W_PATIO, 0_W_SQFT, 1_W_AC, 1_W_AGE, 1_W_FIREPL,\n",
        "             1_W_GAR, 1_W_LOTSZ, 1_W_NBATH, 1_W_NROOM, 1_W_PATIO, 1_W_SQFT\n",
        "Regimes variable: CITCOU\n",
        "\n",
        "DIAGNOSTICS FOR SPATIAL DEPENDENCE\n",
        "TEST                           MI/DF       VALUE           PROB\n",
        "Anselin-Kelejian Test             1           2.647          0.1038\n",
        "\n",
        "REGIMES DIAGNOSTICS - CHOW TEST\n",
        "                 VARIABLE        DF        VALUE           PROB\n",
        "                    NBATH         1          22.672           0.0000\n",
        "                    PATIO         1           2.192           0.1387\n",
        "              Global test         2          23.284           0.0000\n",
        "================================ END OF REPORT =====================================\n"
       ]
      }
     ],
     "prompt_number": 18
    },
    {
     "cell_type": "markdown",
     "metadata": {},
     "source": [
      "##Practice##"
     ]
    },
    {
     "cell_type": "markdown",
     "metadata": {},
     "source": [
      "As for Chapter 12, we will use the Boston example with CHAS as the regime variable. Experiment with the different options for fixed and varying spatial lag coefficient, and with hybrid specifications (some coefficients fixed, some varying)."
     ]
    },
    {
     "cell_type": "code",
     "collapsed": false,
     "input": [],
     "language": "python",
     "metadata": {},
     "outputs": []
    }
   ],
   "metadata": {}
  }
 ]
}