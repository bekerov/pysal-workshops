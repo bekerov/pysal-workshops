{
 "metadata": {
  "name": "",
  "signature": "sha256:0c910449eb72fbc8834e6519311365b48292eb40a724e9c6f4161452b795094d"
 },
 "nbformat": 3,
 "nbformat_minor": 0,
 "worksheets": [
  {
   "cells": [
    {
     "cell_type": "markdown",
     "metadata": {},
     "source": [
      "This notebook contains the PySAL/spreg code for Chapter 12 - Regimes, Non-Spatial (OLS only)\n",
      "\n",
      "in Modern Spatial Econometrics in Practice: A Guide to GeoDa, GeoDaSpace and PySAL.\n",
      "\n",
      "by Luc Anselin and Sergio J. Rey\n",
      "\n",
      "(c) 2014 Luc Anselin and Sergio J. Rey, All Rights Reserved"
     ]
    },
    {
     "cell_type": "code",
     "collapsed": false,
     "input": [
      "__author__ = \"Luc Anselin luc.anselin@asu.edu\""
     ],
     "language": "python",
     "metadata": {},
     "outputs": [],
     "prompt_number": 1
    },
    {
     "cell_type": "markdown",
     "metadata": {},
     "source": [
      "##Regimes - Non-spatial - OLS##"
     ]
    },
    {
     "cell_type": "markdown",
     "metadata": {},
     "source": [
      "###Baltimore Example###"
     ]
    },
    {
     "cell_type": "markdown",
     "metadata": {},
     "source": [
      "Basic Setup: \n",
      "\n",
      "- import necessary modules (numpy and pysal)\n",
      "\n",
      "- create a data object\n",
      "\n",
      "- create variables as numpy arrays\n",
      "\n",
      "- create regime variable (as list)\n",
      "\n",
      "- create weights object(s) for diagnostics"
     ]
    },
    {
     "cell_type": "code",
     "collapsed": false,
     "input": [
      "import numpy as np\n",
      "import pysal"
     ],
     "language": "python",
     "metadata": {},
     "outputs": [],
     "prompt_number": 1
    },
    {
     "cell_type": "markdown",
     "metadata": {},
     "source": [
      "create data object"
     ]
    },
    {
     "cell_type": "code",
     "collapsed": false,
     "input": [
      "db = pysal.open('data/baltim.dbf','r')"
     ],
     "language": "python",
     "metadata": {},
     "outputs": [],
     "prompt_number": 3
    },
    {
     "cell_type": "markdown",
     "metadata": {},
     "source": [
      "read in dependent variable and turn into numpy array y"
     ]
    },
    {
     "cell_type": "code",
     "collapsed": false,
     "input": [
      "y_name = \"PRICE\"\n",
      "y = np.array([db.by_col(y_name)]).T"
     ],
     "language": "python",
     "metadata": {},
     "outputs": [],
     "prompt_number": 4
    },
    {
     "cell_type": "markdown",
     "metadata": {},
     "source": [
      "read in explanatory variables and turn into numpy array x"
     ]
    },
    {
     "cell_type": "code",
     "collapsed": false,
     "input": [
      "x_names = ['NROOM','NBATH','PATIO','FIREPL','AC','GAR','AGE','LOTSZ','SQFT']\n",
      "x = np.array([db.by_col(var) for var in x_names]).T"
     ],
     "language": "python",
     "metadata": {},
     "outputs": [],
     "prompt_number": 5
    },
    {
     "cell_type": "markdown",
     "metadata": {},
     "source": [
      "create k = 4 nearest neighbor weights and row-standardize"
     ]
    },
    {
     "cell_type": "code",
     "collapsed": false,
     "input": [
      "w = pysal.knnW_from_shapefile(\"data/baltim.shp\",k=4,idVariable='STATION')\n",
      "w.transform = 'r'"
     ],
     "language": "python",
     "metadata": {},
     "outputs": [],
     "prompt_number": 6
    },
    {
     "cell_type": "markdown",
     "metadata": {},
     "source": [
      "use CITCOU as the regimes variable"
     ]
    },
    {
     "cell_type": "code",
     "collapsed": false,
     "input": [
      "rvar = \"CITCOU\""
     ],
     "language": "python",
     "metadata": {},
     "outputs": [],
     "prompt_number": 7
    },
    {
     "cell_type": "code",
     "collapsed": false,
     "input": [
      "regimes = db.by_col(rvar)    # note: regimes is a list"
     ],
     "language": "python",
     "metadata": {},
     "outputs": [],
     "prompt_number": 8
    },
    {
     "cell_type": "code",
     "collapsed": false,
     "input": [
      "regimes[:4]"
     ],
     "language": "python",
     "metadata": {},
     "outputs": [
      {
       "metadata": {},
       "output_type": "pyout",
       "prompt_number": 9,
       "text": [
        "[0.0, 1.0, 1.0, 1.0]"
       ]
      }
     ],
     "prompt_number": 9
    },
    {
     "cell_type": "markdown",
     "metadata": {},
     "source": [
      "##Regimes - Default Setting##"
     ]
    },
    {
     "cell_type": "markdown",
     "metadata": {},
     "source": [
      "**With spatial diagnostics**"
     ]
    },
    {
     "cell_type": "code",
     "collapsed": false,
     "input": [
      "reg1 = pysal.spreg.OLS_Regimes(y,x,regimes,w=w,spat_diag=True,moran=True,\n",
      "name_y=y_name,name_x=x_names,name_regimes=rvar,name_w=\"baltim_k4\",name_ds=\"baltim.dbf\")"
     ],
     "language": "python",
     "metadata": {},
     "outputs": [],
     "prompt_number": 19
    },
    {
     "cell_type": "markdown",
     "metadata": {},
     "source": [
      "Various regime settings"
     ]
    },
    {
     "cell_type": "markdown",
     "metadata": {},
     "source": [
      "Separate regressions by regime"
     ]
    },
    {
     "cell_type": "code",
     "collapsed": false,
     "input": [
      "reg1.regime_err_sep"
     ],
     "language": "python",
     "metadata": {},
     "outputs": [
      {
       "metadata": {},
       "output_type": "pyout",
       "prompt_number": 20,
       "text": [
        "True"
       ]
      }
     ],
     "prompt_number": 20
    },
    {
     "cell_type": "markdown",
     "metadata": {},
     "source": [
      "Different constant term in each regime"
     ]
    },
    {
     "cell_type": "code",
     "collapsed": false,
     "input": [
      "reg1.constant_regi"
     ],
     "language": "python",
     "metadata": {},
     "outputs": [
      {
       "metadata": {},
       "output_type": "pyout",
       "prompt_number": 21,
       "text": [
        "'many'"
       ]
      }
     ],
     "prompt_number": 21
    },
    {
     "cell_type": "markdown",
     "metadata": {},
     "source": [
      "All coefficients are varying"
     ]
    },
    {
     "cell_type": "code",
     "collapsed": false,
     "input": [
      "reg1.cols2regi"
     ],
     "language": "python",
     "metadata": {},
     "outputs": [
      {
       "metadata": {},
       "output_type": "pyout",
       "prompt_number": 22,
       "text": [
        "'all'"
       ]
      }
     ],
     "prompt_number": 22
    },
    {
     "cell_type": "markdown",
     "metadata": {},
     "source": [
      "Full output"
     ]
    },
    {
     "cell_type": "markdown",
     "metadata": {},
     "source": [
      "Note the warning for islands in each of the regimes"
     ]
    },
    {
     "cell_type": "code",
     "collapsed": false,
     "input": [
      "print reg1.summary"
     ],
     "language": "python",
     "metadata": {},
     "outputs": [
      {
       "output_type": "stream",
       "stream": "stdout",
       "text": [
        "REGRESSION\n",
        "----------\n",
        "\n",
        "SUMMARY OF OUTPUT: ORDINARY LEAST SQUARES ESTIMATION - REGIME 0\n",
        "---------------------------------------------------------------\n",
        "Data set            :  baltim.dbf\n",
        "Weights matrix      :   baltim_k4\n",
        "Dependent Variable  :     0_PRICE                Number of Observations:          83\n",
        "Mean dependent var  :     31.5127                Number of Variables   :          10\n",
        "S.D. dependent var  :     17.1598                Degrees of Freedom    :          73\n",
        "R-squared           :      0.6129\n",
        "Adjusted R-squared  :      0.5652\n",
        "Sum squared residual:    9347.239                F-statistic           :     12.8414\n",
        "Sigma-square        :     128.044                Prob(F-statistic)     :   5.381e-12\n",
        "S.E. of regression  :      11.316                Log likelihood        :    -313.818\n",
        "Sigma-square ML     :     112.617                Akaike info criterion :     647.635\n",
        "S.E of regression ML:     10.6121                Schwarz criterion     :     671.824\n",
        "\n",
        "------------------------------------------------------------------------------------\n",
        "            Variable     Coefficient       Std.Error     t-Statistic     Probability\n",
        "------------------------------------------------------------------------------------\n",
        "          0_CONSTANT       8.1507931       6.1763252       1.3196833       0.1910646\n",
        "                0_AC      12.5725010       4.4326770       2.8363224       0.0059022\n",
        "               0_AGE       0.0480813       0.0638384       0.7531721       0.4537687\n",
        "            0_FIREPL       7.4664199       3.8221968       1.9534368       0.0546005\n",
        "               0_GAR       0.1065636       2.7762058       0.0383846       0.9694858\n",
        "             0_LOTSZ       0.1623115       0.0416145       3.9003550       0.0002116\n",
        "             0_NBATH       4.3791320       2.3582245       1.8569615       0.0673509\n",
        "             0_NROOM       1.2632458       1.4442233       0.8746887       0.3846120\n",
        "             0_PATIO      11.0843832       5.1221666       2.1640029       0.0337364\n",
        "              0_SQFT      -0.1616281       0.2387840      -0.6768797       0.5006216\n",
        "------------------------------------------------------------------------------------\n",
        "Regimes variable: CITCOU\n",
        "Warning: The regimes operation resulted in islands for regime 0.\n",
        "\n",
        "REGRESSION DIAGNOSTICS\n",
        "MULTICOLLINEARITY CONDITION NUMBER           19.164\n",
        "\n",
        "TEST ON NORMALITY OF ERRORS\n",
        "TEST                             DF        VALUE           PROB\n",
        "Jarque-Bera                       2           3.619           0.1637\n",
        "\n",
        "DIAGNOSTICS FOR HETEROSKEDASTICITY\n",
        "RANDOM COEFFICIENTS\n",
        "TEST                             DF        VALUE           PROB\n",
        "Breusch-Pagan test                9          51.012           0.0000\n",
        "Koenker-Bassett test              9          36.345           0.0000\n",
        "\n",
        "DIAGNOSTICS FOR SPATIAL DEPENDENCE\n",
        "TEST                           MI/DF       VALUE           PROB\n",
        "Moran's I (error)             -0.0118         0.174           0.8619\n",
        "Lagrange Multiplier (lag)         1           0.003           0.9551\n",
        "Robust LM (lag)                   1           0.003           0.9533\n",
        "Lagrange Multiplier (error)       1           0.019           0.8900\n",
        "Robust LM (error)                 1           0.019           0.8893\n",
        "Lagrange Multiplier (SARMA)       2           0.023           0.9888\n",
        "\n",
        "----------\n",
        "\n",
        "SUMMARY OF OUTPUT: ORDINARY LEAST SQUARES ESTIMATION - REGIME 1\n",
        "---------------------------------------------------------------\n",
        "Data set            :  baltim.dbf\n",
        "Weights matrix      :   baltim_k4\n",
        "Dependent Variable  :     1_PRICE                Number of Observations:         128\n",
        "Mean dependent var  :     52.6036                Number of Variables   :          10\n",
        "S.D. dependent var  :     23.5574                Degrees of Freedom    :         118\n",
        "R-squared           :      0.6994\n",
        "Adjusted R-squared  :      0.6765\n",
        "Sum squared residual:   21182.550                F-statistic           :     30.5123\n",
        "Sigma-square        :     179.513                Prob(F-statistic)     :   7.144e-27\n",
        "S.E. of regression  :      13.398                Log likelihood        :    -508.594\n",
        "Sigma-square ML     :     165.489                Akaike info criterion :    1037.188\n",
        "S.E of regression ML:     12.8642                Schwarz criterion     :    1065.708\n",
        "\n",
        "------------------------------------------------------------------------------------\n",
        "            Variable     Coefficient       Std.Error     t-Statistic     Probability\n",
        "------------------------------------------------------------------------------------\n",
        "          1_CONSTANT      12.6503298       8.2390546       1.5354104       0.1273601\n",
        "                1_AC       1.9482904       3.2564121       0.5982935       0.5507907\n",
        "               1_AGE      -0.2262105       0.1319972      -1.7137522       0.0892000\n",
        "            1_FIREPL      11.4398872       3.2634124       3.5054985       0.0006452\n",
        "               1_GAR       9.0685246       2.3854458       3.8016058       0.0002291\n",
        "             1_LOTSZ       0.0473774       0.0183697       2.5791121       0.0111337\n",
        "             1_NBATH      13.6724100       2.8027934       4.8781370       0.0000034\n",
        "             1_NROOM       1.8803799       1.7763784       1.0585469       0.2919683\n",
        "             1_PATIO       6.8221115       3.4400819       1.9831247       0.0496762\n",
        "              1_SQFT       0.1398581       0.2406887       0.5810746       0.5622984\n",
        "------------------------------------------------------------------------------------\n",
        "Regimes variable: CITCOU\n",
        "Warning: The regimes operation resulted in islands for regime 1.\n",
        "\n",
        "REGRESSION DIAGNOSTICS\n",
        "MULTICOLLINEARITY CONDITION NUMBER           25.769\n",
        "\n",
        "TEST ON NORMALITY OF ERRORS\n",
        "TEST                             DF        VALUE           PROB\n",
        "Jarque-Bera                       2         124.888           0.0000\n",
        "\n",
        "DIAGNOSTICS FOR HETEROSKEDASTICITY\n",
        "RANDOM COEFFICIENTS\n",
        "TEST                             DF        VALUE           PROB\n",
        "Breusch-Pagan test                9          87.423           0.0000\n",
        "Koenker-Bassett test              9          27.036           0.0014\n",
        "\n",
        "DIAGNOSTICS FOR SPATIAL DEPENDENCE\n",
        "TEST                           MI/DF       VALUE           PROB\n",
        "Moran's I (error)              0.1795         3.116           0.0018\n",
        "Lagrange Multiplier (lag)         1          19.126           0.0000\n",
        "Robust LM (lag)                   1          11.439           0.0007\n",
        "Lagrange Multiplier (error)       1           7.728           0.0054\n",
        "Robust LM (error)                 1           0.041           0.8398\n",
        "Lagrange Multiplier (SARMA)       2          19.167           0.0001\n",
        "\n",
        "\n",
        "REGIMES DIAGNOSTICS - CHOW TEST\n",
        "                 VARIABLE        DF        VALUE           PROB\n",
        "                 CONSTANT         1           0.191           0.6621\n",
        "                       AC         1           3.731           0.0534\n",
        "                      AGE         1           3.500           0.0614\n",
        "                   FIREPL         1           0.625           0.4292\n",
        "                      GAR         1           5.995           0.0143\n",
        "                    LOTSZ         1           6.384           0.0115\n",
        "                    NBATH         1           6.437           0.0112\n",
        "                    NROOM         1           0.073           0.7875\n",
        "                    PATIO         1           0.477           0.4897\n",
        "                     SQFT         1           0.791           0.3739\n",
        "              Global test        10          68.382           0.0000\n",
        "\n",
        "DIAGNOSTICS FOR GLOBAL SPATIAL DEPENDENCE\n",
        "Residuals are treated as homoskedastic for the purpose of these tests\n",
        "TEST                           MI/DF       VALUE           PROB\n",
        "Moran's I (error)              0.0895         2.520           0.0118\n",
        "Lagrange Multiplier (lag)         1          15.683           0.0001\n",
        "Robust LM (lag)                   1          12.271           0.0005\n",
        "Lagrange Multiplier (error)       1           3.783           0.0518\n",
        "Robust LM (error)                 1           0.371           0.5426\n",
        "Lagrange Multiplier (SARMA)       2          16.054           0.0003\n",
        "\n",
        "================================ END OF REPORT =====================================\n"
       ]
      }
     ],
     "prompt_number": 23
    },
    {
     "cell_type": "markdown",
     "metadata": {},
     "source": [
      "###Regime Options###"
     ]
    },
    {
     "cell_type": "markdown",
     "metadata": {},
     "source": [
      "**regime_err_sep = False - forced homoskedasticity**"
     ]
    },
    {
     "cell_type": "markdown",
     "metadata": {},
     "source": [
      "using k nearest neighbor weights"
     ]
    },
    {
     "cell_type": "code",
     "collapsed": false,
     "input": [
      "reg2 = pysal.spreg.OLS_Regimes(y,x,regimes,w=w,spat_diag=True,moran=True,\n",
      "regime_err_sep=False,\n",
      "name_y=y_name,name_x=x_names,name_regimes=rvar,name_w=\"baltim_k4\",name_ds=\"baltim.dbf\")"
     ],
     "language": "python",
     "metadata": {},
     "outputs": [],
     "prompt_number": 24
    },
    {
     "cell_type": "code",
     "collapsed": false,
     "input": [
      "print reg2.summary"
     ],
     "language": "python",
     "metadata": {},
     "outputs": [
      {
       "output_type": "stream",
       "stream": "stdout",
       "text": [
        "REGRESSION\n",
        "----------\n",
        "SUMMARY OF OUTPUT: ORDINARY LEAST SQUARES - REGIMES\n",
        "---------------------------------------------------\n",
        "Data set            :  baltim.dbf\n",
        "Weights matrix      :   baltim_k4\n",
        "Dependent Variable  :       PRICE                Number of Observations:         211\n",
        "Mean dependent var  :     44.3072                Number of Variables   :          20\n",
        "S.D. dependent var  :     23.6061                Degrees of Freedom    :         191\n",
        "R-squared           :      0.7391\n",
        "Adjusted R-squared  :      0.7132\n",
        "Sum squared residual:   30529.788                F-statistic           :     28.4795\n",
        "Sigma-square        :     159.842                Prob(F-statistic)     :   1.261e-45\n",
        "S.E. of regression  :      12.643                Log likelihood        :    -824.216\n",
        "Sigma-square ML     :     144.691                Akaike info criterion :    1688.433\n",
        "S.E of regression ML:     12.0288                Schwarz criterion     :    1755.470\n",
        "\n",
        "------------------------------------------------------------------------------------\n",
        "            Variable     Coefficient       Std.Error     t-Statistic     Probability\n",
        "------------------------------------------------------------------------------------\n",
        "          0_CONSTANT       8.1507931       6.9007315       1.1811491       0.2390121\n",
        "                0_AC      12.5725010       4.9525749       2.5385786       0.0119281\n",
        "               0_AGE       0.0480813       0.0713259       0.6741077       0.5010579\n",
        "            0_FIREPL       7.4664199       4.2704930       1.7483742       0.0820059\n",
        "               0_GAR       0.1065636       3.1018203       0.0343552       0.9726298\n",
        "             0_LOTSZ       0.1623115       0.0464954       3.4909141       0.0005978\n",
        "             0_NBATH       4.3791320       2.6348149       1.6620264       0.0981478\n",
        "             0_NROOM       1.2632458       1.6136128       0.7828680       0.4346742\n",
        "             0_PATIO      11.0843832       5.7229332       1.9368360       0.0542408\n",
        "              0_SQFT      -0.1616281       0.2667904      -0.6058241       0.5453508\n",
        "          1_CONSTANT      12.6503298       7.7745361       1.6271492       0.1053540\n",
        "                1_AC       1.9482904       3.0728153       0.6340408       0.5268128\n",
        "               1_AGE      -0.2262105       0.1245552      -1.8161467       0.0709158\n",
        "            1_FIREPL      11.4398872       3.0794210       3.7149475       0.0002668\n",
        "               1_GAR       9.0685246       2.2509542       4.0287468       0.0000809\n",
        "             1_LOTSZ       0.0473774       0.0173340       2.7332108       0.0068612\n",
        "             1_NBATH      13.6724100       2.6447717       5.1695994       0.0000006\n",
        "             1_NROOM       1.8803799       1.6762261       1.1217937       0.2633585\n",
        "             1_PATIO       6.8221115       3.2461298       2.1016139       0.0368984\n",
        "              1_SQFT       0.1398581       0.2271186       0.6157931       0.5387642\n",
        "------------------------------------------------------------------------------------\n",
        "Regimes variable: CITCOU\n",
        "\n",
        "REGRESSION DIAGNOSTICS\n",
        "MULTICOLLINEARITY CONDITION NUMBER           25.769\n",
        "\n",
        "TEST ON NORMALITY OF ERRORS\n",
        "TEST                             DF        VALUE           PROB\n",
        "Jarque-Bera                       2         150.287           0.0000\n",
        "\n",
        "DIAGNOSTICS FOR HETEROSKEDASTICITY\n",
        "RANDOM COEFFICIENTS\n",
        "TEST                             DF        VALUE           PROB\n",
        "Breusch-Pagan test               19         148.626           0.0000\n",
        "Koenker-Bassett test             19          50.961           0.0001\n",
        "\n",
        "DIAGNOSTICS FOR SPATIAL DEPENDENCE\n",
        "TEST                           MI/DF       VALUE           PROB\n",
        "Moran's I (error)              0.0895         2.415           0.0157\n",
        "Lagrange Multiplier (lag)         1          15.683           0.0001\n",
        "Robust LM (lag)                   1          12.271           0.0005\n",
        "Lagrange Multiplier (error)       1           3.783           0.0518\n",
        "Robust LM (error)                 1           0.371           0.5426\n",
        "Lagrange Multiplier (SARMA)       2          16.054           0.0003\n",
        "\n",
        "\n",
        "REGIMES DIAGNOSTICS - CHOW TEST\n",
        "                 VARIABLE        DF        VALUE           PROB\n",
        "                 CONSTANT         1           0.187           0.6651\n",
        "                       AC         1           3.323           0.0683\n",
        "                      AGE         1           3.652           0.0560\n",
        "                   FIREPL         1           0.570           0.4504\n",
        "                      GAR         1           5.468           0.0194\n",
        "                    LOTSZ         1           5.365           0.0205\n",
        "                    NBATH         1           6.197           0.0128\n",
        "                    NROOM         1           0.070           0.7908\n",
        "                    PATIO         1           0.420           0.5171\n",
        "                     SQFT         1           0.740           0.3895\n",
        "              Global test        10          65.256           0.0000\n",
        "================================ END OF REPORT =====================================\n"
       ]
      }
     ],
     "prompt_number": 25
    },
    {
     "cell_type": "markdown",
     "metadata": {},
     "source": [
      "**constant_regi='one' -- one global constant**"
     ]
    },
    {
     "cell_type": "markdown",
     "metadata": {},
     "source": [
      "with regime_err_sep=True (default), i.e. groupwise heteroskedasticity"
     ]
    },
    {
     "cell_type": "code",
     "collapsed": false,
     "input": [
      "reg3 = pysal.spreg.OLS_Regimes(y,x,regimes,w=w,spat_diag=True,moran=True,\n",
      "constant_regi='one',name_y=y_name,name_x=x_names,\n",
      "name_regimes=rvar,name_w=\"baltim_k4\",name_ds=\"baltim.dbf\")"
     ],
     "language": "python",
     "metadata": {},
     "outputs": [],
     "prompt_number": 28
    },
    {
     "cell_type": "code",
     "collapsed": false,
     "input": [
      "print reg3.summary"
     ],
     "language": "python",
     "metadata": {},
     "outputs": [
      {
       "output_type": "stream",
       "stream": "stdout",
       "text": [
        "REGRESSION\n",
        "----------\n",
        "SUMMARY OF OUTPUT: ORDINARY LEAST SQUARES - REGIMES (Group-wise heteroskedasticity)\n",
        "-----------------------------------------------------------------------------------\n",
        "Data set            :  baltim.dbf\n",
        "Weights matrix      :   baltim_k4\n",
        "Dependent Variable  :       PRICE                Number of Observations:         211\n",
        "Mean dependent var  :     44.3072                Number of Variables   :          19\n",
        "S.D. dependent var  :     23.6061                Degrees of Freedom    :         192\n",
        "R-squared           :      0.7389\n",
        "Adjusted R-squared  :      0.7144\n",
        "\n",
        "------------------------------------------------------------------------------------\n",
        "            Variable     Coefficient       Std.Error     t-Statistic     Probability\n",
        "------------------------------------------------------------------------------------\n",
        "                0_AC      12.3629617       4.4713687       2.7649167       0.0062490\n",
        "               0_AGE       0.0415673       0.0630325       0.6594583       0.5103917\n",
        "            0_FIREPL       7.6921977       3.8431499       2.0015347       0.0467427\n",
        "               0_GAR       0.3583408       2.7571385       0.1299684       0.8967275\n",
        "             0_LOTSZ       0.1631251       0.0421765       3.8676805       0.0001504\n",
        "             0_NBATH       4.2585971       2.3765053       1.7919577       0.0747144\n",
        "             0_NROOM       0.9732288       1.3069987       0.7446287       0.4574066\n",
        "             0_PATIO      11.1805981       5.1917191       2.1535445       0.0325226\n",
        "              0_SQFT      -0.1448928       0.2392109      -0.6057117       0.5454216\n",
        "                1_AC       1.9770250       3.2167442       0.6146044       0.5395437\n",
        "               1_AGE      -0.2085209       0.1240057      -1.6815427       0.0942834\n",
        "            1_FIREPL      11.3783766       3.2212699       3.5322642       0.0005160\n",
        "               1_GAR       8.9112047       2.3293499       3.8256187       0.0001763\n",
        "             1_LOTSZ       0.0472602       0.0181477       2.6041969       0.0099293\n",
        "             1_NBATH      13.9019236       2.7192012       5.1125027       0.0000008\n",
        "             1_NROOM       2.3460009       1.3965542       1.6798496       0.0946130\n",
        "             1_PATIO       6.6782440       3.3829757       1.9740739       0.0498074\n",
        "              1_SQFT       0.1226495       0.2345384       0.5229399       0.6016190\n",
        "    _Global_CONSTANT       9.8248121       4.9652501       1.9787144       0.0492779\n",
        "------------------------------------------------------------------------------------\n",
        "Regimes variable: CITCOU\n",
        "Warning: Residuals treated as homoskedastic for the purpose of diagnostics.\n",
        "\n",
        "DIAGNOSTICS FOR SPATIAL DEPENDENCE\n",
        "TEST                           MI/DF       VALUE           PROB\n",
        "Moran's I (error)              0.0854         2.319           0.0204\n",
        "Lagrange Multiplier (lag)         1          15.213           0.0001\n",
        "Robust LM (lag)                   1          12.214           0.0005\n",
        "Lagrange Multiplier (error)       1           3.437           0.0638\n",
        "Robust LM (error)                 1           0.438           0.5081\n",
        "Lagrange Multiplier (SARMA)       2          15.651           0.0004\n",
        "\n",
        "\n",
        "REGIMES DIAGNOSTICS - CHOW TEST\n",
        "                 VARIABLE        DF        VALUE           PROB\n",
        "                       AC         1           3.563           0.0591\n",
        "                      AGE         1           3.446           0.0634\n",
        "                   FIREPL         1           0.543           0.4610\n",
        "                      GAR         1           5.799           0.0160\n",
        "                    LOTSZ         1           6.371           0.0116\n",
        "                    NBATH         1           7.292           0.0069\n",
        "                    NROOM         1           0.837           0.3602\n",
        "                    PATIO         1           0.530           0.4666\n",
        "                     SQFT         1           0.655           0.4182\n",
        "              Global test         9          68.189           0.0000\n",
        "================================ END OF REPORT =====================================\n"
       ]
      }
     ],
     "prompt_number": 29
    },
    {
     "cell_type": "markdown",
     "metadata": {},
     "source": [
      "with regime_err_sep=False, i.e. homoskedasticity"
     ]
    },
    {
     "cell_type": "code",
     "collapsed": false,
     "input": [
      "reg4 = pysal.spreg.OLS_Regimes(y,x,regimes,w=w,spat_diag=True,moran=True,\n",
      "constant_regi='one',regime_err_sep=False,name_y=y_name,name_x=x_names,\n",
      "name_regimes=rvar,name_w=\"baltim_k4\",name_ds=\"baltim.dbf\")"
     ],
     "language": "python",
     "metadata": {},
     "outputs": [],
     "prompt_number": 30
    },
    {
     "cell_type": "code",
     "collapsed": false,
     "input": [
      "print reg4.summary"
     ],
     "language": "python",
     "metadata": {},
     "outputs": [
      {
       "output_type": "stream",
       "stream": "stdout",
       "text": [
        "REGRESSION\n",
        "----------\n",
        "SUMMARY OF OUTPUT: ORDINARY LEAST SQUARES - REGIMES\n",
        "---------------------------------------------------\n",
        "Data set            :  baltim.dbf\n",
        "Weights matrix      :   baltim_k4\n",
        "Dependent Variable  :       PRICE                Number of Observations:         211\n",
        "Mean dependent var  :     44.3072                Number of Variables   :          19\n",
        "S.D. dependent var  :     23.6061                Degrees of Freedom    :         192\n",
        "R-squared           :      0.7389\n",
        "Adjusted R-squared  :      0.7144\n",
        "Sum squared residual:   30559.735                F-statistic           :     30.1790\n",
        "Sigma-square        :     159.165                Prob(F-statistic)     :   2.471e-46\n",
        "S.E. of regression  :      12.616                Log likelihood        :    -824.320\n",
        "Sigma-square ML     :     144.833                Akaike info criterion :    1686.640\n",
        "S.E of regression ML:     12.0347                Schwarz criterion     :    1750.325\n",
        "\n",
        "------------------------------------------------------------------------------------\n",
        "            Variable     Coefficient       Std.Error     t-Statistic     Probability\n",
        "------------------------------------------------------------------------------------\n",
        "                0_AC      12.3243111       4.9088481       2.5106320       0.0128770\n",
        "               0_AGE       0.0403658       0.0689162       0.5857223       0.5587500\n",
        "            0_FIREPL       7.7338436       4.2166122       1.8341368       0.0681815\n",
        "               0_GAR       0.4047824       3.0179268       0.1341260       0.8934435\n",
        "             0_LOTSZ       0.1632751       0.0463437       3.5231374       0.0005330\n",
        "             0_NBATH       4.2363638       2.6085499       1.6240302       0.1060099\n",
        "             0_NROOM       0.9197336       1.4019826       0.6560236       0.5125943\n",
        "             0_PATIO      11.1983454       5.7047622       1.9629820       0.0510926\n",
        "              0_SQFT      -0.1418060       0.2622738      -0.5406791       0.5893554\n",
        "                1_AC       1.9738848       3.0657377       0.6438531       0.5204390\n",
        "               1_AGE      -0.2104541       0.1188647      -1.7705350       0.0782249\n",
        "            1_FIREPL      11.3850987       3.0703001       3.7081388       0.0002732\n",
        "               1_GAR       8.9283971       2.2228329       4.0166749       0.0000846\n",
        "             1_LOTSZ       0.0472730       0.0172956       2.7332401       0.0068575\n",
        "             1_NBATH      13.8768417       2.5967453       5.3439364       0.0000003\n",
        "             1_NROOM       2.2951164       1.3724545       1.6722714       0.0960996\n",
        "             1_PATIO       6.6939663       3.2257527       2.0751641       0.0393043\n",
        "              1_SQFT       0.1245301       0.2238656       0.5562716       0.5786729\n",
        "    _Global_CONSTANT      10.1335935       5.1500216       1.9676798       0.0505449\n",
        "------------------------------------------------------------------------------------\n",
        "Regimes variable: CITCOU\n",
        "\n",
        "REGRESSION DIAGNOSTICS\n",
        "MULTICOLLINEARITY CONDITION NUMBER           22.573\n",
        "\n",
        "TEST ON NORMALITY OF ERRORS\n",
        "TEST                             DF        VALUE           PROB\n",
        "Jarque-Bera                       2         144.878           0.0000\n",
        "\n",
        "DIAGNOSTICS FOR HETEROSKEDASTICITY\n",
        "RANDOM COEFFICIENTS\n",
        "TEST                             DF        VALUE           PROB\n",
        "Breusch-Pagan test               18         147.991           0.0000\n",
        "Koenker-Bassett test             18          51.428           0.0000\n",
        "\n",
        "DIAGNOSTICS FOR SPATIAL DEPENDENCE\n",
        "TEST                           MI/DF       VALUE           PROB\n",
        "Moran's I (error)              0.0854         2.319           0.0204\n",
        "Lagrange Multiplier (lag)         1          15.009           0.0001\n",
        "Robust LM (lag)                   1          11.987           0.0005\n",
        "Lagrange Multiplier (error)       1           3.437           0.0638\n",
        "Robust LM (error)                 1           0.415           0.5195\n",
        "Lagrange Multiplier (SARMA)       2          15.424           0.0004\n",
        "\n",
        "\n",
        "REGIMES DIAGNOSTICS - CHOW TEST\n",
        "                 VARIABLE        DF        VALUE           PROB\n",
        "                       AC         1           3.205           0.0734\n",
        "                      AGE         1           3.577           0.0586\n",
        "                   FIREPL         1           0.493           0.4827\n",
        "                      GAR         1           5.340           0.0208\n",
        "                    LOTSZ         1           5.502           0.0190\n",
        "                    NBATH         1           7.021           0.0081\n",
        "                    NROOM         1           0.810           0.3681\n",
        "                    PATIO         1           0.474           0.4911\n",
        "                     SQFT         1           0.613           0.4336\n",
        "              Global test         9          65.345           0.0000\n",
        "================================ END OF REPORT =====================================\n"
       ]
      }
     ],
     "prompt_number": 31
    },
    {
     "cell_type": "markdown",
     "metadata": {},
     "source": [
      "**cols2regi -- specifying variable specific regimes**"
     ]
    },
    {
     "cell_type": "markdown",
     "metadata": {},
     "source": [
      "set up the list with True for regimes, False for constant across regimes\n",
      "\n",
      "follow the order in which the x array has been created\n",
      "\n",
      "NROOM, NBATH, PATIO, FIREPL, AC, GAR, AGE, LOTSZ, SQFT\n",
      "\n",
      "only NBATH, GAR and LOTSZ vary"
     ]
    },
    {
     "cell_type": "code",
     "collapsed": false,
     "input": [
      "colsvari = [False,True,False,False,False,True,False,True,False]"
     ],
     "language": "python",
     "metadata": {},
     "outputs": [],
     "prompt_number": 34
    },
    {
     "cell_type": "markdown",
     "metadata": {},
     "source": [
      "**must set constant_regi='one' to keep constant from varying across regimes - not included in cols2regi**"
     ]
    },
    {
     "cell_type": "markdown",
     "metadata": {},
     "source": [
      "with default regime_err_sep = True, k nearest neighbor weights"
     ]
    },
    {
     "cell_type": "code",
     "collapsed": false,
     "input": [
      "reg5 = pysal.spreg.OLS_Regimes(y,x,regimes,w=w,spat_diag=True,moran=True,\n",
      "constant_regi='one',cols2regi=colsvari,\n",
      "name_y=y_name,name_x=x_names,\n",
      "name_regimes=rvar,name_w=\"baltim_k4\",name_ds=\"baltim.dbf\")"
     ],
     "language": "python",
     "metadata": {},
     "outputs": [],
     "prompt_number": 35
    },
    {
     "cell_type": "code",
     "collapsed": false,
     "input": [
      "print reg5.summary"
     ],
     "language": "python",
     "metadata": {},
     "outputs": [
      {
       "output_type": "stream",
       "stream": "stdout",
       "text": [
        "REGRESSION\n",
        "----------\n",
        "SUMMARY OF OUTPUT: ORDINARY LEAST SQUARES - REGIMES (Group-wise heteroskedasticity)\n",
        "-----------------------------------------------------------------------------------\n",
        "Data set            :  baltim.dbf\n",
        "Weights matrix      :   baltim_k4\n",
        "Dependent Variable  :       PRICE                Number of Observations:         211\n",
        "Mean dependent var  :     44.3072                Number of Variables   :          13\n",
        "S.D. dependent var  :     23.6061                Degrees of Freedom    :         198\n",
        "R-squared           :      0.7288\n",
        "Adjusted R-squared  :      0.7123\n",
        "\n",
        "------------------------------------------------------------------------------------\n",
        "            Variable     Coefficient       Std.Error     t-Statistic     Probability\n",
        "------------------------------------------------------------------------------------\n",
        "               0_GAR      -0.5338910       2.7346384      -0.1952328       0.8454109\n",
        "             0_LOTSZ       0.1442208       0.0388247       3.7146643       0.0002646\n",
        "             0_NBATH       3.1935950       1.8607269       1.7163158       0.0876682\n",
        "               1_GAR       8.8076244       2.1915833       4.0188408       0.0000831\n",
        "             1_LOTSZ       0.0425182       0.0173812       2.4462143       0.0153096\n",
        "             1_NBATH      14.3810934       2.1949150       6.5520047       0.0000000\n",
        "    _Global_CONSTANT      10.9182891       4.8772065       2.2386358       0.0262928\n",
        "          _Global_AC       6.1789275       2.4375839       2.5348573       0.0120226\n",
        "         _Global_AGE      -0.0365910       0.0534059      -0.6851498       0.4940507\n",
        "      _Global_FIREPL      10.1857847       2.4360365       4.1812940       0.0000435\n",
        "       _Global_NROOM       1.3115815       1.1169156       1.1742888       0.2416898\n",
        "       _Global_PATIO       8.6281564       2.8072460       3.0735305       0.0024136\n",
        "        _Global_SQFT       0.0523376       0.1658904       0.3154953       0.7527179\n",
        "------------------------------------------------------------------------------------\n",
        "Regimes variable: CITCOU\n",
        "Warning: Residuals treated as homoskedastic for the purpose of diagnostics.\n",
        "\n",
        "DIAGNOSTICS FOR SPATIAL DEPENDENCE\n",
        "TEST                           MI/DF       VALUE           PROB\n",
        "Moran's I (error)              0.0842         2.225           0.0261\n",
        "Lagrange Multiplier (lag)         1          15.959           0.0001\n",
        "Robust LM (lag)                   1          13.216           0.0003\n",
        "Lagrange Multiplier (error)       1           3.343           0.0675\n",
        "Robust LM (error)                 1           0.600           0.4386\n",
        "Lagrange Multiplier (SARMA)       2          16.559           0.0003\n",
        "\n",
        "\n",
        "REGIMES DIAGNOSTICS - CHOW TEST\n",
        "                 VARIABLE        DF        VALUE           PROB\n",
        "                      GAR         1           7.364           0.0067\n",
        "                    LOTSZ         1           5.946           0.0147\n",
        "                    NBATH         1          37.809           0.0000\n",
        "              Global test         3          59.755           0.0000\n",
        "================================ END OF REPORT =====================================\n"
       ]
      }
     ],
     "prompt_number": 36
    },
    {
     "cell_type": "markdown",
     "metadata": {},
     "source": [
      "with regime_err_sep = False (homoskedasticity), k nearest neighbors"
     ]
    },
    {
     "cell_type": "code",
     "collapsed": false,
     "input": [
      "reg6 = pysal.spreg.OLS_Regimes(y,x,regimes,w=w,spat_diag=True,moran=True,\n",
      "constant_regi='one',cols2regi=colsvari,regime_err_sep=False,\n",
      "name_y=y_name,name_x=x_names,\n",
      "name_regimes=rvar,name_w=\"baltim_k4\",name_ds=\"baltim.dbf\")"
     ],
     "language": "python",
     "metadata": {},
     "outputs": [],
     "prompt_number": 37
    },
    {
     "cell_type": "code",
     "collapsed": false,
     "input": [
      "print reg6.summary"
     ],
     "language": "python",
     "metadata": {},
     "outputs": [
      {
       "output_type": "stream",
       "stream": "stdout",
       "text": [
        "REGRESSION\n",
        "----------\n",
        "SUMMARY OF OUTPUT: ORDINARY LEAST SQUARES - REGIMES\n",
        "---------------------------------------------------\n",
        "Data set            :  baltim.dbf\n",
        "Weights matrix      :   baltim_k4\n",
        "Dependent Variable  :       PRICE                Number of Observations:         211\n",
        "Mean dependent var  :     44.3072                Number of Variables   :          13\n",
        "S.D. dependent var  :     23.6061                Degrees of Freedom    :         198\n",
        "R-squared           :      0.7288\n",
        "Adjusted R-squared  :      0.7123\n",
        "Sum squared residual:   31739.937                F-statistic           :     44.3338\n",
        "Sigma-square        :     160.303                Prob(F-statistic)     :   1.532e-49\n",
        "S.E. of regression  :      12.661                Log likelihood        :    -828.317\n",
        "Sigma-square ML     :     150.426                Akaike info criterion :    1682.635\n",
        "S.E of regression ML:     12.2648                Schwarz criterion     :    1726.209\n",
        "\n",
        "------------------------------------------------------------------------------------\n",
        "            Variable     Coefficient       Std.Error     t-Statistic     Probability\n",
        "------------------------------------------------------------------------------------\n",
        "               0_GAR      -0.6329806       2.9769198      -0.2126294       0.8318348\n",
        "             0_LOTSZ       0.1416988       0.0421173       3.3643857       0.0009211\n",
        "             0_NBATH       3.1414902       1.9529611       1.6085780       0.1093020\n",
        "               1_GAR       8.7399064       2.1002731       4.1613191       0.0000472\n",
        "             1_LOTSZ       0.0425588       0.0166214       2.5604851       0.0111978\n",
        "             1_NBATH      14.2191980       2.1820910       6.5163178       0.0000000\n",
        "    _Global_CONSTANT      11.0645165       5.0453798       2.1929997       0.0294723\n",
        "          _Global_AC       5.6662011       2.4240823       2.3374623       0.0204140\n",
        "         _Global_AGE      -0.0488391       0.0563876      -0.8661322       0.3874660\n",
        "      _Global_FIREPL      10.5115191       2.4440989       4.3007749       0.0000267\n",
        "       _Global_NROOM       1.3482450       1.1497597       1.1726319       0.2423523\n",
        "       _Global_PATIO       8.3790398       2.7820285       3.0118454       0.0029353\n",
        "        _Global_SQFT       0.0734034       0.1685032       0.4356203       0.6635868\n",
        "------------------------------------------------------------------------------------\n",
        "Regimes variable: CITCOU\n",
        "\n",
        "REGRESSION DIAGNOSTICS\n",
        "MULTICOLLINEARITY CONDITION NUMBER           22.081\n",
        "\n",
        "TEST ON NORMALITY OF ERRORS\n",
        "TEST                             DF        VALUE           PROB\n",
        "Jarque-Bera                       2         179.995           0.0000\n",
        "\n",
        "DIAGNOSTICS FOR HETEROSKEDASTICITY\n",
        "RANDOM COEFFICIENTS\n",
        "TEST                             DF        VALUE           PROB\n",
        "Breusch-Pagan test               12         162.258           0.0000\n",
        "Koenker-Bassett test             12          51.857           0.0000\n",
        "\n",
        "DIAGNOSTICS FOR SPATIAL DEPENDENCE\n",
        "TEST                           MI/DF       VALUE           PROB\n",
        "Moran's I (error)              0.0840         2.220           0.0264\n",
        "Lagrange Multiplier (lag)         1          15.791           0.0001\n",
        "Robust LM (lag)                   1          13.047           0.0003\n",
        "Lagrange Multiplier (error)       1           3.325           0.0682\n",
        "Robust LM (error)                 1           0.581           0.4459\n",
        "Lagrange Multiplier (SARMA)       2          16.372           0.0003\n",
        "\n",
        "\n",
        "REGIMES DIAGNOSTICS - CHOW TEST\n",
        "                 VARIABLE        DF        VALUE           PROB\n",
        "                      GAR         1           6.859           0.0088\n",
        "                    LOTSZ         1           4.962           0.0259\n",
        "                    NBATH         1          35.148           0.0000\n",
        "              Global test         3          57.519           0.0000\n",
        "================================ END OF REPORT =====================================\n"
       ]
      }
     ],
     "prompt_number": 38
    },
    {
     "cell_type": "markdown",
     "metadata": {},
     "source": [
      "**default is constant varies across regimes**"
     ]
    },
    {
     "cell_type": "code",
     "collapsed": false,
     "input": [
      "reg7 = pysal.spreg.OLS_Regimes(y,x,regimes,w=w,spat_diag=True,moran=True,\n",
      "cols2regi=colsvari,\n",
      "name_y=y_name,name_x=x_names,\n",
      "name_regimes=rvar,name_w=\"baltim_k4\",name_ds=\"baltim.dbf\")"
     ],
     "language": "python",
     "metadata": {},
     "outputs": [],
     "prompt_number": 39
    },
    {
     "cell_type": "code",
     "collapsed": false,
     "input": [
      "print reg7.summary"
     ],
     "language": "python",
     "metadata": {},
     "outputs": [
      {
       "output_type": "stream",
       "stream": "stdout",
       "text": [
        "REGRESSION\n",
        "----------\n",
        "SUMMARY OF OUTPUT: ORDINARY LEAST SQUARES - REGIMES (Group-wise heteroskedasticity)\n",
        "-----------------------------------------------------------------------------------\n",
        "Data set            :  baltim.dbf\n",
        "Weights matrix      :   baltim_k4\n",
        "Dependent Variable  :       PRICE                Number of Observations:         211\n",
        "Mean dependent var  :     44.3072                Number of Variables   :          14\n",
        "S.D. dependent var  :     23.6061                Degrees of Freedom    :         197\n",
        "R-squared           :      0.7289\n",
        "Adjusted R-squared  :      0.7110\n",
        "\n",
        "------------------------------------------------------------------------------------\n",
        "            Variable     Coefficient       Std.Error     t-Statistic     Probability\n",
        "------------------------------------------------------------------------------------\n",
        "          0_CONSTANT      11.4001349       5.3053644       2.1487939       0.0328709\n",
        "               0_GAR      -0.5037883       2.7523302      -0.1830406       0.8549544\n",
        "             0_LOTSZ       0.1441176       0.0390178       3.6936367       0.0002863\n",
        "             0_NBATH       2.9233414       2.1945768       1.3320753       0.1843744\n",
        "          1_CONSTANT      10.2791300       5.6240112       1.8277222       0.0691040\n",
        "               1_GAR       8.7912487       2.1942467       4.0064997       0.0000873\n",
        "             1_LOTSZ       0.0428939       0.0174692       2.4553981       0.0149398\n",
        "             1_NBATH      14.6915880       2.5853633       5.6826009       0.0000000\n",
        "          _Global_AC       6.0650203       2.4776377       2.4479044       0.0152446\n",
        "         _Global_AGE      -0.0400820       0.0552525      -0.7254330       0.4690473\n",
        "      _Global_FIREPL      10.1648793       2.4460652       4.1556043       0.0000483\n",
        "       _Global_NROOM       1.3433861       1.1284255       1.1904960       0.2352841\n",
        "       _Global_PATIO       8.5584205       2.8253938       3.0291071       0.0027814\n",
        "        _Global_SQFT       0.0543615       0.1664689       0.3265568       0.7443498\n",
        "------------------------------------------------------------------------------------\n",
        "Regimes variable: CITCOU\n",
        "Warning: Residuals treated as homoskedastic for the purpose of diagnostics.\n",
        "\n",
        "DIAGNOSTICS FOR SPATIAL DEPENDENCE\n",
        "TEST                           MI/DF       VALUE           PROB\n",
        "Moran's I (error)              0.0829         2.223           0.0262\n",
        "Lagrange Multiplier (lag)         1          16.023           0.0001\n",
        "Robust LM (lag)                   1          13.440           0.0002\n",
        "Lagrange Multiplier (error)       1           3.241           0.0718\n",
        "Robust LM (error)                 1           0.658           0.4172\n",
        "Lagrange Multiplier (SARMA)       2          16.681           0.0002\n",
        "\n",
        "\n",
        "REGIMES DIAGNOSTICS - CHOW TEST\n",
        "                 VARIABLE        DF        VALUE           PROB\n",
        "                 CONSTANT         1           0.054           0.8160\n",
        "                      GAR         1           7.216           0.0072\n",
        "                    LOTSZ         1           5.830           0.0158\n",
        "                    NBATH         1          14.378           0.0001\n",
        "              Global test         4          59.478           0.0000\n",
        "================================ END OF REPORT =====================================\n"
       ]
      }
     ],
     "prompt_number": 40
    },
    {
     "cell_type": "markdown",
     "metadata": {},
     "source": [
      "##Practice##"
     ]
    },
    {
     "cell_type": "markdown",
     "metadata": {},
     "source": [
      "Use the Boston example (see Chapter 5 notebook) with CHAS as the regime variable. Experiment with the different options.\n",
      "For example, using the results of the Chow test in the default setup for OLS regimes, let only those coefficient vary\n",
      "that are significant in the individual Chow tests."
     ]
    },
    {
     "cell_type": "code",
     "collapsed": false,
     "input": [],
     "language": "python",
     "metadata": {},
     "outputs": []
    }
   ],
   "metadata": {}
  }
 ]
}