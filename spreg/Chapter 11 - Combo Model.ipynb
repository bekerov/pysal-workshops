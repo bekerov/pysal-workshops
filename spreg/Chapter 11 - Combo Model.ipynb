{
 "metadata": {
  "name": ""
 },
 "nbformat": 3,
 "nbformat_minor": 0,
 "worksheets": [
  {
   "cells": [
    {
     "cell_type": "markdown",
     "metadata": {},
     "source": [
      "This notebook contains the PySAL/spreg code for Chapter 11 - Combo Model\n",
      "\n",
      "in Modern Spatial Econometrics in Practice: A Guide to GeoDa, GeoDaSpace and PySAL.\n",
      "\n",
      "by Luc Anselin and Sergio J. Rey\n",
      "\n",
      "(c) 2014 Luc Anselin and Sergio J. Rey, All Rights Reserved"
     ]
    },
    {
     "cell_type": "code",
     "collapsed": false,
     "input": [
      "__author__ = \"Luc Anselin luc.anselin@asu.edu\""
     ],
     "language": "python",
     "metadata": {},
     "outputs": [],
     "prompt_number": 1
    },
    {
     "cell_type": "markdown",
     "metadata": {},
     "source": [
      "##Basic Regression Setup##"
     ]
    },
    {
     "cell_type": "markdown",
     "metadata": {},
     "source": [
      "###Exogenous Explanatory Variables Only###"
     ]
    },
    {
     "cell_type": "code",
     "collapsed": false,
     "input": [
      "import numpy as np\n",
      "import pysal"
     ],
     "language": "python",
     "metadata": {},
     "outputs": [],
     "prompt_number": 2
    },
    {
     "cell_type": "markdown",
     "metadata": {},
     "source": [
      "**Creating arrays for y and x for nat.dbf example data set**"
     ]
    },
    {
     "cell_type": "code",
     "collapsed": false,
     "input": [
      "db = pysal.open(pysal.examples.get_path('nat.dbf'),'r')\n",
      "y_name = \"HR60\"\n",
      "y = np.array([db.by_col(y_name)]).T\n",
      "x_names = [\"RD60\",\"PS60\",\"UE60\",\"DV60\",\"BLK60\"]\n",
      "x = np.array([db.by_col(var) for var in x_names]).T"
     ],
     "language": "python",
     "metadata": {},
     "outputs": [],
     "prompt_number": 3
    },
    {
     "cell_type": "markdown",
     "metadata": {},
     "source": [
      "###Exogenous and Endogenous Explanatory Variables###"
     ]
    },
    {
     "cell_type": "markdown",
     "metadata": {},
     "source": [
      "**Creating arrays for yend, q and xe (exogenous only)**"
     ]
    },
    {
     "cell_type": "code",
     "collapsed": false,
     "input": [
      "yend_names = [\"UE60\"]\n",
      "yend = np.array([db.by_col(var) for var in yend_names]).T\n",
      "q_names = [\"FH60\",\"FP59\",\"GI59\"]\n",
      "q = np.array([db.by_col(var) for var in q_names]).T\n",
      "xe_names = [\"RD60\",\"PS60\",\"DV60\",\"BLK60\"]\n",
      "xe = np.array([db.by_col(var) for var in xe_names]).T"
     ],
     "language": "python",
     "metadata": {},
     "outputs": [],
     "prompt_number": 4
    },
    {
     "cell_type": "markdown",
     "metadata": {},
     "source": [
      "###Spatial Weights###"
     ]
    },
    {
     "cell_type": "markdown",
     "metadata": {},
     "source": [
      "Reading in the weights file"
     ]
    },
    {
     "cell_type": "code",
     "collapsed": false,
     "input": [
      "galw = pysal.open(pysal.examples.get_path(\"nat_queen.gal\"),'r')\n",
      "w = galw.read()\n",
      "galw.close\n",
      "w.transform = 'r'"
     ],
     "language": "python",
     "metadata": {},
     "outputs": [],
     "prompt_number": 5
    },
    {
     "cell_type": "markdown",
     "metadata": {},
     "source": [
      "Alternatively, creating from scratch"
     ]
    },
    {
     "cell_type": "code",
     "collapsed": false,
     "input": [
      "w = pysal.queen_from_shapefile(pysal.examples.get_path(\"nat.shp\"),idVariable=\"FIPSNO\")\n",
      "w.transform = 'r'"
     ],
     "language": "python",
     "metadata": {},
     "outputs": [],
     "prompt_number": 6
    },
    {
     "cell_type": "markdown",
     "metadata": {},
     "source": [
      "##GM Combo##"
     ]
    },
    {
     "cell_type": "markdown",
     "metadata": {},
     "source": [
      "**Exogenous Only**"
     ]
    },
    {
     "cell_type": "code",
     "collapsed": false,
     "input": [
      "combo1 = pysal.spreg.GM_Combo(y,x,w=w,name_y=y_name,\n",
      "                       name_x=x_names,name_w=\"nat_queen\",\n",
      "                       name_ds=\"NAT\")"
     ],
     "language": "python",
     "metadata": {},
     "outputs": [],
     "prompt_number": 7
    },
    {
     "cell_type": "code",
     "collapsed": false,
     "input": [
      "dir(combo1)"
     ],
     "language": "python",
     "metadata": {},
     "outputs": [
      {
       "metadata": {},
       "output_type": "pyout",
       "prompt_number": 8,
       "text": [
        "['__doc__',\n",
        " '__init__',\n",
        " '__module__',\n",
        " '__summary',\n",
        " '_cache',\n",
        " 'betas',\n",
        " 'e_filtered',\n",
        " 'e_pred',\n",
        " 'k',\n",
        " 'mean_y',\n",
        " 'n',\n",
        " 'name_ds',\n",
        " 'name_h',\n",
        " 'name_q',\n",
        " 'name_w',\n",
        " 'name_x',\n",
        " 'name_y',\n",
        " 'name_yend',\n",
        " 'name_z',\n",
        " 'pr2',\n",
        " 'pr2_e',\n",
        " 'predy',\n",
        " 'predy_e',\n",
        " 'rho',\n",
        " 'sig2',\n",
        " 'std_err',\n",
        " 'std_y',\n",
        " 'summary',\n",
        " 'title',\n",
        " 'u',\n",
        " 'vm',\n",
        " 'x',\n",
        " 'y',\n",
        " 'yend',\n",
        " 'z',\n",
        " 'z_stat']"
       ]
      }
     ],
     "prompt_number": 8
    },
    {
     "cell_type": "markdown",
     "metadata": {},
     "source": [
      "The coefficient estimates"
     ]
    },
    {
     "cell_type": "code",
     "collapsed": false,
     "input": [
      "combo1.betas"
     ],
     "language": "python",
     "metadata": {},
     "outputs": [
      {
       "metadata": {},
       "output_type": "pyout",
       "prompt_number": 9,
       "text": [
        "array([[ 0.32411091],\n",
        "       [ 0.80866252],\n",
        "       [ 0.1056478 ],\n",
        "       [ 0.05279337],\n",
        "       [ 0.61577086],\n",
        "       [ 0.07096489],\n",
        "       [ 0.44950309],\n",
        "       [-0.1884266 ]])"
       ]
      }
     ],
     "prompt_number": 9
    },
    {
     "cell_type": "markdown",
     "metadata": {},
     "source": [
      "The spatial autoregressive (lag) coefficient"
     ]
    },
    {
     "cell_type": "code",
     "collapsed": false,
     "input": [
      "combo1.rho"
     ],
     "language": "python",
     "metadata": {},
     "outputs": [
      {
       "metadata": {},
       "output_type": "pyout",
       "prompt_number": 10,
       "text": [
        "array([ 0.44950309])"
       ]
      }
     ],
     "prompt_number": 10
    },
    {
     "cell_type": "code",
     "collapsed": false,
     "input": [
      "combo1.betas[-2][0]"
     ],
     "language": "python",
     "metadata": {},
     "outputs": [
      {
       "metadata": {},
       "output_type": "pyout",
       "prompt_number": 11,
       "text": [
        "0.44950309132644595"
       ]
      }
     ],
     "prompt_number": 11
    },
    {
     "cell_type": "markdown",
     "metadata": {},
     "source": [
      "The spatial autoregressive error coefficient"
     ]
    },
    {
     "cell_type": "code",
     "collapsed": false,
     "input": [
      "combo1.betas[-1][0]"
     ],
     "language": "python",
     "metadata": {},
     "outputs": [
      {
       "metadata": {},
       "output_type": "pyout",
       "prompt_number": 12,
       "text": [
        "-0.18842659813379251"
       ]
      }
     ],
     "prompt_number": 12
    },
    {
     "cell_type": "markdown",
     "metadata": {},
     "source": [
      "Full listing"
     ]
    },
    {
     "cell_type": "code",
     "collapsed": false,
     "input": [
      "print combo1.summary"
     ],
     "language": "python",
     "metadata": {},
     "outputs": [
      {
       "output_type": "stream",
       "stream": "stdout",
       "text": [
        "REGRESSION\n",
        "----------\n",
        "SUMMARY OF OUTPUT: SPATIALLY WEIGHTED TWO STAGE LEAST SQUARES\n",
        "-------------------------------------------------------------\n",
        "Data set            :         NAT\n",
        "Weights matrix      :   nat_queen\n",
        "Dependent Variable  :        HR60                Number of Observations:        3085\n",
        "Mean dependent var  :      4.5041                Number of Variables   :           7\n",
        "S.D. dependent var  :      5.6497                Degrees of Freedom    :        3078\n",
        "Pseudo R-squared    :      0.3333\n",
        "Spatial Pseudo R-squared:  0.2854\n",
        "\n",
        "------------------------------------------------------------------------------------\n",
        "            Variable     Coefficient       Std.Error     z-Statistic     Probability\n",
        "------------------------------------------------------------------------------------\n",
        "            CONSTANT       0.3241109       0.2492294       1.3004522       0.1934460\n",
        "               BLK60       0.0709649       0.0105437       6.7305432       0.0000000\n",
        "                DV60       0.6157709       0.0980317       6.2813471       0.0000000\n",
        "                PS60       0.1056478       0.0843697       1.2522008       0.2104967\n",
        "                RD60       0.8086625       0.1400977       5.7721323       0.0000000\n",
        "                UE60       0.0527934       0.0308956       1.7087671       0.0874941\n",
        "              W_HR60       0.4495031       0.0652376       6.8902409       0.0000000\n",
        "              lambda      -0.1884266    \n",
        "------------------------------------------------------------------------------------\n",
        "Instrumented: W_HR60\n",
        "Instruments: W_BLK60, W_DV60, W_PS60, W_RD60, W_UE60\n",
        "================================ END OF REPORT =====================================\n"
       ]
      }
     ],
     "prompt_number": 13
    },
    {
     "cell_type": "markdown",
     "metadata": {},
     "source": [
      "**Exogenous and Endogenous explanatory variables**"
     ]
    },
    {
     "cell_type": "code",
     "collapsed": false,
     "input": [
      "combo2 = pysal.spreg.GM_Combo(y,xe,yend=yend,q=q,w=w,\n",
      "                       name_y=y_name,name_x=xe_names,\n",
      "                       name_yend=yend_names,name_q=q_names,\n",
      "                       name_w=\"nat_queen\",name_ds=\"NAT\")"
     ],
     "language": "python",
     "metadata": {},
     "outputs": [],
     "prompt_number": 14
    },
    {
     "cell_type": "code",
     "collapsed": false,
     "input": [
      "print combo2.summary"
     ],
     "language": "python",
     "metadata": {},
     "outputs": [
      {
       "output_type": "stream",
       "stream": "stdout",
       "text": [
        "REGRESSION\n",
        "----------\n",
        "SUMMARY OF OUTPUT: SPATIALLY WEIGHTED TWO STAGE LEAST SQUARES\n",
        "-------------------------------------------------------------\n",
        "Data set            :         NAT\n",
        "Weights matrix      :   nat_queen\n",
        "Dependent Variable  :        HR60                Number of Observations:        3085\n",
        "Mean dependent var  :      4.5041                Number of Variables   :           7\n",
        "S.D. dependent var  :      5.6497                Degrees of Freedom    :        3078\n",
        "Pseudo R-squared    :      0.3328\n",
        "Spatial Pseudo R-squared:  0.2812\n",
        "\n",
        "------------------------------------------------------------------------------------\n",
        "            Variable     Coefficient       Std.Error     z-Statistic     Probability\n",
        "------------------------------------------------------------------------------------\n",
        "            CONSTANT      -0.0618162       0.3505032      -0.1763642       0.8600079\n",
        "               BLK60       0.0703360       0.0108268       6.4964399       0.0000000\n",
        "                DV60       0.5411868       0.1009337       5.3618036       0.0000001\n",
        "                PS60       0.0636171       0.0911780       0.6977245       0.4853495\n",
        "                RD60       0.6903681       0.1485215       4.6482704       0.0000033\n",
        "                UE60       0.1276860       0.0688647       1.8541563       0.0637168\n",
        "              W_HR60       0.4818021       0.0610440       7.8926964       0.0000000\n",
        "              lambda      -0.1901571    \n",
        "------------------------------------------------------------------------------------\n",
        "Instrumented: UE60, W_HR60\n",
        "Instruments: FH60, FP59, GI59, W_BLK60, W_DV60, W_FH60, W_FP59, W_GI59,\n",
        "             W_PS60, W_RD60\n",
        "================================ END OF REPORT =====================================\n"
       ]
      }
     ],
     "prompt_number": 15
    },
    {
     "cell_type": "markdown",
     "metadata": {},
     "source": [
      "##GM Combo with Homoskedastic Errors##"
     ]
    },
    {
     "cell_type": "markdown",
     "metadata": {},
     "source": [
      "**Exogenous only**"
     ]
    },
    {
     "cell_type": "code",
     "collapsed": false,
     "input": [
      "combo3 = pysal.spreg.GM_Combo_Hom(y,x,w=w,name_y=y_name,\n",
      "              name_x=x_names,name_w=\"nat_queen\",\n",
      "              name_ds=\"NAT\")"
     ],
     "language": "python",
     "metadata": {},
     "outputs": [],
     "prompt_number": 16
    },
    {
     "cell_type": "code",
     "collapsed": false,
     "input": [
      "dir(combo3)"
     ],
     "language": "python",
     "metadata": {},
     "outputs": [
      {
       "metadata": {},
       "output_type": "pyout",
       "prompt_number": 17,
       "text": [
        "['__doc__',\n",
        " '__init__',\n",
        " '__module__',\n",
        " '__summary',\n",
        " '_cache',\n",
        " 'betas',\n",
        " 'e_filtered',\n",
        " 'e_pred',\n",
        " 'h',\n",
        " 'hth',\n",
        " 'iter_stop',\n",
        " 'iteration',\n",
        " 'k',\n",
        " 'mean_y',\n",
        " 'n',\n",
        " 'name_ds',\n",
        " 'name_h',\n",
        " 'name_q',\n",
        " 'name_w',\n",
        " 'name_x',\n",
        " 'name_y',\n",
        " 'name_yend',\n",
        " 'name_z',\n",
        " 'pr2',\n",
        " 'pr2_e',\n",
        " 'predy',\n",
        " 'predy_e',\n",
        " 'q',\n",
        " 'rho',\n",
        " 'sig2',\n",
        " 'std_err',\n",
        " 'std_y',\n",
        " 'summary',\n",
        " 'title',\n",
        " 'u',\n",
        " 'vm',\n",
        " 'x',\n",
        " 'y',\n",
        " 'yend',\n",
        " 'z',\n",
        " 'z_stat']"
       ]
      }
     ],
     "prompt_number": 17
    },
    {
     "cell_type": "code",
     "collapsed": false,
     "input": [
      "print combo3.summary"
     ],
     "language": "python",
     "metadata": {},
     "outputs": [
      {
       "output_type": "stream",
       "stream": "stdout",
       "text": [
        "REGRESSION\n",
        "----------\n",
        "SUMMARY OF OUTPUT: SPATIALLY WEIGHTED TWO STAGE LEAST SQUARES (HOM)\n",
        "-------------------------------------------------------------------\n",
        "Data set            :         NAT\n",
        "Weights matrix      :   nat_queen\n",
        "Dependent Variable  :        HR60                Number of Observations:        3085\n",
        "Mean dependent var  :      4.5041                Number of Variables   :           7\n",
        "S.D. dependent var  :      5.6497                Degrees of Freedom    :        3078\n",
        "Pseudo R-squared    :      0.3333\n",
        "Spatial Pseudo R-squared:  0.2854\n",
        "N. of iterations    :           1\n",
        "\n",
        "------------------------------------------------------------------------------------\n",
        "            Variable     Coefficient       Std.Error     z-Statistic     Probability\n",
        "------------------------------------------------------------------------------------\n",
        "            CONSTANT       0.3239850       0.2364887       1.3699807       0.1706929\n",
        "               BLK60       0.0709563       0.0103216       6.8745561       0.0000000\n",
        "                DV60       0.6158838       0.0969425       6.3530825       0.0000000\n",
        "                PS60       0.1056035       0.0804090       1.3133301       0.1890717\n",
        "                RD60       0.8086410       0.1364000       5.9284534       0.0000000\n",
        "                UE60       0.0527400       0.0295573       1.7843270       0.0743705\n",
        "              W_HR60       0.4495694       0.0652271       6.8923719       0.0000000\n",
        "              lambda      -0.2729182       0.1021516      -2.6716980       0.0075469\n",
        "------------------------------------------------------------------------------------\n",
        "Instrumented: W_HR60\n",
        "Instruments: W_BLK60, W_DV60, W_PS60, W_RD60, W_UE60\n",
        "================================ END OF REPORT =====================================\n"
       ]
      }
     ],
     "prompt_number": 18
    },
    {
     "cell_type": "markdown",
     "metadata": {},
     "source": [
      "**Exogenous and Endogenous explanatory variables**"
     ]
    },
    {
     "cell_type": "code",
     "collapsed": false,
     "input": [
      "combo4 = pysal.spreg.GM_Combo_Hom(y,xe,yend=yend,\n",
      "                 q=q,w=w,name_y=y_name,name_x=xe_names,\n",
      "                 name_yend=yend_names,name_q=q_names,\n",
      "                 name_w=\"nat_queen\",name_ds=\"NAT\")"
     ],
     "language": "python",
     "metadata": {},
     "outputs": [],
     "prompt_number": 19
    },
    {
     "cell_type": "code",
     "collapsed": false,
     "input": [
      "print combo4.summary"
     ],
     "language": "python",
     "metadata": {},
     "outputs": [
      {
       "output_type": "stream",
       "stream": "stdout",
       "text": [
        "REGRESSION\n",
        "----------\n",
        "SUMMARY OF OUTPUT: SPATIALLY WEIGHTED TWO STAGE LEAST SQUARES (HOM)\n",
        "-------------------------------------------------------------------\n",
        "Data set            :         NAT\n",
        "Weights matrix      :   nat_queen\n",
        "Dependent Variable  :        HR60                Number of Observations:        3085\n",
        "Mean dependent var  :      4.5041                Number of Variables   :           7\n",
        "S.D. dependent var  :      5.6497                Degrees of Freedom    :        3078\n",
        "Pseudo R-squared    :      0.3328\n",
        "Spatial Pseudo R-squared:  0.2812\n",
        "N. of iterations    :           1\n",
        "\n",
        "------------------------------------------------------------------------------------\n",
        "            Variable     Coefficient       Std.Error     z-Statistic     Probability\n",
        "------------------------------------------------------------------------------------\n",
        "            CONSTANT      -0.0617938       0.3188267      -0.1938164       0.8463197\n",
        "               BLK60       0.0703134       0.0103875       6.7690271       0.0000000\n",
        "                DV60       0.5412369       0.0977580       5.5365000       0.0000000\n",
        "                PS60       0.0635952       0.0851447       0.7469065       0.4551200\n",
        "                RD60       0.6902893       0.1403672       4.9177379       0.0000009\n",
        "                UE60       0.1275722       0.0631550       2.0199859       0.0433848\n",
        "              W_HR60       0.4819608       0.0602250       8.0026721       0.0000000\n",
        "              lambda      -0.3104618       0.0989503      -3.1375537       0.0017036\n",
        "------------------------------------------------------------------------------------\n",
        "Instrumented: UE60, W_HR60\n",
        "Instruments: FH60, FP59, GI59, W_BLK60, W_DV60, W_FH60, W_FP59, W_GI59,\n",
        "             W_PS60, W_RD60\n",
        "================================ END OF REPORT =====================================\n"
       ]
      }
     ],
     "prompt_number": 20
    },
    {
     "cell_type": "markdown",
     "metadata": {},
     "source": [
      "##GM Combo with Heteroskedastic Errors##"
     ]
    },
    {
     "cell_type": "markdown",
     "metadata": {},
     "source": [
      "**Exogenous only**"
     ]
    },
    {
     "cell_type": "code",
     "collapsed": false,
     "input": [
      "combo5 = pysal.spreg.GM_Combo_Het(y,x,w=w,name_y=y_name,\n",
      "                    name_x=x_names,name_w=\"nat_queen\",\n",
      "                    name_ds=\"NAT\")"
     ],
     "language": "python",
     "metadata": {},
     "outputs": [],
     "prompt_number": 21
    },
    {
     "cell_type": "code",
     "collapsed": false,
     "input": [
      "print combo5.summary"
     ],
     "language": "python",
     "metadata": {},
     "outputs": [
      {
       "output_type": "stream",
       "stream": "stdout",
       "text": [
        "REGRESSION\n",
        "----------\n",
        "SUMMARY OF OUTPUT: SPATIALLY WEIGHTED TWO STAGE LEAST SQUARES (HET)\n",
        "-------------------------------------------------------------------\n",
        "Data set            :         NAT\n",
        "Weights matrix      :   nat_queen\n",
        "Dependent Variable  :        HR60                Number of Observations:        3085\n",
        "Mean dependent var  :      4.5041                Number of Variables   :           7\n",
        "S.D. dependent var  :      5.6497                Degrees of Freedom    :        3078\n",
        "Pseudo R-squared    :      0.3333\n",
        "Spatial Pseudo R-squared:  0.2853\n",
        "N. of iterations    :           1                Step1c computed       :          No\n",
        "\n",
        "------------------------------------------------------------------------------------\n",
        "            Variable     Coefficient       Std.Error     z-Statistic     Probability\n",
        "------------------------------------------------------------------------------------\n",
        "            CONSTANT       0.3264431       0.2256289       1.4468142       0.1479490\n",
        "               BLK60       0.0711234       0.0122398       5.8108400       0.0000000\n",
        "                DV60       0.6136830       0.1071702       5.7262456       0.0000000\n",
        "                PS60       0.1064660       0.1016379       1.0475035       0.2948674\n",
        "                RD60       0.8090534       0.1532549       5.2791348       0.0000001\n",
        "                UE60       0.0537745       0.0287134       1.8728001       0.0610960\n",
        "              W_HR60       0.4482870       0.0719587       6.2297823       0.0000000\n",
        "              lambda      -0.4383045       0.0979689      -4.4739149       0.0000077\n",
        "------------------------------------------------------------------------------------\n",
        "Instrumented: W_HR60\n",
        "Instruments: W_BLK60, W_DV60, W_PS60, W_RD60, W_UE60\n",
        "================================ END OF REPORT =====================================\n"
       ]
      }
     ],
     "prompt_number": 22
    },
    {
     "cell_type": "markdown",
     "metadata": {},
     "source": [
      "**Exogenous and Endogenous explanatory variables**"
     ]
    },
    {
     "cell_type": "code",
     "collapsed": false,
     "input": [
      "combo6 = pysal.spreg.GM_Combo_Het(y,xe,yend=yend,q=q,w=w,\n",
      "                       name_y=y_name,name_x=xe_names,\n",
      "                       name_yend=yend_names,name_q=q_names,\n",
      "                       name_w=\"nat_queen\",name_ds=\"NAT\")"
     ],
     "language": "python",
     "metadata": {},
     "outputs": [],
     "prompt_number": 23
    },
    {
     "cell_type": "code",
     "collapsed": false,
     "input": [
      "print combo6.summary"
     ],
     "language": "python",
     "metadata": {},
     "outputs": [
      {
       "output_type": "stream",
       "stream": "stdout",
       "text": [
        "REGRESSION\n",
        "----------\n",
        "SUMMARY OF OUTPUT: SPATIALLY WEIGHTED TWO STAGE LEAST SQUARES (HET)\n",
        "-------------------------------------------------------------------\n",
        "Data set            :         NAT\n",
        "Weights matrix      :   nat_queen\n",
        "Dependent Variable  :        HR60                Number of Observations:        3085\n",
        "Mean dependent var  :      4.5041                Number of Variables   :           7\n",
        "S.D. dependent var  :      5.6497                Degrees of Freedom    :        3078\n",
        "Pseudo R-squared    :      0.3328\n",
        "Spatial Pseudo R-squared:  0.2810\n",
        "N. of iterations    :           1                Step1c computed       :          No\n",
        "\n",
        "------------------------------------------------------------------------------------\n",
        "            Variable     Coefficient       Std.Error     z-Statistic     Probability\n",
        "------------------------------------------------------------------------------------\n",
        "            CONSTANT      -0.0622402       0.3447555      -0.1805344       0.8567330\n",
        "               BLK60       0.0707237       0.0111402       6.3485286       0.0000000\n",
        "                DV60       0.5402806       0.1044551       5.1723732       0.0000002\n",
        "                PS60       0.0639946       0.0894662       0.7152939       0.4744275\n",
        "                RD60       0.6916849       0.1395608       4.9561544       0.0000007\n",
        "                UE60       0.1296600       0.0692818       1.8714876       0.0612775\n",
        "              W_HR60       0.4790831       0.0645823       7.4181827       0.0000000\n",
        "              lambda      -0.4644452       0.0926202      -5.0145115       0.0000005\n",
        "------------------------------------------------------------------------------------\n",
        "Instrumented: UE60, W_HR60\n",
        "Instruments: FH60, FP59, GI59, W_BLK60, W_DV60, W_FH60, W_FP59, W_GI59,\n",
        "             W_PS60, W_RD60\n",
        "================================ END OF REPORT =====================================\n"
       ]
      }
     ],
     "prompt_number": 24
    }
   ],
   "metadata": {}
  }
 ]
}