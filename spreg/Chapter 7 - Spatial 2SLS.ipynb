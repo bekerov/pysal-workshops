{
 "metadata": {
  "name": "",
  "signature": "sha256:7240ed2475b412586d60fa069baef468e9cdedd3d869a1b95748809c2c122089"
 },
 "nbformat": 3,
 "nbformat_minor": 0,
 "worksheets": [
  {
   "cells": [
    {
     "cell_type": "markdown",
     "metadata": {},
     "source": [
      "This notebook contains the PySAL/spreg code for Chapter 7 - Spatial 2SLS \n",
      "\n",
      "in\n",
      "Modern Spatial Econometrics in Practice: A Guide to GeoDa, GeoDaSpace and PySAL.\n",
      "\n",
      "by Luc Anselin and Sergio J. Rey\n",
      "\n",
      "(c) 2014 Luc Anselin and Sergio J. Rey, All Rights Reserved"
     ]
    },
    {
     "cell_type": "code",
     "collapsed": false,
     "input": [
      "__author__ = \"Luc Anselin luc.anselin@asu.edu\""
     ],
     "language": "python",
     "metadata": {},
     "outputs": [],
     "prompt_number": 1
    },
    {
     "cell_type": "markdown",
     "metadata": {},
     "source": [
      "##Basic Regression Setup##"
     ]
    },
    {
     "cell_type": "markdown",
     "metadata": {},
     "source": [
      "##Spatial Lag without Endogenous Variables##"
     ]
    },
    {
     "cell_type": "markdown",
     "metadata": {},
     "source": [
      "**Creating arrays for y and x using the Baltimore example - see also Chapter 5 Notebook**"
     ]
    },
    {
     "cell_type": "markdown",
     "metadata": {},
     "source": [
      "Preliminaries, import **numpy** and **pysal**"
     ]
    },
    {
     "cell_type": "code",
     "collapsed": false,
     "input": [
      "import numpy as np\n",
      "import pysal"
     ],
     "language": "python",
     "metadata": {},
     "outputs": [],
     "prompt_number": 2
    },
    {
     "cell_type": "markdown",
     "metadata": {},
     "source": [
      "the **baltimore** sample data set"
     ]
    },
    {
     "cell_type": "code",
     "collapsed": false,
     "input": [
      "db = pysal.open('data/baltim.dbf','r')\n",
      "y_name = \"PRICE\"\n",
      "y = np.array([db.by_col(y_name)]).T\n",
      "x_names = ['NROOM','NBATH','PATIO','FIREPL','AC','GAR','AGE',\n",
      "           'LOTSZ','SQFT']\n",
      "x = np.array([db.by_col(var) for var in x_names]).T"
     ],
     "language": "python",
     "metadata": {},
     "outputs": [],
     "prompt_number": 3
    },
    {
     "cell_type": "markdown",
     "metadata": {},
     "source": [
      "model weights - k nearest neighbors with k=4"
     ]
    },
    {
     "cell_type": "code",
     "collapsed": false,
     "input": [
      "w = pysal.knnW_from_shapefile('data/baltim.shp',\n",
      "                                k=4,idVariable='STATION')\n",
      "w.transform = 'r'"
     ],
     "language": "python",
     "metadata": {},
     "outputs": [],
     "prompt_number": 30
    },
    {
     "cell_type": "markdown",
     "metadata": {},
     "source": [
      "kernel weights - triangular with k=12"
     ]
    },
    {
     "cell_type": "code",
     "collapsed": false,
     "input": [
      "kw12 = pysal.adaptive_kernelW_from_shapefile('data/baltim.shp',\n",
      "                                             k=12,diagonal=True,idVariable='STATION')"
     ],
     "language": "python",
     "metadata": {},
     "outputs": [],
     "prompt_number": 31
    },
    {
     "cell_type": "markdown",
     "metadata": {},
     "source": [
      "##Basic Spatial 2SLS##"
     ]
    },
    {
     "cell_type": "markdown",
     "metadata": {},
     "source": [
      "default settings"
     ]
    },
    {
     "cell_type": "code",
     "collapsed": false,
     "input": [
      "reg1 = pysal.spreg.GM_Lag(y,x,w=w,name_y=y_name,name_x=x_names,\n",
      "                          name_w='baltim_k4',name_ds='baltim')"
     ],
     "language": "python",
     "metadata": {},
     "outputs": [],
     "prompt_number": 7
    },
    {
     "cell_type": "markdown",
     "metadata": {},
     "source": [
      "coefficients in the order of variables in **x_names** - last one is spatial autoregressive coefficient"
     ]
    },
    {
     "cell_type": "code",
     "collapsed": false,
     "input": [
      "reg1.betas"
     ],
     "language": "python",
     "metadata": {},
     "outputs": [
      {
       "metadata": {},
       "output_type": "pyout",
       "prompt_number": 6,
       "text": [
        "array([[ 1.32765782],\n",
        "       [ 0.88946746],\n",
        "       [ 5.60361648],\n",
        "       [ 7.07098446],\n",
        "       [ 7.15528549],\n",
        "       [ 6.47909448],\n",
        "       [ 3.67515267],\n",
        "       [-0.09426859],\n",
        "       [ 0.0674761 ],\n",
        "       [ 0.07505512],\n",
        "       [ 0.47805226]])"
       ]
      }
     ],
     "prompt_number": 6
    },
    {
     "cell_type": "code",
     "collapsed": false,
     "input": [
      "print reg1.summary"
     ],
     "language": "python",
     "metadata": {},
     "outputs": [
      {
       "output_type": "stream",
       "stream": "stdout",
       "text": [
        "REGRESSION\n",
        "----------\n",
        "SUMMARY OF OUTPUT: SPATIAL TWO STAGE LEAST SQUARES\n",
        "--------------------------------------------------\n",
        "Data set            :      baltim\n",
        "Weights matrix      :   baltim_k4\n",
        "Dependent Variable  :       PRICE                Number of Observations:         211\n",
        "Mean dependent var  :     44.3072                Number of Variables   :          11\n",
        "S.D. dependent var  :     23.6061                Degrees of Freedom    :         200\n",
        "Pseudo R-squared    :      0.7080\n",
        "Spatial Pseudo R-squared:  0.6868\n",
        "\n",
        "------------------------------------------------------------------------------------\n",
        "            Variable     Coefficient       Std.Error     z-Statistic     Probability\n",
        "------------------------------------------------------------------------------------\n",
        "            CONSTANT       1.1758330       5.7402917       0.2048385       0.8376983\n",
        "                  AC       6.4313177       2.4191155       2.6585410       0.0078480\n",
        "                 AGE      -0.0924594       0.0543360      -1.7016213       0.0888264\n",
        "              FIREPL       7.0187459       2.5164274       2.7891708       0.0052843\n",
        "                 GAR       3.7178102       1.7693095       2.1012775       0.0356166\n",
        "               LOTSZ       0.0670745       0.0153366       4.3734849       0.0000122\n",
        "               NBATH       5.5262249       1.7995640       3.0708688       0.0021344\n",
        "               NROOM       0.8762459       1.0992925       0.7970998       0.4253931\n",
        "               PATIO       6.8687877       2.8313870       2.4259445       0.0152686\n",
        "                SQFT       0.0790729       0.1693687       0.4668683       0.6405941\n",
        "             W_PRICE       0.4846195       0.0735894       6.5854513       0.0000000\n",
        "------------------------------------------------------------------------------------\n",
        "Instrumented: W_PRICE\n",
        "Instruments: W_AC, W_AGE, W_FIREPL, W_GAR, W_LOTSZ, W_NBATH, W_NROOM,\n",
        "             W_PATIO, W_SQFT\n",
        "================================ END OF REPORT =====================================\n"
       ]
      }
     ],
     "prompt_number": 8
    },
    {
     "cell_type": "markdown",
     "metadata": {},
     "source": [
      "using second order spatial lags for the instruments, set **w_lags = 2**"
     ]
    },
    {
     "cell_type": "code",
     "collapsed": false,
     "input": [
      "reg2 = pysal.spreg.GM_Lag(y,x,w=w,w_lags=2,name_y=y_name,\n",
      "                          name_x=x_names,name_w='baltim_k4',\n",
      "                          name_ds='baltim')"
     ],
     "language": "python",
     "metadata": {},
     "outputs": [],
     "prompt_number": 9
    },
    {
     "cell_type": "code",
     "collapsed": false,
     "input": [
      "print reg2.summary"
     ],
     "language": "python",
     "metadata": {},
     "outputs": [
      {
       "output_type": "stream",
       "stream": "stdout",
       "text": [
        "REGRESSION\n",
        "----------\n",
        "SUMMARY OF OUTPUT: SPATIAL TWO STAGE LEAST SQUARES\n",
        "--------------------------------------------------\n",
        "Data set            :      baltim\n",
        "Weights matrix      :   baltim_k4\n",
        "Dependent Variable  :       PRICE                Number of Observations:         211\n",
        "Mean dependent var  :     44.3072                Number of Variables   :          11\n",
        "S.D. dependent var  :     23.6061                Degrees of Freedom    :         200\n",
        "Pseudo R-squared    :      0.7076\n",
        "Spatial Pseudo R-squared:  0.6856\n",
        "\n",
        "------------------------------------------------------------------------------------\n",
        "            Variable     Coefficient       Std.Error     z-Statistic     Probability\n",
        "------------------------------------------------------------------------------------\n",
        "            CONSTANT       0.6967291       5.6918227       0.1224088       0.9025753\n",
        "                  AC       6.4004638       2.4204278       2.6443523       0.0081847\n",
        "                 AGE      -0.0898356       0.0542103      -1.6571679       0.0974855\n",
        "              FIREPL       6.9286683       2.5140883       2.7559367       0.0058524\n",
        "                 GAR       3.6812877       1.7696563       2.0802275       0.0375047\n",
        "               LOTSZ       0.0664709       0.0153170       4.3396943       0.0000143\n",
        "               NBATH       5.5235755       1.8009199       3.0670855       0.0021616\n",
        "               NROOM       0.8904222       1.0998836       0.8095604       0.4181929\n",
        "               PATIO       6.7936052       2.8309029       2.3998016       0.0164040\n",
        "                SQFT       0.0767161       0.1694537       0.4527261       0.6507460\n",
        "             W_PRICE       0.4951283       0.0716451       6.9108461       0.0000000\n",
        "------------------------------------------------------------------------------------\n",
        "Instrumented: W_PRICE\n",
        "Instruments: W2_AC, W2_AGE, W2_FIREPL, W2_GAR, W2_LOTSZ, W2_NBATH, W2_NROOM,\n",
        "             W2_PATIO, W2_SQFT, W_AC, W_AGE, W_FIREPL, W_GAR, W_LOTSZ,\n",
        "             W_NBATH, W_NROOM, W_PATIO, W_SQFT\n",
        "================================ END OF REPORT =====================================\n"
       ]
      }
     ],
     "prompt_number": 10
    },
    {
     "cell_type": "markdown",
     "metadata": {},
     "source": [
      "up to third order spatial lags, set **w_lags=3**"
     ]
    },
    {
     "cell_type": "code",
     "collapsed": false,
     "input": [
      "reg2a = pysal.spreg.GM_Lag(y,x,w=w,w_lags=3,name_y=y_name,\n",
      "                          name_x=x_names,name_w='baltim_k4',\n",
      "                          name_ds='baltim')"
     ],
     "language": "python",
     "metadata": {},
     "outputs": [],
     "prompt_number": 11
    },
    {
     "cell_type": "code",
     "collapsed": false,
     "input": [
      "print reg2a.summary"
     ],
     "language": "python",
     "metadata": {},
     "outputs": [
      {
       "output_type": "stream",
       "stream": "stdout",
       "text": [
        "REGRESSION\n",
        "----------\n",
        "SUMMARY OF OUTPUT: SPATIAL TWO STAGE LEAST SQUARES\n",
        "--------------------------------------------------\n",
        "Data set            :      baltim\n",
        "Weights matrix      :   baltim_k4\n",
        "Dependent Variable  :       PRICE                Number of Observations:         211\n",
        "Mean dependent var  :     44.3072                Number of Variables   :          11\n",
        "S.D. dependent var  :     23.6061                Degrees of Freedom    :         200\n",
        "Pseudo R-squared    :      0.7078\n",
        "Spatial Pseudo R-squared:  0.6862\n",
        "\n",
        "------------------------------------------------------------------------------------\n",
        "            Variable     Coefficient       Std.Error     z-Statistic     Probability\n",
        "------------------------------------------------------------------------------------\n",
        "            CONSTANT       0.9254523       5.6633202       0.1634116       0.8701944\n",
        "                  AC       6.4151934       2.4192610       2.6517161       0.0080084\n",
        "                 AGE      -0.0910882       0.0541071      -1.6834807       0.0922821\n",
        "              FIREPL       6.9716711       2.5110371       2.7764111       0.0054963\n",
        "                 GAR       3.6987235       1.7684991       2.0914478       0.0364879\n",
        "               LOTSZ       0.0667590       0.0152957       4.3645680       0.0000127\n",
        "               NBATH       5.5248403       1.8002401       3.0689464       0.0021482\n",
        "               NROOM       0.8836545       1.0993508       0.8037967       0.4215144\n",
        "               PATIO       6.8294972       2.8285357       2.4144992       0.0157569\n",
        "                SQFT       0.0778412       0.1693686       0.4595966       0.6458058\n",
        "             W_PRICE       0.4901115       0.0706057       6.9415235       0.0000000\n",
        "------------------------------------------------------------------------------------\n",
        "Instrumented: W_PRICE\n",
        "Instruments: W2_AC, W2_AGE, W2_FIREPL, W2_GAR, W2_LOTSZ, W2_NBATH, W2_NROOM,\n",
        "             W2_PATIO, W2_SQFT, W3_AC, W3_AGE, W3_FIREPL, W3_GAR, W3_LOTSZ,\n",
        "             W3_NBATH, W3_NROOM, W3_PATIO, W3_SQFT, W_AC, W_AGE, W_FIREPL,\n",
        "             W_GAR, W_LOTSZ, W_NBATH, W_NROOM, W_PATIO, W_SQFT\n",
        "================================ END OF REPORT =====================================\n"
       ]
      }
     ],
     "prompt_number": 12
    },
    {
     "cell_type": "markdown",
     "metadata": {},
     "source": [
      "###Direct, Indirect and Total Effects###"
     ]
    },
    {
     "cell_type": "markdown",
     "metadata": {},
     "source": [
      "extract the regression coefficients"
     ]
    },
    {
     "cell_type": "code",
     "collapsed": false,
     "input": [
      "b = reg1.betas[:-1]"
     ],
     "language": "python",
     "metadata": {},
     "outputs": [],
     "prompt_number": 13
    },
    {
     "cell_type": "markdown",
     "metadata": {},
     "source": [
      "extract the spatial autoregressive coefficient"
     ]
    },
    {
     "cell_type": "code",
     "collapsed": false,
     "input": [
      "rho = reg1.betas[-1]"
     ],
     "language": "python",
     "metadata": {},
     "outputs": [],
     "prompt_number": 14
    },
    {
     "cell_type": "markdown",
     "metadata": {},
     "source": [
      "total effect using the multiplier"
     ]
    },
    {
     "cell_type": "code",
     "collapsed": false,
     "input": [
      "btot = b / (1.0 - rho)"
     ],
     "language": "python",
     "metadata": {},
     "outputs": [],
     "prompt_number": 15
    },
    {
     "cell_type": "markdown",
     "metadata": {},
     "source": [
      "indirect effect"
     ]
    },
    {
     "cell_type": "code",
     "collapsed": false,
     "input": [
      "bind = btot - b"
     ],
     "language": "python",
     "metadata": {},
     "outputs": [],
     "prompt_number": 16
    },
    {
     "cell_type": "markdown",
     "metadata": {},
     "source": [
      "summary of the results"
     ]
    },
    {
     "cell_type": "code",
     "collapsed": false,
     "input": [
      "varnames = [\"CONSTANT\"] + x_names\n",
      "print \"Variable       Direct       Indirect      Total\"\n",
      "for i in range(len(varnames)):\n",
      "    print \"%10s %12.7f %12.7f %12.7f\" % (varnames[i],b[i][0],bind[i][0],btot[i][0])"
     ],
     "language": "python",
     "metadata": {},
     "outputs": [
      {
       "output_type": "stream",
       "stream": "stdout",
       "text": [
        "Variable       Direct       Indirect      Total\n",
        "  CONSTANT    1.1758330    1.1056524    2.2814854\n",
        "     NROOM    0.8762459    0.8239464    1.7001923\n",
        "     NBATH    5.5262249    5.1963876   10.7226125\n",
        "     PATIO    6.8687877    6.4588184   13.3276062\n",
        "    FIREPL    7.0187459    6.5998262   13.6185720\n",
        "        AC    6.4313177    6.0474591   12.4787768\n",
        "       GAR    3.7178102    3.4959096    7.2137199\n",
        "       AGE   -0.0924594   -0.0869409   -0.1794002\n",
        "     LOTSZ    0.0670745    0.0630711    0.1301455\n",
        "      SQFT    0.0790729    0.0743534    0.1534263\n"
       ]
      }
     ],
     "prompt_number": 17
    },
    {
     "cell_type": "markdown",
     "metadata": {},
     "source": [
      "##Spatial 2SLS with Spatial Diagnostics##"
     ]
    },
    {
     "cell_type": "markdown",
     "metadata": {},
     "source": [
      "specify the weights as **w=w**, set **spat_diag = True** and optionally specify a name for the weights"
     ]
    },
    {
     "cell_type": "code",
     "collapsed": false,
     "input": [
      "reg3 = pysal.spreg.GM_Lag(y,x,w=w,spat_diag=True,\n",
      "                          name_y=y_name,name_x=x_names,\n",
      "                          name_w='baltim_k4',name_ds='baltim')"
     ],
     "language": "python",
     "metadata": {},
     "outputs": [],
     "prompt_number": 24
    },
    {
     "cell_type": "code",
     "collapsed": false,
     "input": [
      "print reg3.summary"
     ],
     "language": "python",
     "metadata": {},
     "outputs": [
      {
       "output_type": "stream",
       "stream": "stdout",
       "text": [
        "REGRESSION\n",
        "----------\n",
        "SUMMARY OF OUTPUT: SPATIAL TWO STAGE LEAST SQUARES\n",
        "--------------------------------------------------\n",
        "Data set            :      baltim\n",
        "Weights matrix      :   baltim_k4\n",
        "Dependent Variable  :       PRICE                Number of Observations:         211\n",
        "Mean dependent var  :     44.3072                Number of Variables   :          11\n",
        "S.D. dependent var  :     23.6061                Degrees of Freedom    :         200\n",
        "Pseudo R-squared    :      0.7080\n",
        "Spatial Pseudo R-squared:  0.6868\n",
        "\n",
        "------------------------------------------------------------------------------------\n",
        "            Variable     Coefficient       Std.Error     z-Statistic     Probability\n",
        "------------------------------------------------------------------------------------\n",
        "            CONSTANT       1.1758330       5.7402917       0.2048385       0.8376983\n",
        "                  AC       6.4313177       2.4191155       2.6585410       0.0078480\n",
        "                 AGE      -0.0924594       0.0543360      -1.7016213       0.0888264\n",
        "              FIREPL       7.0187459       2.5164274       2.7891708       0.0052843\n",
        "                 GAR       3.7178102       1.7693095       2.1012775       0.0356166\n",
        "               LOTSZ       0.0670745       0.0153366       4.3734849       0.0000122\n",
        "               NBATH       5.5262249       1.7995640       3.0708688       0.0021344\n",
        "               NROOM       0.8762459       1.0992925       0.7970998       0.4253931\n",
        "               PATIO       6.8687877       2.8313870       2.4259445       0.0152686\n",
        "                SQFT       0.0790729       0.1693687       0.4668683       0.6405941\n",
        "             W_PRICE       0.4846195       0.0735894       6.5854513       0.0000000\n",
        "------------------------------------------------------------------------------------\n",
        "Instrumented: W_PRICE\n",
        "Instruments: W_AC, W_AGE, W_FIREPL, W_GAR, W_LOTSZ, W_NBATH, W_NROOM,\n",
        "             W_PATIO, W_SQFT\n",
        "\n",
        "DIAGNOSTICS FOR SPATIAL DEPENDENCE\n",
        "TEST                           MI/DF       VALUE           PROB\n",
        "Anselin-Kelejian Test             1           3.654          0.0559\n",
        "================================ END OF REPORT =====================================\n"
       ]
      }
     ],
     "prompt_number": 25
    },
    {
     "cell_type": "markdown",
     "metadata": {},
     "source": [
      "##Spatial 2SLS with White Standard Errors##"
     ]
    },
    {
     "cell_type": "markdown",
     "metadata": {},
     "source": [
      "set **robust = 'white'**"
     ]
    },
    {
     "cell_type": "code",
     "collapsed": false,
     "input": [
      "reg4 = pysal.spreg.GM_Lag(y,x,w=w,robust='white',\n",
      "                          spat_diag=True,name_y=y_name,name_x=x_names,\n",
      "                          name_w='baltim_k4',name_ds='baltim')"
     ],
     "language": "python",
     "metadata": {},
     "outputs": [],
     "prompt_number": 26
    },
    {
     "cell_type": "code",
     "collapsed": false,
     "input": [
      "print reg4.summary"
     ],
     "language": "python",
     "metadata": {},
     "outputs": [
      {
       "output_type": "stream",
       "stream": "stdout",
       "text": [
        "REGRESSION\n",
        "----------\n",
        "SUMMARY OF OUTPUT: SPATIAL TWO STAGE LEAST SQUARES\n",
        "--------------------------------------------------\n",
        "Data set            :      baltim\n",
        "Weights matrix      :   baltim_k4\n",
        "Dependent Variable  :       PRICE                Number of Observations:         211\n",
        "Mean dependent var  :     44.3072                Number of Variables   :          11\n",
        "S.D. dependent var  :     23.6061                Degrees of Freedom    :         200\n",
        "Pseudo R-squared    :      0.7080\n",
        "Spatial Pseudo R-squared:  0.6868\n",
        "\n",
        "White Standard Errors\n",
        "------------------------------------------------------------------------------------\n",
        "            Variable     Coefficient       Std.Error     z-Statistic     Probability\n",
        "------------------------------------------------------------------------------------\n",
        "            CONSTANT       1.1758330       7.0047804       0.1678615       0.8666922\n",
        "                  AC       6.4313177       2.6910698       2.3898739       0.0168542\n",
        "                 AGE      -0.0924594       0.0983874      -0.9397478       0.3473469\n",
        "              FIREPL       7.0187459       2.4195615       2.9008338       0.0037217\n",
        "                 GAR       3.7178102       2.3876143       1.5571234       0.1194412\n",
        "               LOTSZ       0.0670745       0.0251308       2.6690191       0.0076073\n",
        "               NBATH       5.5262249       2.1872327       2.5265830       0.0115178\n",
        "               NROOM       0.8762459       1.3976000       0.6269647       0.5306824\n",
        "               PATIO       6.8687877       3.1491404       2.1811627       0.0291714\n",
        "                SQFT       0.0790729       0.2234025       0.3539481       0.7233778\n",
        "             W_PRICE       0.4846195       0.1259270       3.8484168       0.0001189\n",
        "------------------------------------------------------------------------------------\n",
        "Instrumented: W_PRICE\n",
        "Instruments: W_AC, W_AGE, W_FIREPL, W_GAR, W_LOTSZ, W_NBATH, W_NROOM,\n",
        "             W_PATIO, W_SQFT\n",
        "\n",
        "DIAGNOSTICS FOR SPATIAL DEPENDENCE\n",
        "TEST                           MI/DF       VALUE           PROB\n",
        "Anselin-Kelejian Test             1           3.654          0.0559\n",
        "================================ END OF REPORT =====================================\n"
       ]
      }
     ],
     "prompt_number": 27
    },
    {
     "cell_type": "markdown",
     "metadata": {},
     "source": [
      "##Spatial 2SLS with HAC Standard Errors##"
     ]
    },
    {
     "cell_type": "markdown",
     "metadata": {},
     "source": [
      "set **robust = 'hac'** and specify the kernel weights **gwk** and optionally their name **name_gwk**"
     ]
    },
    {
     "cell_type": "code",
     "collapsed": false,
     "input": [
      "reg5 = pysal.spreg.GM_Lag(y,x,w=w,robust='hac',gwk=kw12,\n",
      "                          spat_diag=True,name_y=y_name,name_x=x_names,\n",
      "                          name_w='baltim_k4',name_gwk='baltim_tri_k12',\n",
      "                          name_ds='baltim')"
     ],
     "language": "python",
     "metadata": {},
     "outputs": [],
     "prompt_number": 28
    },
    {
     "cell_type": "code",
     "collapsed": false,
     "input": [
      "print reg5.summary"
     ],
     "language": "python",
     "metadata": {},
     "outputs": [
      {
       "output_type": "stream",
       "stream": "stdout",
       "text": [
        "REGRESSION\n",
        "----------\n",
        "SUMMARY OF OUTPUT: SPATIAL TWO STAGE LEAST SQUARES\n",
        "--------------------------------------------------\n",
        "Data set            :      baltim\n",
        "Weights matrix      :   baltim_k4\n",
        "Dependent Variable  :       PRICE                Number of Observations:         211\n",
        "Mean dependent var  :     44.3072                Number of Variables   :          11\n",
        "S.D. dependent var  :     23.6061                Degrees of Freedom    :         200\n",
        "Pseudo R-squared    :      0.7080\n",
        "Spatial Pseudo R-squared:  0.6868\n",
        "\n",
        "HAC Standard Errors; Kernel Weights: baltim_tri_k12\n",
        "------------------------------------------------------------------------------------\n",
        "            Variable     Coefficient       Std.Error     z-Statistic     Probability\n",
        "------------------------------------------------------------------------------------\n",
        "            CONSTANT       1.1758330       7.3538150       0.1598943       0.8729644\n",
        "                  AC       6.4313177       2.9201174       2.2024175       0.0276358\n",
        "                 AGE      -0.0924594       0.0962413      -0.9607039       0.3367011\n",
        "              FIREPL       7.0187459       2.4120995       2.9098078       0.0036165\n",
        "                 GAR       3.7178102       2.4421020       1.5223812       0.1279136\n",
        "               LOTSZ       0.0670745       0.0229299       2.9251915       0.0034424\n",
        "               NBATH       5.5262249       2.1861011       2.5278908       0.0114750\n",
        "               NROOM       0.8762459       1.4166133       0.6185498       0.5362130\n",
        "               PATIO       6.8687877       3.1066547       2.2109917       0.0270364\n",
        "                SQFT       0.0790729       0.1980344       0.3992887       0.6896805\n",
        "             W_PRICE       0.4846195       0.1132898       4.2776985       0.0000189\n",
        "------------------------------------------------------------------------------------\n",
        "Instrumented: W_PRICE\n",
        "Instruments: W_AC, W_AGE, W_FIREPL, W_GAR, W_LOTSZ, W_NBATH, W_NROOM,\n",
        "             W_PATIO, W_SQFT\n",
        "\n",
        "DIAGNOSTICS FOR SPATIAL DEPENDENCE\n",
        "TEST                           MI/DF       VALUE           PROB\n",
        "Anselin-Kelejian Test             1           3.654          0.0559\n",
        "================================ END OF REPORT =====================================\n"
       ]
      }
     ],
     "prompt_number": 29
    },
    {
     "cell_type": "markdown",
     "metadata": {},
     "source": [
      "##Spatial Lag Model with other Endogenous Variables##"
     ]
    },
    {
     "cell_type": "markdown",
     "metadata": {},
     "source": [
      "create the variable arrays using the **natregimes** sample data set"
     ]
    },
    {
     "cell_type": "code",
     "collapsed": false,
     "input": [
      "db = pysal.open('data/natregimes.dbf','r')\n",
      "y_name = \"HR90\"\n",
      "y = np.array([db.by_col(y_name)]).T\n",
      "x_names = ['RD90','MA90','PS90']\n",
      "x = np.array([db.by_col(var) for var in x_names]).T\n",
      "yend_names = ['UE90']\n",
      "yend = np.array([db.by_col(var) for var in yend_names]).T\n",
      "q_names = ['FH90','FP89','GI89']\n",
      "q = np.array([db.by_col(var) for var in q_names]).T"
     ],
     "language": "python",
     "metadata": {},
     "outputs": [],
     "prompt_number": 32
    },
    {
     "cell_type": "markdown",
     "metadata": {},
     "source": [
      "model weights"
     ]
    },
    {
     "cell_type": "code",
     "collapsed": false,
     "input": [
      "w = pysal.queen_from_shapefile('data/natregimes.shp',idVariable=\"FIPSNO\")\n",
      "w.transform = 'r'"
     ],
     "language": "python",
     "metadata": {},
     "outputs": [],
     "prompt_number": 34
    },
    {
     "cell_type": "markdown",
     "metadata": {},
     "source": [
      "###Spatial Lag with Endogenous Variables###"
     ]
    },
    {
     "cell_type": "markdown",
     "metadata": {},
     "source": [
      "base case with spatial diagnostics"
     ]
    },
    {
     "cell_type": "code",
     "collapsed": false,
     "input": [
      "reg6 = pysal.spreg.GM_Lag(y,x,yend,q,w=w,spat_diag=True,\n",
      "                          name_y=y_name,name_x=x_names,name_yend=yend_names,\n",
      "                          name_q=q_names,name_w='natqueen',name_ds='nat')"
     ],
     "language": "python",
     "metadata": {},
     "outputs": [],
     "prompt_number": 35
    },
    {
     "cell_type": "code",
     "collapsed": false,
     "input": [
      "print reg6.summary"
     ],
     "language": "python",
     "metadata": {},
     "outputs": [
      {
       "output_type": "stream",
       "stream": "stdout",
       "text": [
        "REGRESSION\n",
        "----------\n",
        "SUMMARY OF OUTPUT: SPATIAL TWO STAGE LEAST SQUARES\n",
        "--------------------------------------------------\n",
        "Data set            :         nat\n",
        "Weights matrix      :    natqueen\n",
        "Dependent Variable  :        HR90                Number of Observations:        3085\n",
        "Mean dependent var  :      6.1829                Number of Variables   :           6\n",
        "S.D. dependent var  :      6.6414                Degrees of Freedom    :        3079\n",
        "Pseudo R-squared    :      0.4186\n",
        "Spatial Pseudo R-squared:  0.3914\n",
        "\n",
        "------------------------------------------------------------------------------------\n",
        "            Variable     Coefficient       Std.Error     z-Statistic     Probability\n",
        "------------------------------------------------------------------------------------\n",
        "            CONSTANT      10.0338240       1.3616383       7.3689349       0.0000000\n",
        "                MA90      -0.0500990       0.0286025      -1.7515613       0.0798493\n",
        "                PS90       1.5813070       0.1084249      14.5843567       0.0000000\n",
        "                RD90       4.4092974       0.2400482      18.3683863       0.0000000\n",
        "                UE90      -0.5182722       0.0882736      -5.8712062       0.0000000\n",
        "              W_HR90       0.2123364       0.0371805       5.7109639       0.0000000\n",
        "------------------------------------------------------------------------------------\n",
        "Instrumented: UE90, W_HR90\n",
        "Instruments: FH90, FP89, GI89, W_FH90, W_FP89, W_GI89, W_MA90, W_PS90,\n",
        "             W_RD90\n",
        "\n",
        "DIAGNOSTICS FOR SPATIAL DEPENDENCE\n",
        "TEST                           MI/DF       VALUE           PROB\n",
        "Anselin-Kelejian Test             1           2.517          0.1127\n",
        "================================ END OF REPORT =====================================\n"
       ]
      }
     ],
     "prompt_number": 36
    },
    {
     "cell_type": "markdown",
     "metadata": {},
     "source": [
      "without spatial lags for the instruments, set **lag_q = False**"
     ]
    },
    {
     "cell_type": "code",
     "collapsed": false,
     "input": [
      "reg7 = pysal.spreg.GM_Lag(y,x,yend,q,w=w,lag_q=False,spat_diag=True,\n",
      "                          name_y=y_name,name_x=x_names,name_yend=yend_names,\n",
      "                          name_q=q_names,name_w='nat_queen',name_ds='nat')"
     ],
     "language": "python",
     "metadata": {},
     "outputs": [],
     "prompt_number": 37
    },
    {
     "cell_type": "code",
     "collapsed": false,
     "input": [
      "print reg7.summary"
     ],
     "language": "python",
     "metadata": {},
     "outputs": [
      {
       "output_type": "stream",
       "stream": "stdout",
       "text": [
        "REGRESSION\n",
        "----------\n",
        "SUMMARY OF OUTPUT: SPATIAL TWO STAGE LEAST SQUARES\n",
        "--------------------------------------------------\n",
        "Data set            :         nat\n",
        "Weights matrix      :   nat_queen\n",
        "Dependent Variable  :        HR90                Number of Observations:        3085\n",
        "Mean dependent var  :      6.1829                Number of Variables   :           6\n",
        "S.D. dependent var  :      6.6414                Degrees of Freedom    :        3079\n",
        "Pseudo R-squared    :      0.4076\n",
        "Spatial Pseudo R-squared:  0.3802\n",
        "\n",
        "------------------------------------------------------------------------------------\n",
        "            Variable     Coefficient       Std.Error     z-Statistic     Probability\n",
        "------------------------------------------------------------------------------------\n",
        "            CONSTANT      11.2850228       1.4177538       7.9597903       0.0000000\n",
        "                MA90      -0.0601927       0.0290474      -2.0722259       0.0382444\n",
        "                PS90       1.6149324       0.1105060      14.6139849       0.0000000\n",
        "                RD90       4.6642007       0.2537771      18.3791221       0.0000000\n",
        "                UE90      -0.6580528       0.0951942      -6.9127375       0.0000000\n",
        "              W_HR90       0.2163835       0.0389967       5.5487653       0.0000000\n",
        "------------------------------------------------------------------------------------\n",
        "Instrumented: UE90, W_HR90\n",
        "Instruments: FH90, FP89, GI89, W_MA90, W_PS90, W_RD90\n",
        "\n",
        "DIAGNOSTICS FOR SPATIAL DEPENDENCE\n",
        "TEST                           MI/DF       VALUE           PROB\n",
        "Anselin-Kelejian Test             1           2.442          0.1182\n",
        "================================ END OF REPORT =====================================\n"
       ]
      }
     ],
     "prompt_number": 38
    },
    {
     "cell_type": "markdown",
     "metadata": {},
     "source": [
      "##Practice##"
     ]
    },
    {
     "cell_type": "markdown",
     "metadata": {},
     "source": [
      "Replicate the analysis above using a subset of the U.S. counties, i.e., the south data set. Use both k=6 nearest neighbors and queen contiguity as weights and compare the results. Use adaptive bandwidth quadratic kernel weights (k=12) to assess the effect of HAC standard errors."
     ]
    },
    {
     "cell_type": "code",
     "collapsed": false,
     "input": [],
     "language": "python",
     "metadata": {},
     "outputs": []
    }
   ],
   "metadata": {}
  }
 ]
}