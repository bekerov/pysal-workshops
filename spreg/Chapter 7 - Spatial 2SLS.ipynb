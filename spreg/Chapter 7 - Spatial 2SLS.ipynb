{
 "metadata": {
  "name": ""
 },
 "nbformat": 3,
 "nbformat_minor": 0,
 "worksheets": [
  {
   "cells": [
    {
     "cell_type": "markdown",
     "metadata": {},
     "source": [
      "This notebook contains the PySAL/spreg code for Chapter 7 - Spatial 2SLS \n",
      "\n",
      "in\n",
      "Modern Spatial Econometrics in Practice: A Guide to GeoDa, GeoDaSpace and PySAL.\n",
      "\n",
      "by Luc Anselin and Sergio J. Rey\n",
      "\n",
      "(c) 2014 Luc Anselin and Sergio J. Rey, All Rights Reserved"
     ]
    },
    {
     "cell_type": "code",
     "collapsed": false,
     "input": [
      "__author__ = \"Luc Anselin luc.anselin@asu.edu\""
     ],
     "language": "python",
     "metadata": {},
     "outputs": []
    },
    {
     "cell_type": "markdown",
     "metadata": {},
     "source": [
      "##Basic Regression Setup##"
     ]
    },
    {
     "cell_type": "markdown",
     "metadata": {},
     "source": [
      "###Spatial Lag without Endogenous Variables###"
     ]
    },
    {
     "cell_type": "markdown",
     "metadata": {},
     "source": [
      "**Creating arrays for y and x using the Baltimore example - see also Chapter 5 Notebook**"
     ]
    },
    {
     "cell_type": "markdown",
     "metadata": {},
     "source": [
      "Preliminaries, import **numpy** and **pysal**"
     ]
    },
    {
     "cell_type": "code",
     "collapsed": false,
     "input": [
      "import numpy as np\n",
      "import pysal"
     ],
     "language": "python",
     "metadata": {},
     "outputs": [],
     "prompt_number": 1
    },
    {
     "cell_type": "markdown",
     "metadata": {},
     "source": [
      "the **baltimore** sample data set"
     ]
    },
    {
     "cell_type": "code",
     "collapsed": false,
     "input": [
      "db = pysal.open(pysal.examples.get_path('baltim.dbf'),'r')\n",
      "y_name = \"PRICE\"\n",
      "y = np.array([db.by_col(y_name)]).T\n",
      "x_names = ['NROOM','NBATH','PATIO','FIREPL','AC','GAR','AGE',\n",
      "           'LOTSZ','SQFT']\n",
      "x = np.array([db.by_col(var) for var in x_names]).T"
     ],
     "language": "python",
     "metadata": {},
     "outputs": [],
     "prompt_number": 2
    },
    {
     "cell_type": "markdown",
     "metadata": {},
     "source": [
      "model weights - k nearest neighbors with k=4"
     ]
    },
    {
     "cell_type": "code",
     "collapsed": false,
     "input": [
      "w = pysal.knnW_from_shapefile(pysal.examples.get_path('baltim.shp'),\n",
      "                                k=4,idVariable='STATION')\n",
      "w.transform = 'r'"
     ],
     "language": "python",
     "metadata": {},
     "outputs": [],
     "prompt_number": 3
    },
    {
     "cell_type": "markdown",
     "metadata": {},
     "source": [
      "kernel weights - triangular with k=12"
     ]
    },
    {
     "cell_type": "code",
     "collapsed": false,
     "input": [
      "kw12 = pysal.adaptive_kernelW_from_shapefile(pysal.examples.get_path('baltim.shp'),\n",
      "                                             k=12,idVariable='STATION')"
     ],
     "language": "python",
     "metadata": {},
     "outputs": [],
     "prompt_number": 4
    },
    {
     "cell_type": "markdown",
     "metadata": {},
     "source": [
      "##Basic Spatial 2SLS##"
     ]
    },
    {
     "cell_type": "markdown",
     "metadata": {},
     "source": [
      "default settings"
     ]
    },
    {
     "cell_type": "code",
     "collapsed": false,
     "input": [
      "reg1 = pysal.spreg.GM_Lag(y,x,w=w,name_y=y_name,name_x=x_names,\n",
      "                          name_w='baltim_k4',name_ds='baltim')"
     ],
     "language": "python",
     "metadata": {},
     "outputs": [],
     "prompt_number": 5
    },
    {
     "cell_type": "markdown",
     "metadata": {},
     "source": [
      "coefficients in the order of variables in **x_names** - last one is spatial autoregressive coefficient"
     ]
    },
    {
     "cell_type": "code",
     "collapsed": false,
     "input": [
      "reg1.betas"
     ],
     "language": "python",
     "metadata": {},
     "outputs": [
      {
       "metadata": {},
       "output_type": "pyout",
       "prompt_number": 6,
       "text": [
        "array([[ 1.32765782],\n",
        "       [ 0.88946746],\n",
        "       [ 5.60361648],\n",
        "       [ 7.07098446],\n",
        "       [ 7.15528549],\n",
        "       [ 6.47909448],\n",
        "       [ 3.67515267],\n",
        "       [-0.09426859],\n",
        "       [ 0.0674761 ],\n",
        "       [ 0.07505512],\n",
        "       [ 0.47805226]])"
       ]
      }
     ],
     "prompt_number": 6
    },
    {
     "cell_type": "code",
     "collapsed": false,
     "input": [
      "print reg1.summary"
     ],
     "language": "python",
     "metadata": {},
     "outputs": [
      {
       "output_type": "stream",
       "stream": "stdout",
       "text": [
        "REGRESSION\n",
        "----------\n",
        "SUMMARY OF OUTPUT: SPATIAL TWO STAGE LEAST SQUARES\n",
        "--------------------------------------------------\n",
        "Data set            :      baltim\n",
        "Weights matrix      :   baltim_k4\n",
        "Dependent Variable  :       PRICE                Number of Observations:         211\n",
        "Mean dependent var  :     44.3072                Number of Variables   :          11\n",
        "S.D. dependent var  :     23.6061                Degrees of Freedom    :         200\n",
        "Pseudo R-squared    :      0.7064\n",
        "Spatial Pseudo R-squared:  0.6856\n",
        "\n",
        "------------------------------------------------------------------------------------\n",
        "            Variable     Coefficient       Std.Error     z-Statistic     Probability\n",
        "------------------------------------------------------------------------------------\n",
        "            CONSTANT       1.3276578       5.7718694       0.2300222       0.8180746\n",
        "                  AC       6.4790945       2.4253311       2.6714268       0.0075530\n",
        "                 AGE      -0.0942686       0.0544832      -1.7302327       0.0835887\n",
        "              FIREPL       7.1552855       2.5203968       2.8389519       0.0045262\n",
        "                 GAR       3.6751527       1.7756639       2.0697344       0.0384772\n",
        "               LOTSZ       0.0674761       0.0153788       4.3875982       0.0000115\n",
        "               NBATH       5.6036165       1.8043761       3.1055700       0.0018991\n",
        "               NROOM       0.8894675       1.1026083       0.8066940       0.4198428\n",
        "               PATIO       7.0709845       2.8348494       2.4943069       0.0126203\n",
        "                SQFT       0.0750551       0.1699164       0.4417178       0.6586934\n",
        "             W_PRICE       0.4780523       0.0738868       6.4700639       0.0000000\n",
        "------------------------------------------------------------------------------------\n",
        "Instrumented: W_PRICE\n",
        "Instruments: W_AC, W_AGE, W_FIREPL, W_GAR, W_LOTSZ, W_NBATH, W_NROOM,\n",
        "             W_PATIO, W_SQFT\n",
        "================================ END OF REPORT =====================================\n"
       ]
      }
     ],
     "prompt_number": 7
    },
    {
     "cell_type": "markdown",
     "metadata": {},
     "source": [
      "using second order spatial lags for the instruments, set **w_lags = 2**"
     ]
    },
    {
     "cell_type": "code",
     "collapsed": false,
     "input": [
      "reg2 = pysal.spreg.GM_Lag(y,x,w=w,w_lags=2,name_y=y_name,\n",
      "                          name_x=x_names,name_w='baltim_k4',\n",
      "                          name_ds='baltim')"
     ],
     "language": "python",
     "metadata": {},
     "outputs": [],
     "prompt_number": 8
    },
    {
     "cell_type": "code",
     "collapsed": false,
     "input": [
      "print reg2.summary"
     ],
     "language": "python",
     "metadata": {},
     "outputs": [
      {
       "output_type": "stream",
       "stream": "stdout",
       "text": [
        "REGRESSION\n",
        "----------\n",
        "SUMMARY OF OUTPUT: SPATIAL TWO STAGE LEAST SQUARES\n",
        "--------------------------------------------------\n",
        "Data set            :      baltim\n",
        "Weights matrix      :   baltim_k4\n",
        "Dependent Variable  :       PRICE                Number of Observations:         211\n",
        "Mean dependent var  :     44.3072                Number of Variables   :          11\n",
        "S.D. dependent var  :     23.6061                Degrees of Freedom    :         200\n",
        "Pseudo R-squared    :      0.7061\n",
        "Spatial Pseudo R-squared:  0.6845\n",
        "\n",
        "------------------------------------------------------------------------------------\n",
        "            Variable     Coefficient       Std.Error     z-Statistic     Probability\n",
        "------------------------------------------------------------------------------------\n",
        "            CONSTANT       0.8965615       5.7234031       0.1566483       0.8755220\n",
        "                  AC       6.4520788       2.4264263       2.6590871       0.0078353\n",
        "                 AGE      -0.0919270       0.0543559      -1.6912033       0.0907980\n",
        "              FIREPL       7.0763557       2.5180454       2.8102574       0.0049502\n",
        "                 GAR       3.6412243       1.7757744       2.0504994       0.0403157\n",
        "               LOTSZ       0.0669372       0.0153583       4.3583650       0.0000131\n",
        "               NBATH       5.6027365       1.8055518       3.1030605       0.0019153\n",
        "               NROOM       0.9025714       1.1030756       0.8182316       0.4132249\n",
        "               PATIO       7.0068398       2.8343528       2.4721128       0.0134317\n",
        "                SQFT       0.0728409       0.1699806       0.4285248       0.6682691\n",
        "             W_PRICE       0.4874444       0.0719813       6.7718234       0.0000000\n",
        "------------------------------------------------------------------------------------\n",
        "Instrumented: W_PRICE\n",
        "Instruments: W2_AC, W2_AGE, W2_FIREPL, W2_GAR, W2_LOTSZ, W2_NBATH, W2_NROOM,\n",
        "             W2_PATIO, W2_SQFT, W_AC, W_AGE, W_FIREPL, W_GAR, W_LOTSZ,\n",
        "             W_NBATH, W_NROOM, W_PATIO, W_SQFT\n",
        "================================ END OF REPORT =====================================\n"
       ]
      }
     ],
     "prompt_number": 9
    },
    {
     "cell_type": "markdown",
     "metadata": {},
     "source": [
      "up to third order spatial lags, set **w_lags=3**"
     ]
    },
    {
     "cell_type": "code",
     "collapsed": false,
     "input": [
      "reg2a = pysal.spreg.GM_Lag(y,x,w=w,w_lags=3,name_y=y_name,\n",
      "                          name_x=x_names,name_w='baltim_k4',\n",
      "                          name_ds='baltim')"
     ],
     "language": "python",
     "metadata": {},
     "outputs": [],
     "prompt_number": 10
    },
    {
     "cell_type": "code",
     "collapsed": false,
     "input": [
      "print reg2a.summary"
     ],
     "language": "python",
     "metadata": {},
     "outputs": [
      {
       "output_type": "stream",
       "stream": "stdout",
       "text": [
        "REGRESSION\n",
        "----------\n",
        "SUMMARY OF OUTPUT: SPATIAL TWO STAGE LEAST SQUARES\n",
        "--------------------------------------------------\n",
        "Data set            :      baltim\n",
        "Weights matrix      :   baltim_k4\n",
        "Dependent Variable  :       PRICE                Number of Observations:         211\n",
        "Mean dependent var  :     44.3072                Number of Variables   :          11\n",
        "S.D. dependent var  :     23.6061                Degrees of Freedom    :         200\n",
        "Pseudo R-squared    :      0.7063\n",
        "Spatial Pseudo R-squared:  0.6852\n",
        "\n",
        "------------------------------------------------------------------------------------\n",
        "            Variable     Coefficient       Std.Error     z-Statistic     Probability\n",
        "------------------------------------------------------------------------------------\n",
        "            CONSTANT       1.1925852       5.6945102       0.2094272       0.8341148\n",
        "                  AC       6.4706298       2.4250725       2.6682212       0.0076254\n",
        "                 AGE      -0.0935349       0.0542496      -1.7241593       0.0846791\n",
        "              FIREPL       7.1305549       2.5148945       2.8353296       0.0045778\n",
        "                 GAR       3.6645221       1.7744380       2.0651734       0.0389066\n",
        "               LOTSZ       0.0673072       0.0153360       4.3888340       0.0000114\n",
        "               NBATH       5.6033408       1.8047248       3.1048173       0.0019040\n",
        "               NROOM       0.8935732       1.1024449       0.8105378       0.4176312\n",
        "               PATIO       7.0508864       2.8318830       2.4898226       0.0127807\n",
        "                SQFT       0.0743614       0.1698795       0.4377300       0.6615820\n",
        "             W_PRICE       0.4809951       0.0709521       6.7791488       0.0000000\n",
        "------------------------------------------------------------------------------------\n",
        "Instrumented: W_PRICE\n",
        "Instruments: W2_AC, W2_AGE, W2_FIREPL, W2_GAR, W2_LOTSZ, W2_NBATH, W2_NROOM,\n",
        "             W2_PATIO, W2_SQFT, W3_AC, W3_AGE, W3_FIREPL, W3_GAR, W3_LOTSZ,\n",
        "             W3_NBATH, W3_NROOM, W3_PATIO, W3_SQFT, W_AC, W_AGE, W_FIREPL,\n",
        "             W_GAR, W_LOTSZ, W_NBATH, W_NROOM, W_PATIO, W_SQFT\n",
        "================================ END OF REPORT =====================================\n"
       ]
      }
     ],
     "prompt_number": 11
    },
    {
     "cell_type": "markdown",
     "metadata": {},
     "source": [
      "###Direct, Indirect and Total Effects###"
     ]
    },
    {
     "cell_type": "markdown",
     "metadata": {},
     "source": [
      "extract the regression coefficients"
     ]
    },
    {
     "cell_type": "code",
     "collapsed": false,
     "input": [
      "b = reg1.betas[:-1]"
     ],
     "language": "python",
     "metadata": {},
     "outputs": [],
     "prompt_number": 12
    },
    {
     "cell_type": "markdown",
     "metadata": {},
     "source": [
      "extract the spatial autoregressive coefficient"
     ]
    },
    {
     "cell_type": "code",
     "collapsed": false,
     "input": [
      "rho = reg1.betas[-1]"
     ],
     "language": "python",
     "metadata": {},
     "outputs": [],
     "prompt_number": 13
    },
    {
     "cell_type": "markdown",
     "metadata": {},
     "source": [
      "total effect using the multiplier"
     ]
    },
    {
     "cell_type": "code",
     "collapsed": false,
     "input": [
      "btot = b / (1.0 - rho)"
     ],
     "language": "python",
     "metadata": {},
     "outputs": [],
     "prompt_number": 14
    },
    {
     "cell_type": "markdown",
     "metadata": {},
     "source": [
      "indirect effect"
     ]
    },
    {
     "cell_type": "code",
     "collapsed": false,
     "input": [
      "bind = btot - b"
     ],
     "language": "python",
     "metadata": {},
     "outputs": [],
     "prompt_number": 15
    },
    {
     "cell_type": "markdown",
     "metadata": {},
     "source": [
      "summary of the results"
     ]
    },
    {
     "cell_type": "code",
     "collapsed": false,
     "input": [
      "varnames = [\"CONSTANT\"] + x_names\n",
      "print \"Variable       Direct       Indirect      Total\"\n",
      "for i in range(len(varnames)):\n",
      "    print \"%10s %12.7f %12.7f %12.7f\" % (varnames[i],b[i][0],bind[i][0],btot[i][0])"
     ],
     "language": "python",
     "metadata": {},
     "outputs": [
      {
       "output_type": "stream",
       "stream": "stdout",
       "text": [
        "Variable       Direct       Indirect      Total\n",
        "  CONSTANT    1.3276578    1.2160026    2.5436604\n",
        "     NROOM    0.8894675    0.8146638    1.7041313\n",
        "     NBATH    5.6036165    5.1323558   10.7359723\n",
        "     PATIO    7.0709845    6.4763190   13.5473035\n",
        "    FIREPL    7.1552855    6.5535304   13.7088159\n",
        "        AC    6.4790945    5.9342066   12.4133011\n",
        "       GAR    3.6751527    3.3660746    7.0412273\n",
        "       AGE   -0.0942686   -0.0863407   -0.1806092\n",
        "     LOTSZ    0.0674761    0.0618014    0.1292775\n",
        "      SQFT    0.0750551    0.0687430    0.1437982\n"
       ]
      }
     ],
     "prompt_number": 21
    },
    {
     "cell_type": "markdown",
     "metadata": {},
     "source": [
      "##Spatial 2SLS with Spatial Diagnostics##"
     ]
    },
    {
     "cell_type": "markdown",
     "metadata": {},
     "source": [
      "set **spat_diag = True**"
     ]
    },
    {
     "cell_type": "code",
     "collapsed": false,
     "input": [
      "reg3 = pysal.spreg.GM_Lag(y,x,w=w,spat_diag=True,\n",
      "                          name_y=y_name,name_x=x_names,\n",
      "                          name_w='baltim_k4',name_ds='baltim')"
     ],
     "language": "python",
     "metadata": {},
     "outputs": [],
     "prompt_number": 22
    },
    {
     "cell_type": "code",
     "collapsed": false,
     "input": [
      "print reg3.summary"
     ],
     "language": "python",
     "metadata": {},
     "outputs": [
      {
       "output_type": "stream",
       "stream": "stdout",
       "text": [
        "REGRESSION\n",
        "----------\n",
        "SUMMARY OF OUTPUT: SPATIAL TWO STAGE LEAST SQUARES\n",
        "--------------------------------------------------\n",
        "Data set            :      baltim\n",
        "Weights matrix      :   baltim_k4\n",
        "Dependent Variable  :       PRICE                Number of Observations:         211\n",
        "Mean dependent var  :     44.3072                Number of Variables   :          11\n",
        "S.D. dependent var  :     23.6061                Degrees of Freedom    :         200\n",
        "Pseudo R-squared    :      0.7064\n",
        "Spatial Pseudo R-squared:  0.6856\n",
        "\n",
        "------------------------------------------------------------------------------------\n",
        "            Variable     Coefficient       Std.Error     z-Statistic     Probability\n",
        "------------------------------------------------------------------------------------\n",
        "            CONSTANT       1.3276578       5.7718694       0.2300222       0.8180746\n",
        "                  AC       6.4790945       2.4253311       2.6714268       0.0075530\n",
        "                 AGE      -0.0942686       0.0544832      -1.7302327       0.0835887\n",
        "              FIREPL       7.1552855       2.5203968       2.8389519       0.0045262\n",
        "                 GAR       3.6751527       1.7756639       2.0697344       0.0384772\n",
        "               LOTSZ       0.0674761       0.0153788       4.3875982       0.0000115\n",
        "               NBATH       5.6036165       1.8043761       3.1055700       0.0018991\n",
        "               NROOM       0.8894675       1.1026083       0.8066940       0.4198428\n",
        "               PATIO       7.0709845       2.8348494       2.4943069       0.0126203\n",
        "                SQFT       0.0750551       0.1699164       0.4417178       0.6586934\n",
        "             W_PRICE       0.4780523       0.0738868       6.4700639       0.0000000\n",
        "------------------------------------------------------------------------------------\n",
        "Instrumented: W_PRICE\n",
        "Instruments: W_AC, W_AGE, W_FIREPL, W_GAR, W_LOTSZ, W_NBATH, W_NROOM,\n",
        "             W_PATIO, W_SQFT\n",
        "\n",
        "DIAGNOSTICS FOR SPATIAL DEPENDENCE\n",
        "TEST                           MI/DF       VALUE           PROB\n",
        "Anselin-Kelejian Test             1           3.390          0.0656\n",
        "================================ END OF REPORT =====================================\n"
       ]
      }
     ],
     "prompt_number": 23
    },
    {
     "cell_type": "markdown",
     "metadata": {},
     "source": [
      "##Spatial 2SLS with White Standard Errors##"
     ]
    },
    {
     "cell_type": "markdown",
     "metadata": {},
     "source": [
      "set **robust = 'white'**"
     ]
    },
    {
     "cell_type": "code",
     "collapsed": false,
     "input": [
      "reg4 = pysal.spreg.GM_Lag(y,x,w=w,robust='white',\n",
      "                          spat_diag=True,name_y=y_name,name_x=x_names,\n",
      "                          name_w='baltim_k4',name_ds='baltim')"
     ],
     "language": "python",
     "metadata": {},
     "outputs": [],
     "prompt_number": 24
    },
    {
     "cell_type": "code",
     "collapsed": false,
     "input": [
      "print reg4.summary"
     ],
     "language": "python",
     "metadata": {},
     "outputs": [
      {
       "output_type": "stream",
       "stream": "stdout",
       "text": [
        "REGRESSION\n",
        "----------\n",
        "SUMMARY OF OUTPUT: SPATIAL TWO STAGE LEAST SQUARES\n",
        "--------------------------------------------------\n",
        "Data set            :      baltim\n",
        "Weights matrix      :   baltim_k4\n",
        "Dependent Variable  :       PRICE                Number of Observations:         211\n",
        "Mean dependent var  :     44.3072                Number of Variables   :          11\n",
        "S.D. dependent var  :     23.6061                Degrees of Freedom    :         200\n",
        "Pseudo R-squared    :      0.7064\n",
        "Spatial Pseudo R-squared:  0.6856\n",
        "\n",
        "White Standard Errors\n",
        "------------------------------------------------------------------------------------\n",
        "            Variable     Coefficient       Std.Error     z-Statistic     Probability\n",
        "------------------------------------------------------------------------------------\n",
        "            CONSTANT       1.3276578       7.0498787       0.1883235       0.8506231\n",
        "                  AC       6.4790945       2.6957981       2.4034050       0.0162432\n",
        "                 AGE      -0.0942686       0.0985737      -0.9563261       0.3389075\n",
        "              FIREPL       7.1552855       2.4338903       2.9398554       0.0032837\n",
        "                 GAR       3.6751527       2.3904033       1.5374614       0.1241804\n",
        "               LOTSZ       0.0674761       0.0251552       2.6823926       0.0073098\n",
        "               NBATH       5.6036165       2.1970447       2.5505246       0.0107561\n",
        "               NROOM       0.8894675       1.3949334       0.6376415       0.5237071\n",
        "               PATIO       7.0709845       3.1925381       2.2148473       0.0267705\n",
        "                SQFT       0.0750551       0.2227874       0.3368913       0.7361989\n",
        "             W_PRICE       0.4780523       0.1265144       3.7786378       0.0001577\n",
        "------------------------------------------------------------------------------------\n",
        "Instrumented: W_PRICE\n",
        "Instruments: W_AC, W_AGE, W_FIREPL, W_GAR, W_LOTSZ, W_NBATH, W_NROOM,\n",
        "             W_PATIO, W_SQFT\n",
        "\n",
        "DIAGNOSTICS FOR SPATIAL DEPENDENCE\n",
        "TEST                           MI/DF       VALUE           PROB\n",
        "Anselin-Kelejian Test             1           3.390          0.0656\n",
        "================================ END OF REPORT =====================================\n"
       ]
      }
     ],
     "prompt_number": 25
    },
    {
     "cell_type": "markdown",
     "metadata": {},
     "source": [
      "##Spatial 2SLS with HAC Standard Errors##"
     ]
    },
    {
     "cell_type": "markdown",
     "metadata": {},
     "source": [
      "set **robust = 'hac'**"
     ]
    },
    {
     "cell_type": "code",
     "collapsed": false,
     "input": [
      "reg5 = pysal.spreg.GM_Lag(y,x,w=w,robust='hac',gwk=kw12,\n",
      "                          spat_diag=True,name_y=y_name,name_x=x_names,\n",
      "                          name_w='baltim_k4',name_gwk='baltim_tri_k12',\n",
      "                          name_ds='baltim')"
     ],
     "language": "python",
     "metadata": {},
     "outputs": [],
     "prompt_number": 26
    },
    {
     "cell_type": "code",
     "collapsed": false,
     "input": [
      "print reg5.summary"
     ],
     "language": "python",
     "metadata": {},
     "outputs": [
      {
       "output_type": "stream",
       "stream": "stdout",
       "text": [
        "REGRESSION\n",
        "----------\n",
        "SUMMARY OF OUTPUT: SPATIAL TWO STAGE LEAST SQUARES\n",
        "--------------------------------------------------\n",
        "Data set            :      baltim\n",
        "Weights matrix      :   baltim_k4\n",
        "Dependent Variable  :       PRICE                Number of Observations:         211\n",
        "Mean dependent var  :     44.3072                Number of Variables   :          11\n",
        "S.D. dependent var  :     23.6061                Degrees of Freedom    :         200\n",
        "Pseudo R-squared    :      0.7064\n",
        "Spatial Pseudo R-squared:  0.6856\n",
        "\n",
        "HAC Standard Errors; Kernel Weights: baltim_tri_k12\n",
        "------------------------------------------------------------------------------------\n",
        "            Variable     Coefficient       Std.Error     z-Statistic     Probability\n",
        "------------------------------------------------------------------------------------\n",
        "            CONSTANT       1.3276578       7.3836487       0.1798105       0.8573013\n",
        "                  AC       6.4790945       2.9269975       2.2135633       0.0268588\n",
        "                 AGE      -0.0942686       0.0965855      -0.9760116       0.3290587\n",
        "              FIREPL       7.1552855       2.3991793       2.9823888       0.0028601\n",
        "                 GAR       3.6751527       2.4484638       1.5010035       0.1333547\n",
        "               LOTSZ       0.0674761       0.0229780       2.9365495       0.0033189\n",
        "               NBATH       5.6036165       2.1947207       2.5532253       0.0106730\n",
        "               NROOM       0.8894675       1.4151498       0.6285324       0.5296552\n",
        "               PATIO       7.0709845       3.1710956       2.2298238       0.0257591\n",
        "                SQFT       0.0750551       0.1979195       0.3792205       0.7045241\n",
        "             W_PRICE       0.4780523       0.1140101       4.1930676       0.0000275\n",
        "------------------------------------------------------------------------------------\n",
        "Instrumented: W_PRICE\n",
        "Instruments: W_AC, W_AGE, W_FIREPL, W_GAR, W_LOTSZ, W_NBATH, W_NROOM,\n",
        "             W_PATIO, W_SQFT\n",
        "\n",
        "DIAGNOSTICS FOR SPATIAL DEPENDENCE\n",
        "TEST                           MI/DF       VALUE           PROB\n",
        "Anselin-Kelejian Test             1           3.390          0.0656\n",
        "================================ END OF REPORT =====================================\n"
       ]
      }
     ],
     "prompt_number": 27
    },
    {
     "cell_type": "markdown",
     "metadata": {},
     "source": [
      "###Spatial Lag Model with other Endogenous Variables###"
     ]
    },
    {
     "cell_type": "markdown",
     "metadata": {},
     "source": [
      "create the variable arrays using the **nat** sample data set"
     ]
    },
    {
     "cell_type": "code",
     "collapsed": false,
     "input": [
      "db = pysal.open(pysal.examples.get_path('nat.dbf'),'r')\n",
      "y_name = \"HR90\"\n",
      "y = np.array([db.by_col(y_name)]).T\n",
      "x_names = ['RD90','MA90','PS90']\n",
      "x = np.array([db.by_col(var) for var in x_names]).T\n",
      "yend_names = ['UE90']\n",
      "yend = np.array([db.by_col(var) for var in yend_names]).T\n",
      "q_names = ['FH90','FP89','GI89']\n",
      "q = np.array([db.by_col(var) for var in q_names]).T"
     ],
     "language": "python",
     "metadata": {},
     "outputs": [],
     "prompt_number": 28
    },
    {
     "cell_type": "markdown",
     "metadata": {},
     "source": [
      "model weights"
     ]
    },
    {
     "cell_type": "code",
     "collapsed": false,
     "input": [
      "w = pysal.queen_from_shapefile(pysal.examples.get_path(\"NAT.shp\"),idVariable=\"FIPSNO\")\n",
      "w.transform = 'r'"
     ],
     "language": "python",
     "metadata": {},
     "outputs": [],
     "prompt_number": 29
    },
    {
     "cell_type": "markdown",
     "metadata": {},
     "source": [
      "###Spatial Lag with Endogenous Variables###"
     ]
    },
    {
     "cell_type": "code",
     "collapsed": false,
     "input": [
      "reg6 = pysal.spreg.GM_Lag(y,x,yend,q,w=w,spat_diag=True,\n",
      "                          name_y=y_name,name_x=x_names,name_yend=yend_names,\n",
      "                          name_q=q_names,name_w='natqueen',name_ds='nat')"
     ],
     "language": "python",
     "metadata": {},
     "outputs": [],
     "prompt_number": 30
    },
    {
     "cell_type": "code",
     "collapsed": false,
     "input": [
      "print reg6.summary"
     ],
     "language": "python",
     "metadata": {},
     "outputs": [
      {
       "output_type": "stream",
       "stream": "stdout",
       "text": [
        "REGRESSION\n",
        "----------\n",
        "SUMMARY OF OUTPUT: SPATIAL TWO STAGE LEAST SQUARES\n",
        "--------------------------------------------------\n",
        "Data set            :         nat\n",
        "Weights matrix      :    natqueen\n",
        "Dependent Variable  :        HR90                Number of Observations:        3085\n",
        "Mean dependent var  :      6.1829                Number of Variables   :           6\n",
        "S.D. dependent var  :      6.6414                Degrees of Freedom    :        3079\n",
        "Pseudo R-squared    :      0.4186\n",
        "Spatial Pseudo R-squared:  0.3914\n",
        "\n",
        "------------------------------------------------------------------------------------\n",
        "            Variable     Coefficient       Std.Error     z-Statistic     Probability\n",
        "------------------------------------------------------------------------------------\n",
        "            CONSTANT      10.0338240       1.3616383       7.3689349       0.0000000\n",
        "                MA90      -0.0500990       0.0286025      -1.7515613       0.0798493\n",
        "                PS90       1.5813070       0.1084249      14.5843567       0.0000000\n",
        "                RD90       4.4092974       0.2400482      18.3683863       0.0000000\n",
        "                UE90      -0.5182722       0.0882736      -5.8712062       0.0000000\n",
        "              W_HR90       0.2123364       0.0371805       5.7109639       0.0000000\n",
        "------------------------------------------------------------------------------------\n",
        "Instrumented: UE90, W_HR90\n",
        "Instruments: FH90, FP89, GI89, W_FH90, W_FP89, W_GI89, W_MA90, W_PS90,\n",
        "             W_RD90\n",
        "\n",
        "DIAGNOSTICS FOR SPATIAL DEPENDENCE\n",
        "TEST                           MI/DF       VALUE           PROB\n",
        "Anselin-Kelejian Test             1           2.517          0.1127\n",
        "================================ END OF REPORT =====================================\n"
       ]
      }
     ],
     "prompt_number": 31
    },
    {
     "cell_type": "markdown",
     "metadata": {},
     "source": [
      "without spatial lags for the instruments, set **lag_q = False**"
     ]
    },
    {
     "cell_type": "code",
     "collapsed": false,
     "input": [
      "reg7 = pysal.spreg.GM_Lag(y,x,yend,q,w=w,lag_q=False,spat_diag=True,\n",
      "                          name_y=y_name,name_x=x_names,name_yend=yend_names,\n",
      "                          name_q=q_names,name_w='nat_queen',name_ds='nat')"
     ],
     "language": "python",
     "metadata": {},
     "outputs": [],
     "prompt_number": 32
    },
    {
     "cell_type": "code",
     "collapsed": false,
     "input": [
      "print reg7.summary"
     ],
     "language": "python",
     "metadata": {},
     "outputs": [
      {
       "output_type": "stream",
       "stream": "stdout",
       "text": [
        "REGRESSION\n",
        "----------\n",
        "SUMMARY OF OUTPUT: SPATIAL TWO STAGE LEAST SQUARES\n",
        "--------------------------------------------------\n",
        "Data set            :         nat\n",
        "Weights matrix      :   nat_queen\n",
        "Dependent Variable  :        HR90                Number of Observations:        3085\n",
        "Mean dependent var  :      6.1829                Number of Variables   :           6\n",
        "S.D. dependent var  :      6.6414                Degrees of Freedom    :        3079\n",
        "Pseudo R-squared    :      0.4076\n",
        "Spatial Pseudo R-squared:  0.3802\n",
        "\n",
        "------------------------------------------------------------------------------------\n",
        "            Variable     Coefficient       Std.Error     z-Statistic     Probability\n",
        "------------------------------------------------------------------------------------\n",
        "            CONSTANT      11.2850228       1.4177538       7.9597903       0.0000000\n",
        "                MA90      -0.0601927       0.0290474      -2.0722259       0.0382444\n",
        "                PS90       1.6149324       0.1105060      14.6139849       0.0000000\n",
        "                RD90       4.6642007       0.2537771      18.3791221       0.0000000\n",
        "                UE90      -0.6580528       0.0951942      -6.9127375       0.0000000\n",
        "              W_HR90       0.2163835       0.0389967       5.5487653       0.0000000\n",
        "------------------------------------------------------------------------------------\n",
        "Instrumented: UE90, W_HR90\n",
        "Instruments: FH90, FP89, GI89, W_MA90, W_PS90, W_RD90\n",
        "\n",
        "DIAGNOSTICS FOR SPATIAL DEPENDENCE\n",
        "TEST                           MI/DF       VALUE           PROB\n",
        "Anselin-Kelejian Test             1           2.442          0.1182\n",
        "================================ END OF REPORT =====================================\n"
       ]
      }
     ],
     "prompt_number": 33
    },
    {
     "cell_type": "code",
     "collapsed": false,
     "input": [],
     "language": "python",
     "metadata": {},
     "outputs": []
    }
   ],
   "metadata": {}
  }
 ]
}