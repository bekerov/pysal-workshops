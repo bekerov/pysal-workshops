{
 "metadata": {
  "name": "",
  "signature": "sha256:5a30d70c6981f4bf2f2fafdee1a29827f66eecca3411480ba3505678ba350370"
 },
 "nbformat": 3,
 "nbformat_minor": 0,
 "worksheets": [
  {
   "cells": [
    {
     "cell_type": "markdown",
     "metadata": {},
     "source": [
      "##Solutions to Practice Example Chapter 9##"
     ]
    },
    {
     "cell_type": "code",
     "collapsed": false,
     "input": [
      "import numpy as np\n",
      "import pysal"
     ],
     "language": "python",
     "metadata": {},
     "outputs": [],
     "prompt_number": 1
    },
    {
     "cell_type": "code",
     "collapsed": false,
     "input": [
      "db = pysal.open('data/boston.dbf','r')"
     ],
     "language": "python",
     "metadata": {},
     "outputs": [],
     "prompt_number": 2
    },
    {
     "cell_type": "code",
     "collapsed": false,
     "input": [
      "len(db)"
     ],
     "language": "python",
     "metadata": {},
     "outputs": [
      {
       "metadata": {},
       "output_type": "pyout",
       "prompt_number": 3,
       "text": [
        "506"
       ]
      }
     ],
     "prompt_number": 3
    },
    {
     "cell_type": "code",
     "collapsed": false,
     "input": [
      "db.header"
     ],
     "language": "python",
     "metadata": {},
     "outputs": [
      {
       "metadata": {},
       "output_type": "pyout",
       "prompt_number": 4,
       "text": [
        "['POLY_ID',\n",
        " 'ID',\n",
        " 'TOWN',\n",
        " 'TOWNNO',\n",
        " 'TRACT',\n",
        " 'LON',\n",
        " 'LAT',\n",
        " 'x',\n",
        " 'y',\n",
        " 'MEDV',\n",
        " 'CMEDV',\n",
        " 'CRIM',\n",
        " 'ZN',\n",
        " 'INDUS',\n",
        " 'CHAS',\n",
        " 'NOX',\n",
        " 'RM',\n",
        " 'AGE',\n",
        " 'DIS',\n",
        " 'RAD',\n",
        " 'TAX',\n",
        " 'PTRATIO',\n",
        " 'B',\n",
        " 'LSTAT']"
       ]
      }
     ],
     "prompt_number": 4
    },
    {
     "cell_type": "code",
     "collapsed": false,
     "input": [
      "y_name = 'MEDV'\n",
      "y = np.array([db.by_col(y_name)]).T"
     ],
     "language": "python",
     "metadata": {},
     "outputs": [],
     "prompt_number": 5
    },
    {
     "cell_type": "code",
     "collapsed": false,
     "input": [
      "x_names = ['CRIM','CHAS','NOX','RM','AGE','DIS','LSTAT']\n",
      "x = np.array([db.by_col(var) for var in x_names]).T"
     ],
     "language": "python",
     "metadata": {},
     "outputs": [],
     "prompt_number": 6
    },
    {
     "cell_type": "code",
     "collapsed": false,
     "input": [
      "w = pysal.knnW_from_shapefile('data/boston.shp',\n",
      "                                k=4,idVariable='POLY_ID')\n",
      "w.transform = 'r'"
     ],
     "language": "python",
     "metadata": {},
     "outputs": [],
     "prompt_number": 7
    },
    {
     "cell_type": "code",
     "collapsed": false,
     "input": [
      "w.n"
     ],
     "language": "python",
     "metadata": {},
     "outputs": [
      {
       "metadata": {},
       "output_type": "pyout",
       "prompt_number": 8,
       "text": [
        "506"
       ]
      }
     ],
     "prompt_number": 8
    },
    {
     "cell_type": "markdown",
     "metadata": {},
     "source": [
      "##GM##"
     ]
    },
    {
     "cell_type": "markdown",
     "metadata": {},
     "source": [
      "GM estimation (no inference for $\\lambda$"
     ]
    },
    {
     "cell_type": "code",
     "collapsed": false,
     "input": [
      "reg1 = pysal.spreg.GM_Error(y,x,w,name_y=y_name,name_x=x_names,\n",
      "                  name_w=\"boston_k4\",name_ds=\"boston.dbf\") "
     ],
     "language": "python",
     "metadata": {},
     "outputs": [],
     "prompt_number": 9
    },
    {
     "cell_type": "code",
     "collapsed": false,
     "input": [
      "print reg1.summary"
     ],
     "language": "python",
     "metadata": {},
     "outputs": [
      {
       "output_type": "stream",
       "stream": "stdout",
       "text": [
        "REGRESSION\n",
        "----------\n",
        "SUMMARY OF OUTPUT: SPATIALLY WEIGHTED LEAST SQUARES\n",
        "---------------------------------------------------\n",
        "Data set            :  boston.dbf\n",
        "Weights matrix      :   boston_k4\n",
        "Dependent Variable  :        MEDV                Number of Observations:         506\n",
        "Mean dependent var  :     22.5328                Number of Variables   :           8\n",
        "S.D. dependent var  :      9.1971                Degrees of Freedom    :         498\n",
        "Pseudo R-squared    :      0.6563\n",
        "\n",
        "------------------------------------------------------------------------------------\n",
        "            Variable     Coefficient       Std.Error     z-Statistic     Probability\n",
        "------------------------------------------------------------------------------------\n",
        "            CONSTANT      13.2030606       4.3315934       3.0480840       0.0023031\n",
        "                 AGE      -0.0439815       0.0137959      -3.1880025       0.0014326\n",
        "                CHAS       0.3561344       0.8493020       0.4193260       0.6749779\n",
        "                CRIM      -0.0997814       0.0278667      -3.5806686       0.0003427\n",
        "                 DIS      -1.2060859       0.2713816      -4.4442426       0.0000088\n",
        "               LSTAT      -0.3884304       0.0511833      -7.5890133       0.0000000\n",
        "                 NOX     -19.2017960       4.6625597      -4.1182949       0.0000382\n",
        "                  RM       5.2655604       0.3780721      13.9273967       0.0000000\n",
        "              lambda       0.6194043    \n",
        "------------------------------------------------------------------------------------\n",
        "================================ END OF REPORT =====================================\n"
       ]
      }
     ],
     "prompt_number": 10
    },
    {
     "cell_type": "markdown",
     "metadata": {},
     "source": [
      "##GMM##"
     ]
    },
    {
     "cell_type": "markdown",
     "metadata": {},
     "source": [
      "GMM estimation, heteroskedasticity"
     ]
    },
    {
     "cell_type": "code",
     "collapsed": false,
     "input": [
      "reg2 = pysal.spreg.GM_Error_Het(y,x,w,name_y=y_name,name_x=x_names,\n",
      "                  name_w=\"boston_k4\",name_ds=\"boston.dbf\")"
     ],
     "language": "python",
     "metadata": {},
     "outputs": [],
     "prompt_number": 11
    },
    {
     "cell_type": "code",
     "collapsed": false,
     "input": [
      "print reg2.summary"
     ],
     "language": "python",
     "metadata": {},
     "outputs": [
      {
       "output_type": "stream",
       "stream": "stdout",
       "text": [
        "REGRESSION\n",
        "----------\n",
        "SUMMARY OF OUTPUT: SPATIALLY WEIGHTED LEAST SQUARES (HET)\n",
        "---------------------------------------------------------\n",
        "Data set            :  boston.dbf\n",
        "Weights matrix      :   boston_k4\n",
        "Dependent Variable  :        MEDV                Number of Observations:         506\n",
        "Mean dependent var  :     22.5328                Number of Variables   :           8\n",
        "S.D. dependent var  :      9.1971                Degrees of Freedom    :         498\n",
        "Pseudo R-squared    :      0.6546\n",
        "N. of iterations    :           1                Step1c computed       :          No\n",
        "\n",
        "------------------------------------------------------------------------------------\n",
        "            Variable     Coefficient       Std.Error     z-Statistic     Probability\n",
        "------------------------------------------------------------------------------------\n",
        "            CONSTANT      13.3293495       7.9502765       1.6765894       0.0936228\n",
        "                 AGE      -0.0447930       0.0143511      -3.1212345       0.0018009\n",
        "                CHAS       0.2680795       1.3168505       0.2035763       0.8386847\n",
        "                CRIM      -0.0986761       0.0378155      -2.6094115       0.0090698\n",
        "                 DIS      -1.2035485       0.3259144      -3.6928361       0.0002218\n",
        "               LSTAT      -0.3824789       0.0897396      -4.2620956       0.0000203\n",
        "                 NOX     -19.4566834       5.1702338      -3.7632115       0.0001677\n",
        "                  RM       5.2668820       0.9616157       5.4771174       0.0000000\n",
        "              lambda       0.7319953       0.0516632      14.1685990       0.0000000\n",
        "------------------------------------------------------------------------------------\n",
        "================================ END OF REPORT =====================================\n"
       ]
      }
     ],
     "prompt_number": 12
    },
    {
     "cell_type": "markdown",
     "metadata": {},
     "source": [
      "GMM estimation, homoskedasticity"
     ]
    },
    {
     "cell_type": "code",
     "collapsed": false,
     "input": [
      "reg3 = pysal.spreg.GM_Error_Hom(y,x,w,name_y=y_name,name_x=x_names,\n",
      "           name_w=\"boston_k4\",name_ds=\"boston.dbf\")"
     ],
     "language": "python",
     "metadata": {},
     "outputs": [],
     "prompt_number": 13
    },
    {
     "cell_type": "code",
     "collapsed": false,
     "input": [
      "print reg3.summary"
     ],
     "language": "python",
     "metadata": {},
     "outputs": [
      {
       "output_type": "stream",
       "stream": "stdout",
       "text": [
        "REGRESSION\n",
        "----------\n",
        "SUMMARY OF OUTPUT: SPATIALLY WEIGHTED LEAST SQUARES (HOM)\n",
        "---------------------------------------------------------\n",
        "Data set            :  boston.dbf\n",
        "Weights matrix      :   boston_k4\n",
        "Dependent Variable  :        MEDV                Number of Observations:         506\n",
        "Mean dependent var  :     22.5328                Number of Variables   :           8\n",
        "S.D. dependent var  :      9.1971                Degrees of Freedom    :         498\n",
        "Pseudo R-squared    :      0.6563\n",
        "N. of iterations    :           1\n",
        "\n",
        "------------------------------------------------------------------------------------\n",
        "            Variable     Coefficient       Std.Error     z-Statistic     Probability\n",
        "------------------------------------------------------------------------------------\n",
        "            CONSTANT      13.2024291       4.4531626       2.9647310       0.0030295\n",
        "                 AGE      -0.0439774       0.0136983      -3.2104366       0.0013253\n",
        "                CHAS       0.3565845       0.8388698       0.4250772       0.6707804\n",
        "                CRIM      -0.0997870       0.0275156      -3.6265588       0.0002872\n",
        "                 DIS      -1.2060960       0.2933683      -4.1112010       0.0000394\n",
        "               LSTAT      -0.3884606       0.0509103      -7.6303011       0.0000000\n",
        "                 NOX     -19.2005124       4.8708867      -3.9418926       0.0000808\n",
        "                  RM       5.2655520       0.3725242      14.1347915       0.0000000\n",
        "              lambda       0.6914855       0.0311299      22.2129044       0.0000000\n",
        "------------------------------------------------------------------------------------\n",
        "================================ END OF REPORT =====================================\n"
       ]
      }
     ],
     "prompt_number": 14
    },
    {
     "cell_type": "code",
     "collapsed": false,
     "input": [],
     "language": "python",
     "metadata": {},
     "outputs": []
    }
   ],
   "metadata": {}
  }
 ]
}