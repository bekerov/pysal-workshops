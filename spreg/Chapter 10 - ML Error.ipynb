{
 "metadata": {
  "name": ""
 },
 "nbformat": 3,
 "nbformat_minor": 0,
 "worksheets": [
  {
   "cells": [
    {
     "cell_type": "markdown",
     "metadata": {},
     "source": [
      "This notebook contains the PySAL/spreg code for Chapter 10 - ML Error \n",
      "\n",
      "in\n",
      "Modern Spatial Econometrics in Practice: A Guide to GeoDa, GeoDaSpace and PySAL.\n",
      "\n",
      "by Luc Anselin and Sergio J. Rey\n",
      "\n",
      "(c) 2014 Luc Anselin and Sergio J. Rey, All Rights Reserved"
     ]
    },
    {
     "cell_type": "code",
     "collapsed": false,
     "input": [
      "__author__ = \"Luc Anselin luc.anselin@asu.edu\""
     ],
     "language": "python",
     "metadata": {},
     "outputs": [],
     "prompt_number": 1
    },
    {
     "cell_type": "markdown",
     "metadata": {},
     "source": [
      "##Basic Regression Setup##"
     ]
    },
    {
     "cell_type": "markdown",
     "metadata": {},
     "source": [
      "###Model Specification###"
     ]
    },
    {
     "cell_type": "markdown",
     "metadata": {},
     "source": [
      "**Creating arrays for y and x for south.dbf example data set**"
     ]
    },
    {
     "cell_type": "markdown",
     "metadata": {},
     "source": [
      "Preliminaries, import **numpy** and **pysal**"
     ]
    },
    {
     "cell_type": "code",
     "collapsed": false,
     "input": [
      "import numpy as np\n",
      "import pysal"
     ],
     "language": "python",
     "metadata": {},
     "outputs": [],
     "prompt_number": 2
    },
    {
     "cell_type": "markdown",
     "metadata": {},
     "source": [
      "Basic Model"
     ]
    },
    {
     "cell_type": "code",
     "collapsed": false,
     "input": [
      "db = pysal.open(pysal.examples.get_path('south.dbf'),'r')\n",
      "y_name = \"HR90\"\n",
      "y = np.array([db.by_col(y_name)]).T\n",
      "x_names = [\"RD90\",\"PS90\",\"UE90\",\"DV90\"]\n",
      "x = np.array([db.by_col(var) for var in x_names]).T"
     ],
     "language": "python",
     "metadata": {},
     "outputs": [],
     "prompt_number": 3
    },
    {
     "cell_type": "markdown",
     "metadata": {},
     "source": [
      "**Spatial Weights**"
     ]
    },
    {
     "cell_type": "markdown",
     "metadata": {},
     "source": [
      "Reading in the spatial weights"
     ]
    },
    {
     "cell_type": "code",
     "collapsed": false,
     "input": [
      "galw = pysal.open(pysal.examples.get_path(\"south_q.gal\"),'r')\n",
      "w = galw.read()\n",
      "galw.close\n",
      "w.transform = 'r'"
     ],
     "language": "python",
     "metadata": {},
     "outputs": [],
     "prompt_number": 4
    },
    {
     "cell_type": "markdown",
     "metadata": {},
     "source": [
      "Alternatively, creating from scratch"
     ]
    },
    {
     "cell_type": "code",
     "collapsed": false,
     "input": [
      "w = pysal.queen_from_shapefile(pysal.examples.get_path(\"south.shp\"),idVariable=\"FIPSNO\")\n",
      "w.transform = 'r'"
     ],
     "language": "python",
     "metadata": {},
     "outputs": [],
     "prompt_number": 5
    },
    {
     "cell_type": "markdown",
     "metadata": {},
     "source": [
      "##ML Error - Method Full##"
     ]
    },
    {
     "cell_type": "code",
     "collapsed": false,
     "input": [
      "%timeit reg1 = pysal.spreg.ML_Error(y,x,w,name_y=y_name,name_x=x_names,name_w = \"south_q\",name_ds = \"south\")"
     ],
     "language": "python",
     "metadata": {},
     "outputs": [
      {
       "output_type": "stream",
       "stream": "stdout",
       "text": [
        "1 loops, best of 3: 3.79 s per loop\n"
       ]
      }
     ],
     "prompt_number": 7
    },
    {
     "cell_type": "markdown",
     "metadata": {},
     "source": [
      "Contents of the ML_Error object"
     ]
    },
    {
     "cell_type": "code",
     "collapsed": false,
     "input": [
      "dir(reg1)"
     ],
     "language": "python",
     "metadata": {},
     "outputs": [
      {
       "metadata": {},
       "output_type": "pyout",
       "prompt_number": 7,
       "text": [
        "['__doc__',\n",
        " '__init__',\n",
        " '__module__',\n",
        " '__summary',\n",
        " '_cache',\n",
        " 'aic',\n",
        " 'betas',\n",
        " 'e_filtered',\n",
        " 'epsilon',\n",
        " 'get_x_lag',\n",
        " 'k',\n",
        " 'lam',\n",
        " 'logll',\n",
        " 'mean_y',\n",
        " 'method',\n",
        " 'n',\n",
        " 'name_ds',\n",
        " 'name_w',\n",
        " 'name_x',\n",
        " 'name_y',\n",
        " 'pr2',\n",
        " 'predy',\n",
        " 'schwarz',\n",
        " 'sig2',\n",
        " 'sig2n',\n",
        " 'sig2n_k',\n",
        " 'std_err',\n",
        " 'std_y',\n",
        " 'summary',\n",
        " 'title',\n",
        " 'u',\n",
        " 'utu',\n",
        " 'vm',\n",
        " 'vm1',\n",
        " 'x',\n",
        " 'y',\n",
        " 'z_stat']"
       ]
      }
     ],
     "prompt_number": 7
    },
    {
     "cell_type": "markdown",
     "metadata": {},
     "source": [
      "Regression coefficients, with lambda as last one"
     ]
    },
    {
     "cell_type": "code",
     "collapsed": false,
     "input": [
      "reg1.betas"
     ],
     "language": "python",
     "metadata": {},
     "outputs": [
      {
       "metadata": {},
       "output_type": "pyout",
       "prompt_number": 8,
       "text": [
        "array([[ 6.14922525],\n",
        "       [ 4.4024202 ],\n",
        "       [ 1.77837133],\n",
        "       [-0.37807317],\n",
        "       [ 0.48578574],\n",
        "       [ 0.29907774]])"
       ]
      }
     ],
     "prompt_number": 8
    },
    {
     "cell_type": "markdown",
     "metadata": {},
     "source": [
      "Lambda extracted"
     ]
    },
    {
     "cell_type": "code",
     "collapsed": false,
     "input": [
      "reg1.betas[-1][0]"
     ],
     "language": "python",
     "metadata": {},
     "outputs": [
      {
       "metadata": {},
       "output_type": "pyout",
       "prompt_number": 9,
       "text": [
        "0.29907773956801514"
       ]
      }
     ],
     "prompt_number": 9
    },
    {
     "cell_type": "markdown",
     "metadata": {},
     "source": [
      "Lambda explicitly"
     ]
    },
    {
     "cell_type": "code",
     "collapsed": false,
     "input": [
      "reg1.lam"
     ],
     "language": "python",
     "metadata": {},
     "outputs": [
      {
       "metadata": {},
       "output_type": "pyout",
       "prompt_number": 10,
       "text": [
        "0.29907773956801514"
       ]
      }
     ],
     "prompt_number": 10
    },
    {
     "cell_type": "markdown",
     "metadata": {},
     "source": [
      "Full listing"
     ]
    },
    {
     "cell_type": "code",
     "collapsed": false,
     "input": [
      "print reg1.summary"
     ],
     "language": "python",
     "metadata": {},
     "outputs": [
      {
       "output_type": "stream",
       "stream": "stdout",
       "text": [
        "REGRESSION\n",
        "----------\n",
        "SUMMARY OF OUTPUT: MAXIMUM LIKELIHOOD SPATIAL ERROR (METHOD = FULL)\n",
        "-------------------------------------------------------------------\n",
        "Data set            :       south\n",
        "Weights matrix      :     south_q\n",
        "Dependent Variable  :        HR90                Number of Observations:        1412\n",
        "Mean dependent var  :      9.5493                Number of Variables   :           5\n",
        "S.D. dependent var  :      7.0389                Degrees of Freedom    :        1407\n",
        "Pseudo R-squared    :      0.3058\n",
        "Sigma-square ML     :      32.407                Log likelihood        :   -4471.407\n",
        "S.E of regression   :       5.693                Akaike info criterion :    8952.814\n",
        "                                                 Schwarz criterion     :    8979.078\n",
        "\n",
        "------------------------------------------------------------------------------------\n",
        "            Variable     Coefficient       Std.Error     z-Statistic     Probability\n",
        "------------------------------------------------------------------------------------\n",
        "            CONSTANT       6.1492253       1.0318746       5.9592757       0.0000000\n",
        "                DV90       0.4857857       0.1217110       3.9913060       0.0000657\n",
        "                PS90       1.7783713       0.2131787       8.3421639       0.0000000\n",
        "                RD90       4.4024202       0.2355472      18.6901839       0.0000000\n",
        "                UE90      -0.3780732       0.0783852      -4.8232694       0.0000014\n",
        "              lambda       0.2990777       0.0378155       7.9088753       0.0000000\n",
        "------------------------------------------------------------------------------------\n",
        "================================ END OF REPORT =====================================\n"
       ]
      }
     ],
     "prompt_number": 11
    },
    {
     "cell_type": "markdown",
     "metadata": {},
     "source": [
      "##ML Error - Method Ord##"
     ]
    },
    {
     "cell_type": "code",
     "collapsed": false,
     "input": [
      "%timeit reg2 = pysal.spreg.ML_Error(y,x,w,method='ord',\\\n",
      "                                    name_y=y_name,name_x=x_names,name_w = \"south_q\",name_ds = \"south\")"
     ],
     "language": "python",
     "metadata": {},
     "outputs": [
      {
       "output_type": "stream",
       "stream": "stdout",
       "text": [
        "1 loops, best of 3: 2.37 s per loop\n"
       ]
      }
     ],
     "prompt_number": 9
    },
    {
     "cell_type": "markdown",
     "metadata": {},
     "source": [
      "Full listing of results"
     ]
    },
    {
     "cell_type": "code",
     "collapsed": false,
     "input": [
      "print reg2.summary"
     ],
     "language": "python",
     "metadata": {},
     "outputs": [
      {
       "output_type": "stream",
       "stream": "stdout",
       "text": [
        "REGRESSION\n",
        "----------\n",
        "SUMMARY OF OUTPUT: MAXIMUM LIKELIHOOD SPATIAL ERROR (METHOD = ORD)\n",
        "------------------------------------------------------------------\n",
        "Data set            :       south\n",
        "Weights matrix      :     south_q\n",
        "Dependent Variable  :        HR90                Number of Observations:        1412\n",
        "Mean dependent var  :      9.5493                Number of Variables   :           5\n",
        "S.D. dependent var  :      7.0389                Degrees of Freedom    :        1407\n",
        "Pseudo R-squared    :      0.3058\n",
        "Sigma-square ML     :      32.407                Log likelihood        :   -4471.407\n",
        "S.E of regression   :       5.693                Akaike info criterion :    8952.814\n",
        "                                                 Schwarz criterion     :    8979.078\n",
        "\n",
        "------------------------------------------------------------------------------------\n",
        "            Variable     Coefficient       Std.Error     z-Statistic     Probability\n",
        "------------------------------------------------------------------------------------\n",
        "            CONSTANT       6.1492248       1.0318746       5.9592751       0.0000000\n",
        "                DV90       0.4857858       0.1217110       3.9913061       0.0000657\n",
        "                PS90       1.7783713       0.2131787       8.3421633       0.0000000\n",
        "                RD90       4.4024201       0.2355472      18.6901830       0.0000000\n",
        "                UE90      -0.3780731       0.0783853      -4.8232687       0.0000014\n",
        "              lambda       0.2990778       0.0378155       7.9088780       0.0000000\n",
        "------------------------------------------------------------------------------------\n",
        "================================ END OF REPORT =====================================\n"
       ]
      }
     ],
     "prompt_number": 13
    }
   ],
   "metadata": {}
  }
 ]
}