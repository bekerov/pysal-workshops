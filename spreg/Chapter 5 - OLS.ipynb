{
 "metadata": {
  "name": "",
  "signature": "sha256:ad3943e80789e92997d7238171d2c8fc6e9e22d5993af2d462bff94b8c0d2e6b"
 },
 "nbformat": 3,
 "nbformat_minor": 0,
 "worksheets": [
  {
   "cells": [
    {
     "cell_type": "markdown",
     "metadata": {},
     "source": [
      "This notebook contains the PySAL/spreg code for Chapter 5 - OLS \n",
      "\n",
      "in\n",
      "Modern Spatial Econometrics in Practice: A Guide to GeoDa, GeoDaSpace and PySAL.\n",
      "\n",
      "by Luc Anselin and Sergio J. Rey\n",
      "\n",
      "(c) 2014 Luc Anselin and Sergio J. Rey, All Rights Reserved"
     ]
    },
    {
     "cell_type": "code",
     "collapsed": false,
     "input": [
      "__author__ = \"Luc Anselin luc.anselin@asu.edu\""
     ],
     "language": "python",
     "metadata": {},
     "outputs": [],
     "prompt_number": 1
    },
    {
     "cell_type": "markdown",
     "metadata": {},
     "source": [
      "##Basic Regression Setup##"
     ]
    },
    {
     "cell_type": "markdown",
     "metadata": {},
     "source": [
      "**Creating arrays for y and x using the Baltimore example**"
     ]
    },
    {
     "cell_type": "markdown",
     "metadata": {},
     "source": [
      "Preliminaries, importing **numpy** and **PySAL**"
     ]
    },
    {
     "cell_type": "code",
     "collapsed": false,
     "input": [
      "import numpy as np\n",
      "import pysal"
     ],
     "language": "python",
     "metadata": {},
     "outputs": [],
     "prompt_number": 18
    },
    {
     "cell_type": "markdown",
     "metadata": {},
     "source": [
      "Loading the data set and creating the data object\n",
      "\n",
      "This assumes that the sample data sets are contained in the 'data' subdirectory of the current working directory"
     ]
    },
    {
     "cell_type": "code",
     "collapsed": false,
     "input": [
      "db = pysal.open('data/baltim.dbf','r')"
     ],
     "language": "python",
     "metadata": {},
     "outputs": [],
     "prompt_number": 19
    },
    {
     "cell_type": "markdown",
     "metadata": {},
     "source": [
      "Quick check on the number of observations and the contents of the data set in the db object"
     ]
    },
    {
     "cell_type": "code",
     "collapsed": false,
     "input": [
      "len(db)"
     ],
     "language": "python",
     "metadata": {},
     "outputs": [
      {
       "metadata": {},
       "output_type": "pyout",
       "prompt_number": 20,
       "text": [
        "211"
       ]
      }
     ],
     "prompt_number": 20
    },
    {
     "cell_type": "code",
     "collapsed": false,
     "input": [
      "db.header"
     ],
     "language": "python",
     "metadata": {},
     "outputs": [
      {
       "metadata": {},
       "output_type": "pyout",
       "prompt_number": 21,
       "text": [
        "['STATION',\n",
        " 'PRICE',\n",
        " 'NROOM',\n",
        " 'DWELL',\n",
        " 'NBATH',\n",
        " 'PATIO',\n",
        " 'FIREPL',\n",
        " 'AC',\n",
        " 'BMENT',\n",
        " 'NSTOR',\n",
        " 'GAR',\n",
        " 'AGE',\n",
        " 'CITCOU',\n",
        " 'LOTSZ',\n",
        " 'SQFT',\n",
        " 'X',\n",
        " 'Y']"
       ]
      }
     ],
     "prompt_number": 21
    },
    {
     "cell_type": "markdown",
     "metadata": {},
     "source": [
      "**y** - dependent variable is PRICE"
     ]
    },
    {
     "cell_type": "code",
     "collapsed": false,
     "input": [
      "y_name = \"PRICE\""
     ],
     "language": "python",
     "metadata": {},
     "outputs": [],
     "prompt_number": 22
    },
    {
     "cell_type": "markdown",
     "metadata": {},
     "source": [
      "Create the y array as a n by 1 column vector (hence the transpose **T**)"
     ]
    },
    {
     "cell_type": "code",
     "collapsed": false,
     "input": [
      "y = np.array([db.by_col(y_name)]).T"
     ],
     "language": "python",
     "metadata": {},
     "outputs": [],
     "prompt_number": 23
    },
    {
     "cell_type": "markdown",
     "metadata": {},
     "source": [
      "Check on the dimensions"
     ]
    },
    {
     "cell_type": "code",
     "collapsed": false,
     "input": [
      "y.shape"
     ],
     "language": "python",
     "metadata": {},
     "outputs": [
      {
       "metadata": {},
       "output_type": "pyout",
       "prompt_number": 24,
       "text": [
        "(211, 1)"
       ]
      }
     ],
     "prompt_number": 24
    },
    {
     "cell_type": "markdown",
     "metadata": {},
     "source": [
      "**x** - the explanatory variables\n",
      "\n",
      "First create a list with the variable names, then use a list comprehension to create the **x** array"
     ]
    },
    {
     "cell_type": "code",
     "collapsed": false,
     "input": [
      "x_names = ['NROOM','NBATH','PATIO','FIREPL','AC','GAR','AGE',\n",
      "           'LOTSZ','SQFT']\n",
      "x = np.array([db.by_col(var) for var in x_names]).T"
     ],
     "language": "python",
     "metadata": {},
     "outputs": [],
     "prompt_number": 25
    },
    {
     "cell_type": "markdown",
     "metadata": {},
     "source": [
      "Check on dimensions"
     ]
    },
    {
     "cell_type": "code",
     "collapsed": false,
     "input": [
      "x.shape"
     ],
     "language": "python",
     "metadata": {},
     "outputs": [
      {
       "metadata": {},
       "output_type": "pyout",
       "prompt_number": 26,
       "text": [
        "(211, 9)"
       ]
      }
     ],
     "prompt_number": 26
    },
    {
     "cell_type": "markdown",
     "metadata": {},
     "source": [
      "**Model weights** - needed for spatial diagnostics"
     ]
    },
    {
     "cell_type": "markdown",
     "metadata": {},
     "source": [
      "k nearest neighbor with k=4 constructed from baltim.shp, using STATION as the ID variable"
     ]
    },
    {
     "cell_type": "code",
     "collapsed": false,
     "input": [
      "w = pysal.knnW_from_shapefile('data/baltim.shp',\n",
      "                                k=4,idVariable='STATION')"
     ],
     "language": "python",
     "metadata": {},
     "outputs": [],
     "prompt_number": 27
    },
    {
     "cell_type": "markdown",
     "metadata": {},
     "source": [
      "Quick check on dimension"
     ]
    },
    {
     "cell_type": "code",
     "collapsed": false,
     "input": [
      "w.n"
     ],
     "language": "python",
     "metadata": {},
     "outputs": [
      {
       "metadata": {},
       "output_type": "pyout",
       "prompt_number": 28,
       "text": [
        "211"
       ]
      }
     ],
     "prompt_number": 28
    },
    {
     "cell_type": "markdown",
     "metadata": {},
     "source": [
      "row-standardize - is **always** necessary"
     ]
    },
    {
     "cell_type": "code",
     "collapsed": false,
     "input": [
      "w.transform = 'r'"
     ],
     "language": "python",
     "metadata": {},
     "outputs": [],
     "prompt_number": 29
    },
    {
     "cell_type": "markdown",
     "metadata": {},
     "source": [
      "Quick check on the values of the weights"
     ]
    },
    {
     "cell_type": "code",
     "collapsed": false,
     "input": [
      "w.weights[1]"
     ],
     "language": "python",
     "metadata": {},
     "outputs": [
      {
       "metadata": {},
       "output_type": "pyout",
       "prompt_number": 30,
       "text": [
        "[0.25, 0.25, 0.25, 0.25]"
       ]
      }
     ],
     "prompt_number": 30
    },
    {
     "cell_type": "markdown",
     "metadata": {},
     "source": [
      "**Kernel weights** - needed for HAC standard error option"
     ]
    },
    {
     "cell_type": "markdown",
     "metadata": {},
     "source": [
      "triangular adaptive bandwidth kernel with k=12, constructed from baltim shape file"
     ]
    },
    {
     "cell_type": "code",
     "collapsed": false,
     "input": [
      "kw = pysal.adaptive_kernelW_from_shapefile('data/baltim.shp',\n",
      "                                             k=12,idVariable='STATION')"
     ],
     "language": "python",
     "metadata": {},
     "outputs": [],
     "prompt_number": 31
    },
    {
     "cell_type": "markdown",
     "metadata": {},
     "source": [
      "Check on dimension and actual weights - Note how diagonal element = 1, not 0"
     ]
    },
    {
     "cell_type": "code",
     "collapsed": false,
     "input": [
      "kw.n"
     ],
     "language": "python",
     "metadata": {},
     "outputs": [
      {
       "metadata": {},
       "output_type": "pyout",
       "prompt_number": 32,
       "text": [
        "211"
       ]
      }
     ],
     "prompt_number": 32
    },
    {
     "cell_type": "code",
     "collapsed": false,
     "input": [
      "kw.weights[1]"
     ],
     "language": "python",
     "metadata": {},
     "outputs": [
      {
       "metadata": {},
       "output_type": "pyout",
       "prompt_number": 33,
       "text": [
        "[1.0,\n",
        " 0.4849212978701576,\n",
        " 0.3611234988877102,\n",
        " 0.33567595079889523,\n",
        " 0.31302206649524533,\n",
        " 0.2768409033403173,\n",
        " 0.27156871375844516,\n",
        " 0.14137042299357871,\n",
        " 0.1179222999771653,\n",
        " 0.08526805755421585,\n",
        " 0.0564397505258174,\n",
        " 0.007682671413889897,\n",
        " 9.99999900663795e-08]"
       ]
      }
     ],
     "prompt_number": 33
    },
    {
     "cell_type": "markdown",
     "metadata": {},
     "source": [
      "##Basic OLS##"
     ]
    },
    {
     "cell_type": "markdown",
     "metadata": {},
     "source": [
      "**Default settings, no variable names**"
     ]
    },
    {
     "cell_type": "code",
     "collapsed": false,
     "input": [
      "ols1 = pysal.spreg.OLS(y,x)"
     ],
     "language": "python",
     "metadata": {},
     "outputs": [],
     "prompt_number": 34
    },
    {
     "cell_type": "markdown",
     "metadata": {},
     "source": [
      "the regression coefficiens, in the order of the columns of **x**"
     ]
    },
    {
     "cell_type": "code",
     "collapsed": false,
     "input": [
      "ols1.betas"
     ],
     "language": "python",
     "metadata": {},
     "outputs": [
      {
       "metadata": {},
       "output_type": "pyout",
       "prompt_number": 35,
       "text": [
        "array([[ 23.26999634],\n",
        "       [  0.22249352],\n",
        "       [  5.64840507],\n",
        "       [ 10.33587549],\n",
        "       [ 11.17272765],\n",
        "       [  7.85416373],\n",
        "       [  5.40206849],\n",
        "       [ -0.21345497],\n",
        "       [  0.09490639],\n",
        "       [  0.18775621]])"
       ]
      }
     ],
     "prompt_number": 35
    },
    {
     "cell_type": "markdown",
     "metadata": {},
     "source": [
      "pretty output, but no variable names (coefficients in order of columns of **x**) or any other descriptive information about \n",
      "the data set, etc."
     ]
    },
    {
     "cell_type": "code",
     "collapsed": false,
     "input": [
      "print ols1.summary"
     ],
     "language": "python",
     "metadata": {},
     "outputs": [
      {
       "output_type": "stream",
       "stream": "stdout",
       "text": [
        "REGRESSION\n",
        "----------\n",
        "SUMMARY OF OUTPUT: ORDINARY LEAST SQUARES\n",
        "-----------------------------------------\n",
        "Data set            :     unknown\n",
        "Dependent Variable  :     dep_var                Number of Observations:         211\n",
        "Mean dependent var  :     44.3072                Number of Variables   :          10\n",
        "S.D. dependent var  :     23.6061                Degrees of Freedom    :         201\n",
        "R-squared           :      0.6500\n",
        "Adjusted R-squared  :      0.6343\n",
        "Sum squared residual:   40960.463                F-statistic           :     41.4718\n",
        "Sigma-square        :     203.783                Prob(F-statistic)     :    3.24e-41\n",
        "S.E. of regression  :      14.275                Log likelihood        :    -855.223\n",
        "Sigma-square ML     :     194.125                Akaike info criterion :    1730.446\n",
        "S.E of regression ML:     13.9329                Schwarz criterion     :    1763.965\n",
        "\n",
        "------------------------------------------------------------------------------------\n",
        "            Variable     Coefficient       Std.Error     t-Statistic     Probability\n",
        "------------------------------------------------------------------------------------\n",
        "            CONSTANT      23.2699963       5.2241658       4.4542989       0.0000140\n",
        "               var_1       0.2224935       1.2279277       0.1811943       0.8563976\n",
        "               var_2       5.6484051       2.0182820       2.7986204       0.0056318\n",
        "               var_3      10.3358755       3.1202987       3.3124635       0.0010966\n",
        "               var_4      11.1727277       2.7323132       4.0891094       0.0000626\n",
        "               var_5       7.8541637       2.7024343       2.9063292       0.0040671\n",
        "               var_6       5.4020685       1.9636140       2.7510848       0.0064824\n",
        "               var_7      -0.2134550       0.0573535      -3.7217456       0.0002568\n",
        "               var_8       0.0949064       0.0165355       5.7395480       0.0000000\n",
        "               var_9       0.1877562       0.1890598       0.9931047       0.3218530\n",
        "------------------------------------------------------------------------------------\n",
        "\n",
        "REGRESSION DIAGNOSTICS\n",
        "MULTICOLLINEARITY CONDITION NUMBER           20.609\n",
        "\n",
        "TEST ON NORMALITY OF ERRORS\n",
        "TEST                             DF        VALUE           PROB\n",
        "Jarque-Bera                       2         429.933           0.0000\n",
        "\n",
        "DIAGNOSTICS FOR HETEROSKEDASTICITY\n",
        "RANDOM COEFFICIENTS\n",
        "TEST                             DF        VALUE           PROB\n",
        "Breusch-Pagan test                9         167.792           0.0000\n",
        "Koenker-Bassett test              9          39.197           0.0000\n",
        "================================ END OF REPORT =====================================\n"
       ]
      }
     ],
     "prompt_number": 36
    },
    {
     "cell_type": "markdown",
     "metadata": {},
     "source": [
      "**OLS with variable and data set names**"
     ]
    },
    {
     "cell_type": "code",
     "collapsed": false,
     "input": [
      "ols1a = pysal.spreg.OLS(y,x,name_y=y_name,name_x=x_names,\n",
      "                        name_ds='baltim.shp')"
     ],
     "language": "python",
     "metadata": {},
     "outputs": [],
     "prompt_number": 37
    },
    {
     "cell_type": "code",
     "collapsed": false,
     "input": [
      "print ols1a.summary"
     ],
     "language": "python",
     "metadata": {},
     "outputs": [
      {
       "output_type": "stream",
       "stream": "stdout",
       "text": [
        "REGRESSION\n",
        "----------\n",
        "SUMMARY OF OUTPUT: ORDINARY LEAST SQUARES\n",
        "-----------------------------------------\n",
        "Data set            :  baltim.shp\n",
        "Dependent Variable  :       PRICE                Number of Observations:         211\n",
        "Mean dependent var  :     44.3072                Number of Variables   :          10\n",
        "S.D. dependent var  :     23.6061                Degrees of Freedom    :         201\n",
        "R-squared           :      0.6500\n",
        "Adjusted R-squared  :      0.6343\n",
        "Sum squared residual:   40960.463                F-statistic           :     41.4718\n",
        "Sigma-square        :     203.783                Prob(F-statistic)     :    3.24e-41\n",
        "S.E. of regression  :      14.275                Log likelihood        :    -855.223\n",
        "Sigma-square ML     :     194.125                Akaike info criterion :    1730.446\n",
        "S.E of regression ML:     13.9329                Schwarz criterion     :    1763.965\n",
        "\n",
        "------------------------------------------------------------------------------------\n",
        "            Variable     Coefficient       Std.Error     t-Statistic     Probability\n",
        "------------------------------------------------------------------------------------\n",
        "            CONSTANT      23.2699963       5.2241658       4.4542989       0.0000140\n",
        "                  AC       7.8541637       2.7024343       2.9063292       0.0040671\n",
        "                 AGE      -0.2134550       0.0573535      -3.7217456       0.0002568\n",
        "              FIREPL      11.1727277       2.7323132       4.0891094       0.0000626\n",
        "                 GAR       5.4020685       1.9636140       2.7510848       0.0064824\n",
        "               LOTSZ       0.0949064       0.0165355       5.7395480       0.0000000\n",
        "               NBATH       5.6484051       2.0182820       2.7986204       0.0056318\n",
        "               NROOM       0.2224935       1.2279277       0.1811943       0.8563976\n",
        "               PATIO      10.3358755       3.1202987       3.3124635       0.0010966\n",
        "                SQFT       0.1877562       0.1890598       0.9931047       0.3218530\n",
        "------------------------------------------------------------------------------------\n",
        "\n",
        "REGRESSION DIAGNOSTICS\n",
        "MULTICOLLINEARITY CONDITION NUMBER           20.609\n",
        "\n",
        "TEST ON NORMALITY OF ERRORS\n",
        "TEST                             DF        VALUE           PROB\n",
        "Jarque-Bera                       2         429.933           0.0000\n",
        "\n",
        "DIAGNOSTICS FOR HETEROSKEDASTICITY\n",
        "RANDOM COEFFICIENTS\n",
        "TEST                             DF        VALUE           PROB\n",
        "Breusch-Pagan test                9         167.792           0.0000\n",
        "Koenker-Bassett test              9          39.197           0.0000\n",
        "================================ END OF REPORT =====================================\n"
       ]
      }
     ],
     "prompt_number": 38
    },
    {
     "cell_type": "markdown",
     "metadata": {},
     "source": [
      "note how the order of the coefficients is different from before, it follows the alfabetical order of the\n",
      "variable names"
     ]
    },
    {
     "cell_type": "markdown",
     "metadata": {},
     "source": [
      "##OLS with White Test##"
     ]
    },
    {
     "cell_type": "markdown",
     "metadata": {},
     "source": [
      "set **white_test = True**"
     ]
    },
    {
     "cell_type": "code",
     "collapsed": false,
     "input": [
      "ols2 = pysal.spreg.OLS(y,x,white_test=True,name_y=y_name,\n",
      "                       name_x=x_names,name_ds='baltim.shp')"
     ],
     "language": "python",
     "metadata": {},
     "outputs": [],
     "prompt_number": 39
    },
    {
     "cell_type": "code",
     "collapsed": false,
     "input": [
      "print ols2.summary"
     ],
     "language": "python",
     "metadata": {},
     "outputs": [
      {
       "output_type": "stream",
       "stream": "stdout",
       "text": [
        "REGRESSION\n",
        "----------\n",
        "SUMMARY OF OUTPUT: ORDINARY LEAST SQUARES\n",
        "-----------------------------------------\n",
        "Data set            :  baltim.shp\n",
        "Dependent Variable  :       PRICE                Number of Observations:         211\n",
        "Mean dependent var  :     44.3072                Number of Variables   :          10\n",
        "S.D. dependent var  :     23.6061                Degrees of Freedom    :         201\n",
        "R-squared           :      0.6500\n",
        "Adjusted R-squared  :      0.6343\n",
        "Sum squared residual:   40960.463                F-statistic           :     41.4718\n",
        "Sigma-square        :     203.783                Prob(F-statistic)     :    3.24e-41\n",
        "S.E. of regression  :      14.275                Log likelihood        :    -855.223\n",
        "Sigma-square ML     :     194.125                Akaike info criterion :    1730.446\n",
        "S.E of regression ML:     13.9329                Schwarz criterion     :    1763.965\n",
        "\n",
        "------------------------------------------------------------------------------------\n",
        "            Variable     Coefficient       Std.Error     t-Statistic     Probability\n",
        "------------------------------------------------------------------------------------\n",
        "            CONSTANT      23.2699963       5.2241658       4.4542989       0.0000140\n",
        "                  AC       7.8541637       2.7024343       2.9063292       0.0040671\n",
        "                 AGE      -0.2134550       0.0573535      -3.7217456       0.0002568\n",
        "              FIREPL      11.1727277       2.7323132       4.0891094       0.0000626\n",
        "                 GAR       5.4020685       1.9636140       2.7510848       0.0064824\n",
        "               LOTSZ       0.0949064       0.0165355       5.7395480       0.0000000\n",
        "               NBATH       5.6484051       2.0182820       2.7986204       0.0056318\n",
        "               NROOM       0.2224935       1.2279277       0.1811943       0.8563976\n",
        "               PATIO      10.3358755       3.1202987       3.3124635       0.0010966\n",
        "                SQFT       0.1877562       0.1890598       0.9931047       0.3218530\n",
        "------------------------------------------------------------------------------------\n",
        "\n",
        "REGRESSION DIAGNOSTICS\n",
        "MULTICOLLINEARITY CONDITION NUMBER           20.609\n",
        "\n",
        "TEST ON NORMALITY OF ERRORS\n",
        "TEST                             DF        VALUE           PROB\n",
        "Jarque-Bera                       2         429.933           0.0000\n",
        "\n",
        "DIAGNOSTICS FOR HETEROSKEDASTICITY\n",
        "RANDOM COEFFICIENTS\n",
        "TEST                             DF        VALUE           PROB\n",
        "Breusch-Pagan test                9         167.792           0.0000\n",
        "Koenker-Bassett test              9          39.197           0.0000\n",
        "\n",
        "SPECIFICATION ROBUST TEST\n",
        "TEST                             DF        VALUE           PROB\n",
        "White                            51         164.335           0.0000\n",
        "================================ END OF REPORT =====================================\n"
       ]
      }
     ],
     "prompt_number": 40
    },
    {
     "cell_type": "markdown",
     "metadata": {},
     "source": [
      "now the **White** test is included as one of the diagnostics"
     ]
    },
    {
     "cell_type": "markdown",
     "metadata": {},
     "source": [
      "##OLS with Spatial Diagnostics##"
     ]
    },
    {
     "cell_type": "markdown",
     "metadata": {},
     "source": [
      "specify the weights (**w**) and set **spat_diag = True** and **moran = True**\n",
      "\n",
      "specify a name for the weights in **name_w**, all the rest is as before\n",
      "\n",
      "for convenience, white_test is back to default of False"
     ]
    },
    {
     "cell_type": "code",
     "collapsed": false,
     "input": [
      "ols3 = pysal.spreg.OLS(y,x,w=w,spat_diag=True,moran=True,\n",
      "                       name_y=y_name,name_x=x_names,name_w='baltim_k4',\n",
      "                       name_ds='baltim.shp')"
     ],
     "language": "python",
     "metadata": {},
     "outputs": [],
     "prompt_number": 47
    },
    {
     "cell_type": "code",
     "collapsed": false,
     "input": [
      "print ols3.summary"
     ],
     "language": "python",
     "metadata": {},
     "outputs": [
      {
       "output_type": "stream",
       "stream": "stdout",
       "text": [
        "REGRESSION\n",
        "----------\n",
        "SUMMARY OF OUTPUT: ORDINARY LEAST SQUARES\n",
        "-----------------------------------------\n",
        "Data set            :  baltim.shp\n",
        "Weights matrix      :   baltim_k4\n",
        "Dependent Variable  :       PRICE                Number of Observations:         211\n",
        "Mean dependent var  :     44.3072                Number of Variables   :          10\n",
        "S.D. dependent var  :     23.6061                Degrees of Freedom    :         201\n",
        "R-squared           :      0.6500\n",
        "Adjusted R-squared  :      0.6343\n",
        "Sum squared residual:   40960.463                F-statistic           :     41.4718\n",
        "Sigma-square        :     203.783                Prob(F-statistic)     :    3.24e-41\n",
        "S.E. of regression  :      14.275                Log likelihood        :    -855.223\n",
        "Sigma-square ML     :     194.125                Akaike info criterion :    1730.446\n",
        "S.E of regression ML:     13.9329                Schwarz criterion     :    1763.965\n",
        "\n",
        "------------------------------------------------------------------------------------\n",
        "            Variable     Coefficient       Std.Error     t-Statistic     Probability\n",
        "------------------------------------------------------------------------------------\n",
        "            CONSTANT      23.2699963       5.2241658       4.4542989       0.0000140\n",
        "                  AC       7.8541637       2.7024343       2.9063292       0.0040671\n",
        "                 AGE      -0.2134550       0.0573535      -3.7217456       0.0002568\n",
        "              FIREPL      11.1727277       2.7323132       4.0891094       0.0000626\n",
        "                 GAR       5.4020685       1.9636140       2.7510848       0.0064824\n",
        "               LOTSZ       0.0949064       0.0165355       5.7395480       0.0000000\n",
        "               NBATH       5.6484051       2.0182820       2.7986204       0.0056318\n",
        "               NROOM       0.2224935       1.2279277       0.1811943       0.8563976\n",
        "               PATIO      10.3358755       3.1202987       3.3124635       0.0010966\n",
        "                SQFT       0.1877562       0.1890598       0.9931047       0.3218530\n",
        "------------------------------------------------------------------------------------\n",
        "\n",
        "REGRESSION DIAGNOSTICS\n",
        "MULTICOLLINEARITY CONDITION NUMBER           20.609\n",
        "\n",
        "TEST ON NORMALITY OF ERRORS\n",
        "TEST                             DF        VALUE           PROB\n",
        "Jarque-Bera                       2         429.933           0.0000\n",
        "\n",
        "DIAGNOSTICS FOR HETEROSKEDASTICITY\n",
        "RANDOM COEFFICIENTS\n",
        "TEST                             DF        VALUE           PROB\n",
        "Breusch-Pagan test                9         167.792           0.0000\n",
        "Koenker-Bassett test              9          39.197           0.0000\n",
        "\n",
        "DIAGNOSTICS FOR SPATIAL DEPENDENCE\n",
        "TEST                           MI/DF       VALUE           PROB\n",
        "Moran's I (error)              0.1095         2.696           0.0070\n",
        "Lagrange Multiplier (lag)         1          31.896           0.0000\n",
        "Robust LM (lag)                   1          29.305           0.0000\n",
        "Lagrange Multiplier (error)       1           5.658           0.0174\n",
        "Robust LM (error)                 1           3.067           0.0799\n",
        "Lagrange Multiplier (SARMA)       2          34.963           0.0000\n",
        "\n",
        "================================ END OF REPORT =====================================\n"
       ]
      }
     ],
     "prompt_number": 42
    },
    {
     "cell_type": "markdown",
     "metadata": {},
     "source": [
      "diagnostics for spatial dependence at the bottom of the listing"
     ]
    },
    {
     "cell_type": "markdown",
     "metadata": {},
     "source": [
      "##OLS with White Standard Errors##"
     ]
    },
    {
     "cell_type": "markdown",
     "metadata": {},
     "source": [
      "set **robust= 'white'** for the default scaling, dividing by $n - k$, the spatial diagnostics have been turned off"
     ]
    },
    {
     "cell_type": "code",
     "collapsed": false,
     "input": [
      "ols4 = pysal.spreg.OLS(y,x,robust='white',\n",
      "                       name_y=y_name,name_x=x_names,name_ds='baltim.shp')"
     ],
     "language": "python",
     "metadata": {},
     "outputs": [],
     "prompt_number": 43
    },
    {
     "cell_type": "code",
     "collapsed": false,
     "input": [
      "print ols4.summary"
     ],
     "language": "python",
     "metadata": {},
     "outputs": [
      {
       "output_type": "stream",
       "stream": "stdout",
       "text": [
        "REGRESSION\n",
        "----------\n",
        "SUMMARY OF OUTPUT: ORDINARY LEAST SQUARES\n",
        "-----------------------------------------\n",
        "Data set            :  baltim.shp\n",
        "Dependent Variable  :       PRICE                Number of Observations:         211\n",
        "Mean dependent var  :     44.3072                Number of Variables   :          10\n",
        "S.D. dependent var  :     23.6061                Degrees of Freedom    :         201\n",
        "R-squared           :      0.6500\n",
        "Adjusted R-squared  :      0.6343\n",
        "Sum squared residual:   40960.463                F-statistic           :     41.4718\n",
        "Sigma-square        :     203.783                Prob(F-statistic)     :    3.24e-41\n",
        "S.E. of regression  :      14.275                Log likelihood        :    -855.223\n",
        "Sigma-square ML     :     194.125                Akaike info criterion :    1730.446\n",
        "S.E of regression ML:     13.9329                Schwarz criterion     :    1763.965\n",
        "\n",
        "White Standard Errors\n",
        "------------------------------------------------------------------------------------\n",
        "            Variable     Coefficient       Std.Error     t-Statistic     Probability\n",
        "------------------------------------------------------------------------------------\n",
        "            CONSTANT      23.2699963       6.5488415       3.5532997       0.0004741\n",
        "                  AC       7.8541637       3.1147472       2.5216055       0.0124581\n",
        "                 AGE      -0.2134550       0.1082717      -1.9714745       0.0500417\n",
        "              FIREPL      11.1727277       3.0235003       3.6952957       0.0002831\n",
        "                 GAR       5.4020685       3.2537312       1.6602688       0.0984196\n",
        "               LOTSZ       0.0949064       0.0260489       3.6433902       0.0003425\n",
        "               NBATH       5.6484051       2.4995696       2.2597511       0.0249092\n",
        "               NROOM       0.2224935       1.3934904       0.1596663       0.8733042\n",
        "               PATIO      10.3358755       4.1978783       2.4621665       0.0146520\n",
        "                SQFT       0.1877562       0.2099744       0.8941860       0.3722918\n",
        "------------------------------------------------------------------------------------\n",
        "\n",
        "REGRESSION DIAGNOSTICS\n",
        "MULTICOLLINEARITY CONDITION NUMBER           20.609\n",
        "\n",
        "TEST ON NORMALITY OF ERRORS\n",
        "TEST                             DF        VALUE           PROB\n",
        "Jarque-Bera                       2         429.933           0.0000\n",
        "\n",
        "DIAGNOSTICS FOR HETEROSKEDASTICITY\n",
        "RANDOM COEFFICIENTS\n",
        "TEST                             DF        VALUE           PROB\n",
        "Breusch-Pagan test                9         167.792           0.0000\n",
        "Koenker-Bassett test              9          39.197           0.0000\n",
        "================================ END OF REPORT =====================================\n"
       ]
      }
     ],
     "prompt_number": 44
    },
    {
     "cell_type": "markdown",
     "metadata": {},
     "source": [
      "turn off scaling (i.e., divide by n) by setting **sig2n_k = False**"
     ]
    },
    {
     "cell_type": "code",
     "collapsed": false,
     "input": [
      "ols5 = pysal.spreg.OLS(y,x,robust='white',sig2n_k=False,\n",
      "                       name_y=y_name,name_x=x_names,name_ds='baltim.shp')"
     ],
     "language": "python",
     "metadata": {},
     "outputs": [],
     "prompt_number": 48
    },
    {
     "cell_type": "code",
     "collapsed": false,
     "input": [
      "print ols5.summary"
     ],
     "language": "python",
     "metadata": {},
     "outputs": [
      {
       "output_type": "stream",
       "stream": "stdout",
       "text": [
        "REGRESSION\n",
        "----------\n",
        "SUMMARY OF OUTPUT: ORDINARY LEAST SQUARES\n",
        "-----------------------------------------\n",
        "Data set            :  baltim.shp\n",
        "Dependent Variable  :       PRICE                Number of Observations:         211\n",
        "Mean dependent var  :     44.3072                Number of Variables   :          10\n",
        "S.D. dependent var  :     23.6061                Degrees of Freedom    :         201\n",
        "R-squared           :      0.6500\n",
        "Adjusted R-squared  :      0.6343\n",
        "Sum squared residual:   40960.463                F-statistic           :     41.4718\n",
        "Sigma-square        :     194.125                Prob(F-statistic)     :    3.24e-41\n",
        "S.E. of regression  :      13.933                Log likelihood        :    -855.223\n",
        "Sigma-square ML     :     194.125                Akaike info criterion :    1730.446\n",
        "S.E of regression ML:     13.9329                Schwarz criterion     :    1763.965\n",
        "\n",
        "White Standard Errors\n",
        "------------------------------------------------------------------------------------\n",
        "            Variable     Coefficient       Std.Error     t-Statistic     Probability\n",
        "------------------------------------------------------------------------------------\n",
        "            CONSTANT      23.2699963       6.3917721       3.6406174       0.0003459\n",
        "                  AC       7.8541637       3.0400421       2.5835707       0.0104876\n",
        "                 AGE      -0.2134550       0.1056749      -2.0199209       0.0447190\n",
        "              FIREPL      11.1727277       2.9509837       3.7861028       0.0002020\n",
        "                 GAR       5.4020685       3.1756927       1.7010678       0.0904767\n",
        "               LOTSZ       0.0949064       0.0254242       3.7329217       0.0002464\n",
        "               NBATH       5.6484051       2.4396191       2.3152815       0.0216067\n",
        "               NROOM       0.2224935       1.3600685       0.1635899       0.8702183\n",
        "               PATIO      10.3358755       4.0971951       2.5226710       0.0124216\n",
        "                SQFT       0.1877562       0.2049383       0.9161595       0.3606811\n",
        "------------------------------------------------------------------------------------\n",
        "\n",
        "REGRESSION DIAGNOSTICS\n",
        "MULTICOLLINEARITY CONDITION NUMBER           20.609\n",
        "\n",
        "TEST ON NORMALITY OF ERRORS\n",
        "TEST                             DF        VALUE           PROB\n",
        "Jarque-Bera                       2         429.933           0.0000\n",
        "\n",
        "DIAGNOSTICS FOR HETEROSKEDASTICITY\n",
        "RANDOM COEFFICIENTS\n",
        "TEST                             DF        VALUE           PROB\n",
        "Breusch-Pagan test                9         167.792           0.0000\n",
        "Koenker-Bassett test              9          39.197           0.0000\n",
        "================================ END OF REPORT =====================================\n"
       ]
      }
     ],
     "prompt_number": 49
    },
    {
     "cell_type": "markdown",
     "metadata": {},
     "source": [
      "note how all the estimates remain the same, but the standard errors change (slightly)"
     ]
    },
    {
     "cell_type": "markdown",
     "metadata": {},
     "source": [
      "##OLS with HAC Standard Errors##"
     ]
    },
    {
     "cell_type": "markdown",
     "metadata": {},
     "source": [
      "set **robust = 'hac'**, specify the kernel weights **gwk = kw** and give a name for the weights in **name_gwk**"
     ]
    },
    {
     "cell_type": "code",
     "collapsed": false,
     "input": [
      "ols6 = pysal.spreg.OLS(y,x,robust='hac',gwk=kw,\n",
      "                       name_y=y_name,name_x=x_names,\n",
      "                       name_gwk='baltim_tri_k12',name_ds='baltim.shp')"
     ],
     "language": "python",
     "metadata": {},
     "outputs": [],
     "prompt_number": 51
    },
    {
     "cell_type": "code",
     "collapsed": false,
     "input": [
      "print ols6.summary"
     ],
     "language": "python",
     "metadata": {},
     "outputs": [
      {
       "output_type": "stream",
       "stream": "stdout",
       "text": [
        "REGRESSION\n",
        "----------\n",
        "SUMMARY OF OUTPUT: ORDINARY LEAST SQUARES\n",
        "-----------------------------------------\n",
        "Data set            :  baltim.shp\n",
        "Dependent Variable  :       PRICE                Number of Observations:         211\n",
        "Mean dependent var  :     44.3072                Number of Variables   :          10\n",
        "S.D. dependent var  :     23.6061                Degrees of Freedom    :         201\n",
        "R-squared           :      0.6500\n",
        "Adjusted R-squared  :      0.6343\n",
        "Sum squared residual:   40960.463                F-statistic           :     41.4718\n",
        "Sigma-square        :     203.783                Prob(F-statistic)     :    3.24e-41\n",
        "S.E. of regression  :      14.275                Log likelihood        :    -855.223\n",
        "Sigma-square ML     :     194.125                Akaike info criterion :    1730.446\n",
        "S.E of regression ML:     13.9329                Schwarz criterion     :    1763.965\n",
        "\n",
        "HAC Standard Errors; Kernel Weights: baltim_tri_k12\n",
        "------------------------------------------------------------------------------------\n",
        "            Variable     Coefficient       Std.Error     t-Statistic     Probability\n",
        "------------------------------------------------------------------------------------\n",
        "            CONSTANT      23.2699963       6.7557589       3.4444682       0.0006964\n",
        "                  AC       7.8541637       3.2786034       2.3955822       0.0175113\n",
        "                 AGE      -0.2134550       0.1067463      -1.9996471       0.0468849\n",
        "              FIREPL      11.1727277       2.9682469       3.7640830       0.0002194\n",
        "                 GAR       5.4020685       3.5732508       1.5118078       0.1321534\n",
        "               LOTSZ       0.0949064       0.0251785       3.7693418       0.0002151\n",
        "               NBATH       5.6484051       2.4853389       2.2726901       0.0241027\n",
        "               NROOM       0.2224935       1.3841624       0.1607424       0.8724578\n",
        "               PATIO      10.3358755       4.4904057       2.3017687       0.0223729\n",
        "                SQFT       0.1877562       0.1867878       1.0051843       0.3160167\n",
        "------------------------------------------------------------------------------------\n",
        "\n",
        "REGRESSION DIAGNOSTICS\n",
        "MULTICOLLINEARITY CONDITION NUMBER           20.609\n",
        "\n",
        "TEST ON NORMALITY OF ERRORS\n",
        "TEST                             DF        VALUE           PROB\n",
        "Jarque-Bera                       2         429.933           0.0000\n",
        "\n",
        "DIAGNOSTICS FOR HETEROSKEDASTICITY\n",
        "RANDOM COEFFICIENTS\n",
        "TEST                             DF        VALUE           PROB\n",
        "Breusch-Pagan test                9         167.792           0.0000\n",
        "Koenker-Bassett test              9          39.197           0.0000\n",
        "================================ END OF REPORT =====================================\n"
       ]
      }
     ],
     "prompt_number": 52
    },
    {
     "cell_type": "markdown",
     "metadata": {},
     "source": [
      "Again, same estimates as before, but different standard errors"
     ]
    },
    {
     "cell_type": "markdown",
     "metadata": {},
     "source": [
      "##Accessing Individual Functions##"
     ]
    },
    {
     "cell_type": "markdown",
     "metadata": {},
     "source": [
      "**Muticollinearity Diagnostics** - Variance inflation factor"
     ]
    },
    {
     "cell_type": "markdown",
     "metadata": {},
     "source": [
      "use **vif** and pass a regression object, e.g., **ols1**"
     ]
    },
    {
     "cell_type": "code",
     "collapsed": false,
     "input": [
      "v = pysal.spreg.diagnostics.vif(ols1)"
     ],
     "language": "python",
     "metadata": {},
     "outputs": [],
     "prompt_number": 53
    },
    {
     "cell_type": "code",
     "collapsed": false,
     "input": [
      "v"
     ],
     "language": "python",
     "metadata": {},
     "outputs": [
      {
       "metadata": {},
       "output_type": "pyout",
       "prompt_number": 54,
       "text": [
        "[None,\n",
        " (2.1282653585417042, 0.46986622038767001),\n",
        " (1.7612737468067761, 0.56777091114485734),\n",
        " (1.2635001075481409, 0.79145224763021937),\n",
        " (1.4167716982292526, 0.70583002275514584),\n",
        " (1.3859551858036301, 0.7215240508805929),\n",
        " (1.4320753736980569, 0.69828726781167527),\n",
        " (1.333625900791195, 0.74983546690772418),\n",
        " (1.5646798143926093, 0.63910839189050861),\n",
        " (2.4833041895651875, 0.40268928961743278)]"
       ]
      }
     ],
     "prompt_number": 54
    },
    {
     "cell_type": "markdown",
     "metadata": {},
     "source": [
      "extract the statistics by skipping over the first element in the list, **v[1:]**"
     ]
    },
    {
     "cell_type": "code",
     "collapsed": false,
     "input": [
      "v[1:]"
     ],
     "language": "python",
     "metadata": {},
     "outputs": [
      {
       "metadata": {},
       "output_type": "pyout",
       "prompt_number": 55,
       "text": [
        "[(2.1282653585417042, 0.46986622038767001),\n",
        " (1.7612737468067761, 0.56777091114485734),\n",
        " (1.2635001075481409, 0.79145224763021937),\n",
        " (1.4167716982292526, 0.70583002275514584),\n",
        " (1.3859551858036301, 0.7215240508805929),\n",
        " (1.4320753736980569, 0.69828726781167527),\n",
        " (1.333625900791195, 0.74983546690772418),\n",
        " (1.5646798143926093, 0.63910839189050861),\n",
        " (2.4833041895651875, 0.40268928961743278)]"
       ]
      }
     ],
     "prompt_number": 55
    },
    {
     "cell_type": "markdown",
     "metadata": {},
     "source": [
      "This list contains a tuple with for each variable (in the order given in **x**) the variance inflation factor (VIF) and its inverse, the tolerance factor. The rule of thumb is to keep the VIF under 5 or 10 and the tolerance factor above 0.2 or 0.1."
     ]
    },
    {
     "cell_type": "markdown",
     "metadata": {},
     "source": [
      "**Lagrange Multiplier Tests** - accessing individual statistics"
     ]
    },
    {
     "cell_type": "markdown",
     "metadata": {},
     "source": [
      "use **LMtests** with a regression object and a weights object"
     ]
    },
    {
     "cell_type": "code",
     "collapsed": false,
     "input": [
      "vw = pysal.spreg.diagnostics_sp.LMtests(ols1,w)"
     ],
     "language": "python",
     "metadata": {},
     "outputs": [],
     "prompt_number": 56
    },
    {
     "cell_type": "code",
     "collapsed": false,
     "input": [
      "vw"
     ],
     "language": "python",
     "metadata": {},
     "outputs": [
      {
       "metadata": {},
       "output_type": "pyout",
       "prompt_number": 57,
       "text": [
        "<pysal.spreg.diagnostics_sp.LMtests instance at 0x89b1378>"
       ]
      }
     ],
     "prompt_number": 57
    },
    {
     "cell_type": "markdown",
     "metadata": {},
     "source": [
      "check the contents of this object using **dir**"
     ]
    },
    {
     "cell_type": "code",
     "collapsed": false,
     "input": [
      "dir(vw)"
     ],
     "language": "python",
     "metadata": {},
     "outputs": [
      {
       "metadata": {},
       "output_type": "pyout",
       "prompt_number": 58,
       "text": [
        "['__doc__', '__init__', '__module__', 'lme', 'lml', 'rlme', 'rlml', 'sarma']"
       ]
      }
     ],
     "prompt_number": 58
    },
    {
     "cell_type": "markdown",
     "metadata": {},
     "source": [
      "extract the specific test statistic as attributes, e.g., **lme, lml,\n",
      "rlme, rlml, sarma**"
     ]
    },
    {
     "cell_type": "code",
     "collapsed": false,
     "input": [
      "vw.lme"
     ],
     "language": "python",
     "metadata": {},
     "outputs": [
      {
       "metadata": {},
       "output_type": "pyout",
       "prompt_number": 59,
       "text": [
        "(5.6577758243447436, 0.017378147300348031)"
       ]
      }
     ],
     "prompt_number": 59
    },
    {
     "cell_type": "code",
     "collapsed": false,
     "input": [
      "vw.lml"
     ],
     "language": "python",
     "metadata": {},
     "outputs": [
      {
       "metadata": {},
       "output_type": "pyout",
       "prompt_number": 60,
       "text": [
        "(31.895904502774783, 1.6265975177333379e-08)"
       ]
      }
     ],
     "prompt_number": 60
    },
    {
     "cell_type": "markdown",
     "metadata": {},
     "source": [
      "##Practice##"
     ]
    },
    {
     "cell_type": "markdown",
     "metadata": {},
     "source": [
      "Create a regression object using the classic Harrison-Rubinfeld Boston house price data set (included as Boston.shp). Regression median house value (MEDV) on crime rate (CRIM), Charles river dummy (CHAS), nitric oxides (NOX), number of rooms (RM), age (AGE), weighted distance to five employment centers (DIS) and percent \"lower status population\" (LSTAT). A full description of the Boston data set is available on the GeoDa Center sample data set site.\n",
      "\n",
      "Use a k-nearest neighbor spatial weights (k = 4) for the spatial diagnostics, and a triangular adaptive bandwidth kernel weights (k = 12) for the HAC standard errors.\n",
      "\n",
      "What is the most likely alternative spatial regression model, given the results of a spatial specification search.\n",
      "\n",
      "Try including the White test and see what happens.\n",
      "\n",
      "Try any other combinations of explanatory variables, spatial weights and standard error specifications."
     ]
    },
    {
     "cell_type": "code",
     "collapsed": false,
     "input": [],
     "language": "python",
     "metadata": {},
     "outputs": []
    }
   ],
   "metadata": {}
  }
 ]
}