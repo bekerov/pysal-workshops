{
 "metadata": {
  "name": ""
 },
 "nbformat": 3,
 "nbformat_minor": 0,
 "worksheets": [
  {
   "cells": [
    {
     "cell_type": "markdown",
     "metadata": {},
     "source": [
      "This notebook contains the PySAL/spreg code for Chapter 8 - ML Spatial Lag \n",
      "\n",
      "in\n",
      "Modern Spatial Econometrics in Practice: A Guide to GeoDa, GeoDaSpace and PySAL.\n",
      "\n",
      "by Luc Anselin and Sergio J. Rey\n",
      "\n",
      "(c) 2014 Luc Anselin and Sergio J. Rey, All Rights Reserved"
     ]
    },
    {
     "cell_type": "code",
     "collapsed": false,
     "input": [
      "__author__ = \"Luc Anselin luc.anselin@asu.edu\""
     ],
     "language": "python",
     "metadata": {},
     "outputs": [],
     "prompt_number": 1
    },
    {
     "cell_type": "markdown",
     "metadata": {},
     "source": [
      "##Basic Regression Setup##"
     ]
    },
    {
     "cell_type": "markdown",
     "metadata": {},
     "source": [
      "###Model Specification###"
     ]
    },
    {
     "cell_type": "markdown",
     "metadata": {},
     "source": [
      "**Creating arrays for y and x using the Baltimore example - see also Chapter 5 Notebook**"
     ]
    },
    {
     "cell_type": "markdown",
     "metadata": {},
     "source": [
      "Preliminaries, import **numpy** and **pysal**"
     ]
    },
    {
     "cell_type": "code",
     "collapsed": false,
     "input": [
      "import numpy as np\n",
      "import pysal"
     ],
     "language": "python",
     "metadata": {},
     "outputs": [],
     "prompt_number": 2
    },
    {
     "cell_type": "markdown",
     "metadata": {},
     "source": [
      "the **baltimore** sample data set"
     ]
    },
    {
     "cell_type": "code",
     "collapsed": false,
     "input": [
      "db = pysal.open(pysal.examples.get_path('baltim.dbf'),'r')\n",
      "y_name = \"PRICE\"\n",
      "y = np.array([db.by_col(y_name)]).T\n",
      "x_names = ['NROOM','NBATH','PATIO','FIREPL','AC','GAR','AGE',\n",
      "           'LOTSZ','SQFT']\n",
      "x = np.array([db.by_col(var) for var in x_names]).T"
     ],
     "language": "python",
     "metadata": {},
     "outputs": [],
     "prompt_number": 3
    },
    {
     "cell_type": "markdown",
     "metadata": {},
     "source": [
      "model weights - k nearest neighbors with k=4"
     ]
    },
    {
     "cell_type": "code",
     "collapsed": false,
     "input": [
      "w = pysal.knnW_from_shapefile(pysal.examples.get_path('baltim.shp'),\n",
      "                                k=4,idVariable='STATION')\n",
      "w.transform = 'r'"
     ],
     "language": "python",
     "metadata": {},
     "outputs": [],
     "prompt_number": 4
    },
    {
     "cell_type": "markdown",
     "metadata": {},
     "source": [
      "##ML Estimation of Spatial Lag Model##"
     ]
    },
    {
     "cell_type": "markdown",
     "metadata": {},
     "source": [
      "###Full Method###"
     ]
    },
    {
     "cell_type": "code",
     "collapsed": false,
     "input": [
      "reg1 = pysal.spreg.ML_Lag(y,x,w,name_y=y_name,name_x=x_names,\n",
      "                          name_w = \"baltim_k4\",name_ds = \"baltim\")"
     ],
     "language": "python",
     "metadata": {},
     "outputs": [],
     "prompt_number": 5
    },
    {
     "cell_type": "markdown",
     "metadata": {},
     "source": [
      "contents of the ML_Lag object"
     ]
    },
    {
     "cell_type": "code",
     "collapsed": false,
     "input": [
      "dir(reg1)"
     ],
     "language": "python",
     "metadata": {},
     "outputs": [
      {
       "metadata": {},
       "output_type": "pyout",
       "prompt_number": 6,
       "text": [
        "['__doc__',\n",
        " '__init__',\n",
        " '__module__',\n",
        " '__summary',\n",
        " '_cache',\n",
        " 'aic',\n",
        " 'betas',\n",
        " 'e_pred',\n",
        " 'epsilon',\n",
        " 'k',\n",
        " 'logll',\n",
        " 'mean_y',\n",
        " 'method',\n",
        " 'n',\n",
        " 'name_ds',\n",
        " 'name_w',\n",
        " 'name_x',\n",
        " 'name_y',\n",
        " 'pr2',\n",
        " 'pr2_e',\n",
        " 'predy',\n",
        " 'predy_e',\n",
        " 'rho',\n",
        " 'schwarz',\n",
        " 'sig2',\n",
        " 'sig2n',\n",
        " 'sig2n_k',\n",
        " 'std_err',\n",
        " 'std_y',\n",
        " 'summary',\n",
        " 'title',\n",
        " 'u',\n",
        " 'utu',\n",
        " 'vm',\n",
        " 'vm1',\n",
        " 'x',\n",
        " 'y',\n",
        " 'z_stat']"
       ]
      }
     ],
     "prompt_number": 6
    },
    {
     "cell_type": "markdown",
     "metadata": {},
     "source": [
      "the regression coefficients, with rho as last"
     ]
    },
    {
     "cell_type": "code",
     "collapsed": false,
     "input": [
      "reg1.betas"
     ],
     "language": "python",
     "metadata": {},
     "outputs": [
      {
       "metadata": {},
       "output_type": "pyout",
       "prompt_number": 7,
       "text": [
        "array([[ 7.44436176],\n",
        "       [ 0.70354005],\n",
        "       [ 5.61610186],\n",
        "       [ 7.98111406],\n",
        "       [ 8.27519822],\n",
        "       [ 6.8624124 ],\n",
        "       [ 4.15655226],\n",
        "       [-0.1274933 ],\n",
        "       [ 0.07512264],\n",
        "       [ 0.10647197],\n",
        "       [ 0.34478915]])"
       ]
      }
     ],
     "prompt_number": 7
    },
    {
     "cell_type": "code",
     "collapsed": false,
     "input": [
      "reg1.betas[-1][0]"
     ],
     "language": "python",
     "metadata": {},
     "outputs": [
      {
       "metadata": {},
       "output_type": "pyout",
       "prompt_number": 8,
       "text": [
        "0.34478915453365777"
       ]
      }
     ],
     "prompt_number": 8
    },
    {
     "cell_type": "code",
     "collapsed": false,
     "input": [
      "reg1.rho"
     ],
     "language": "python",
     "metadata": {},
     "outputs": [
      {
       "metadata": {},
       "output_type": "pyout",
       "prompt_number": 9,
       "text": [
        "0.34478915453365777"
       ]
      }
     ],
     "prompt_number": 9
    },
    {
     "cell_type": "markdown",
     "metadata": {},
     "source": [
      "print the full set of results"
     ]
    },
    {
     "cell_type": "code",
     "collapsed": false,
     "input": [
      "print reg1.summary"
     ],
     "language": "python",
     "metadata": {},
     "outputs": [
      {
       "output_type": "stream",
       "stream": "stdout",
       "text": [
        "REGRESSION\n",
        "----------\n",
        "SUMMARY OF OUTPUT: MAXIMUM LIKELIHOOD SPATIAL LAG (METHOD = FULL)\n",
        "-----------------------------------------------------------------\n",
        "Data set            :      baltim\n",
        "Weights matrix      :   baltim_k4\n",
        "Dependent Variable  :       PRICE                Number of Observations:         211\n",
        "Mean dependent var  :     44.3072                Number of Variables   :          11\n",
        "S.D. dependent var  :     23.6061                Degrees of Freedom    :         200\n",
        "Pseudo R-squared    :      0.7057\n",
        "Spatial Pseudo R-squared:  0.6913\n",
        "Sigma-square ML     :     163.292                Log likelihood        :    -839.774\n",
        "S.E of regression   :      12.779                Akaike info criterion :    1701.547\n",
        "                                                 Schwarz criterion     :    1738.418\n",
        "\n",
        "------------------------------------------------------------------------------------\n",
        "            Variable     Coefficient       Std.Error     z-Statistic     Probability\n",
        "------------------------------------------------------------------------------------\n",
        "            CONSTANT       7.4443618       5.0835158       1.4644120       0.1430814\n",
        "                  AC       6.8624124       2.4216910       2.8337275       0.0046009\n",
        "                 AGE      -0.1274933       0.0527665      -2.4161810       0.0156843\n",
        "              FIREPL       8.2751982       2.4891073       3.3245647       0.0008856\n",
        "                 GAR       4.1565523       1.7614609       2.3597187       0.0182888\n",
        "               LOTSZ       0.0751226       0.0150624       4.9874297       0.0000006\n",
        "               NBATH       5.6161019       1.8094350       3.1037876       0.0019106\n",
        "               NROOM       0.7035401       1.0995064       0.6398690       0.5222578\n",
        "               PATIO       7.9811141       2.8080688       2.8422074       0.0044802\n",
        "                SQFT       0.1064720       0.1694196       0.6284513       0.5297084\n",
        "             W_PRICE       0.3447892       0.0555589       6.2058284       0.0000000\n",
        "------------------------------------------------------------------------------------\n",
        "================================ END OF REPORT =====================================\n"
       ]
      }
     ],
     "prompt_number": 10
    },
    {
     "cell_type": "markdown",
     "metadata": {},
     "source": [
      "###Ord Method###"
     ]
    },
    {
     "cell_type": "code",
     "collapsed": false,
     "input": [
      "reg2 = pysal.spreg.ML_Lag(y,x,w,method='ord',name_y=y_name,name_x=x_names,\n",
      "                          name_w = \"baltim_k4\",name_ds = \"baltim\")"
     ],
     "language": "python",
     "metadata": {},
     "outputs": [],
     "prompt_number": 11
    },
    {
     "cell_type": "code",
     "collapsed": false,
     "input": [
      "print reg2.summary"
     ],
     "language": "python",
     "metadata": {},
     "outputs": [
      {
       "output_type": "stream",
       "stream": "stdout",
       "text": [
        "REGRESSION\n",
        "----------\n",
        "SUMMARY OF OUTPUT: MAXIMUM LIKELIHOOD SPATIAL LAG (METHOD = ORD)\n",
        "----------------------------------------------------------------\n",
        "Data set            :      baltim\n",
        "Weights matrix      :   baltim_k4\n",
        "Dependent Variable  :       PRICE                Number of Observations:         211\n",
        "Mean dependent var  :     44.3072                Number of Variables   :          11\n",
        "S.D. dependent var  :     23.6061                Degrees of Freedom    :         200\n",
        "Pseudo R-squared    :      0.7057\n",
        "Spatial Pseudo R-squared:  0.6913\n",
        "Sigma-square ML     :     163.292                Log likelihood        :    -839.774\n",
        "S.E of regression   :      12.779                Akaike info criterion :    1701.547\n",
        "                                                 Schwarz criterion     :    1738.418\n",
        "\n",
        "------------------------------------------------------------------------------------\n",
        "            Variable     Coefficient       Std.Error     z-Statistic     Probability\n",
        "------------------------------------------------------------------------------------\n",
        "            CONSTANT       7.4443618       5.0835158       1.4644120       0.1430814\n",
        "                  AC       6.8624124       2.4216910       2.8337275       0.0046009\n",
        "                 AGE      -0.1274933       0.0527665      -2.4161810       0.0156843\n",
        "              FIREPL       8.2751982       2.4891073       3.3245647       0.0008856\n",
        "                 GAR       4.1565523       1.7614609       2.3597187       0.0182888\n",
        "               LOTSZ       0.0751226       0.0150624       4.9874297       0.0000006\n",
        "               NBATH       5.6161019       1.8094350       3.1037876       0.0019106\n",
        "               NROOM       0.7035401       1.0995064       0.6398690       0.5222578\n",
        "               PATIO       7.9811141       2.8080688       2.8422074       0.0044802\n",
        "                SQFT       0.1064720       0.1694196       0.6284513       0.5297084\n",
        "             W_PRICE       0.3447892       0.0555589       6.2058284       0.0000000\n",
        "------------------------------------------------------------------------------------\n",
        "================================ END OF REPORT =====================================\n"
       ]
      }
     ],
     "prompt_number": 12
    }
   ],
   "metadata": {}
  }
 ]
}