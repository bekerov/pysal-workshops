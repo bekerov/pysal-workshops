{
 "metadata": {
  "name": "",
  "signature": "sha256:655ba7698f46ebad24c9e0d5e4792968e73f03831eb556cacd56b6b97c4c39fb"
 },
 "nbformat": 3,
 "nbformat_minor": 0,
 "worksheets": [
  {
   "cells": [
    {
     "cell_type": "markdown",
     "metadata": {},
     "source": [
      "##Solutions to Practice Example Chapter 13 (Spatial Lag only)##"
     ]
    },
    {
     "cell_type": "code",
     "collapsed": false,
     "input": [
      "import numpy as np\n",
      "import pysal"
     ],
     "language": "python",
     "metadata": {},
     "outputs": [],
     "prompt_number": 2
    },
    {
     "cell_type": "code",
     "collapsed": false,
     "input": [
      "db = pysal.open('data/boston.dbf','r')"
     ],
     "language": "python",
     "metadata": {},
     "outputs": [],
     "prompt_number": 3
    },
    {
     "cell_type": "code",
     "collapsed": false,
     "input": [
      "len(db)"
     ],
     "language": "python",
     "metadata": {},
     "outputs": [
      {
       "metadata": {},
       "output_type": "pyout",
       "prompt_number": 4,
       "text": [
        "506"
       ]
      }
     ],
     "prompt_number": 4
    },
    {
     "cell_type": "code",
     "collapsed": false,
     "input": [
      "db.header"
     ],
     "language": "python",
     "metadata": {},
     "outputs": [
      {
       "metadata": {},
       "output_type": "pyout",
       "prompt_number": 5,
       "text": [
        "['POLY_ID',\n",
        " 'ID',\n",
        " 'TOWN',\n",
        " 'TOWNNO',\n",
        " 'TRACT',\n",
        " 'LON',\n",
        " 'LAT',\n",
        " 'x',\n",
        " 'y',\n",
        " 'MEDV',\n",
        " 'CMEDV',\n",
        " 'CRIM',\n",
        " 'ZN',\n",
        " 'INDUS',\n",
        " 'CHAS',\n",
        " 'NOX',\n",
        " 'RM',\n",
        " 'AGE',\n",
        " 'DIS',\n",
        " 'RAD',\n",
        " 'TAX',\n",
        " 'PTRATIO',\n",
        " 'B',\n",
        " 'LSTAT']"
       ]
      }
     ],
     "prompt_number": 5
    },
    {
     "cell_type": "code",
     "collapsed": false,
     "input": [
      "y_name = 'MEDV'\n",
      "y = np.array([db.by_col(y_name)]).T"
     ],
     "language": "python",
     "metadata": {},
     "outputs": [],
     "prompt_number": 6
    },
    {
     "cell_type": "code",
     "collapsed": false,
     "input": [
      "x_names = ['CRIM','NOX','RM','AGE','DIS','LSTAT']\n",
      "x = np.array([db.by_col(var) for var in x_names]).T"
     ],
     "language": "python",
     "metadata": {},
     "outputs": [],
     "prompt_number": 7
    },
    {
     "cell_type": "code",
     "collapsed": false,
     "input": [
      "rvar = \"CHAS\"\n",
      "regimes = db.by_col(rvar)"
     ],
     "language": "python",
     "metadata": {},
     "outputs": [],
     "prompt_number": 8
    },
    {
     "cell_type": "code",
     "collapsed": false,
     "input": [
      "w = pysal.knnW_from_shapefile('data/boston.shp',\n",
      "                                k=4,idVariable='POLY_ID')\n",
      "w.transform = 'r'"
     ],
     "language": "python",
     "metadata": {},
     "outputs": [],
     "prompt_number": 9
    },
    {
     "cell_type": "markdown",
     "metadata": {},
     "source": [
      "Default regime regression - one spatial lag coefficient"
     ]
    },
    {
     "cell_type": "code",
     "collapsed": false,
     "input": [
      "reg1 = pysal.spreg.GM_Lag_Regimes(y,x,regimes,w=w,spat_diag=True,name_y=y_name,\n",
      "name_x=x_names,name_regimes=rvar,name_w=\"boston_k4\",name_ds=\"boston.dbf\")"
     ],
     "language": "python",
     "metadata": {},
     "outputs": [],
     "prompt_number": 10
    },
    {
     "cell_type": "code",
     "collapsed": false,
     "input": [
      "print reg1.summary"
     ],
     "language": "python",
     "metadata": {},
     "outputs": [
      {
       "output_type": "stream",
       "stream": "stdout",
       "text": [
        "REGRESSION\n",
        "----------\n",
        "SUMMARY OF OUTPUT: SPATIAL TWO STAGE LEAST SQUARES - REGIMES\n",
        "------------------------------------------------------------\n",
        "Data set            :  boston.dbf\n",
        "Weights matrix      :   boston_k4\n",
        "Dependent Variable  :        MEDV                Number of Observations:         506\n",
        "Mean dependent var  :     22.5328                Number of Variables   :          15\n",
        "S.D. dependent var  :      9.1971                Degrees of Freedom    :         491\n",
        "Pseudo R-squared    :      0.7509\n",
        "Spatial Pseudo R-squared:  0.7019\n",
        "\n",
        "White Standard Errors\n",
        "------------------------------------------------------------------------------------\n",
        "            Variable     Coefficient       Std.Error     z-Statistic     Probability\n",
        "------------------------------------------------------------------------------------\n",
        "          0_CONSTANT       1.9971534       6.4730209       0.3085350       0.7576753\n",
        "               0_AGE      -0.0257038       0.0148801      -1.7273909       0.0840975\n",
        "              0_CRIM      -0.1049741       0.0255258      -4.1124706       0.0000391\n",
        "               0_DIS      -0.8593821       0.1704692      -5.0412764       0.0000005\n",
        "             0_LSTAT      -0.4388405       0.1159908      -3.7834062       0.0001547\n",
        "               0_NOX      -7.3824231       3.5670211      -2.0696326       0.0384868\n",
        "                0_RM       4.9734098       0.8047620       6.1799759       0.0000000\n",
        "          1_CONSTANT      52.7381380      22.4111206       2.3532129       0.0186120\n",
        "               1_AGE       0.0327541       0.0759571       0.4312184       0.6663095\n",
        "              1_CRIM       1.4064698       0.7682942       1.8306396       0.0671544\n",
        "               1_DIS      -1.6276184       2.2266950      -0.7309570       0.4648054\n",
        "             1_LSTAT      -0.9440847       0.3188578      -2.9608333       0.0030681\n",
        "               1_NOX     -43.2094420      10.6978217      -4.0390879       0.0000537\n",
        "                1_RM       1.0185629       2.7944265       0.3644980       0.7154861\n",
        "      _Global_W_MEDV       0.1878789       0.0893492       2.1027493       0.0354877\n",
        "------------------------------------------------------------------------------------\n",
        "Instrumented: _Global_W_MEDV\n",
        "Instruments: 0_W_AGE, 0_W_CRIM, 0_W_DIS, 0_W_LSTAT, 0_W_NOX, 0_W_RM,\n",
        "             1_W_AGE, 1_W_CRIM, 1_W_DIS, 1_W_LSTAT, 1_W_NOX, 1_W_RM\n",
        "Regimes variable: CHAS\n",
        "\n",
        "DIAGNOSTICS FOR SPATIAL DEPENDENCE\n",
        "TEST                           MI/DF       VALUE           PROB\n",
        "Anselin-Kelejian Test             1          29.464          0.0000\n",
        "\n",
        "REGIMES DIAGNOSTICS - CHOW TEST\n",
        "                 VARIABLE        DF        VALUE           PROB\n",
        "                 CONSTANT         1           4.753           0.0292\n",
        "                      AGE         1           0.575           0.4481\n",
        "                     CRIM         1           3.860           0.0494\n",
        "                      DIS         1           0.119           0.7299\n",
        "                    LSTAT         1           2.231           0.1353\n",
        "                      NOX         1          10.586           0.0011\n",
        "                       RM         1           1.883           0.1700\n",
        "              Global test         7          25.091           0.0007\n",
        "================================ END OF REPORT =====================================\n"
       ]
      }
     ],
     "prompt_number": 11
    },
    {
     "cell_type": "markdown",
     "metadata": {},
     "source": [
      "Different spatial lag coefficient by regime"
     ]
    },
    {
     "cell_type": "code",
     "collapsed": false,
     "input": [
      "reg2 = pysal.spreg.GM_Lag_Regimes(y,x,regimes,w=w,spat_diag=True,cores=False,\n",
      "regime_lag_sep=True,regime_err_sep=True,name_y=y_name,\n",
      "name_x=x_names,name_regimes=rvar,name_w=\"boston_k4\",name_ds=\"boston.dbf\")"
     ],
     "language": "python",
     "metadata": {},
     "outputs": [],
     "prompt_number": 12
    },
    {
     "cell_type": "code",
     "collapsed": false,
     "input": [
      "print reg2.summary"
     ],
     "language": "python",
     "metadata": {},
     "outputs": [
      {
       "output_type": "stream",
       "stream": "stdout",
       "text": [
        "REGRESSION\n",
        "----------\n",
        "\n",
        "SUMMARY OF OUTPUT: SPATIAL TWO STAGE LEAST SQUARES ESTIMATION - REGIME 0\n",
        "------------------------------------------------------------------------\n",
        "Data set            :  boston.dbf\n",
        "Weights matrix      :   boston_k4\n",
        "Dependent Variable  :      0_MEDV                Number of Observations:         471\n",
        "Mean dependent var  :     22.0938                Number of Variables   :           8\n",
        "S.D. dependent var  :      8.8314                Degrees of Freedom    :         463\n",
        "Pseudo R-squared    :      0.6753\n",
        "Spatial Pseudo R-squared:  0.6815\n",
        "\n",
        "------------------------------------------------------------------------------------\n",
        "            Variable     Coefficient       Std.Error     z-Statistic     Probability\n",
        "------------------------------------------------------------------------------------\n",
        "          0_CONSTANT       8.6803461       4.3732000       1.9848958       0.0471561\n",
        "               0_AGE      -0.0258782       0.0141152      -1.8333562       0.0667496\n",
        "              0_CRIM      -0.1259612       0.0312996      -4.0243655       0.0000571\n",
        "               0_DIS      -0.9955440       0.1922645      -5.1779932       0.0000002\n",
        "             0_LSTAT      -0.5404006       0.0634028      -8.5232917       0.0000000\n",
        "               0_NOX     -10.6753594       3.8826769      -2.7494844       0.0059689\n",
        "                0_RM       5.2162763       0.4452429      11.7155742       0.0000000\n",
        "            0_W_MEDV      -0.0200673       0.0685075      -0.2929213       0.7695823\n",
        "------------------------------------------------------------------------------------\n",
        "Instrumented: 0_W_MEDV\n",
        "Instruments: 0_W_AGE, 0_W_CRIM, 0_W_DIS, 0_W_LSTAT, 0_W_NOX, 0_W_RM\n",
        "Regimes variable: CHAS\n",
        "\n",
        "DIAGNOSTICS FOR SPATIAL DEPENDENCE\n",
        "TEST                           MI/DF       VALUE           PROB\n",
        "Anselin-Kelejian Test             1          46.984          0.0000\n",
        "----------\n",
        "\n",
        "SUMMARY OF OUTPUT: SPATIAL TWO STAGE LEAST SQUARES ESTIMATION - REGIME 1\n",
        "------------------------------------------------------------------------\n",
        "Data set            :  boston.dbf\n",
        "Weights matrix      :   boston_k4\n",
        "Dependent Variable  :      1_MEDV                Number of Observations:          35\n",
        "Mean dependent var  :     28.4400                Number of Variables   :           8\n",
        "S.D. dependent var  :     11.8166                Degrees of Freedom    :          27\n",
        "Pseudo R-squared    :      0.8519\n",
        "Spatial Pseudo R-squared:  0.8103\n",
        "\n",
        "------------------------------------------------------------------------------------\n",
        "            Variable     Coefficient       Std.Error     z-Statistic     Probability\n",
        "------------------------------------------------------------------------------------\n",
        "          1_CONSTANT      44.8287190      14.7772808       3.0336244       0.0024164\n",
        "               1_AGE      -0.0074283       0.0690503      -0.1075780       0.9143305\n",
        "              1_CRIM       0.2228650       0.5476273       0.4069647       0.6840339\n",
        "               1_DIS      -2.4169243       1.6430422      -1.4710056       0.1412896\n",
        "             1_LSTAT      -0.7484767       0.2230083      -3.3562731       0.0007900\n",
        "               1_NOX     -29.1037026      10.8087813      -2.6925980       0.0070898\n",
        "                1_RM       1.2008034       1.4257911       0.8422015       0.3996752\n",
        "            1_W_MEDV       0.3584167       0.0797971       4.4915983       0.0000071\n",
        "------------------------------------------------------------------------------------\n",
        "Instrumented: 1_W_MEDV\n",
        "Instruments: 1_W_AGE, 1_W_CRIM, 1_W_DIS, 1_W_LSTAT, 1_W_NOX, 1_W_RM\n",
        "Regimes variable: CHAS\n",
        "Warning: The regimes operation resulted in islands for regime 1.\n",
        "\n",
        "DIAGNOSTICS FOR SPATIAL DEPENDENCE\n",
        "TEST                           MI/DF       VALUE           PROB\n",
        "Anselin-Kelejian Test             1           1.307          0.2530\n",
        "\n",
        "REGIMES DIAGNOSTICS - CHOW TEST\n",
        "                 VARIABLE        DF        VALUE           PROB\n",
        "                 CONSTANT         1           5.502           0.0190\n",
        "                      AGE         1           0.069           0.7935\n",
        "                     CRIM         1           0.404           0.5248\n",
        "                      DIS         1           0.738           0.3902\n",
        "                    LSTAT         1           0.805           0.3695\n",
        "                      NOX         1           2.575           0.1086\n",
        "                       RM         1           7.227           0.0072\n",
        "                   W_MEDV         1          12.951           0.0003\n",
        "              Global test         8          51.489           0.0000\n",
        "================================ END OF REPORT =====================================\n"
       ]
      }
     ],
     "prompt_number": 13
    },
    {
     "cell_type": "markdown",
     "metadata": {},
     "source": [
      "Keeping AGE, DIS, LSTAT and RM constant and letting constant, CRIM and NOX vary\n",
      "\n",
      "order of variables in x is CRIM, NOX, RM, AGE, DIS, LSTAT"
     ]
    },
    {
     "cell_type": "code",
     "collapsed": false,
     "input": [
      "colsvari = [True,True,False,False,False,False]"
     ],
     "language": "python",
     "metadata": {},
     "outputs": [],
     "prompt_number": 15
    },
    {
     "cell_type": "code",
     "collapsed": false,
     "input": [
      "reg3 = pysal.spreg.GM_Lag_Regimes(y,x,regimes,w=w,spat_diag=True,\n",
      "constant_regi='one',cols2regi=colsvari,name_y=y_name,\n",
      "name_x=x_names,name_regimes=rvar,name_w=\"boston_k4\",name_ds=\"boston.dbf\")"
     ],
     "language": "python",
     "metadata": {},
     "outputs": [],
     "prompt_number": 16
    },
    {
     "cell_type": "code",
     "collapsed": false,
     "input": [
      "print reg3.summary"
     ],
     "language": "python",
     "metadata": {},
     "outputs": [
      {
       "output_type": "stream",
       "stream": "stdout",
       "text": [
        "REGRESSION\n",
        "----------\n",
        "SUMMARY OF OUTPUT: SPATIAL TWO STAGE LEAST SQUARES - REGIMES\n",
        "------------------------------------------------------------\n",
        "Data set            :  boston.dbf\n",
        "Weights matrix      :   boston_k4\n",
        "Dependent Variable  :        MEDV                Number of Observations:         506\n",
        "Mean dependent var  :     22.5328                Number of Variables   :          10\n",
        "S.D. dependent var  :      9.1971                Degrees of Freedom    :         496\n",
        "Pseudo R-squared    :      0.7476\n",
        "Spatial Pseudo R-squared:  0.6835\n",
        "\n",
        "White Standard Errors\n",
        "------------------------------------------------------------------------------------\n",
        "            Variable     Coefficient       Std.Error     z-Statistic     Probability\n",
        "------------------------------------------------------------------------------------\n",
        "              0_CRIM      -0.0912037       0.0268472      -3.3971428       0.0006809\n",
        "               0_NOX     -11.8180423       3.6078832      -3.2756166       0.0010543\n",
        "              1_CRIM       0.9410008       0.8584270       1.0961919       0.2729948\n",
        "               1_NOX     -11.1960904       4.3850765      -2.5532258       0.0106730\n",
        "    _Global_CONSTANT       4.8105023       6.1267270       0.7851667       0.4323558\n",
        "         _Global_AGE      -0.0178455       0.0144821      -1.2322477       0.2178566\n",
        "         _Global_DIS      -0.9561049       0.1762541      -5.4245828       0.0000001\n",
        "       _Global_LSTAT      -0.4367124       0.1076675      -4.0561212       0.0000499\n",
        "          _Global_RM       4.7390297       0.7951419       5.9599801       0.0000000\n",
        "      _Global_W_MEDV       0.2299312       0.1006010       2.2855767       0.0222790\n",
        "------------------------------------------------------------------------------------\n",
        "Instrumented: _Global_W_MEDV\n",
        "Instruments: 0_W_AGE, 0_W_CRIM, 0_W_DIS, 0_W_LSTAT, 0_W_NOX, 0_W_RM,\n",
        "             1_W_AGE, 1_W_CRIM, 1_W_DIS, 1_W_LSTAT, 1_W_NOX, 1_W_RM\n",
        "Regimes variable: CHAS\n",
        "\n",
        "DIAGNOSTICS FOR SPATIAL DEPENDENCE\n",
        "TEST                           MI/DF       VALUE           PROB\n",
        "Anselin-Kelejian Test             1          28.773          0.0000\n",
        "\n",
        "REGIMES DIAGNOSTICS - CHOW TEST\n",
        "                 VARIABLE        DF        VALUE           PROB\n",
        "                     CRIM         1           1.442           0.2298\n",
        "                      NOX         1           0.076           0.7827\n",
        "              Global test         2           3.458           0.1775\n",
        "================================ END OF REPORT =====================================\n"
       ]
      }
     ],
     "prompt_number": 17
    },
    {
     "cell_type": "code",
     "collapsed": false,
     "input": [],
     "language": "python",
     "metadata": {},
     "outputs": []
    }
   ],
   "metadata": {}
  }
 ]
}