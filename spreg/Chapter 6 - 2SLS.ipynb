{
 "metadata": {
  "name": "",
  "signature": "sha256:b187ce1580a998be3675e25d20492a424532819c27d3d75d37219c7983cb4e9f"
 },
 "nbformat": 3,
 "nbformat_minor": 0,
 "worksheets": [
  {
   "cells": [
    {
     "cell_type": "markdown",
     "metadata": {},
     "source": [
      "This notebook contains the PySAL/spreg code for Chapter 6 - 2SLS \n",
      "\n",
      "in\n",
      "Modern Spatial Econometrics in Practice: A Guide to GeoDa, GeoDaSpace and PySAL.\n",
      "\n",
      "by Luc Anselin and Sergio J. Rey\n",
      "\n",
      "(c) 2014 Luc Anselin and Sergio J. Rey, All Rights Reserved"
     ]
    },
    {
     "cell_type": "code",
     "collapsed": false,
     "input": [
      "__author__ = \"Luc Anselin luc.anselin@asu.edu\""
     ],
     "language": "python",
     "metadata": {},
     "outputs": [],
     "prompt_number": 1
    },
    {
     "cell_type": "markdown",
     "metadata": {},
     "source": [
      "##Basic Regression Setup##"
     ]
    },
    {
     "cell_type": "markdown",
     "metadata": {},
     "source": [
      "**Creating arrays for y, x, the endogenous variables yend and the instruments q**\n",
      "\n",
      "Using the **nat.dbf** example"
     ]
    },
    {
     "cell_type": "markdown",
     "metadata": {},
     "source": [
      "Preliminaries, importing **numpy** and **pysal**"
     ]
    },
    {
     "cell_type": "code",
     "collapsed": false,
     "input": [
      "import numpy as np\n",
      "import pysal"
     ],
     "language": "python",
     "metadata": {},
     "outputs": [],
     "prompt_number": 1
    },
    {
     "cell_type": "markdown",
     "metadata": {},
     "source": [
      "Loading the data set and creating the data object"
     ]
    },
    {
     "cell_type": "code",
     "collapsed": false,
     "input": [
      "db = pysal.open(pysal.examples.get_path('nat.dbf'),'r')"
     ],
     "language": "python",
     "metadata": {},
     "outputs": [],
     "prompt_number": 2
    },
    {
     "cell_type": "code",
     "collapsed": false,
     "input": [
      "len(db)"
     ],
     "language": "python",
     "metadata": {},
     "outputs": [
      {
       "metadata": {},
       "output_type": "pyout",
       "prompt_number": 3,
       "text": [
        "3085"
       ]
      }
     ],
     "prompt_number": 3
    },
    {
     "cell_type": "code",
     "collapsed": false,
     "input": [
      "db.header"
     ],
     "language": "python",
     "metadata": {},
     "outputs": [
      {
       "metadata": {},
       "output_type": "pyout",
       "prompt_number": 5,
       "text": [
        "['NAME',\n",
        " 'STATE_NAME',\n",
        " 'STATE_FIPS',\n",
        " 'CNTY_FIPS',\n",
        " 'FIPS',\n",
        " 'STFIPS',\n",
        " 'COFIPS',\n",
        " 'FIPSNO',\n",
        " 'SOUTH',\n",
        " 'HR60',\n",
        " 'HR70',\n",
        " 'HR80',\n",
        " 'HR90',\n",
        " 'HC60',\n",
        " 'HC70',\n",
        " 'HC80',\n",
        " 'HC90',\n",
        " 'PO60',\n",
        " 'PO70',\n",
        " 'PO80',\n",
        " 'PO90',\n",
        " 'RD60',\n",
        " 'RD70',\n",
        " 'RD80',\n",
        " 'RD90',\n",
        " 'PS60',\n",
        " 'PS70',\n",
        " 'PS80',\n",
        " 'PS90',\n",
        " 'UE60',\n",
        " 'UE70',\n",
        " 'UE80',\n",
        " 'UE90',\n",
        " 'DV60',\n",
        " 'DV70',\n",
        " 'DV80',\n",
        " 'DV90',\n",
        " 'MA60',\n",
        " 'MA70',\n",
        " 'MA80',\n",
        " 'MA90',\n",
        " 'POL60',\n",
        " 'POL70',\n",
        " 'POL80',\n",
        " 'POL90',\n",
        " 'DNL60',\n",
        " 'DNL70',\n",
        " 'DNL80',\n",
        " 'DNL90',\n",
        " 'MFIL59',\n",
        " 'MFIL69',\n",
        " 'MFIL79',\n",
        " 'MFIL89',\n",
        " 'FP59',\n",
        " 'FP69',\n",
        " 'FP79',\n",
        " 'FP89',\n",
        " 'BLK60',\n",
        " 'BLK70',\n",
        " 'BLK80',\n",
        " 'BLK90',\n",
        " 'GI59',\n",
        " 'GI69',\n",
        " 'GI79',\n",
        " 'GI89',\n",
        " 'FH60',\n",
        " 'FH70',\n",
        " 'FH80',\n",
        " 'FH90']"
       ]
      }
     ],
     "prompt_number": 5
    },
    {
     "cell_type": "markdown",
     "metadata": {},
     "source": [
      "**y**"
     ]
    },
    {
     "cell_type": "code",
     "collapsed": false,
     "input": [
      "y_name = \"HR90\"\n",
      "y = np.array([db.by_col(y_name)]).T"
     ],
     "language": "python",
     "metadata": {},
     "outputs": [],
     "prompt_number": 4
    },
    {
     "cell_type": "code",
     "collapsed": false,
     "input": [
      "y.shape"
     ],
     "language": "python",
     "metadata": {},
     "outputs": [
      {
       "metadata": {},
       "output_type": "pyout",
       "prompt_number": 5,
       "text": [
        "(3085, 1)"
       ]
      }
     ],
     "prompt_number": 5
    },
    {
     "cell_type": "markdown",
     "metadata": {},
     "source": [
      "**x**"
     ]
    },
    {
     "cell_type": "code",
     "collapsed": false,
     "input": [
      "x_names = ['RD90','MA90','PS90']\n",
      "x = np.array([db.by_col(var) for var in x_names]).T"
     ],
     "language": "python",
     "metadata": {},
     "outputs": [],
     "prompt_number": 6
    },
    {
     "cell_type": "code",
     "collapsed": false,
     "input": [
      "x.shape"
     ],
     "language": "python",
     "metadata": {},
     "outputs": [
      {
       "metadata": {},
       "output_type": "pyout",
       "prompt_number": 7,
       "text": [
        "(3085, 3)"
       ]
      }
     ],
     "prompt_number": 7
    },
    {
     "cell_type": "markdown",
     "metadata": {},
     "source": [
      "**yend**"
     ]
    },
    {
     "cell_type": "code",
     "collapsed": false,
     "input": [
      "yend_names = ['UE90']\n",
      "yend = np.array([db.by_col(var) for var in yend_names]).T"
     ],
     "language": "python",
     "metadata": {},
     "outputs": [],
     "prompt_number": 8
    },
    {
     "cell_type": "code",
     "collapsed": false,
     "input": [
      "yend.shape"
     ],
     "language": "python",
     "metadata": {},
     "outputs": [
      {
       "metadata": {},
       "output_type": "pyout",
       "prompt_number": 9,
       "text": [
        "(3085, 1)"
       ]
      }
     ],
     "prompt_number": 9
    },
    {
     "cell_type": "markdown",
     "metadata": {},
     "source": [
      "**q**"
     ]
    },
    {
     "cell_type": "code",
     "collapsed": false,
     "input": [
      "q_names = ['FH90','FP89','GI89']\n",
      "q = np.array([db.by_col(var) for var in q_names]).T"
     ],
     "language": "python",
     "metadata": {},
     "outputs": [],
     "prompt_number": 10
    },
    {
     "cell_type": "code",
     "collapsed": false,
     "input": [
      "q.shape"
     ],
     "language": "python",
     "metadata": {},
     "outputs": [
      {
       "metadata": {},
       "output_type": "pyout",
       "prompt_number": 11,
       "text": [
        "(3085, 3)"
       ]
      }
     ],
     "prompt_number": 11
    },
    {
     "cell_type": "markdown",
     "metadata": {},
     "source": [
      "**Creating the model weights, queen contiguity for nat.shp**"
     ]
    },
    {
     "cell_type": "code",
     "collapsed": false,
     "input": [
      "w = pysal.queen_from_shapefile(pysal.examples.get_path(\"NAT.shp\"),idVariable=\"FIPSNO\")"
     ],
     "language": "python",
     "metadata": {},
     "outputs": [],
     "prompt_number": 12
    },
    {
     "cell_type": "code",
     "collapsed": false,
     "input": [
      "w.n"
     ],
     "language": "python",
     "metadata": {},
     "outputs": [
      {
       "metadata": {},
       "output_type": "pyout",
       "prompt_number": 13,
       "text": [
        "3085"
       ]
      }
     ],
     "prompt_number": 13
    },
    {
     "cell_type": "markdown",
     "metadata": {},
     "source": [
      "row-standardize"
     ]
    },
    {
     "cell_type": "code",
     "collapsed": false,
     "input": [
      "w.transform = 'r'"
     ],
     "language": "python",
     "metadata": {},
     "outputs": [],
     "prompt_number": 14
    },
    {
     "cell_type": "markdown",
     "metadata": {},
     "source": [
      "**Creating the kernel weights, triangular with k=20**"
     ]
    },
    {
     "cell_type": "markdown",
     "metadata": {},
     "source": [
      "since NAT.shp coordinates are in lat-lon, use **radius** to get great circle distance"
     ]
    },
    {
     "cell_type": "code",
     "collapsed": false,
     "input": [
      "kw = pysal.adaptive_kernelW_from_shapefile(pysal.examples.get_path('NAT.shp'),\n",
      "                                             k=20,radius=pysal.cg.RADIUS_EARTH_MILES,idVariable='FIPSNO')"
     ],
     "language": "python",
     "metadata": {},
     "outputs": [],
     "prompt_number": 17
    },
    {
     "cell_type": "markdown",
     "metadata": {},
     "source": [
      "##Basic Two Stage Least Squares##"
     ]
    },
    {
     "cell_type": "markdown",
     "metadata": {},
     "source": [
      "**default settings**"
     ]
    },
    {
     "cell_type": "code",
     "collapsed": false,
     "input": [
      "reg1 = pysal.spreg.TSLS(y,x,yend,q,name_y=y_name,name_x=x_names,\n",
      "                        name_yend=yend_names,name_q=q_names,name_ds='nat.dbf')"
     ],
     "language": "python",
     "metadata": {},
     "outputs": [],
     "prompt_number": 18
    },
    {
     "cell_type": "markdown",
     "metadata": {},
     "source": [
      "regression coefficients, in alphabetical order of the variable names"
     ]
    },
    {
     "cell_type": "code",
     "collapsed": false,
     "input": [
      "reg1.betas"
     ],
     "language": "python",
     "metadata": {},
     "outputs": [
      {
       "metadata": {},
       "output_type": "pyout",
       "prompt_number": 19,
       "text": [
        "array([[ 15.64555155],\n",
        "       [  5.72924882],\n",
        "       [ -0.09837584],\n",
        "       [  1.8770506 ],\n",
        "       [ -0.91445539]])"
       ]
      }
     ],
     "prompt_number": 19
    },
    {
     "cell_type": "markdown",
     "metadata": {},
     "source": [
      "pretty listing"
     ]
    },
    {
     "cell_type": "code",
     "collapsed": false,
     "input": [
      "print reg1.summary"
     ],
     "language": "python",
     "metadata": {},
     "outputs": [
      {
       "output_type": "stream",
       "stream": "stdout",
       "text": [
        "REGRESSION\n",
        "----------\n",
        "SUMMARY OF OUTPUT: TWO STAGE LEAST SQUARES\n",
        "------------------------------------------\n",
        "Data set            :     nat.dbf\n",
        "Dependent Variable  :        HR90                Number of Observations:        3085\n",
        "Mean dependent var  :      6.1829                Number of Variables   :           5\n",
        "S.D. dependent var  :      6.6414                Degrees of Freedom    :        3080\n",
        "Pseudo R-squared    :      0.3570\n",
        "\n",
        "------------------------------------------------------------------------------------\n",
        "            Variable     Coefficient       Std.Error     z-Statistic     Probability\n",
        "------------------------------------------------------------------------------------\n",
        "            CONSTANT      15.6455516       1.3545018      11.5507796       0.0000000\n",
        "                MA90      -0.0983758       0.0299492      -3.2847583       0.0010207\n",
        "                PS90       1.8770506       0.1070934      17.5272273       0.0000000\n",
        "                RD90       5.7292488       0.2129126      26.9089171       0.0000000\n",
        "                UE90      -0.9144554       0.0986831      -9.2665854       0.0000000\n",
        "------------------------------------------------------------------------------------\n",
        "Instrumented: UE90\n",
        "Instruments: FH90, FP89, GI89\n",
        "================================ END OF REPORT =====================================\n"
       ]
      }
     ],
     "prompt_number": 20
    },
    {
     "cell_type": "markdown",
     "metadata": {},
     "source": [
      "##The Two Stages of 2SLS##"
     ]
    },
    {
     "cell_type": "markdown",
     "metadata": {},
     "source": [
      "create a matrix with all the instruments, i.e., both **x** and **q**"
     ]
    },
    {
     "cell_type": "code",
     "collapsed": false,
     "input": [
      "bigx = np.hstack((x,q))"
     ],
     "language": "python",
     "metadata": {},
     "outputs": [],
     "prompt_number": 15
    },
    {
     "cell_type": "code",
     "collapsed": false,
     "input": [
      "bigx.shape"
     ],
     "language": "python",
     "metadata": {},
     "outputs": [
      {
       "metadata": {},
       "output_type": "pyout",
       "prompt_number": 16,
       "text": [
        "(3085, 6)"
       ]
      }
     ],
     "prompt_number": 16
    },
    {
     "cell_type": "markdown",
     "metadata": {},
     "source": [
      "OLS regression of endogenous variable on all the instruments (**x** and **q**)"
     ]
    },
    {
     "cell_type": "code",
     "collapsed": false,
     "input": [
      "step1 = pysal.spreg.OLS(yend,bigx)"
     ],
     "language": "python",
     "metadata": {},
     "outputs": [],
     "prompt_number": 17
    },
    {
     "cell_type": "markdown",
     "metadata": {},
     "source": [
      "predicted values for endogenous variable"
     ]
    },
    {
     "cell_type": "code",
     "collapsed": false,
     "input": [
      "y2 = step1.predy"
     ],
     "language": "python",
     "metadata": {},
     "outputs": [],
     "prompt_number": 18
    },
    {
     "cell_type": "markdown",
     "metadata": {},
     "source": [
      "replace the endogenous variable by its predicted value"
     ]
    },
    {
     "cell_type": "code",
     "collapsed": false,
     "input": [
      "newx = np.hstack((x,y2))"
     ],
     "language": "python",
     "metadata": {},
     "outputs": [],
     "prompt_number": 19
    },
    {
     "cell_type": "markdown",
     "metadata": {},
     "source": [
      "second step OLS regression"
     ]
    },
    {
     "cell_type": "code",
     "collapsed": false,
     "input": [
      "step2 = pysal.spreg.OLS(y,newx)"
     ],
     "language": "python",
     "metadata": {},
     "outputs": [],
     "prompt_number": 20
    },
    {
     "cell_type": "code",
     "collapsed": false,
     "input": [
      "print step2.summary"
     ],
     "language": "python",
     "metadata": {},
     "outputs": [
      {
       "output_type": "stream",
       "stream": "stdout",
       "text": [
        "REGRESSION\n",
        "----------\n",
        "SUMMARY OF OUTPUT: ORDINARY LEAST SQUARES\n",
        "-----------------------------------------\n",
        "Data set            :     unknown\n",
        "Dependent Variable  :     dep_var                Number of Observations:        3085\n",
        "Mean dependent var  :      6.1829                Number of Variables   :           5\n",
        "S.D. dependent var  :      6.6414                Degrees of Freedom    :        3080\n",
        "R-squared           :      0.4027\n",
        "Adjusted R-squared  :      0.4019\n",
        "Sum squared residual:   81252.812                F-statistic           :    519.1009\n",
        "Sigma-square        :      26.381                Prob(F-statistic)     :           0\n",
        "S.E. of regression  :       5.136                Log likelihood        :   -9422.964\n",
        "Sigma-square ML     :      26.338                Akaike info criterion :   18855.928\n",
        "S.E of regression ML:      5.1321                Schwarz criterion     :   18886.100\n",
        "\n",
        "------------------------------------------------------------------------------------\n",
        "            Variable     Coefficient       Std.Error     t-Statistic     Probability\n",
        "------------------------------------------------------------------------------------\n",
        "            CONSTANT      15.6455516       1.2962099      12.0702300       0.0000000\n",
        "               var_1       5.7292488       0.2037498      28.1190386       0.0000000\n",
        "               var_2      -0.0983758       0.0286603      -3.4324773       0.0006060\n",
        "               var_3       1.8770506       0.1024846      18.3154447       0.0000000\n",
        "               var_4      -0.9144554       0.0944362      -9.6833132       0.0000000\n",
        "------------------------------------------------------------------------------------\n",
        "\n",
        "REGRESSION DIAGNOSTICS\n",
        "MULTICOLLINEARITY CONDITION NUMBER           30.224\n",
        "\n",
        "TEST ON NORMALITY OF ERRORS\n",
        "TEST                             DF        VALUE           PROB\n",
        "Jarque-Bera                       2       56513.324           0.0000\n",
        "\n",
        "DIAGNOSTICS FOR HETEROSKEDASTICITY\n",
        "RANDOM COEFFICIENTS\n",
        "TEST                             DF        VALUE           PROB\n",
        "Breusch-Pagan test                4        1350.019           0.0000\n",
        "Koenker-Bassett test              4         120.991           0.0000\n",
        "================================ END OF REPORT =====================================\n"
       ]
      }
     ],
     "prompt_number": 21
    },
    {
     "cell_type": "markdown",
     "metadata": {},
     "source": [
      "ignore measure of fit and diagnostics, but the coefficient estimates match, the estimated standard\n",
      "errors do not, because they are based on the wrong residuals"
     ]
    },
    {
     "cell_type": "markdown",
     "metadata": {},
     "source": [
      "##2SLS with Spatial Diagnostics##"
     ]
    },
    {
     "cell_type": "markdown",
     "metadata": {},
     "source": [
      "set **spat_diag = True** and specify a weights object (and, optionally, its name)"
     ]
    },
    {
     "cell_type": "code",
     "collapsed": false,
     "input": [
      "reg2 = pysal.spreg.TSLS(y,x,yend,q,w=w,spat_diag=True,\n",
      "                        name_y=y_name,name_x=x_names,name_yend=yend_names,\n",
      "                        name_q=q_names,name_w=\"nat_queen\",name_ds=\"nat.dbf\")"
     ],
     "language": "python",
     "metadata": {},
     "outputs": [],
     "prompt_number": 28
    },
    {
     "cell_type": "code",
     "collapsed": false,
     "input": [
      "print reg2.summary"
     ],
     "language": "python",
     "metadata": {},
     "outputs": [
      {
       "output_type": "stream",
       "stream": "stdout",
       "text": [
        "REGRESSION\n",
        "----------\n",
        "SUMMARY OF OUTPUT: TWO STAGE LEAST SQUARES\n",
        "------------------------------------------\n",
        "Data set            :     nat.dbf\n",
        "Weights matrix      :   nat_queen\n",
        "Dependent Variable  :        HR90                Number of Observations:        3085\n",
        "Mean dependent var  :      6.1829                Number of Variables   :           5\n",
        "S.D. dependent var  :      6.6414                Degrees of Freedom    :        3080\n",
        "Pseudo R-squared    :      0.3570\n",
        "\n",
        "------------------------------------------------------------------------------------\n",
        "            Variable     Coefficient       Std.Error     z-Statistic     Probability\n",
        "------------------------------------------------------------------------------------\n",
        "            CONSTANT      15.6455516       1.3545018      11.5507796       0.0000000\n",
        "                MA90      -0.0983758       0.0299492      -3.2847583       0.0010207\n",
        "                PS90       1.8770506       0.1070934      17.5272273       0.0000000\n",
        "                RD90       5.7292488       0.2129126      26.9089171       0.0000000\n",
        "                UE90      -0.9144554       0.0986831      -9.2665854       0.0000000\n",
        "------------------------------------------------------------------------------------\n",
        "Instrumented: UE90\n",
        "Instruments: FH90, FP89, GI89\n",
        "\n",
        "DIAGNOSTICS FOR SPATIAL DEPENDENCE\n",
        "TEST                           MI/DF       VALUE           PROB\n",
        "Anselin-Kelejian Test             1         124.415          0.0000\n",
        "================================ END OF REPORT =====================================\n"
       ]
      }
     ],
     "prompt_number": 29
    },
    {
     "cell_type": "markdown",
     "metadata": {},
     "source": [
      "##2SLS with White Standard Errors##"
     ]
    },
    {
     "cell_type": "markdown",
     "metadata": {},
     "source": [
      "set **robust = 'white'**"
     ]
    },
    {
     "cell_type": "code",
     "collapsed": false,
     "input": [
      "reg3 = pysal.spreg.TSLS(y,x,yend,q,robust='white',\n",
      "                        name_y=y_name,name_x=x_names,name_yend=yend_names,\n",
      "                        name_q=q_names,name_ds=\"nat.dbf\")"
     ],
     "language": "python",
     "metadata": {},
     "outputs": [],
     "prompt_number": 30
    },
    {
     "cell_type": "code",
     "collapsed": false,
     "input": [
      "print reg3.summary"
     ],
     "language": "python",
     "metadata": {},
     "outputs": [
      {
       "output_type": "stream",
       "stream": "stdout",
       "text": [
        "REGRESSION\n",
        "----------\n",
        "SUMMARY OF OUTPUT: TWO STAGE LEAST SQUARES\n",
        "------------------------------------------\n",
        "Data set            :     nat.dbf\n",
        "Dependent Variable  :        HR90                Number of Observations:        3085\n",
        "Mean dependent var  :      6.1829                Number of Variables   :           5\n",
        "S.D. dependent var  :      6.6414                Degrees of Freedom    :        3080\n",
        "Pseudo R-squared    :      0.3570\n",
        "\n",
        "White Standard Errors\n",
        "------------------------------------------------------------------------------------\n",
        "            Variable     Coefficient       Std.Error     z-Statistic     Probability\n",
        "------------------------------------------------------------------------------------\n",
        "            CONSTANT      15.6455516       1.5393092      10.1640082       0.0000000\n",
        "                MA90      -0.0983758       0.0316213      -3.1110577       0.0018642\n",
        "                PS90       1.8770506       0.1688432      11.1171261       0.0000000\n",
        "                RD90       5.7292488       0.3053397      18.7635242       0.0000000\n",
        "                UE90      -0.9144554       0.1384631      -6.6043272       0.0000000\n",
        "------------------------------------------------------------------------------------\n",
        "Instrumented: UE90\n",
        "Instruments: FH90, FP89, GI89\n",
        "================================ END OF REPORT =====================================\n"
       ]
      }
     ],
     "prompt_number": 31
    },
    {
     "cell_type": "markdown",
     "metadata": {},
     "source": [
      "##2SLS with HAC Standard Errors##"
     ]
    },
    {
     "cell_type": "markdown",
     "metadata": {},
     "source": [
      "set **robust = 'hac'** and specify a kernel weights object as **gkw** (**name_gwk** is optional)"
     ]
    },
    {
     "cell_type": "code",
     "collapsed": false,
     "input": [
      "reg4 = pysal.spreg.TSLS(y,x,yend,q,robust='hac',gwk=kw,\n",
      "                        name_y=y_name,name_x=x_names,name_yend=yend_names,\n",
      "                        name_q=q_names,name_gwk=\"nat_k20_triang\",\n",
      "                        name_ds=\"nat.dbf\")"
     ],
     "language": "python",
     "metadata": {},
     "outputs": [],
     "prompt_number": 32
    },
    {
     "cell_type": "code",
     "collapsed": false,
     "input": [
      "print reg4.summary"
     ],
     "language": "python",
     "metadata": {},
     "outputs": [
      {
       "output_type": "stream",
       "stream": "stdout",
       "text": [
        "REGRESSION\n",
        "----------\n",
        "SUMMARY OF OUTPUT: TWO STAGE LEAST SQUARES\n",
        "------------------------------------------\n",
        "Data set            :     nat.dbf\n",
        "Dependent Variable  :        HR90                Number of Observations:        3085\n",
        "Mean dependent var  :      6.1829                Number of Variables   :           5\n",
        "S.D. dependent var  :      6.6414                Degrees of Freedom    :        3080\n",
        "Pseudo R-squared    :      0.3570\n",
        "\n",
        "HAC Standard Errors; Kernel Weights: nat_k20_triang\n",
        "------------------------------------------------------------------------------------\n",
        "            Variable     Coefficient       Std.Error     z-Statistic     Probability\n",
        "------------------------------------------------------------------------------------\n",
        "            CONSTANT      15.6455516       1.6405678       9.5366688       0.0000000\n",
        "                MA90      -0.0983758       0.0341965      -2.8767776       0.0040176\n",
        "                PS90       1.8770506       0.1982054       9.4702289       0.0000000\n",
        "                RD90       5.7292488       0.3304847      17.3358973       0.0000000\n",
        "                UE90      -0.9144554       0.1429221      -6.3982775       0.0000000\n",
        "------------------------------------------------------------------------------------\n",
        "Instrumented: UE90\n",
        "Instruments: FH90, FP89, GI89\n",
        "================================ END OF REPORT =====================================\n"
       ]
      }
     ],
     "prompt_number": 33
    }
   ],
   "metadata": {}
  }
 ]
}