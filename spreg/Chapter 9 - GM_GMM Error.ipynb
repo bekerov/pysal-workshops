{
 "metadata": {
  "name": "",
  "signature": "sha256:2d1dd2690f942073f57054526b9cbd2c1aa8b24e0861a17afe2ae3de5e59e9e7"
 },
 "nbformat": 3,
 "nbformat_minor": 0,
 "worksheets": [
  {
   "cells": [
    {
     "cell_type": "markdown",
     "metadata": {},
     "source": [
      "This notebook contains the PySAL/spreg code for Chapter 9 - GM/GMM Error \n",
      "\n",
      "in\n",
      "Modern Spatial Econometrics in Practice: A Guide to GeoDa, GeoDaSpace and PySAL.\n",
      "\n",
      "by Luc Anselin and Sergio J. Rey\n",
      "\n",
      "(c) 2014 Luc Anselin and Sergio J. Rey, All Rights Reserved"
     ]
    },
    {
     "cell_type": "code",
     "collapsed": false,
     "input": [
      "__author__ = \"Luc Anselin luc.anselin@asu.edu\""
     ],
     "language": "python",
     "metadata": {},
     "outputs": [],
     "prompt_number": 1
    },
    {
     "cell_type": "markdown",
     "metadata": {},
     "source": [
      "##Basic Regression Setup##"
     ]
    },
    {
     "cell_type": "markdown",
     "metadata": {},
     "source": [
      "###Exogenous Explanatory Variables Only###"
     ]
    },
    {
     "cell_type": "markdown",
     "metadata": {},
     "source": [
      "**Creating arrays for y and x for south.dbf example data set** (see previous notebooks)"
     ]
    },
    {
     "cell_type": "markdown",
     "metadata": {},
     "source": [
      "Preliminaries, import **numpy** and **pysal**"
     ]
    },
    {
     "cell_type": "code",
     "collapsed": false,
     "input": [
      "import numpy as np\n",
      "import pysal"
     ],
     "language": "python",
     "metadata": {},
     "outputs": [],
     "prompt_number": 1
    },
    {
     "cell_type": "code",
     "collapsed": false,
     "input": [
      "db = pysal.open('data/south.dbf','r')\n",
      "y_name = \"HR90\"\n",
      "y = np.array([db.by_col(y_name)]).T\n",
      "x_names = [\"RD90\",\"PS90\",\"UE90\",\"DV90\"]\n",
      "x = np.array([db.by_col(var) for var in x_names]).T"
     ],
     "language": "python",
     "metadata": {},
     "outputs": [],
     "prompt_number": 2
    },
    {
     "cell_type": "markdown",
     "metadata": {},
     "source": [
      "###Exogenous and Endogenous Explanatory Variables###"
     ]
    },
    {
     "cell_type": "markdown",
     "metadata": {},
     "source": [
      "**Creating arrays for yend, q and xe (exogenous only)**"
     ]
    },
    {
     "cell_type": "code",
     "collapsed": false,
     "input": [
      "yend_names = [\"UE90\"]\n",
      "yend = np.array([db.by_col(var) for var in yend_names]).T\n",
      "q_names = [\"FH90\",\"FP89\",\"GI89\"]\n",
      "q = np.array([db.by_col(var) for var in q_names]).T\n",
      "xe_names = [\"RD90\",\"PS90\",\"DV90\"]\n",
      "xe = np.array([db.by_col(var) for var in xe_names]).T"
     ],
     "language": "python",
     "metadata": {},
     "outputs": [],
     "prompt_number": 3
    },
    {
     "cell_type": "markdown",
     "metadata": {},
     "source": [
      "###Spatial Weights###"
     ]
    },
    {
     "cell_type": "markdown",
     "metadata": {},
     "source": [
      "Queen contiguity, with FIPSNO as the ID variable"
     ]
    },
    {
     "cell_type": "code",
     "collapsed": false,
     "input": [
      "w = pysal.queen_from_shapefile('data/south.shp',idVariable=\"FIPSNO\")\n",
      "w.transform = 'r'"
     ],
     "language": "python",
     "metadata": {},
     "outputs": [],
     "prompt_number": 4
    },
    {
     "cell_type": "markdown",
     "metadata": {},
     "source": [
      "##GM##"
     ]
    },
    {
     "cell_type": "markdown",
     "metadata": {},
     "source": [
      "###Exogenous Variables Only###"
     ]
    },
    {
     "cell_type": "code",
     "collapsed": false,
     "input": [
      "gm1 = pysal.spreg.GM_Error(y,x,w,name_y=y_name,name_x=x_names,\n",
      "                  name_w=\"south_q\",name_ds=\"south.dbf\") "
     ],
     "language": "python",
     "metadata": {},
     "outputs": [],
     "prompt_number": 5
    },
    {
     "cell_type": "markdown",
     "metadata": {},
     "source": [
      "Attributes of the regression object"
     ]
    },
    {
     "cell_type": "code",
     "collapsed": false,
     "input": [
      "dir(gm1)"
     ],
     "language": "python",
     "metadata": {},
     "outputs": [
      {
       "metadata": {},
       "output_type": "pyout",
       "prompt_number": 6,
       "text": [
        "['__doc__',\n",
        " '__init__',\n",
        " '__module__',\n",
        " '__summary',\n",
        " '_cache',\n",
        " 'betas',\n",
        " 'e_filtered',\n",
        " 'k',\n",
        " 'mean_y',\n",
        " 'n',\n",
        " 'name_ds',\n",
        " 'name_w',\n",
        " 'name_x',\n",
        " 'name_y',\n",
        " 'pr2',\n",
        " 'predy',\n",
        " 'sig2',\n",
        " 'std_err',\n",
        " 'std_y',\n",
        " 'summary',\n",
        " 'title',\n",
        " 'u',\n",
        " 'vm',\n",
        " 'x',\n",
        " 'y',\n",
        " 'z_stat']"
       ]
      }
     ],
     "prompt_number": 6
    },
    {
     "cell_type": "markdown",
     "metadata": {},
     "source": [
      "The estimated coefficients, including lambda as the last element"
     ]
    },
    {
     "cell_type": "code",
     "collapsed": false,
     "input": [
      "gm1.betas"
     ],
     "language": "python",
     "metadata": {},
     "outputs": [
      {
       "metadata": {},
       "output_type": "pyout",
       "prompt_number": 7,
       "text": [
        "array([[ 6.33865368],\n",
        "       [ 4.43265183],\n",
        "       [ 1.81335314],\n",
        "       [-0.3985616 ],\n",
        "       [ 0.47772164],\n",
        "       [ 0.26040896]])"
       ]
      }
     ],
     "prompt_number": 7
    },
    {
     "cell_type": "markdown",
     "metadata": {},
     "source": [
      "The spatial autoregressive coefficient"
     ]
    },
    {
     "cell_type": "code",
     "collapsed": false,
     "input": [
      "gm1.betas[-1][0]"
     ],
     "language": "python",
     "metadata": {},
     "outputs": [
      {
       "metadata": {},
       "output_type": "pyout",
       "prompt_number": 8,
       "text": [
        "0.2604089568989385"
       ]
      }
     ],
     "prompt_number": 8
    },
    {
     "cell_type": "markdown",
     "metadata": {},
     "source": [
      "The full listing"
     ]
    },
    {
     "cell_type": "code",
     "collapsed": false,
     "input": [
      "print gm1.summary"
     ],
     "language": "python",
     "metadata": {},
     "outputs": [
      {
       "output_type": "stream",
       "stream": "stdout",
       "text": [
        "REGRESSION\n",
        "----------\n",
        "SUMMARY OF OUTPUT: SPATIALLY WEIGHTED LEAST SQUARES\n",
        "---------------------------------------------------\n",
        "Data set            :   south.dbf\n",
        "Weights matrix      :     south_q\n",
        "Dependent Variable  :        HR90                Number of Observations:        1412\n",
        "Mean dependent var  :      9.5493                Number of Variables   :           5\n",
        "S.D. dependent var  :      7.0389                Degrees of Freedom    :        1407\n",
        "Pseudo R-squared    :      0.3066\n",
        "\n",
        "------------------------------------------------------------------------------------\n",
        "            Variable     Coefficient       Std.Error     z-Statistic     Probability\n",
        "------------------------------------------------------------------------------------\n",
        "            CONSTANT       6.3386537       1.0155422       6.2416445       0.0000000\n",
        "                DV90       0.4777216       0.1203677       3.9688512       0.0000722\n",
        "                PS90       1.8133531       0.2105237       8.6135328       0.0000000\n",
        "                RD90       4.4326518       0.2318185      19.1212180       0.0000000\n",
        "                UE90      -0.3985616       0.0772012      -5.1626346       0.0000002\n",
        "              lambda       0.2604090    \n",
        "------------------------------------------------------------------------------------\n",
        "================================ END OF REPORT =====================================\n"
       ]
      }
     ],
     "prompt_number": 9
    },
    {
     "cell_type": "markdown",
     "metadata": {},
     "source": [
      "###Exogenous and Endogenous Variables###"
     ]
    },
    {
     "cell_type": "code",
     "collapsed": false,
     "input": [
      "gm2 = pysal.spreg.GM_Endog_Error(y,xe,yend,q,w,name_y=y_name,\n",
      "                  name_x=xe_names,name_yend=yend_names,name_q=q_names,\n",
      "                  name_w=\"south_q\",name_ds=\"south.dbf\")"
     ],
     "language": "python",
     "metadata": {},
     "outputs": [],
     "prompt_number": 10
    },
    {
     "cell_type": "markdown",
     "metadata": {},
     "source": [
      "Attributes of the regression object"
     ]
    },
    {
     "cell_type": "code",
     "collapsed": false,
     "input": [
      "dir(gm2)"
     ],
     "language": "python",
     "metadata": {},
     "outputs": [
      {
       "metadata": {},
       "output_type": "pyout",
       "prompt_number": 11,
       "text": [
        "['__doc__',\n",
        " '__init__',\n",
        " '__module__',\n",
        " '__summary',\n",
        " '_cache',\n",
        " 'betas',\n",
        " 'e_filtered',\n",
        " 'k',\n",
        " 'mean_y',\n",
        " 'n',\n",
        " 'name_ds',\n",
        " 'name_h',\n",
        " 'name_q',\n",
        " 'name_w',\n",
        " 'name_x',\n",
        " 'name_y',\n",
        " 'name_yend',\n",
        " 'name_z',\n",
        " 'pr2',\n",
        " 'predy',\n",
        " 'sig2',\n",
        " 'std_err',\n",
        " 'std_y',\n",
        " 'summary',\n",
        " 'title',\n",
        " 'u',\n",
        " 'vm',\n",
        " 'x',\n",
        " 'y',\n",
        " 'yend',\n",
        " 'z',\n",
        " 'z_stat']"
       ]
      }
     ],
     "prompt_number": 11
    },
    {
     "cell_type": "markdown",
     "metadata": {},
     "source": [
      "The estimated coefficients, including lambda as the last element"
     ]
    },
    {
     "cell_type": "code",
     "collapsed": false,
     "input": [
      "gm2.betas"
     ],
     "language": "python",
     "metadata": {},
     "outputs": [
      {
       "metadata": {},
       "output_type": "pyout",
       "prompt_number": 12,
       "text": [
        "array([[ 10.7717841 ],\n",
        "       [  5.90371303],\n",
        "       [  2.04553882],\n",
        "       [  0.49190638],\n",
        "       [ -1.14071221],\n",
        "       [  0.23609742]])"
       ]
      }
     ],
     "prompt_number": 12
    },
    {
     "cell_type": "markdown",
     "metadata": {},
     "source": [
      "The spatial autoregressive coefficient"
     ]
    },
    {
     "cell_type": "code",
     "collapsed": false,
     "input": [
      "gm2.betas[-1][0]"
     ],
     "language": "python",
     "metadata": {},
     "outputs": [
      {
       "metadata": {},
       "output_type": "pyout",
       "prompt_number": 13,
       "text": [
        "0.23609741911694102"
       ]
      }
     ],
     "prompt_number": 13
    },
    {
     "cell_type": "markdown",
     "metadata": {},
     "source": [
      "The full listing"
     ]
    },
    {
     "cell_type": "code",
     "collapsed": false,
     "input": [
      "print gm2.summary"
     ],
     "language": "python",
     "metadata": {},
     "outputs": [
      {
       "output_type": "stream",
       "stream": "stdout",
       "text": [
        "REGRESSION\n",
        "----------\n",
        "SUMMARY OF OUTPUT: SPATIALLY WEIGHTED TWO STAGE LEAST SQUARES\n",
        "-------------------------------------------------------------\n",
        "Data set            :   south.dbf\n",
        "Weights matrix      :     south_q\n",
        "Dependent Variable  :        HR90                Number of Observations:        1412\n",
        "Mean dependent var  :      9.5493                Number of Variables   :           5\n",
        "S.D. dependent var  :      7.0389                Degrees of Freedom    :        1407\n",
        "Pseudo R-squared    :      0.2818\n",
        "\n",
        "------------------------------------------------------------------------------------\n",
        "            Variable     Coefficient       Std.Error     z-Statistic     Probability\n",
        "------------------------------------------------------------------------------------\n",
        "            CONSTANT      10.7717841       1.2771988       8.4339137       0.0000000\n",
        "                DV90       0.4919064       0.1246483       3.9463541       0.0000794\n",
        "                PS90       2.0455388       0.2190619       9.3377222       0.0000000\n",
        "                RD90       5.9037130       0.3473996      16.9940125       0.0000000\n",
        "                UE90      -1.1407122       0.1483842      -7.6875610       0.0000000\n",
        "              lambda       0.2360974    \n",
        "------------------------------------------------------------------------------------\n",
        "Instrumented: UE90\n",
        "Instruments: FH90, FP89, GI89\n",
        "================================ END OF REPORT =====================================\n"
       ]
      }
     ],
     "prompt_number": 14
    },
    {
     "cell_type": "markdown",
     "metadata": {},
     "source": [
      "##GMM Heteroskedastic Case##"
     ]
    },
    {
     "cell_type": "markdown",
     "metadata": {},
     "source": [
      "###Exogenous Variables Only###"
     ]
    },
    {
     "cell_type": "code",
     "collapsed": false,
     "input": [
      "gm3 = pysal.spreg.GM_Error_Het(y,x,w,name_y=y_name,name_x=x_names,\n",
      "                  name_w=\"south_q\",name_ds=\"south.dbf\")"
     ],
     "language": "python",
     "metadata": {},
     "outputs": [],
     "prompt_number": 15
    },
    {
     "cell_type": "markdown",
     "metadata": {},
     "source": [
      "Attributes of the regression object"
     ]
    },
    {
     "cell_type": "code",
     "collapsed": false,
     "input": [
      "dir(gm3)"
     ],
     "language": "python",
     "metadata": {},
     "outputs": [
      {
       "metadata": {},
       "output_type": "pyout",
       "prompt_number": 16,
       "text": [
        "['__doc__',\n",
        " '__init__',\n",
        " '__module__',\n",
        " '__summary',\n",
        " '_cache',\n",
        " 'betas',\n",
        " 'e_filtered',\n",
        " 'iter_stop',\n",
        " 'iteration',\n",
        " 'k',\n",
        " 'mean_y',\n",
        " 'n',\n",
        " 'name_ds',\n",
        " 'name_w',\n",
        " 'name_x',\n",
        " 'name_y',\n",
        " 'pr2',\n",
        " 'predy',\n",
        " 'std_err',\n",
        " 'std_y',\n",
        " 'step1c',\n",
        " 'summary',\n",
        " 'title',\n",
        " 'u',\n",
        " 'vm',\n",
        " 'x',\n",
        " 'xtx',\n",
        " 'y',\n",
        " 'z_stat']"
       ]
      }
     ],
     "prompt_number": 16
    },
    {
     "cell_type": "markdown",
     "metadata": {},
     "source": [
      "The estimated coefficients, including lambda as the last element"
     ]
    },
    {
     "cell_type": "code",
     "collapsed": false,
     "input": [
      "gm3.betas"
     ],
     "language": "python",
     "metadata": {},
     "outputs": [
      {
       "metadata": {},
       "output_type": "pyout",
       "prompt_number": 17,
       "text": [
        "array([[ 6.25760366],\n",
        "       [ 4.41953589],\n",
        "       [ 1.79832764],\n",
        "       [-0.38976971],\n",
        "       [ 0.48116579],\n",
        "       [ 0.31474155]])"
       ]
      }
     ],
     "prompt_number": 17
    },
    {
     "cell_type": "markdown",
     "metadata": {},
     "source": [
      "The spatial autoregressive coefficient"
     ]
    },
    {
     "cell_type": "code",
     "collapsed": false,
     "input": [
      "gm3.betas[-1][0]"
     ],
     "language": "python",
     "metadata": {},
     "outputs": [
      {
       "metadata": {},
       "output_type": "pyout",
       "prompt_number": 18,
       "text": [
        "0.31474155449141117"
       ]
      }
     ],
     "prompt_number": 18
    },
    {
     "cell_type": "markdown",
     "metadata": {},
     "source": [
      "The full listing"
     ]
    },
    {
     "cell_type": "code",
     "collapsed": false,
     "input": [
      "print gm3.summary"
     ],
     "language": "python",
     "metadata": {},
     "outputs": [
      {
       "output_type": "stream",
       "stream": "stdout",
       "text": [
        "REGRESSION\n",
        "----------\n",
        "SUMMARY OF OUTPUT: SPATIALLY WEIGHTED LEAST SQUARES (HET)\n",
        "---------------------------------------------------------\n",
        "Data set            :   south.dbf\n",
        "Weights matrix      :     south_q\n",
        "Dependent Variable  :        HR90                Number of Observations:        1412\n",
        "Mean dependent var  :      9.5493                Number of Variables   :           5\n",
        "S.D. dependent var  :      7.0389                Degrees of Freedom    :        1407\n",
        "Pseudo R-squared    :      0.3062\n",
        "N. of iterations    :           1                Step1c computed       :          No\n",
        "\n",
        "------------------------------------------------------------------------------------\n",
        "            Variable     Coefficient       Std.Error     z-Statistic     Probability\n",
        "------------------------------------------------------------------------------------\n",
        "            CONSTANT       6.2576037       1.0821873       5.7823668       0.0000000\n",
        "                DV90       0.4811658       0.1198516       4.0146802       0.0000595\n",
        "                PS90       1.7983276       0.3359957       5.3522335       0.0000001\n",
        "                RD90       4.4195359       0.3468537      12.7417874       0.0000000\n",
        "                UE90      -0.3897697       0.0985644      -3.9544664       0.0000767\n",
        "              lambda       0.3147416       0.0374883       8.3957227       0.0000000\n",
        "------------------------------------------------------------------------------------\n",
        "================================ END OF REPORT =====================================\n"
       ]
      }
     ],
     "prompt_number": 19
    },
    {
     "cell_type": "markdown",
     "metadata": {},
     "source": [
      "**Setting the step1c option**"
     ]
    },
    {
     "cell_type": "code",
     "collapsed": false,
     "input": [
      "gm4 = pysal.spreg.GM_Error_Het(y,x,w,step1c=True,name_y=y_name,\n",
      "                name_x=x_names,name_w=\"south_q\",name_ds=\"south.dbf\")"
     ],
     "language": "python",
     "metadata": {},
     "outputs": [],
     "prompt_number": 20
    },
    {
     "cell_type": "markdown",
     "metadata": {},
     "source": [
      "The full listing"
     ]
    },
    {
     "cell_type": "code",
     "collapsed": false,
     "input": [
      "print gm4.summary"
     ],
     "language": "python",
     "metadata": {},
     "outputs": [
      {
       "output_type": "stream",
       "stream": "stdout",
       "text": [
        "REGRESSION\n",
        "----------\n",
        "SUMMARY OF OUTPUT: SPATIALLY WEIGHTED LEAST SQUARES (HET)\n",
        "---------------------------------------------------------\n",
        "Data set            :   south.dbf\n",
        "Weights matrix      :     south_q\n",
        "Dependent Variable  :        HR90                Number of Observations:        1412\n",
        "Mean dependent var  :      9.5493                Number of Variables   :           5\n",
        "S.D. dependent var  :      7.0389                Degrees of Freedom    :        1407\n",
        "Pseudo R-squared    :      0.3059\n",
        "N. of iterations    :           1                Step1c computed       :         Yes\n",
        "\n",
        "------------------------------------------------------------------------------------\n",
        "            Variable     Coefficient       Std.Error     z-Statistic     Probability\n",
        "------------------------------------------------------------------------------------\n",
        "            CONSTANT       6.1903085       1.0826509       5.7177328       0.0000000\n",
        "                DV90       0.4840327       0.1199034       4.0368561       0.0000542\n",
        "                PS90       1.7859187       0.3361596       5.3127111       0.0000001\n",
        "                RD90       4.4088516       0.3472585      12.6961665       0.0000000\n",
        "                UE90      -0.3824992       0.0986013      -3.8792513       0.0001048\n",
        "              lambda       0.3161445       0.0374169       8.4492406       0.0000000\n",
        "------------------------------------------------------------------------------------\n",
        "================================ END OF REPORT =====================================\n"
       ]
      }
     ],
     "prompt_number": 21
    },
    {
     "cell_type": "markdown",
     "metadata": {},
     "source": [
      "**Setting the maximum number of iterations**"
     ]
    },
    {
     "cell_type": "code",
     "collapsed": false,
     "input": [
      "gm5 = pysal.spreg.GM_Error_Het(y,x,w,max_iter=10,name_y=y_name,\n",
      "       name_x=x_names,name_w=\"south_q\",name_ds=\"south.dbf\")"
     ],
     "language": "python",
     "metadata": {},
     "outputs": [],
     "prompt_number": 22
    },
    {
     "cell_type": "markdown",
     "metadata": {},
     "source": [
      "The full listing"
     ]
    },
    {
     "cell_type": "code",
     "collapsed": false,
     "input": [
      "print gm5.summary"
     ],
     "language": "python",
     "metadata": {},
     "outputs": [
      {
       "output_type": "stream",
       "stream": "stdout",
       "text": [
        "REGRESSION\n",
        "----------\n",
        "SUMMARY OF OUTPUT: SPATIALLY WEIGHTED LEAST SQUARES (HET)\n",
        "---------------------------------------------------------\n",
        "Data set            :   south.dbf\n",
        "Weights matrix      :     south_q\n",
        "Dependent Variable  :        HR90                Number of Observations:        1412\n",
        "Mean dependent var  :      9.5493                Number of Variables   :           5\n",
        "S.D. dependent var  :      7.0389                Degrees of Freedom    :        1407\n",
        "Pseudo R-squared    :      0.3053\n",
        "N. of iterations    :           5                Step1c computed       :          No\n",
        "\n",
        "------------------------------------------------------------------------------------\n",
        "            Variable     Coefficient       Std.Error     z-Statistic     Probability\n",
        "------------------------------------------------------------------------------------\n",
        "            CONSTANT       6.0484442       1.0837030       5.5812749       0.0000000\n",
        "                DV90       0.4900931       0.1200190       4.0834631       0.0000444\n",
        "                PS90       1.7599431       0.3365045       5.2300726       0.0000002\n",
        "                RD90       4.3869346       0.3481280      12.6014996       0.0000000\n",
        "                UE90      -0.3672549       0.0986888      -3.7213436       0.0001982\n",
        "              lambda       0.3191342       0.0372671       8.5634294       0.0000000\n",
        "------------------------------------------------------------------------------------\n",
        "================================ END OF REPORT =====================================\n"
       ]
      }
     ],
     "prompt_number": 23
    },
    {
     "cell_type": "markdown",
     "metadata": {},
     "source": [
      "###Exogenous and Endogenous Variables###"
     ]
    },
    {
     "cell_type": "code",
     "collapsed": false,
     "input": [
      "gm6 = pysal.spreg.GM_Endog_Error_Het(y,xe,yend,q,w,name_y=y_name,\n",
      "                  name_x=xe_names,name_yend=yend_names,name_q=q_names,\n",
      "                  name_w=\"south_q\",name_ds=\"south.dbf\")"
     ],
     "language": "python",
     "metadata": {},
     "outputs": [],
     "prompt_number": 24
    },
    {
     "cell_type": "markdown",
     "metadata": {},
     "source": [
      "Attributes of the regression object"
     ]
    },
    {
     "cell_type": "code",
     "collapsed": false,
     "input": [
      "dir(gm6)"
     ],
     "language": "python",
     "metadata": {},
     "outputs": [
      {
       "metadata": {},
       "output_type": "pyout",
       "prompt_number": 25,
       "text": [
        "['__doc__',\n",
        " '__init__',\n",
        " '__module__',\n",
        " '__summary',\n",
        " '_cache',\n",
        " 'betas',\n",
        " 'e_filtered',\n",
        " 'h',\n",
        " 'hth',\n",
        " 'iter_stop',\n",
        " 'iteration',\n",
        " 'k',\n",
        " 'mean_y',\n",
        " 'n',\n",
        " 'name_ds',\n",
        " 'name_h',\n",
        " 'name_q',\n",
        " 'name_w',\n",
        " 'name_x',\n",
        " 'name_y',\n",
        " 'name_yend',\n",
        " 'name_z',\n",
        " 'pr2',\n",
        " 'predy',\n",
        " 'q',\n",
        " 'std_err',\n",
        " 'std_y',\n",
        " 'step1c',\n",
        " 'summary',\n",
        " 'title',\n",
        " 'u',\n",
        " 'vm',\n",
        " 'x',\n",
        " 'y',\n",
        " 'yend',\n",
        " 'z',\n",
        " 'z_stat']"
       ]
      }
     ],
     "prompt_number": 25
    },
    {
     "cell_type": "markdown",
     "metadata": {},
     "source": [
      "The estimated coefficients, including lambda as the last element"
     ]
    },
    {
     "cell_type": "code",
     "collapsed": false,
     "input": [
      "gm6.betas"
     ],
     "language": "python",
     "metadata": {},
     "outputs": [
      {
       "metadata": {},
       "output_type": "pyout",
       "prompt_number": 26,
       "text": [
        "array([[ 10.74563401],\n",
        "       [  5.89766591],\n",
        "       [  2.03579202],\n",
        "       [  0.49278877],\n",
        "       [ -1.13750113],\n",
        "       [  0.26162482]])"
       ]
      }
     ],
     "prompt_number": 26
    },
    {
     "cell_type": "markdown",
     "metadata": {},
     "source": [
      "The spatial autoregressive coefficient"
     ]
    },
    {
     "cell_type": "code",
     "collapsed": false,
     "input": [
      "gm6.betas[-1][0]"
     ],
     "language": "python",
     "metadata": {},
     "outputs": [
      {
       "metadata": {},
       "output_type": "pyout",
       "prompt_number": 27,
       "text": [
        "0.26162482098871459"
       ]
      }
     ],
     "prompt_number": 27
    },
    {
     "cell_type": "markdown",
     "metadata": {},
     "source": [
      "The full listing"
     ]
    },
    {
     "cell_type": "code",
     "collapsed": false,
     "input": [
      "print gm6.summary"
     ],
     "language": "python",
     "metadata": {},
     "outputs": [
      {
       "output_type": "stream",
       "stream": "stdout",
       "text": [
        "REGRESSION\n",
        "----------\n",
        "SUMMARY OF OUTPUT: SPATIALLY WEIGHTED TWO STAGE LEAST SQUARES (HET)\n",
        "-------------------------------------------------------------------\n",
        "Data set            :   south.dbf\n",
        "Weights matrix      :     south_q\n",
        "Dependent Variable  :        HR90                Number of Observations:        1412\n",
        "Mean dependent var  :      9.5493                Number of Variables   :           5\n",
        "S.D. dependent var  :      7.0389                Degrees of Freedom    :        1407\n",
        "Pseudo R-squared    :      0.2820\n",
        "N. of iterations    :           1                Step1c computed       :          No\n",
        "\n",
        "------------------------------------------------------------------------------------\n",
        "            Variable     Coefficient       Std.Error     z-Statistic     Probability\n",
        "------------------------------------------------------------------------------------\n",
        "            CONSTANT      10.7456340       1.5222725       7.0589425       0.0000000\n",
        "                DV90       0.4927888       0.1266845       3.8898895       0.0001003\n",
        "                PS90       2.0357920       0.3491174       5.8312538       0.0000000\n",
        "                RD90       5.8976659       0.5199311      11.3431685       0.0000000\n",
        "                UE90      -1.1375011       0.2109871      -5.3913304       0.0000001\n",
        "              lambda       0.2616248       0.0414083       6.3181770       0.0000000\n",
        "------------------------------------------------------------------------------------\n",
        "Instrumented: UE90\n",
        "Instruments: FH90, FP89, GI89\n",
        "================================ END OF REPORT =====================================\n"
       ]
      }
     ],
     "prompt_number": 28
    },
    {
     "cell_type": "markdown",
     "metadata": {},
     "source": [
      "##GMM Homoskedastic Case##"
     ]
    },
    {
     "cell_type": "markdown",
     "metadata": {},
     "source": [
      "###Exogenous Variables Only###"
     ]
    },
    {
     "cell_type": "code",
     "collapsed": false,
     "input": [
      "gm7 = pysal.spreg.GM_Error_Hom(y,x,w,name_y=y_name,name_x=x_names,\n",
      "           name_w=\"south_q\",name_ds=\"south.dbf\")"
     ],
     "language": "python",
     "metadata": {},
     "outputs": [],
     "prompt_number": 29
    },
    {
     "cell_type": "markdown",
     "metadata": {},
     "source": [
      "Attributes of the regression object"
     ]
    },
    {
     "cell_type": "code",
     "collapsed": false,
     "input": [
      "dir(gm7)"
     ],
     "language": "python",
     "metadata": {},
     "outputs": [
      {
       "metadata": {},
       "output_type": "pyout",
       "prompt_number": 30,
       "text": [
        "['__doc__',\n",
        " '__init__',\n",
        " '__module__',\n",
        " '__summary',\n",
        " '_cache',\n",
        " 'betas',\n",
        " 'e_filtered',\n",
        " 'iter_stop',\n",
        " 'iteration',\n",
        " 'k',\n",
        " 'mean_y',\n",
        " 'n',\n",
        " 'name_ds',\n",
        " 'name_w',\n",
        " 'name_x',\n",
        " 'name_y',\n",
        " 'pr2',\n",
        " 'predy',\n",
        " 'sig2',\n",
        " 'std_err',\n",
        " 'std_y',\n",
        " 'summary',\n",
        " 'title',\n",
        " 'u',\n",
        " 'vm',\n",
        " 'x',\n",
        " 'xtx',\n",
        " 'y',\n",
        " 'z_stat']"
       ]
      }
     ],
     "prompt_number": 30
    },
    {
     "cell_type": "markdown",
     "metadata": {},
     "source": [
      "The estimated coefficients, including lambda as the last element"
     ]
    },
    {
     "cell_type": "code",
     "collapsed": false,
     "input": [
      "gm7.betas"
     ],
     "language": "python",
     "metadata": {},
     "outputs": [
      {
       "metadata": {},
       "output_type": "pyout",
       "prompt_number": 31,
       "text": [
        "array([[ 6.33803479],\n",
        "       [ 4.43255065],\n",
        "       [ 1.81323806],\n",
        "       [-0.39849432],\n",
        "       [ 0.4777479 ],\n",
        "       [ 0.27985722]])"
       ]
      }
     ],
     "prompt_number": 31
    },
    {
     "cell_type": "markdown",
     "metadata": {},
     "source": [
      "The spatial autoregressive coefficient"
     ]
    },
    {
     "cell_type": "code",
     "collapsed": false,
     "input": [
      "gm7.betas[-1][0]"
     ],
     "language": "python",
     "metadata": {},
     "outputs": [
      {
       "metadata": {},
       "output_type": "pyout",
       "prompt_number": 32,
       "text": [
        "0.27985721549238451"
       ]
      }
     ],
     "prompt_number": 32
    },
    {
     "cell_type": "markdown",
     "metadata": {},
     "source": [
      "The full listing"
     ]
    },
    {
     "cell_type": "code",
     "collapsed": false,
     "input": [
      "print gm7.summary"
     ],
     "language": "python",
     "metadata": {},
     "outputs": [
      {
       "output_type": "stream",
       "stream": "stdout",
       "text": [
        "REGRESSION\n",
        "----------\n",
        "SUMMARY OF OUTPUT: SPATIALLY WEIGHTED LEAST SQUARES (HOM)\n",
        "---------------------------------------------------------\n",
        "Data set            :   south.dbf\n",
        "Weights matrix      :     south_q\n",
        "Dependent Variable  :        HR90                Number of Observations:        1412\n",
        "Mean dependent var  :      9.5493                Number of Variables   :           5\n",
        "S.D. dependent var  :      7.0389                Degrees of Freedom    :        1407\n",
        "Pseudo R-squared    :      0.3066\n",
        "N. of iterations    :           1\n",
        "\n",
        "------------------------------------------------------------------------------------\n",
        "            Variable     Coefficient       Std.Error     z-Statistic     Probability\n",
        "------------------------------------------------------------------------------------\n",
        "            CONSTANT       6.3380348       1.0237066       6.1912612       0.0000000\n",
        "                DV90       0.4777479       0.1210440       3.9468939       0.0000792\n",
        "                PS90       1.8132381       0.2118595       8.5586829       0.0000000\n",
        "                RD90       4.4325506       0.2336868      18.9679144       0.0000000\n",
        "                UE90      -0.3984943       0.0777957      -5.1223182       0.0000003\n",
        "              lambda       0.2798572       0.0355242       7.8779334       0.0000000\n",
        "------------------------------------------------------------------------------------\n",
        "================================ END OF REPORT =====================================\n"
       ]
      }
     ],
     "prompt_number": 33
    },
    {
     "cell_type": "markdown",
     "metadata": {},
     "source": [
      "**The A1 option**"
     ]
    },
    {
     "cell_type": "markdown",
     "metadata": {},
     "source": [
      "**A1 = 'hom'**"
     ]
    },
    {
     "cell_type": "code",
     "collapsed": false,
     "input": [
      "gm8a = pysal.spreg.GM_Error_Hom(y,x,w,A1='hom',name_y=y_name,\n",
      "                    name_x=x_names,name_w=\"south_q\",\n",
      "                    name_ds=\"south.dbf\")"
     ],
     "language": "python",
     "metadata": {},
     "outputs": [],
     "prompt_number": 34
    },
    {
     "cell_type": "markdown",
     "metadata": {},
     "source": [
      "Full listing"
     ]
    },
    {
     "cell_type": "code",
     "collapsed": false,
     "input": [
      "print gm8a.summary"
     ],
     "language": "python",
     "metadata": {},
     "outputs": [
      {
       "output_type": "stream",
       "stream": "stdout",
       "text": [
        "REGRESSION\n",
        "----------\n",
        "SUMMARY OF OUTPUT: SPATIALLY WEIGHTED LEAST SQUARES (HOM)\n",
        "---------------------------------------------------------\n",
        "Data set            :   south.dbf\n",
        "Weights matrix      :     south_q\n",
        "Dependent Variable  :        HR90                Number of Observations:        1412\n",
        "Mean dependent var  :      9.5493                Number of Variables   :           5\n",
        "S.D. dependent var  :      7.0389                Degrees of Freedom    :        1407\n",
        "Pseudo R-squared    :      0.3066\n",
        "N. of iterations    :           1\n",
        "\n",
        "------------------------------------------------------------------------------------\n",
        "            Variable     Coefficient       Std.Error     z-Statistic     Probability\n",
        "------------------------------------------------------------------------------------\n",
        "            CONSTANT       6.3392818       1.0236978       6.1925324       0.0000000\n",
        "                DV90       0.4776950       0.1210433       3.9464801       0.0000793\n",
        "                PS90       1.8134699       0.2118581       8.5598346       0.0000000\n",
        "                RD90       4.4327545       0.2336848      18.9689495       0.0000000\n",
        "                UE90      -0.3986299       0.0777951      -5.1241028       0.0000003\n",
        "              lambda       0.2798359       0.0355255       7.8770510       0.0000000\n",
        "------------------------------------------------------------------------------------\n",
        "================================ END OF REPORT =====================================\n"
       ]
      }
     ],
     "prompt_number": 35
    },
    {
     "cell_type": "markdown",
     "metadata": {},
     "source": [
      "**A1 = 'het'**"
     ]
    },
    {
     "cell_type": "code",
     "collapsed": false,
     "input": [
      "gm8b = pysal.spreg.GM_Error_Hom(y,x,w,A1='het',name_y=y_name,\n",
      "                    name_x=x_names,name_w=\"south_q\",\n",
      "                    name_ds=\"south.dbf\")"
     ],
     "language": "python",
     "metadata": {},
     "outputs": [],
     "prompt_number": 36
    },
    {
     "cell_type": "markdown",
     "metadata": {},
     "source": [
      "Full listing"
     ]
    },
    {
     "cell_type": "code",
     "collapsed": false,
     "input": [
      "print gm8b.summary"
     ],
     "language": "python",
     "metadata": {},
     "outputs": [
      {
       "output_type": "stream",
       "stream": "stdout",
       "text": [
        "REGRESSION\n",
        "----------\n",
        "SUMMARY OF OUTPUT: SPATIALLY WEIGHTED LEAST SQUARES (HOM)\n",
        "---------------------------------------------------------\n",
        "Data set            :   south.dbf\n",
        "Weights matrix      :     south_q\n",
        "Dependent Variable  :        HR90                Number of Observations:        1412\n",
        "Mean dependent var  :      9.5493                Number of Variables   :           5\n",
        "S.D. dependent var  :      7.0389                Degrees of Freedom    :        1407\n",
        "Pseudo R-squared    :      0.3062\n",
        "N. of iterations    :           1\n",
        "\n",
        "------------------------------------------------------------------------------------\n",
        "            Variable     Coefficient       Std.Error     z-Statistic     Probability\n",
        "------------------------------------------------------------------------------------\n",
        "            CONSTANT       6.2576037       1.0361188       6.0394656       0.0000000\n",
        "                DV90       0.4811658       0.1220549       3.9422070       0.0000807\n",
        "                PS90       1.7983276       0.2138587       8.4089517       0.0000000\n",
        "                RD90       4.4195359       0.2365100      18.6864665       0.0000000\n",
        "                UE90      -0.3897697       0.0786895      -4.9532615       0.0000007\n",
        "              lambda       0.3088889       0.0349241       8.8445872       0.0000000\n",
        "------------------------------------------------------------------------------------\n",
        "================================ END OF REPORT =====================================\n"
       ]
      }
     ],
     "prompt_number": 37
    },
    {
     "cell_type": "markdown",
     "metadata": {},
     "source": [
      "###Exogenous and Endogenous Variables###"
     ]
    },
    {
     "cell_type": "code",
     "collapsed": false,
     "input": [
      "gm9 = pysal.spreg.GM_Endog_Error_Hom(y,xe,yend,q,w,name_y=y_name,\n",
      "                  name_x=xe_names,name_yend=yend_names,name_q=q_names,\n",
      "                  name_w=\"south_q\",name_ds=\"south.dbf\")"
     ],
     "language": "python",
     "metadata": {},
     "outputs": [],
     "prompt_number": 38
    },
    {
     "cell_type": "markdown",
     "metadata": {},
     "source": [
      "Full listing"
     ]
    },
    {
     "cell_type": "code",
     "collapsed": false,
     "input": [
      "print gm9.summary"
     ],
     "language": "python",
     "metadata": {},
     "outputs": [
      {
       "output_type": "stream",
       "stream": "stdout",
       "text": [
        "REGRESSION\n",
        "----------\n",
        "SUMMARY OF OUTPUT: SPATIALLY WEIGHTED TWO STAGE LEAST SQUARES (HOM)\n",
        "-------------------------------------------------------------------\n",
        "Data set            :   south.dbf\n",
        "Weights matrix      :     south_q\n",
        "Dependent Variable  :        HR90                Number of Observations:        1412\n",
        "Mean dependent var  :      9.5493                Number of Variables   :           5\n",
        "S.D. dependent var  :      7.0389                Degrees of Freedom    :        1407\n",
        "Pseudo R-squared    :      0.2818\n",
        "N. of iterations    :           1\n",
        "\n",
        "------------------------------------------------------------------------------------\n",
        "            Variable     Coefficient       Std.Error     z-Statistic     Probability\n",
        "------------------------------------------------------------------------------------\n",
        "            CONSTANT      10.7713463       1.2834619       8.3924158       0.0000000\n",
        "                DV90       0.4919212       0.1249985       3.9354165       0.0000831\n",
        "                PS90       2.0453736       0.2197377       9.3082522       0.0000000\n",
        "                RD90       5.9036116       0.3489835      16.9165947       0.0000000\n",
        "                UE90      -1.1406585       0.1491507      -7.6476928       0.0000000\n",
        "              lambda       0.2431636       0.0389702       6.2397251       0.0000000\n",
        "------------------------------------------------------------------------------------\n",
        "Instrumented: UE90\n",
        "Instruments: FH90, FP89, GI89\n",
        "================================ END OF REPORT =====================================\n"
       ]
      }
     ],
     "prompt_number": 39
    },
    {
     "cell_type": "markdown",
     "metadata": {},
     "source": [
      "**The A1 option**"
     ]
    },
    {
     "cell_type": "markdown",
     "metadata": {},
     "source": [
      "**A1 = 'hom'**"
     ]
    },
    {
     "cell_type": "code",
     "collapsed": false,
     "input": [
      "gm10a = pysal.spreg.GM_Endog_Error_Hom(y,xe,yend,q,w,A1='hom',\n",
      "                      name_y=y_name,name_x=xe_names,name_yend=yend_names,\n",
      "                      name_q=q_names,name_w=\"south_q\",\n",
      "                      name_ds=\"south.dbf\")"
     ],
     "language": "python",
     "metadata": {},
     "outputs": [],
     "prompt_number": 40
    },
    {
     "cell_type": "markdown",
     "metadata": {},
     "source": [
      "Full listing"
     ]
    },
    {
     "cell_type": "code",
     "collapsed": false,
     "input": [
      "print gm10a.summary"
     ],
     "language": "python",
     "metadata": {},
     "outputs": [
      {
       "output_type": "stream",
       "stream": "stdout",
       "text": [
        "REGRESSION\n",
        "----------\n",
        "SUMMARY OF OUTPUT: SPATIALLY WEIGHTED TWO STAGE LEAST SQUARES (HOM)\n",
        "-------------------------------------------------------------------\n",
        "Data set            :   south.dbf\n",
        "Weights matrix      :     south_q\n",
        "Dependent Variable  :        HR90                Number of Observations:        1412\n",
        "Mean dependent var  :      9.5493                Number of Variables   :           5\n",
        "S.D. dependent var  :      7.0389                Degrees of Freedom    :        1407\n",
        "Pseudo R-squared    :      0.2818\n",
        "N. of iterations    :           1\n",
        "\n",
        "------------------------------------------------------------------------------------\n",
        "            Variable     Coefficient       Std.Error     z-Statistic     Probability\n",
        "------------------------------------------------------------------------------------\n",
        "            CONSTANT      10.7722363       1.2834693       8.3930611       0.0000000\n",
        "                DV90       0.4918910       0.1249994       3.9351462       0.0000831\n",
        "                PS90       2.0457096       0.2197392       9.3097152       0.0000000\n",
        "                RD90       5.9038177       0.3489855      16.9170837       0.0000000\n",
        "                UE90      -1.1407677       0.1491515      -7.6483826       0.0000000\n",
        "              lambda       0.2431583       0.0389707       6.2395091       0.0000000\n",
        "------------------------------------------------------------------------------------\n",
        "Instrumented: UE90\n",
        "Instruments: FH90, FP89, GI89\n",
        "================================ END OF REPORT =====================================\n"
       ]
      }
     ],
     "prompt_number": 41
    },
    {
     "cell_type": "markdown",
     "metadata": {},
     "source": [
      "**A1 = 'het'**"
     ]
    },
    {
     "cell_type": "code",
     "collapsed": false,
     "input": [
      "gm10b = pysal.spreg.GM_Endog_Error_Hom(y,xe,yend,q,w,A1='het',\n",
      "                      name_y=y_name,name_x=xe_names,name_yend=yend_names,\n",
      "                      name_q=q_names,name_w=\"south_q\",\n",
      "                      name_ds=\"south.dbf\")"
     ],
     "language": "python",
     "metadata": {},
     "outputs": [],
     "prompt_number": 42
    },
    {
     "cell_type": "markdown",
     "metadata": {},
     "source": [
      "Full listing"
     ]
    },
    {
     "cell_type": "code",
     "collapsed": false,
     "input": [
      "print gm10b.summary"
     ],
     "language": "python",
     "metadata": {},
     "outputs": [
      {
       "output_type": "stream",
       "stream": "stdout",
       "text": [
        "REGRESSION\n",
        "----------\n",
        "SUMMARY OF OUTPUT: SPATIALLY WEIGHTED TWO STAGE LEAST SQUARES (HOM)\n",
        "-------------------------------------------------------------------\n",
        "Data set            :   south.dbf\n",
        "Weights matrix      :     south_q\n",
        "Dependent Variable  :        HR90                Number of Observations:        1412\n",
        "Mean dependent var  :      9.5493                Number of Variables   :           5\n",
        "S.D. dependent var  :      7.0389                Degrees of Freedom    :        1407\n",
        "Pseudo R-squared    :      0.2820\n",
        "N. of iterations    :           1\n",
        "\n",
        "------------------------------------------------------------------------------------\n",
        "            Variable     Coefficient       Std.Error     z-Statistic     Probability\n",
        "------------------------------------------------------------------------------------\n",
        "            CONSTANT      10.7456340       1.2965714       8.2877305       0.0000000\n",
        "                DV90       0.4927888       0.1257156       3.9198710       0.0000886\n",
        "                PS90       2.0357920       0.2211232       9.2065972       0.0000000\n",
        "                RD90       5.8976659       0.3522831      16.7412669       0.0000000\n",
        "                UE90      -1.1375011       0.1507539      -7.5454198       0.0000000\n",
        "              lambda       0.2580216       0.0387024       6.6668084       0.0000000\n",
        "------------------------------------------------------------------------------------\n",
        "Instrumented: UE90\n",
        "Instruments: FH90, FP89, GI89\n",
        "================================ END OF REPORT =====================================\n"
       ]
      }
     ],
     "prompt_number": 43
    },
    {
     "cell_type": "markdown",
     "metadata": {},
     "source": [
      "##Practice##"
     ]
    },
    {
     "cell_type": "markdown",
     "metadata": {},
     "source": [
      "Since the spatial diagnostics for the Boston house price example (Chapter 5 practice) pointed to a spatial error alternative,\n",
      "estimate this specification by means of GM, GMM-het and GMM-hom. Compare the results and the inference. Feel free to experiment\n",
      "with the various options (number of iterations, etc.). To assess the effect of endogenous variables, use the south or natregimes\n",
      "data sets for one of the HR specifications (see Chapter 7 practice)."
     ]
    },
    {
     "cell_type": "code",
     "collapsed": false,
     "input": [],
     "language": "python",
     "metadata": {},
     "outputs": []
    }
   ],
   "metadata": {}
  }
 ]
}