{
 "metadata": {
  "name": "",
  "signature": "sha256:551344b7413f7130f736c1b618816450360652cd353225f735102b6afc86f3e5"
 },
 "nbformat": 3,
 "nbformat_minor": 0,
 "worksheets": [
  {
   "cells": [
    {
     "cell_type": "markdown",
     "metadata": {},
     "source": [
      "##Solutions to Practice Example Chapter 12 (OLS only)##"
     ]
    },
    {
     "cell_type": "code",
     "collapsed": false,
     "input": [
      "import numpy as np\n",
      "import pysal"
     ],
     "language": "python",
     "metadata": {},
     "outputs": [],
     "prompt_number": 1
    },
    {
     "cell_type": "code",
     "collapsed": false,
     "input": [
      "db = pysal.open('data/boston.dbf','r')"
     ],
     "language": "python",
     "metadata": {},
     "outputs": [],
     "prompt_number": 2
    },
    {
     "cell_type": "code",
     "collapsed": false,
     "input": [
      "len(db)"
     ],
     "language": "python",
     "metadata": {},
     "outputs": [
      {
       "metadata": {},
       "output_type": "pyout",
       "prompt_number": 3,
       "text": [
        "506"
       ]
      }
     ],
     "prompt_number": 3
    },
    {
     "cell_type": "code",
     "collapsed": false,
     "input": [
      "db.header"
     ],
     "language": "python",
     "metadata": {},
     "outputs": [
      {
       "metadata": {},
       "output_type": "pyout",
       "prompt_number": 4,
       "text": [
        "['POLY_ID',\n",
        " 'ID',\n",
        " 'TOWN',\n",
        " 'TOWNNO',\n",
        " 'TRACT',\n",
        " 'LON',\n",
        " 'LAT',\n",
        " 'x',\n",
        " 'y',\n",
        " 'MEDV',\n",
        " 'CMEDV',\n",
        " 'CRIM',\n",
        " 'ZN',\n",
        " 'INDUS',\n",
        " 'CHAS',\n",
        " 'NOX',\n",
        " 'RM',\n",
        " 'AGE',\n",
        " 'DIS',\n",
        " 'RAD',\n",
        " 'TAX',\n",
        " 'PTRATIO',\n",
        " 'B',\n",
        " 'LSTAT']"
       ]
      }
     ],
     "prompt_number": 4
    },
    {
     "cell_type": "code",
     "collapsed": false,
     "input": [
      "y_name = 'MEDV'\n",
      "y = np.array([db.by_col(y_name)]).T"
     ],
     "language": "python",
     "metadata": {},
     "outputs": [],
     "prompt_number": 5
    },
    {
     "cell_type": "code",
     "collapsed": false,
     "input": [
      "x_names = ['CRIM','NOX','RM','AGE','DIS','LSTAT']\n",
      "x = np.array([db.by_col(var) for var in x_names]).T"
     ],
     "language": "python",
     "metadata": {},
     "outputs": [],
     "prompt_number": 6
    },
    {
     "cell_type": "code",
     "collapsed": false,
     "input": [
      "rvar = \"CHAS\"\n",
      "regimes = db.by_col(rvar)"
     ],
     "language": "python",
     "metadata": {},
     "outputs": [],
     "prompt_number": 7
    },
    {
     "cell_type": "code",
     "collapsed": false,
     "input": [
      "w = pysal.knnW_from_shapefile('data/boston.shp',\n",
      "                                k=4,idVariable='POLY_ID')\n",
      "w.transform = 'r'"
     ],
     "language": "python",
     "metadata": {},
     "outputs": [],
     "prompt_number": 8
    },
    {
     "cell_type": "markdown",
     "metadata": {},
     "source": [
      "Default regime regression"
     ]
    },
    {
     "cell_type": "code",
     "collapsed": false,
     "input": [
      "reg1 = pysal.spreg.OLS_Regimes(y,x,regimes,w=w,spat_diag=True,moran=True,\n",
      "name_y=y_name,name_x=x_names,name_regimes=rvar,name_w=\"boston_k4\",name_ds=\"boston.dbf\")"
     ],
     "language": "python",
     "metadata": {},
     "outputs": [],
     "prompt_number": 9
    },
    {
     "cell_type": "code",
     "collapsed": false,
     "input": [
      "print reg1.summary"
     ],
     "language": "python",
     "metadata": {},
     "outputs": [
      {
       "output_type": "stream",
       "stream": "stdout",
       "text": [
        "REGRESSION\n",
        "----------\n",
        "\n",
        "SUMMARY OF OUTPUT: ORDINARY LEAST SQUARES ESTIMATION - REGIME 0\n",
        "---------------------------------------------------------------\n",
        "Data set            :  boston.dbf\n",
        "Weights matrix      :   boston_k4\n",
        "Dependent Variable  :      0_MEDV                Number of Observations:         471\n",
        "Mean dependent var  :     22.0938                Number of Variables   :           7\n",
        "S.D. dependent var  :      8.8314                Degrees of Freedom    :         464\n",
        "R-squared           :      0.6815\n",
        "Adjusted R-squared  :      0.6774\n",
        "Sum squared residual:   11673.935                F-statistic           :    165.4969\n",
        "Sigma-square        :      25.159                Prob(F-statistic)     :  6.533e-112\n",
        "S.E. of regression  :       5.016                Log likelihood        :   -1424.335\n",
        "Sigma-square ML     :      24.785                Akaike info criterion :    2862.671\n",
        "S.E of regression ML:      4.9785                Schwarz criterion     :    2891.755\n",
        "\n",
        "------------------------------------------------------------------------------------\n",
        "            Variable     Coefficient       Std.Error     t-Statistic     Probability\n",
        "------------------------------------------------------------------------------------\n",
        "          0_CONSTANT       8.1040354       3.8968336       2.0796462       0.0381065\n",
        "               0_AGE      -0.0257461       0.0140762      -1.8290484       0.0680340\n",
        "              0_CRIM      -0.1237989       0.0303482      -4.0792867       0.0000532\n",
        "               0_DIS      -0.9839729       0.1877386      -5.2411850       0.0000002\n",
        "             0_LSTAT      -0.5310903       0.0547369      -9.7026084       0.0000000\n",
        "               0_NOX     -10.3946003       3.7540335      -2.7689151       0.0058496\n",
        "                0_RM       5.1863159       0.4323591      11.9953890       0.0000000\n",
        "------------------------------------------------------------------------------------\n",
        "Regimes variable: CHAS\n",
        "Warning: The regimes operation resulted in islands for regime 0.\n",
        "\n",
        "REGRESSION DIAGNOSTICS\n",
        "MULTICOLLINEARITY CONDITION NUMBER           47.618\n",
        "\n",
        "TEST ON NORMALITY OF ERRORS\n",
        "TEST                             DF        VALUE           PROB\n",
        "Jarque-Bera                       2         546.616           0.0000\n",
        "\n",
        "DIAGNOSTICS FOR HETEROSKEDASTICITY\n",
        "RANDOM COEFFICIENTS\n",
        "TEST                             DF        VALUE           PROB\n",
        "Breusch-Pagan test                6          64.772           0.0000\n",
        "Koenker-Bassett test              6          20.345           0.0024\n",
        "\n",
        "DIAGNOSTICS FOR SPATIAL DEPENDENCE\n",
        "TEST                           MI/DF       VALUE           PROB\n",
        "Moran's I (error)              0.4883        16.237           0.0000\n",
        "Lagrange Multiplier (lag)         1         105.840           0.0000\n",
        "Robust LM (lag)                   1           0.028           0.8669\n",
        "Lagrange Multiplier (error)       1         244.718           0.0000\n",
        "Robust LM (error)                 1         138.906           0.0000\n",
        "Lagrange Multiplier (SARMA)       2         244.746           0.0000\n",
        "\n",
        "----------\n",
        "\n",
        "SUMMARY OF OUTPUT: ORDINARY LEAST SQUARES ESTIMATION - REGIME 1\n",
        "---------------------------------------------------------------\n",
        "Data set            :  boston.dbf\n",
        "Weights matrix      :   boston_k4\n",
        "Dependent Variable  :      1_MEDV                Number of Observations:          35\n",
        "Mean dependent var  :     28.4400                Number of Variables   :           7\n",
        "S.D. dependent var  :     11.8166                Degrees of Freedom    :          28\n",
        "R-squared           :      0.7414\n",
        "Adjusted R-squared  :      0.6860\n",
        "Sum squared residual:    1227.556                F-statistic           :     13.3815\n",
        "Sigma-square        :      43.841                Prob(F-statistic)     :   4.126e-07\n",
        "S.E. of regression  :       6.621                Log likelihood        :    -111.918\n",
        "Sigma-square ML     :      35.073                Akaike info criterion :     237.836\n",
        "S.E of regression ML:      5.9222                Schwarz criterion     :     248.723\n",
        "\n",
        "------------------------------------------------------------------------------------\n",
        "            Variable     Coefficient       Std.Error     t-Statistic     Probability\n",
        "------------------------------------------------------------------------------------\n",
        "          1_CONSTANT      57.0766870      21.4502496       2.6608868       0.0127561\n",
        "               1_AGE       0.0492828       0.1002633       0.4915339       0.6268801\n",
        "              1_CRIM       1.6986344       0.6470628       2.6251462       0.0138749\n",
        "               1_DIS      -1.5463540       2.4097200      -0.6417152       0.5262771\n",
        "             1_LSTAT      -1.0254282       0.3165284      -3.2396094       0.0030797\n",
        "               1_NOX     -48.4520409      14.6412959      -3.3092727       0.0025786\n",
        "                1_RM       1.4362819       2.1043742       0.6825221       0.5005170\n",
        "------------------------------------------------------------------------------------\n",
        "Regimes variable: CHAS\n",
        "Warning: The regimes operation resulted in islands for regime 1.\n",
        "\n",
        "REGRESSION DIAGNOSTICS\n",
        "MULTICOLLINEARITY CONDITION NUMBER           52.476\n",
        "\n",
        "TEST ON NORMALITY OF ERRORS\n",
        "TEST                             DF        VALUE           PROB\n",
        "Jarque-Bera                       2           0.056           0.9726\n",
        "\n",
        "DIAGNOSTICS FOR HETEROSKEDASTICITY\n",
        "RANDOM COEFFICIENTS\n",
        "TEST                             DF        VALUE           PROB\n",
        "Breusch-Pagan test                6          17.560           0.0074\n",
        "Koenker-Bassett test              6          19.414           0.0035\n",
        "\n",
        "DIAGNOSTICS FOR SPATIAL DEPENDENCE\n",
        "TEST                           MI/DF       VALUE           PROB\n",
        "Moran's I (error)              0.2619         2.304           0.0212\n",
        "Lagrange Multiplier (lag)         1          12.889           0.0003\n",
        "Robust LM (lag)                   1          11.139           0.0008\n",
        "Lagrange Multiplier (error)       1           2.024           0.1548\n",
        "Robust LM (error)                 1           0.274           0.6008\n",
        "Lagrange Multiplier (SARMA)       2          13.163           0.0014\n",
        "\n",
        "\n",
        "REGIMES DIAGNOSTICS - CHOW TEST\n",
        "                 VARIABLE        DF        VALUE           PROB\n",
        "                 CONSTANT         1           5.046           0.0247\n",
        "                      AGE         1           0.549           0.4587\n",
        "                     CRIM         1           7.915           0.0049\n",
        "                      DIS         1           0.054           0.8160\n",
        "                    LSTAT         1           2.368           0.1238\n",
        "                      NOX         1           6.340           0.0118\n",
        "                       RM         1           3.047           0.0809\n",
        "              Global test         7          30.223           0.0001\n",
        "\n",
        "DIAGNOSTICS FOR GLOBAL SPATIAL DEPENDENCE\n",
        "Residuals are treated as homoskedastic for the purpose of these tests\n",
        "TEST                           MI/DF       VALUE           PROB\n",
        "Moran's I (error)              0.4478        16.208           0.0000\n",
        "Lagrange Multiplier (lag)         1         168.223           0.0000\n",
        "Robust LM (lag)                   1          10.157           0.0014\n",
        "Lagrange Multiplier (error)       1         233.376           0.0000\n",
        "Robust LM (error)                 1          75.311           0.0000\n",
        "Lagrange Multiplier (SARMA)       2         243.533           0.0000\n",
        "\n",
        "================================ END OF REPORT =====================================\n"
       ]
      }
     ],
     "prompt_number": 10
    },
    {
     "cell_type": "markdown",
     "metadata": {},
     "source": [
      "Keeping AGE, DIS, LSTAT and RM constant and letting constant, CRIM and NOX vary\n",
      "\n",
      "order of variables in x is CRIM, NOX, RM, AGE, DIS, LSTAT"
     ]
    },
    {
     "cell_type": "code",
     "collapsed": false,
     "input": [
      "colsvari = [True,True,False,False,False,False]"
     ],
     "language": "python",
     "metadata": {},
     "outputs": [],
     "prompt_number": 11
    },
    {
     "cell_type": "code",
     "collapsed": false,
     "input": [
      "reg2 = pysal.spreg.OLS_Regimes(y,x,regimes,w=w,spat_diag=True,moran=True,\n",
      "cols2regi=colsvari,\n",
      "name_y=y_name,name_x=x_names,\n",
      "name_regimes=rvar,name_w=\"boston_k4\",name_ds=\"boston.dbf\")"
     ],
     "language": "python",
     "metadata": {},
     "outputs": [],
     "prompt_number": 12
    },
    {
     "cell_type": "code",
     "collapsed": false,
     "input": [
      "print reg2.summary"
     ],
     "language": "python",
     "metadata": {},
     "outputs": [
      {
       "output_type": "stream",
       "stream": "stdout",
       "text": [
        "REGRESSION\n",
        "----------\n",
        "SUMMARY OF OUTPUT: ORDINARY LEAST SQUARES - REGIMES (Group-wise heteroskedasticity)\n",
        "-----------------------------------------------------------------------------------\n",
        "Data set            :  boston.dbf\n",
        "Weights matrix      :   boston_k4\n",
        "Dependent Variable  :        MEDV                Number of Observations:         506\n",
        "Mean dependent var  :     22.5328                Number of Variables   :          10\n",
        "S.D. dependent var  :      9.1971                Degrees of Freedom    :         496\n",
        "R-squared           :      0.6932\n",
        "Adjusted R-squared  :      0.6876\n",
        "\n",
        "------------------------------------------------------------------------------------\n",
        "            Variable     Coefficient       Std.Error     t-Statistic     Probability\n",
        "------------------------------------------------------------------------------------\n",
        "          0_CONSTANT       9.1431225       3.8154187       2.3963615       0.0169281\n",
        "              0_CRIM      -0.1227281       0.0301084      -4.0762043       0.0000533\n",
        "               0_NOX     -10.7282290       3.7046976      -2.8958447       0.0039483\n",
        "          1_CONSTANT      27.0896561       7.1209694       3.8042091       0.0001600\n",
        "              1_CRIM       2.0303936       0.6580158       3.0856305       0.0021447\n",
        "               1_NOX     -41.1760368      11.3959164      -3.6132273       0.0003333\n",
        "         _Global_AGE      -0.0234270       0.0138239      -1.6946805       0.0907637\n",
        "         _Global_DIS      -0.9944373       0.1860103      -5.3461400       0.0000001\n",
        "       _Global_LSTAT      -0.5445706       0.0536013     -10.1596519       0.0000000\n",
        "          _Global_RM       5.0579970       0.4212336      12.0075822       0.0000000\n",
        "------------------------------------------------------------------------------------\n",
        "Regimes variable: CHAS\n",
        "Warning: Residuals treated as homoskedastic for the purpose of diagnostics.\n",
        "\n",
        "DIAGNOSTICS FOR SPATIAL DEPENDENCE\n",
        "TEST                           MI/DF       VALUE           PROB\n",
        "Moran's I (error)              0.4475        15.935           0.0000\n",
        "Lagrange Multiplier (lag)         1         162.290           0.0000\n",
        "Robust LM (lag)                   1           8.339           0.0039\n",
        "Lagrange Multiplier (error)       1         233.065           0.0000\n",
        "Robust LM (error)                 1          79.114           0.0000\n",
        "Lagrange Multiplier (SARMA)       2         241.404           0.0000\n",
        "\n",
        "\n",
        "REGIMES DIAGNOSTICS - CHOW TEST\n",
        "                 VARIABLE        DF        VALUE           PROB\n",
        "                 CONSTANT         1           7.938           0.0048\n",
        "                     CRIM         1          10.672           0.0011\n",
        "                      NOX         1           6.806           0.0091\n",
        "              Global test         3          20.205           0.0002\n",
        "================================ END OF REPORT =====================================\n"
       ]
      }
     ],
     "prompt_number": 13
    },
    {
     "cell_type": "code",
     "collapsed": false,
     "input": [],
     "language": "python",
     "metadata": {},
     "outputs": []
    }
   ],
   "metadata": {}
  }
 ]
}