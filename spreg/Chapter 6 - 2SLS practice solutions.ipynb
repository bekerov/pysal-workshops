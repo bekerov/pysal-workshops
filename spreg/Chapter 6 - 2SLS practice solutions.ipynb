{
 "metadata": {
  "name": "",
  "signature": "sha256:5cb196b43a4534f5145fe5421196a371630f9fff48497e74c255cd41cf1f67b2"
 },
 "nbformat": 3,
 "nbformat_minor": 0,
 "worksheets": [
  {
   "cells": [
    {
     "cell_type": "markdown",
     "metadata": {},
     "source": [
      "##Solutions to Practice Example Chapter 6##"
     ]
    },
    {
     "cell_type": "code",
     "collapsed": false,
     "input": [
      "import numpy as np\n",
      "import pysal"
     ],
     "language": "python",
     "metadata": {},
     "outputs": [],
     "prompt_number": 32
    },
    {
     "cell_type": "code",
     "collapsed": false,
     "input": [
      "db = pysal.open('data/natregimes.dbf','r')"
     ],
     "language": "python",
     "metadata": {},
     "outputs": [],
     "prompt_number": 33
    },
    {
     "cell_type": "code",
     "collapsed": false,
     "input": [
      "len(db)"
     ],
     "language": "python",
     "metadata": {},
     "outputs": [
      {
       "metadata": {},
       "output_type": "pyout",
       "prompt_number": 34,
       "text": [
        "3085"
       ]
      }
     ],
     "prompt_number": 34
    },
    {
     "cell_type": "code",
     "collapsed": false,
     "input": [
      "db.header"
     ],
     "language": "python",
     "metadata": {},
     "outputs": [
      {
       "metadata": {},
       "output_type": "pyout",
       "prompt_number": 35,
       "text": [
        "['REGIONS',\n",
        " 'NOSOUTH',\n",
        " 'POLY_ID',\n",
        " 'NAME',\n",
        " 'STATE_NAME',\n",
        " 'STATE_FIPS',\n",
        " 'CNTY_FIPS',\n",
        " 'FIPS',\n",
        " 'STFIPS',\n",
        " 'COFIPS',\n",
        " 'FIPSNO',\n",
        " 'SOUTH',\n",
        " 'HR60',\n",
        " 'HR70',\n",
        " 'HR80',\n",
        " 'HR90',\n",
        " 'HC60',\n",
        " 'HC70',\n",
        " 'HC80',\n",
        " 'HC90',\n",
        " 'PO60',\n",
        " 'PO70',\n",
        " 'PO80',\n",
        " 'PO90',\n",
        " 'RD60',\n",
        " 'RD70',\n",
        " 'RD80',\n",
        " 'RD90',\n",
        " 'PS60',\n",
        " 'PS70',\n",
        " 'PS80',\n",
        " 'PS90',\n",
        " 'UE60',\n",
        " 'UE70',\n",
        " 'UE80',\n",
        " 'UE90',\n",
        " 'DV60',\n",
        " 'DV70',\n",
        " 'DV80',\n",
        " 'DV90',\n",
        " 'MA60',\n",
        " 'MA70',\n",
        " 'MA80',\n",
        " 'MA90',\n",
        " 'POL60',\n",
        " 'POL70',\n",
        " 'POL80',\n",
        " 'POL90',\n",
        " 'DNL60',\n",
        " 'DNL70',\n",
        " 'DNL80',\n",
        " 'DNL90',\n",
        " 'MFIL59',\n",
        " 'MFIL69',\n",
        " 'MFIL79',\n",
        " 'MFIL89',\n",
        " 'FP59',\n",
        " 'FP69',\n",
        " 'FP79',\n",
        " 'FP89',\n",
        " 'BLK60',\n",
        " 'BLK70',\n",
        " 'BLK80',\n",
        " 'BLK90',\n",
        " 'GI59',\n",
        " 'GI69',\n",
        " 'GI79',\n",
        " 'GI89',\n",
        " 'FH60',\n",
        " 'FH70',\n",
        " 'FH80',\n",
        " 'FH90',\n",
        " 'West']"
       ]
      }
     ],
     "prompt_number": 35
    },
    {
     "cell_type": "code",
     "collapsed": false,
     "input": [
      "y_name = 'HR60'\n",
      "y = np.array([db.by_col(y_name)]).T"
     ],
     "language": "python",
     "metadata": {},
     "outputs": [],
     "prompt_number": 36
    },
    {
     "cell_type": "code",
     "collapsed": false,
     "input": [
      "x_names = ['RD60','MA60','PS60']\n",
      "x = np.array([db.by_col(var) for var in x_names]).T"
     ],
     "language": "python",
     "metadata": {},
     "outputs": [],
     "prompt_number": 37
    },
    {
     "cell_type": "code",
     "collapsed": false,
     "input": [
      "yend_names = ['UE60']\n",
      "yend = np.array([db.by_col(var) for var in yend_names]).T"
     ],
     "language": "python",
     "metadata": {},
     "outputs": [],
     "prompt_number": 38
    },
    {
     "cell_type": "code",
     "collapsed": false,
     "input": [
      "q_names = ['FH60','FP59','GI59']\n",
      "q = np.array([db.by_col(var) for var in q_names]).T"
     ],
     "language": "python",
     "metadata": {},
     "outputs": [],
     "prompt_number": 39
    },
    {
     "cell_type": "code",
     "collapsed": false,
     "input": [
      "w = pysal.knnW_from_shapefile('data/natregimes.shp',\n",
      "                                k=6,radius=pysal.cg.RADIUS_EARTH_MILES,idVariable='FIPSNO')"
     ],
     "language": "python",
     "metadata": {},
     "outputs": [],
     "prompt_number": 40
    },
    {
     "cell_type": "code",
     "collapsed": false,
     "input": [
      "w.n"
     ],
     "language": "python",
     "metadata": {},
     "outputs": [
      {
       "metadata": {},
       "output_type": "pyout",
       "prompt_number": 41,
       "text": [
        "3085"
       ]
      }
     ],
     "prompt_number": 41
    },
    {
     "cell_type": "code",
     "collapsed": false,
     "input": [
      "w.transform = 'r'"
     ],
     "language": "python",
     "metadata": {},
     "outputs": [],
     "prompt_number": 42
    },
    {
     "cell_type": "code",
     "collapsed": false,
     "input": [
      "kw = pysal.adaptive_kernelW_from_shapefile('data/natregimes.shp',\n",
      "                                             k=12,function='quadratic',radius=pysal.cg.RADIUS_EARTH_MILES,\n",
      "                                             diagonal=True,idVariable='FIPSNO')"
     ],
     "language": "python",
     "metadata": {},
     "outputs": [],
     "prompt_number": 43
    },
    {
     "cell_type": "code",
     "collapsed": false,
     "input": [
      "kw.n"
     ],
     "language": "python",
     "metadata": {},
     "outputs": [
      {
       "metadata": {},
       "output_type": "pyout",
       "prompt_number": 44,
       "text": [
        "3085"
       ]
      }
     ],
     "prompt_number": 44
    },
    {
     "cell_type": "markdown",
     "metadata": {},
     "source": [
      "two stage least squares with White standard errors and diagnostics for spatial dependence"
     ]
    },
    {
     "cell_type": "code",
     "collapsed": false,
     "input": [
      "reg1 = pysal.spreg.TSLS(y,x,yend,q,w=w,robust='white',spat_diag=True,\n",
      "                       name_y=y_name,name_x=x_names,name_yend=yend_names,\n",
      "                       name_q=q_names,name_w='nat_k6',\n",
      "                       name_ds='natregimes.shp')"
     ],
     "language": "python",
     "metadata": {},
     "outputs": [],
     "prompt_number": 49
    },
    {
     "cell_type": "code",
     "collapsed": false,
     "input": [
      "print reg1.summary"
     ],
     "language": "python",
     "metadata": {},
     "outputs": [
      {
       "output_type": "stream",
       "stream": "stdout",
       "text": [
        "REGRESSION\n",
        "----------\n",
        "SUMMARY OF OUTPUT: TWO STAGE LEAST SQUARES\n",
        "------------------------------------------\n",
        "Data set            :natregimes.shp\n",
        "Weights matrix      :      nat_k6\n",
        "Dependent Variable  :        HR60                Number of Observations:        3085\n",
        "Mean dependent var  :      4.5041                Number of Variables   :           5\n",
        "S.D. dependent var  :      5.6497                Degrees of Freedom    :        3080\n",
        "Pseudo R-squared    :      0.2044\n",
        "\n",
        "White Standard Errors\n",
        "------------------------------------------------------------------------------------\n",
        "            Variable     Coefficient       Std.Error     z-Statistic     Probability\n",
        "------------------------------------------------------------------------------------\n",
        "            CONSTANT      13.4510208       0.9883561      13.6094882       0.0000000\n",
        "                MA60      -0.2485547       0.0212910     -11.6741458       0.0000000\n",
        "                PS60       0.4393596       0.1330675       3.3017812       0.0009607\n",
        "                RD60       2.3711959       0.1093345      21.6875296       0.0000000\n",
        "                UE60      -0.3302298       0.1171311      -2.8193185       0.0048126\n",
        "------------------------------------------------------------------------------------\n",
        "Instrumented: UE60\n",
        "Instruments: FH60, FP59, GI59\n",
        "\n",
        "DIAGNOSTICS FOR SPATIAL DEPENDENCE\n",
        "TEST                           MI/DF       VALUE           PROB\n",
        "Anselin-Kelejian Test             1         277.956          0.0000\n",
        "================================ END OF REPORT =====================================\n"
       ]
      }
     ],
     "prompt_number": 50
    },
    {
     "cell_type": "markdown",
     "metadata": {},
     "source": [
      "two stage least squares with HAC standard errors and diagnostics for spatial dependence"
     ]
    },
    {
     "cell_type": "code",
     "collapsed": false,
     "input": [
      "reg2 = pysal.spreg.TSLS(y,x,yend,q,w=w,robust='hac',gwk=kw,spat_diag=True,\n",
      "                       name_y=y_name,name_x=x_names,name_yend=yend_names,\n",
      "                       name_q=q_names,name_w='nat_k6',name_gwk='nat_quadratic_12',\n",
      "                       name_ds='natregimes.shp')"
     ],
     "language": "python",
     "metadata": {},
     "outputs": [],
     "prompt_number": 47
    },
    {
     "cell_type": "code",
     "collapsed": false,
     "input": [
      "print reg2.summary"
     ],
     "language": "python",
     "metadata": {},
     "outputs": [
      {
       "output_type": "stream",
       "stream": "stdout",
       "text": [
        "REGRESSION\n",
        "----------\n",
        "SUMMARY OF OUTPUT: TWO STAGE LEAST SQUARES\n",
        "------------------------------------------\n",
        "Data set            :natregimes.shp\n",
        "Weights matrix      :      nat_k6\n",
        "Dependent Variable  :        HR60                Number of Observations:        3085\n",
        "Mean dependent var  :      4.5041                Number of Variables   :           5\n",
        "S.D. dependent var  :      5.6497                Degrees of Freedom    :        3080\n",
        "Pseudo R-squared    :      0.2044\n",
        "\n",
        "HAC Standard Errors; Kernel Weights: nat_quadratic_12\n",
        "------------------------------------------------------------------------------------\n",
        "            Variable     Coefficient       Std.Error     z-Statistic     Probability\n",
        "------------------------------------------------------------------------------------\n",
        "            CONSTANT      13.4510208       1.1336621      11.8651063       0.0000000\n",
        "                MA60      -0.2485547       0.0244053     -10.1844645       0.0000000\n",
        "                PS60       0.4393596       0.1461997       3.0052022       0.0026540\n",
        "                RD60       2.3711959       0.1308052      18.1276895       0.0000000\n",
        "                UE60      -0.3302298       0.1395031      -2.3671862       0.0179239\n",
        "------------------------------------------------------------------------------------\n",
        "Instrumented: UE60\n",
        "Instruments: FH60, FP59, GI59\n",
        "\n",
        "DIAGNOSTICS FOR SPATIAL DEPENDENCE\n",
        "TEST                           MI/DF       VALUE           PROB\n",
        "Anselin-Kelejian Test             1         277.956          0.0000\n",
        "================================ END OF REPORT =====================================\n"
       ]
      }
     ],
     "prompt_number": 48
    },
    {
     "cell_type": "code",
     "collapsed": false,
     "input": [],
     "language": "python",
     "metadata": {},
     "outputs": []
    }
   ],
   "metadata": {}
  }
 ]
}